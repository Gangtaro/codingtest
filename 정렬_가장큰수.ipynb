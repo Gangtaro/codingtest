{
 "cells": [
  {
   "cell_type": "markdown",
   "metadata": {},
   "source": [
    "#### 문제 설명\n",
    "0 또는 양의 정수가 주어졌을 때, 정수를 이어 붙여 만들 수 있는 가장 큰 수를 알아내 주세요.  \n",
    "예를 들어, 주어진 정수가 [6, 10, 2]라면 [6102, 6210, 1062, 1026, 2610, 2106]를 만들 수 있고, 이중 가장 큰 수는 6210입니다.  \n",
    "0 또는 양의 정수가 담긴 배열 numbers가 매개변수로 주어질 때, 순서를 재배치하여 만들 수 있는 가장 큰 수를 문자열로 바꾸어 return 하도록 solution 함수를 작성해주세요.  \n",
    "\n",
    "#### 제한 사항\n",
    "- numbers의 길이는 1 이상 100,000 이하입니다.\n",
    "- numbers의 원소는 0 이상 1,000 이하입니다.\n",
    "- 정답이 너무 클 수 있으니 문자열로 바꾸어 return 합니다."
   ]
  },
  {
   "cell_type": "code",
   "execution_count": 2,
   "metadata": {},
   "outputs": [],
   "source": [
    "def solution(numbers):\n",
    "    answer = ''\n",
    "    return answer"
   ]
  },
  {
   "cell_type": "code",
   "execution_count": 102,
   "metadata": {},
   "outputs": [],
   "source": [
    "numbers = [3, 30, 34, 5, 9]\n",
    "#return = '9534330'"
   ]
  },
  {
   "cell_type": "code",
   "execution_count": 5,
   "metadata": {},
   "outputs": [],
   "source": [
    "# 전략\n",
    "# 1. 숫자의 앞자리가 클수록 앞으로\n",
    "# 2. 앞자리가 같은 수는 다음 연속된 수가 더 클수록 앞으로 작을수록 더 뒤로\n",
    "#\n",
    "# 알고리즘\n"
   ]
  },
  {
   "cell_type": "code",
   "execution_count": 96,
   "metadata": {},
   "outputs": [
    {
     "name": "stdout",
     "output_type": "stream",
     "text": [
      "33333\n",
      "30303\n",
      "34343\n",
      "55555\n",
      "99999\n"
     ]
    },
    {
     "data": {
      "text/plain": [
       "'9534330'"
      ]
     },
     "execution_count": 96,
     "metadata": {},
     "output_type": "execute_result"
    }
   ],
   "source": [
    "str_num = list(map(str, numbers))\n",
    "max_size = max(map(len, str_num))\n",
    "plus_size = list(map(lambda x: max_size - len(x), str_num))\n",
    "dicSort = []\n",
    "\n",
    "for i, nums in enumerate(numbers):\n",
    "    answer = str_num[i] + str_num[i][-1]*plus_size[i]\n",
    "    answer = (str_num[i]*5)[:5]\n",
    "    print(answer)\n",
    "    \n",
    "    dicSort.append((int(answer), str(nums)))\n",
    "    \n",
    "dicSort = sorted(dicSort, reverse = True) ### 크기순으로 정렬\n",
    "\n",
    "answer = ''\n",
    "for j in dicSort :\n",
    "    answer += j[1]\n",
    "    \n",
    "answer"
   ]
  },
  {
   "cell_type": "markdown",
   "metadata": {},
   "source": [
    "#### my work"
   ]
  },
  {
   "cell_type": "code",
   "execution_count": 97,
   "metadata": {},
   "outputs": [],
   "source": [
    "def solution(numbers):\n",
    "    str_num = list(map(str, numbers))\n",
    "    dicSort = []\n",
    "\n",
    "    for i, nums in enumerate(numbers):\n",
    "        answer = (str_num[i]*5)[:5]\n",
    "\n",
    "        dicSort.append((int(answer), str(nums)))\n",
    "\n",
    "    dicSort = sorted(dicSort, reverse = True) ### 크기순으로 정렬\n",
    "\n",
    "    answer = ''\n",
    "    for j in dicSort :\n",
    "        answer += j[1]\n",
    "        \n",
    "    return answer"
   ]
  },
  {
   "cell_type": "code",
   "execution_count": 103,
   "metadata": {
    "scrolled": true
   },
   "outputs": [
    {
     "data": {
      "text/plain": [
       "'9534330'"
      ]
     },
     "execution_count": 103,
     "metadata": {},
     "output_type": "execute_result"
    }
   ],
   "source": [
    "solution(numbers)"
   ]
  },
  {
   "cell_type": "markdown",
   "metadata": {},
   "source": [
    "#### 유사하지만 더 짧고 효율적인 코드"
   ]
  },
  {
   "cell_type": "code",
   "execution_count": 110,
   "metadata": {},
   "outputs": [
    {
     "data": {
      "text/plain": [
       "['9', '5', '34', '3', '30']"
      ]
     },
     "execution_count": 110,
     "metadata": {},
     "output_type": "execute_result"
    }
   ],
   "source": [
    "def solution(numbers):\n",
    "    numbers = list(map(str, numbers))\n",
    "    numbers.sort(key=lambda x: x*3, reverse=True)\n",
    "    return str(int(''.join(numbers)))"
   ]
  },
  {
   "cell_type": "code",
   "execution_count": null,
   "metadata": {},
   "outputs": [],
   "source": []
  }
 ],
 "metadata": {
  "kernelspec": {
   "display_name": "Python 3",
   "language": "python",
   "name": "python3"
  },
  "language_info": {
   "codemirror_mode": {
    "name": "ipython",
    "version": 3
   },
   "file_extension": ".py",
   "mimetype": "text/x-python",
   "name": "python",
   "nbconvert_exporter": "python",
   "pygments_lexer": "ipython3",
   "version": "3.8.3"
  }
 },
 "nbformat": 4,
 "nbformat_minor": 4
}
