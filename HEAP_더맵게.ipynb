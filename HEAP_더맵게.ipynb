{
 "cells": [
  {
   "cell_type": "markdown",
   "metadata": {},
   "source": [
    "#### 문제 설명\n",
    "\n",
    "매운 것을 좋아하는 Leo는 모든 음식의 스코빌 지수를 K 이상으로 만들고 싶습니다. 모든 음식의 스코빌 지수를 K 이상으로 만들기 위해 Leo는 스코빌 지수가 가장 낮은 두 개의 음식을 아래와 같이 특별한 방법으로 섞어 새로운 음식을 만듭니다.  \n",
    "\n",
    "**섞은 음식의 스코빌 지수 = 가장 맵지 않은 음식의 스코빌 지수 + (두 번째로 맵지 않은 음식의 스코빌 지수 * 2)**  \n",
    "\n",
    "Leo는 모든 음식의 스코빌 지수가 K 이상이 될 때까지 반복하여 섞습니다.  \n",
    "Leo가 가진 음식의 스코빌 지수를 담은 배열 scoville과 원하는 스코빌 지수 K가 주어질 때, 모든 음식의 스코빌 지수를 K 이상으로 만들기 위해 섞어야 하는 최소 횟수를 return 하도록 solution 함수를 작성해주세요.  \n",
    "\n",
    "#### 제한 사항\n",
    "- scoville의 길이는 2 이상 1,000,000 이하입니다.\n",
    "- K는 0 이상 1,000,000,000 이하입니다.\n",
    "- scoville의 원소는 각각 0 이상 1,000,000 이하입니다.\n",
    "- 모든 음식의 스코빌 지수를 K 이상으로 만들 수 없는 경우에는 -1을 return 합니다.\n"
   ]
  },
  {
   "cell_type": "code",
   "execution_count": 6,
   "metadata": {},
   "outputs": [],
   "source": [
    "def solution(scoville, K):\n",
    "    answer = 0\n",
    "    return answer"
   ]
  },
  {
   "cell_type": "code",
   "execution_count": 55,
   "metadata": {},
   "outputs": [],
   "source": [
    "scoville = [1, 2, 3, 9, 10, 12]\n",
    "K = 7\n",
    "# answer = 2"
   ]
  },
  {
   "cell_type": "markdown",
   "metadata": {},
   "source": [
    "### 문제풀이 전략1\n",
    "1. scoville -> sort\n",
    "2. 앞에서부터 두 개 선택\n",
    "3. 선택된 원소 두 개를 계산하여 새로운 scoville 도출"
   ]
  },
  {
   "cell_type": "code",
   "execution_count": 16,
   "metadata": {},
   "outputs": [
    {
     "name": "stdout",
     "output_type": "stream",
     "text": [
      "1 [3, 5, 9, 10, 12]\n",
      "2 [9, 10, 12, 13]\n"
     ]
    }
   ],
   "source": [
    "sort_sco = sorted(scoville)\n",
    "i = 0\n",
    "while len(sort_sco) > 1:\n",
    "    new = sort_sco.pop(0) + sort_sco.pop(0)*2\n",
    "    sort_sco.append(new)\n",
    "    sort_sco = sorted(sort_sco)\n",
    "    i+=1\n",
    "    print(i, sort_sco)\n",
    "    if sort_sco[0] > K : break"
   ]
  },
  {
   "cell_type": "code",
   "execution_count": 17,
   "metadata": {},
   "outputs": [],
   "source": [
    "def solution(scoville, K):\n",
    "    sort_sco = sorted(scoville)\n",
    "    i = 0\n",
    "    while len(sort_sco) > 1:\n",
    "        new = sort_sco.pop(0) + sort_sco.pop(0)*2\n",
    "        sort_sco.append(new)\n",
    "        sort_sco = sorted(sort_sco)\n",
    "        i+=1\n",
    "        #print(i, sort_sco)\n",
    "        if sort_sco[0] >= K : break\n",
    "    if sort_sco[0] < K : i = -1\n",
    "    answer = i\n",
    "    return answer"
   ]
  },
  {
   "cell_type": "code",
   "execution_count": 18,
   "metadata": {
    "scrolled": true
   },
   "outputs": [
    {
     "name": "stdout",
     "output_type": "stream",
     "text": [
      "1 [3, 5, 9, 10, 12]\n",
      "2 [9, 10, 12, 13]\n"
     ]
    },
    {
     "data": {
      "text/plain": [
       "2"
      ]
     },
     "execution_count": 18,
     "metadata": {},
     "output_type": "execute_result"
    }
   ],
   "source": [
    "solution(scoville, K)"
   ]
  },
  {
   "cell_type": "markdown",
   "metadata": {},
   "source": [
    "전략1 => 효율성이 좋지 않아서 실패, 정확도는 100%"
   ]
  },
  {
   "cell_type": "markdown",
   "metadata": {},
   "source": [
    "### 문제풀이 전략2 => 최소 힙 구조 사용\n"
   ]
  },
  {
   "cell_type": "code",
   "execution_count": 23,
   "metadata": {},
   "outputs": [],
   "source": [
    "# from functools import reduce\n",
    "reduce(lambda x, y: x+y, [1,2,3,4])"
   ]
  },
  {
   "cell_type": "code",
   "execution_count": 28,
   "metadata": {},
   "outputs": [
    {
     "data": {
      "text/plain": [
       "1"
      ]
     },
     "execution_count": 28,
     "metadata": {},
     "output_type": "execute_result"
    }
   ],
   "source": [
    "def sco_mixer(x1, x2):\n",
    "    return x1+x2*2\n",
    "\n",
    "min(scoville)"
   ]
  },
  {
   "cell_type": "code",
   "execution_count": 49,
   "metadata": {},
   "outputs": [],
   "source": [
    "import heapq\n",
    "heapq.heapify(scoville)"
   ]
  },
  {
   "cell_type": "code",
   "execution_count": 36,
   "metadata": {},
   "outputs": [
    {
     "name": "stdout",
     "output_type": "stream",
     "text": [
      "1\n",
      "2\n",
      "[3, 9, 10, 12]\n"
     ]
    }
   ],
   "source": [
    "print(heapq.heappop(scoville))\n",
    "\n",
    "print(heapq.heappop(scoville))\n",
    "\n",
    "print(scoville)"
   ]
  },
  {
   "cell_type": "code",
   "execution_count": 51,
   "metadata": {},
   "outputs": [
    {
     "name": "stdout",
     "output_type": "stream",
     "text": [
      "[9, 12, 10, 13]\n"
     ]
    }
   ],
   "source": [
    "heapq.heappush(scoville, heapq.heappop(scoville)+heapq.heappop(scoville)*2)\n",
    "print(scoville)"
   ]
  },
  {
   "cell_type": "code",
   "execution_count": 64,
   "metadata": {},
   "outputs": [],
   "source": [
    "scoville = [1, 2, 3, 9, 10, 12]\n",
    "K = 7"
   ]
  },
  {
   "cell_type": "code",
   "execution_count": 65,
   "metadata": {},
   "outputs": [
    {
     "name": "stdout",
     "output_type": "stream",
     "text": [
      "[3, 5, 10, 12, 9]\n",
      "[9, 12, 10, 13]\n"
     ]
    },
    {
     "data": {
      "text/plain": [
       "([9, 12, 10, 13], 2)"
      ]
     },
     "execution_count": 65,
     "metadata": {},
     "output_type": "execute_result"
    }
   ],
   "source": [
    "heap_sco = []\n",
    "\n",
    "# 힙 구조 생성\n",
    "for i in scoville: \n",
    "    heapq.heappush(heap_sco, i)\n",
    "\n",
    "for iters in range(len(heap_sco)-1):\n",
    "    heapq.heappush(heap_sco, heapq.heappop(heap_sco)+heapq.heappop(heap_sco)*2)\n",
    "    print(heap_sco)\n",
    "    if heap_sco[0] >= K : break\n",
    "\n",
    "iters += 1\n",
    "if heap_sco[0] < K : iters = -1\n",
    "answer = iters\n",
    "    \n",
    "heap_sco, iters"
   ]
  },
  {
   "cell_type": "code",
   "execution_count": 66,
   "metadata": {},
   "outputs": [],
   "source": [
    "def solution(scoville, K):\n",
    "    import heapq\n",
    "    heap_sco = []\n",
    "\n",
    "    # 힙 구조 생성\n",
    "    for i in scoville: \n",
    "        heapq.heappush(heap_sco, i)\n",
    "\n",
    "    for iters in range(len(heap_sco)-1):\n",
    "        heapq.heappush(heap_sco, heapq.heappop(heap_sco)+heapq.heappop(heap_sco)*2)\n",
    "        if heap_sco[0] >= K : break\n",
    "\n",
    "    iters += 1\n",
    "    if heap_sco[0] < K : iters = -1\n",
    "    answer = iters\n",
    "    return answer"
   ]
  },
  {
   "cell_type": "code",
   "execution_count": null,
   "metadata": {},
   "outputs": [],
   "source": []
  }
 ],
 "metadata": {
  "kernelspec": {
   "display_name": "Python 3",
   "language": "python",
   "name": "python3"
  },
  "language_info": {
   "codemirror_mode": {
    "name": "ipython",
    "version": 3
   },
   "file_extension": ".py",
   "mimetype": "text/x-python",
   "name": "python",
   "nbconvert_exporter": "python",
   "pygments_lexer": "ipython3",
   "version": "3.8.3"
  }
 },
 "nbformat": 4,
 "nbformat_minor": 4
}
