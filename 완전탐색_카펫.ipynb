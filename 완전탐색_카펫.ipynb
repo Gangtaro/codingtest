{
 "cells": [
  {
   "cell_type": "markdown",
   "metadata": {},
   "source": [
    "#### 문제 설명\n",
    "\n",
    "Leo는 카펫을 사러 갔다가 아래 그림과 같이 중앙에는 노란색으로 칠해져 있고 테두리 1줄은 갈색으로 칠해져 있는 격자 모양 카펫을 봤습니다.\n",
    "\n",
    "<img src = \"https://grepp-programmers.s3.ap-northeast-2.amazonaws.com/files/production/b1ebb809-f333-4df2-bc81-02682900dc2d/carpet.png\" width=\"40%\">\n",
    "\n",
    "\n",
    "Leo는 집으로 돌아와서 아까 본 카펫의 노란색과 갈색으로 색칠된 격자의 개수는 기억했지만, 전체 카펫의 크기는 기억하지 못했습니다.  \n",
    "Leo가 본 카펫에서 갈색 격자의 수 brown, 노란색 격자의 수 yellow가 매개변수로 주어질 때 카펫의 가로, 세로 크기를 순서대로 배열에 담아 return 하도록 solution 함수를 작성해주세요.   \n",
    "\n",
    "#### 제한사항\n",
    "- 갈색 격자의 수 brown은 8 이상 5,000 이하인 자연수입니다.\n",
    "- 노란색 격자의 수 yellow는 1 이상 2,000,000 이하인 자연수입니다.\n",
    "- 카펫의 가로 길이는 세로 길이와 같거나, 세로 길이보다 깁니다."
   ]
  },
  {
   "cell_type": "code",
   "execution_count": 1,
   "metadata": {},
   "outputs": [],
   "source": [
    "def solution(brown, yellow):\n",
    "    answer = []\n",
    "    return answer"
   ]
  },
  {
   "cell_type": "code",
   "execution_count": 2,
   "metadata": {},
   "outputs": [],
   "source": [
    "brown = 10\n",
    "yellow = 2\n",
    "# answer = 4,3"
   ]
  },
  {
   "cell_type": "code",
   "execution_count": 20,
   "metadata": {},
   "outputs": [
    {
     "name": "stdout",
     "output_type": "stream",
     "text": [
      "4\n"
     ]
    }
   ],
   "source": [
    "import numpy as np\n",
    "\n",
    "total = brown+yellow\n",
    "comb = []\n",
    "\n",
    "# 가로, 세로의 크기는 항상 3보다 크므로 세로 크기 기준 3부터 가능한 경우의 수를 수집\n",
    "i = 3\n",
    "while i <= np.sqrt(total) :\n",
    "    if total%i == 0:\n",
    "        comb.append((int(total/i), i))\n",
    "    i += 1\n",
    "\n",
    "for horizontal, vertical in comb :\n",
    "    yellow_h, yellow_v = horizontal-2, vertical-2\n",
    "    \n",
    "    if yellow_h * yellow_v == yellow :\n",
    "        answer = [horizontal, vertical]\n",
    "        break\n",
    "    "
   ]
  },
  {
   "cell_type": "code",
   "execution_count": 25,
   "metadata": {},
   "outputs": [],
   "source": [
    "def solution(brown, yellow):\n",
    "    import numpy as np\n",
    "\n",
    "    total = brown+yellow\n",
    "    comb = []\n",
    "\n",
    "    # 가로, 세로의 크기는 항상 3보다 크므로 세로 크기 기준 3부터 가능한 경우의 수를 수집\n",
    "    i = 3\n",
    "    while i <= np.sqrt(total) :\n",
    "        if total%i == 0:\n",
    "            comb.append((int(total/i), i))\n",
    "        i += 1\n",
    "\n",
    "    for horizontal, vertical in comb :\n",
    "        yellow_h, yellow_v = horizontal-2, vertical-2\n",
    "\n",
    "        if yellow_h * yellow_v == yellow :\n",
    "            answer = [horizontal, vertical]\n",
    "    return answer"
   ]
  },
  {
   "cell_type": "code",
   "execution_count": 24,
   "metadata": {},
   "outputs": [
    {
     "data": {
      "text/plain": [
       "[4, 3]"
      ]
     },
     "execution_count": 24,
     "metadata": {},
     "output_type": "execute_result"
    }
   ],
   "source": [
    "solution(10,2)"
   ]
  },
  {
   "cell_type": "code",
   "execution_count": null,
   "metadata": {},
   "outputs": [],
   "source": []
  }
 ],
 "metadata": {
  "kernelspec": {
   "display_name": "Python 3",
   "language": "python",
   "name": "python3"
  },
  "language_info": {
   "codemirror_mode": {
    "name": "ipython",
    "version": 3
   },
   "file_extension": ".py",
   "mimetype": "text/x-python",
   "name": "python",
   "nbconvert_exporter": "python",
   "pygments_lexer": "ipython3",
   "version": "3.8.3"
  }
 },
 "nbformat": 4,
 "nbformat_minor": 4
}
