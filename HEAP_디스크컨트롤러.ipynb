{
 "cells": [
  {
   "attachments": {},
   "cell_type": "markdown",
   "metadata": {},
   "source": [
    "#### 문제설명\n",
    "\n",
    "하드디스크는 한 번에 하나의 작업만 수행할 수 있습니다. 디스크 컨트롤러를 구현하는 방법은 여러 가지가 있습니다. 가장 일반적인 방법은 요청이 들어온 순서대로 처리하는 것입니다.  \n",
    "\n",
    "#### 예를들어\n",
    "- 0ms 시점에 3ms가 소요되는 A작업 요청\n",
    "- 1ms 시점에 9ms가 소요되는 B작업 요청\n",
    "- 2ms 시점에 6ms가 소요되는 C작업 요청  \n",
    "\n",
    "와 같은 요청이 들어왔습니다. 이를 그림으로 표현하면 아래와 같습니다.  \n",
    "<img src = \"https://grepp-programmers.s3.amazonaws.com/files/production/b68eb5cec6/38dc6a53-2d21-4c72-90ac-f059729c51d5.png\" width=\"80%\">\n",
    "한 번에 하나의 요청만을 수행할 수 있기 때문에 각각의 작업을 요청받은 순서대로 처리하면 다음과 같이 처리 됩니다.  \n",
    "<img src = \"https://grepp-programmers.s3.amazonaws.com/files/production/5e677b4646/90b91fde-cac4-42c1-98b8-8f8431c52dcf.png\" width=\"80%\">\n",
    "- A: 3ms 시점에 작업 완료 (요청에서 종료까지 : 3ms)\n",
    "- B: 1ms부터 대기하다가, 3ms 시점에 작업을 시작해서 12ms 시점에 작업 완료(요청에서 종료까지 : 11ms)\n",
    "- C: 2ms부터 대기하다가, 12ms 시점에 작업을 시작해서 18ms 시점에 작업 완료(요청에서 종료까지 : 16ms)  \n",
    "\n",
    "이 때 각 작업의 요청부터 종료까지 걸린 시간의 평균은 10ms(= (3 + 11 + 16) / 3)가 됩니다.\n",
    "하지만 A → C → B 순서대로 처리하면  \n",
    "<img src = \"https://grepp-programmers.s3.amazonaws.com/files/production/9eb7c5a6f1/a6cff04d-86bb-4b5b-98bf-6359158940ac.png\" width=\"80%\">\n",
    "\n",
    "- A: 3ms 시점에 작업 완료(요청에서 종료까지 : 3ms)\n",
    "- C: 2ms부터 대기하다가, 3ms 시점에 작업을 시작해서 9ms 시점에 작업 완료(요청에서 종료까지 : 7ms)\n",
    "- B: 1ms부터 대기하다가, 9ms 시점에 작업을 시작해서 18ms 시점에 작업 완료(요청에서 종료까지 : 17ms)  \n",
    "\n",
    "이렇게 A → C → B의 순서로 처리하면 각 작업의 요청부터 종료까지 걸린 시간의 평균은 9ms(= (3 + 7 + 17) / 3)가 됩니다.  \n",
    "각 작업에 대해 [작업이 요청되는 시점, 작업의 소요시간]을 담은 2차원 배열 jobs가 매개변수로 주어질 때, 작업의 요청부터 종료까지 걸린 시간의 평균을 가장 줄이는 방법으로 처리하면 평균이 얼마가 되는지 return 하도록 solution 함수를 작성해주세요. (단, 소수점 이하의 수는 버립니다)  \n",
    "\n",
    "#### 제한 사항\n",
    "- jobs의 길이는 1 이상 500 이하입니다.\n",
    "- jobs의 각 행은 하나의 작업에 대한 [작업이 요청되는 시점, 작업의 소요시간] 입니다.\n",
    "- 각 작업에 대해 작업이 요청되는 시간은 0 이상 1,000 이하입니다.\n",
    "- 각 작업에 대해 작업의 소요시간은 1 이상 1,000 이하입니다.\n",
    "- 하드디스크가 작업을 수행하고 있지 않을 때에는 먼저 요청이 들어온 작업부터 처리합니다.\n"
   ]
  },
  {
   "cell_type": "code",
   "execution_count": 1,
   "metadata": {},
   "outputs": [],
   "source": [
    "def solution(jobs):\n",
    "    answer = 0\n",
    "    return answer"
   ]
  },
  {
   "cell_type": "code",
   "execution_count": 2,
   "metadata": {},
   "outputs": [],
   "source": [
    "jobs = [[0, 3], [1, 9], [2, 6]]"
   ]
  },
  {
   "cell_type": "markdown",
   "metadata": {},
   "source": [
    "#### 전략\n",
    "1. heapq 모듈 사용\n",
    "\n",
    "제일 처음 요청 작업 기준    \n",
    "요청 소요 완료   요청으로부터 완료까지  \n",
    "  \n",
    "0초 3초 3초    3-0  \n",
    "2초 6초 3+6초  3+6-2  \n",
    "1초 9초 3+6+9초3+6+9-1  \n",
    ".  \n",
    ".  \n",
    ".  \n",
    "\n",
    "하드디스크가 쉴때를 기준으로 영역을 나눈다\n",
    "하나의 요청을 기준으로 다음 요청까지 \n",
    "\n",
    "변수 재편집\n",
    "[요청시간, 소요시간, 누적소요시간]\n",
    "\n",
    "처음 요청된 작업이 완료전까지 들어온 작업에 한해서 순위를 결정한다.  \n",
    "작업이 완료되었는데도 요청이 들어오지 않는다면 다음 요청을 실시한다.  \n",
    "*같이 시작하면 시간이 짧은거 기준"
   ]
  },
  {
   "cell_type": "code",
   "execution_count": 13,
   "metadata": {},
   "outputs": [
    {
     "data": {
      "text/plain": [
       "True"
      ]
     },
     "execution_count": 13,
     "metadata": {},
     "output_type": "execute_result"
    }
   ],
   "source": [
    "start = jobs[0][0]\n",
    "end = start + jobs[0][1]\n",
    "\n",
    "(start <= jobs[1][0]) & (end > jobs[1][0])\n",
    "(start <= jobs[2][0]) & (end > jobs[2][0])\n",
    "\n",
    "k =2\n",
    "for i in range(k):\n",
    "    # 힙구조에 누적 소요시간을 기준으로 등록\n"
   ]
  },
  {
   "cell_type": "code",
   "execution_count": 18,
   "metadata": {},
   "outputs": [
    {
     "name": "stdout",
     "output_type": "stream",
     "text": [
      "[[0, 3], [1, 9], [2, 6], [19, 3], [20, 4], [21, 2], [24, 6]]\n"
     ]
    }
   ],
   "source": [
    "jobs = [[0, 3], [1, 9], [2, 6], [19, 3], [20, 4], [21, 2], [24, 6]]\n",
    "print(jobs)"
   ]
  },
  {
   "cell_type": "code",
   "execution_count": 16,
   "metadata": {},
   "outputs": [
    {
     "name": "stdout",
     "output_type": "stream",
     "text": [
      "[0, 3, 4, 7] [3, 3, 6, 9]\n",
      "[0, 3, 4, 7, 3, 3, 6, 9]\n"
     ]
    }
   ],
   "source": [
    "import heapq as hq\n",
    "\n",
    "heap = [] # 소요시간\n",
    "\n",
    "for t, req in jobs :\n",
    "    \n",
    "# 첫번째 (기준)\n",
    "heap = [] \n",
    "flag = [t, req]\n",
    "\n",
    "# 두번째 ()\n",
    "hq.heap(heap, req)    \n",
    "\n",
    "# 세번째 ()\n",
    "hq.heap(heap, req)\n",
    "\n",
    "\n",
    "# 종료 취합\n",
    "# 완료시간-요청시간\n",
    "\n",
    "# 네번째 (기준)\n",
    "if  < \n",
    "heap = []\n",
    "flag = [t, req]\n",
    "    \n",
    "    \n",
    "    "
   ]
  },
  {
   "cell_type": "code",
   "execution_count": null,
   "metadata": {},
   "outputs": [],
   "source": []
  }
 ],
 "metadata": {
  "kernelspec": {
   "display_name": "Python 3",
   "language": "python",
   "name": "python3"
  },
  "language_info": {
   "codemirror_mode": {
    "name": "ipython",
    "version": 3
   },
   "file_extension": ".py",
   "mimetype": "text/x-python",
   "name": "python",
   "nbconvert_exporter": "python",
   "pygments_lexer": "ipython3",
   "version": "3.8.3"
  }
 },
 "nbformat": 4,
 "nbformat_minor": 4
}
