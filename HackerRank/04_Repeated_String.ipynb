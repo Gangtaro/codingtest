{
 "cells": [
  {
   "cell_type": "code",
   "execution_count": 3,
   "metadata": {},
   "outputs": [],
   "source": [
    "s = 'aba'\n",
    "n = 10"
   ]
  },
  {
   "cell_type": "code",
   "execution_count": 13,
   "metadata": {},
   "outputs": [
    {
     "data": {
      "text/plain": [
       "7"
      ]
     },
     "execution_count": 13,
     "metadata": {},
     "output_type": "execute_result"
    }
   ],
   "source": [
    "from math import floor\n",
    "\n",
    "others_len = n%len(s)\n",
    "others = s[:others_len]\n",
    "others_num = len([i for i in others if i == 'a'])\n",
    "\n",
    "one_cycle_num = len([i for i in s if i == 'a'])\n",
    "_mul = floor(n/len(s))\n",
    "one_cycle_num*_mul\n",
    "\n",
    "others_num + one_cycle_num*_mul"
   ]
  },
  {
   "cell_type": "code",
   "execution_count": 14,
   "metadata": {},
   "outputs": [],
   "source": [
    "from math import floor\n",
    "\n",
    "def repeatedString(s, n):\n",
    "    \n",
    "    \n",
    "    others_len = n%len(s)\n",
    "    others = s[:others_len]\n",
    "    others_num = len([i for i in others if i == 'a'])\n",
    "\n",
    "    one_cycle_num = len([i for i in s if i == 'a'])\n",
    "    _mul = floor(n/len(s))\n",
    "    one_cycle_num*_mul\n",
    "\n",
    "    return others_num + one_cycle_num*_mul\n"
   ]
  }
 ],
 "metadata": {
  "kernelspec": {
   "display_name": "Python 3",
   "language": "python",
   "name": "python3"
  },
  "language_info": {
   "codemirror_mode": {
    "name": "ipython",
    "version": 3
   },
   "file_extension": ".py",
   "mimetype": "text/x-python",
   "name": "python",
   "nbconvert_exporter": "python",
   "pygments_lexer": "ipython3",
   "version": "3.7.9"
  }
 },
 "nbformat": 4,
 "nbformat_minor": 4
}
