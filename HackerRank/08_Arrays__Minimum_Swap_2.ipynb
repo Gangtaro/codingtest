{
 "cells": [
  {
   "cell_type": "code",
   "execution_count": 37,
   "metadata": {},
   "outputs": [],
   "source": [
    "arr = [1, 3, 5, 2, 4, 6, 7]"
   ]
  },
  {
   "cell_type": "code",
   "execution_count": 44,
   "metadata": {},
   "outputs": [
    {
     "name": "stdout",
     "output_type": "stream",
     "text": [
      "[1, 2, 3, 0, 4]\n",
      "[0, 1, 2, 3, 4]\n"
     ]
    }
   ],
   "source": [
    "new_arr = [i-1 for i in arr]\n",
    "print(new_arr)\n",
    "print(list(range(len(arr))))"
   ]
  },
  {
   "cell_type": "code",
   "execution_count": 10,
   "metadata": {},
   "outputs": [
    {
     "data": {
      "text/plain": [
       "[0, 1, 2, -2, -1, 0, 0]"
      ]
     },
     "execution_count": 10,
     "metadata": {},
     "output_type": "execute_result"
    }
   ],
   "source": [
    "[value-i for i, value in enumerate(new_arr)]"
   ]
  },
  {
   "cell_type": "code",
   "execution_count": 31,
   "metadata": {},
   "outputs": [
    {
     "name": "stdout",
     "output_type": "stream",
     "text": [
      "swap:0, i=0, value=0, new_arr =[0, 2, 4, 1, 3, 5, 6]\n",
      "swap:0, i=1, value=2, new_arr =[0, 2, 4, 1, 3, 5, 6]\n",
      "swap:1, i=2, value=2, new_arr =[0, 4, 2, 1, 3, 5, 6]\n",
      "swap:1, i=3, value=1, new_arr =[0, 4, 2, 1, 3, 5, 6]\n",
      "swap:2, i=4, value=3, new_arr =[0, 1, 2, 4, 3, 5, 6]\n",
      "swap:3, i=5, value=5, new_arr =[0, 1, 2, 3, 4, 5, 6]\n",
      "swap:3, i=6, value=6, new_arr =[0, 1, 2, 3, 4, 5, 6]\n"
     ]
    }
   ],
   "source": [
    "swap = 0\n",
    "for i, value in enumerate(new_arr):\n",
    "    print('swap:{}, i={}, value={}, new_arr ={}'.format(swap, i, value, new_arr))\n",
    "    if i == value : \n",
    "        continue\n",
    "    else :\n",
    "        new_arr[i], new_arr[value] = new_arr[value], new_arr[i]\n",
    "        swap += 1\n",
    "\n",
    "    "
   ]
  },
  {
   "cell_type": "code",
   "execution_count": 51,
   "metadata": {},
   "outputs": [
    {
     "name": "stdout",
     "output_type": "stream",
     "text": [
      "swap:0, state=0, value=2, new_arr =[1, 2, 3, 0, 4]\n",
      "swap:1, state=0, value=1, new_arr =[2, 1, 3, 0, 4]\n",
      "swap:2, state=0, value=2, new_arr =[3, 1, 2, 0, 4]\n",
      "swap:3, state=0, value=3, new_arr =[0, 1, 2, 3, 4]\n",
      "swap:3, state=1, value=3, new_arr =[0, 1, 2, 3, 4]\n",
      "swap:3, state=2, value=3, new_arr =[0, 1, 2, 3, 4]\n",
      "swap:3, state=3, value=3, new_arr =[0, 1, 2, 3, 4]\n",
      "swap:3, state=4, value=3, new_arr =[0, 1, 2, 3, 4]\n"
     ]
    }
   ],
   "source": [
    "new_arr = [i-1 for i in arr]\n",
    "swap = 0\n",
    "state = 0\n",
    "while state < len(new_arr) : \n",
    "    print('swap:{}, state={}, value={}, new_arr ={}'.format(swap, state, value, new_arr))\n",
    "    \n",
    "    if new_arr[state] == state :\n",
    "        state += 1\n",
    "        continue\n",
    "    else :\n",
    "        value = new_arr[state]\n",
    "        new_arr[state], new_arr[value] = new_arr[value], new_arr[state]\n",
    "        swap+= 1\n",
    "\n",
    "        "
   ]
  },
  {
   "cell_type": "markdown",
   "metadata": {},
   "source": [
    "## Answer"
   ]
  },
  {
   "cell_type": "code",
   "execution_count": 49,
   "metadata": {},
   "outputs": [],
   "source": [
    "def minimumSwaps(arr):\n",
    "    new_arr = [i-1 for i in arr]\n",
    "    swap = 0\n",
    "    state = 0\n",
    "    while state < len(new_arr) : \n",
    "        #print('swap:{}, state={}, value={}, new_arr ={}'.format(swap, state, value, new_arr))\n",
    "\n",
    "        if new_arr[state] == state :\n",
    "            state += 1\n",
    "            continue\n",
    "        else :\n",
    "            value = new_arr[state]\n",
    "            new_arr[state], new_arr[value] = new_arr[value], new_arr[state]\n",
    "            swap+= 1\n",
    "            state = new_arr[state]\n",
    "    return swap"
   ]
  },
  {
   "cell_type": "code",
   "execution_count": 50,
   "metadata": {
    "scrolled": true
   },
   "outputs": [
    {
     "data": {
      "text/plain": [
       "3"
      ]
     },
     "execution_count": 50,
     "metadata": {},
     "output_type": "execute_result"
    }
   ],
   "source": [
    "arr = [2, 3, 4, 1, 5]\n",
    "minimumSwaps(arr)"
   ]
  },
  {
   "cell_type": "code",
   "execution_count": null,
   "metadata": {},
   "outputs": [],
   "source": []
  }
 ],
 "metadata": {
  "kernelspec": {
   "display_name": "Python 3",
   "language": "python",
   "name": "python3"
  },
  "language_info": {
   "codemirror_mode": {
    "name": "ipython",
    "version": 3
   },
   "file_extension": ".py",
   "mimetype": "text/x-python",
   "name": "python",
   "nbconvert_exporter": "python",
   "pygments_lexer": "ipython3",
   "version": "3.8.3"
  }
 },
 "nbformat": 4,
 "nbformat_minor": 4
}
