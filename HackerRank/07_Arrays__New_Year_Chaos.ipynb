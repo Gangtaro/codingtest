{
 "cells": [
  {
   "cell_type": "code",
   "execution_count": 91,
   "metadata": {},
   "outputs": [],
   "source": [
    "q = [2, 1, 5, 3, 4]\n",
    "q = [2, 5, 1, 3, 4]"
   ]
  },
  {
   "cell_type": "code",
   "execution_count": 92,
   "metadata": {},
   "outputs": [
    {
     "name": "stdout",
     "output_type": "stream",
     "text": [
      "1 2 -1\n",
      "2 5 -3\n",
      "3 1 2\n",
      "4 3 1\n",
      "5 4 1\n"
     ]
    }
   ],
   "source": [
    "for i, value in enumerate(q):\n",
    "    print(i+1, value, i+1-value)\n",
    "\n",
    "    # -3 이하는 'Too Chaotic'\n",
    "    if i+1-value <-3 : \n",
    "        print('Too chaotic')\n",
    "        break"
   ]
  },
  {
   "cell_type": "code",
   "execution_count": 25,
   "metadata": {},
   "outputs": [],
   "source": [
    "q = [5, 1, 2, 3, 7, 8, 6, 4]"
   ]
  },
  {
   "cell_type": "code",
   "execution_count": 58,
   "metadata": {},
   "outputs": [],
   "source": [
    "q = [1, 2, 5, 3, 7, 8, 6, 4]"
   ]
  },
  {
   "cell_type": "code",
   "execution_count": 70,
   "metadata": {
    "scrolled": true
   },
   "outputs": [
    {
     "name": "stdout",
     "output_type": "stream",
     "text": [
      "1 1 0\n",
      "2 2 0\n",
      "3 3 0\n",
      "4 4 0\n",
      "5 5 0\n"
     ]
    }
   ],
   "source": [
    "for i, value in enumerate(q):\n",
    "    print(i+1, value, i+1-value)\n",
    "\n",
    "    # -3 이하는 'Too Chaotic'\n",
    "    if i+1-value <-3 : \n",
    "        print('Too chaotic')\n",
    "        break\n",
    "        \n",
    "# too chaotic 판단함수\n",
    "def determine_tc(q):\n",
    "    for i, value in enumerate(q):\n",
    "        if i+1-value <-3 : \n",
    "            return 'Too chaotic'"
   ]
  },
  {
   "cell_type": "code",
   "execution_count": 71,
   "metadata": {},
   "outputs": [
    {
     "data": {
      "text/plain": [
       "'Too chaotic'"
      ]
     },
     "execution_count": 71,
     "metadata": {},
     "output_type": "execute_result"
    }
   ],
   "source": [
    "q = [5, 1, 2, 3, 7, 8, 6, 4]\n",
    "determine_tc(q)"
   ]
  },
  {
   "cell_type": "code",
   "execution_count": 67,
   "metadata": {},
   "outputs": [
    {
     "name": "stdout",
     "output_type": "stream",
     "text": [
      "1 0\n",
      "1 1\n",
      "2 1\n",
      "3 1\n",
      "2 2\n",
      "3 2\n",
      "4 2\n",
      "3 3\n",
      "4 3\n"
     ]
    }
   ],
   "source": [
    "q = [1, 2, 5, 3, 7, 8, 6, 4]\n",
    "q = [2, 1, 5, 3, 4]\n",
    "\n",
    "# switching은 총 자리를 바꾼 수를 counting 한 값이다. (initial =0)\n",
    "switching = 0\n",
    "\n",
    "# state는 현재 기준이되는 왼쪽에서부터의 자리수를 의미한다. 1 ~ length(queue)\n",
    "state =  0\n",
    "\n",
    "while state < len(q) :   # state = len(q)가 되면 반복문을 멈춘다.\n",
    "    state += 1\n",
    "    if state == len(q) : break\n",
    "        \n",
    "    print(state, switching)\n",
    "    \n",
    "    if q[state-1] < q[state] :\n",
    "        continue\n",
    "        \n",
    "    else :   # switch\n",
    "        num_pop = q.pop(state-1)\n",
    "        q.insert(state, num_pop)\n",
    "        switching += 1\n",
    "        if state == 1 : state -= 1\n",
    "        else : state -= 2\n",
    "        \n",
    "    "
   ]
  },
  {
   "cell_type": "code",
   "execution_count": 68,
   "metadata": {},
   "outputs": [
    {
     "data": {
      "text/plain": [
       "3"
      ]
     },
     "execution_count": 68,
     "metadata": {},
     "output_type": "execute_result"
    }
   ],
   "source": [
    "switching"
   ]
  },
  {
   "cell_type": "code",
   "execution_count": 95,
   "metadata": {
    "scrolled": true
   },
   "outputs": [],
   "source": [
    "### Terminated due to timeout\n",
    "\n",
    "def minimumBribes(q):\n",
    "    # too chaotic 판단\n",
    "    for i, value in enumerate(q):\n",
    "        if i+1-value <-2 : \n",
    "            return print('Too chaotic') \n",
    "    \n",
    "    # switching은 총 자리를 바꾼 수를 counting 한 값이다. (initial =0)\n",
    "    switching = 0\n",
    "\n",
    "    # state는 현재 기준이되는 왼쪽에서부터의 자리수를 의미한다. 1 ~ length(queue)\n",
    "    state =  0\n",
    "\n",
    "    while state < len(q) :   # state = len(q)가 되면 반복문을 멈춘다.\n",
    "        state += 1\n",
    "        if state == len(q) : break\n",
    "\n",
    "        if q[state-1] < q[state] :\n",
    "            continue\n",
    "\n",
    "        else :   # switch\n",
    "            num_pop = q.pop(state-1)\n",
    "            q.insert(state, num_pop)\n",
    "            switching += 1\n",
    "            if state == 1 : state -= 1\n",
    "            else : state -= 2\n",
    "    \n",
    "    return print(switching)"
   ]
  },
  {
   "cell_type": "code",
   "execution_count": 96,
   "metadata": {},
   "outputs": [
    {
     "data": {
      "text/plain": [
       "1"
      ]
     },
     "execution_count": 96,
     "metadata": {},
     "output_type": "execute_result"
    }
   ],
   "source": [
    "abs(-1)"
   ]
  },
  {
   "cell_type": "code",
   "execution_count": 103,
   "metadata": {},
   "outputs": [],
   "source": [
    "q = [2, 1, 5, 3, 4]"
   ]
  },
  {
   "cell_type": "code",
   "execution_count": 104,
   "metadata": {},
   "outputs": [],
   "source": [
    "\n",
    "moving = 0\n",
    "for state in range(1, len(q)) : \n",
    "    if q[state-1]==state :\n",
    "        continue\n",
    "    else : \n",
    "        moving+= abs(q[state-1] - state)\n",
    "        \n",
    "        pop_num = q.pop(state-1)\n",
    "        q.insert(pop_num-1, pop_num)\n",
    "        \n",
    "print(moving)\n",
    "    "
   ]
  },
  {
   "cell_type": "code",
   "execution_count": 105,
   "metadata": {},
   "outputs": [
    {
     "data": {
      "text/plain": [
       "3"
      ]
     },
     "execution_count": 105,
     "metadata": {},
     "output_type": "execute_result"
    }
   ],
   "source": [
    "moving"
   ]
  },
  {
   "cell_type": "code",
   "execution_count": 106,
   "metadata": {},
   "outputs": [],
   "source": [
    "def minimumBribes(q):\n",
    "    # too chaotic 판단\n",
    "    for i, value in enumerate(q):\n",
    "        if i+1-value <-2 : \n",
    "            return print('Too chaotic') \n",
    "    \n",
    "    moving = 0\n",
    "    for state in range(1, len(q)) : \n",
    "        if q[state-1]==state :\n",
    "            continue\n",
    "        else : \n",
    "            moving+= abs(q[state-1] - state)\n",
    "\n",
    "            pop_num = q.pop(state-1)\n",
    "            q.insert(pop_num-1, pop_num)\n",
    "\n",
    "    return print(moving)\n",
    "\n"
   ]
  },
  {
   "cell_type": "code",
   "execution_count": 108,
   "metadata": {},
   "outputs": [
    {
     "name": "stdout",
     "output_type": "stream",
     "text": [
      "Too chaotic\n"
     ]
    }
   ],
   "source": [
    "q = [5, 1, 2, 3, 7, 8, 6, 4]\n",
    "minimumBribes(q)"
   ]
  },
  {
   "cell_type": "code",
   "execution_count": null,
   "metadata": {},
   "outputs": [],
   "source": []
  }
 ],
 "metadata": {
  "kernelspec": {
   "display_name": "Python 3",
   "language": "python",
   "name": "python3"
  },
  "language_info": {
   "codemirror_mode": {
    "name": "ipython",
    "version": 3
   },
   "file_extension": ".py",
   "mimetype": "text/x-python",
   "name": "python",
   "nbconvert_exporter": "python",
   "pygments_lexer": "ipython3",
   "version": "3.7.9"
  }
 },
 "nbformat": 4,
 "nbformat_minor": 4
}
