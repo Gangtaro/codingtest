{
 "cells": [
  {
   "cell_type": "code",
   "execution_count": 1,
   "metadata": {},
   "outputs": [],
   "source": [
    "s1 = 'wouldyoulikefries'\n",
    "s2 = 'abcabcabcabcabcabc'\n",
    "\n",
    "s1 = 'hackerrankcommunity'\n",
    "s2 = 'cdecdecdecde'"
   ]
  },
  {
   "cell_type": "code",
   "execution_count": 5,
   "metadata": {},
   "outputs": [
    {
     "data": {
      "text/plain": [
       "set()"
      ]
     },
     "execution_count": 5,
     "metadata": {},
     "output_type": "execute_result"
    }
   ],
   "source": [
    "s1 = 'wouldyoulikefries'\n",
    "s2 = 'abcabcabcabcabcabc'\n",
    "\n",
    "set([i for i in s1]).intersection(set([i for i in s2]))"
   ]
  },
  {
   "cell_type": "code",
   "execution_count": 6,
   "metadata": {},
   "outputs": [],
   "source": [
    "def twoStrings(s1, s2):\n",
    "    if set([i for i in s1]).intersection(set([i for i in s2])) != set():\n",
    "        return 'YES'\n",
    "    return 'NO'\n",
    "    "
   ]
  }
 ],
 "metadata": {
  "kernelspec": {
   "display_name": "Python 3",
   "language": "python",
   "name": "python3"
  },
  "language_info": {
   "codemirror_mode": {
    "name": "ipython",
    "version": 3
   },
   "file_extension": ".py",
   "mimetype": "text/x-python",
   "name": "python",
   "nbconvert_exporter": "python",
   "pygments_lexer": "ipython3",
   "version": "3.8.3"
  }
 },
 "nbformat": 4,
 "nbformat_minor": 4
}
