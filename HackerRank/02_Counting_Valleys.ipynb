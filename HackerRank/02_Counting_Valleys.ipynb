{
 "cells": [
  {
   "cell_type": "code",
   "execution_count": 58,
   "metadata": {},
   "outputs": [],
   "source": [
    "import numpy as np\n",
    "import collections as col"
   ]
  },
  {
   "cell_type": "code",
   "execution_count": 59,
   "metadata": {},
   "outputs": [],
   "source": [
    "steps = 8\n",
    "path = 'UDDDUDUU'"
   ]
  },
  {
   "cell_type": "code",
   "execution_count": 64,
   "metadata": {},
   "outputs": [],
   "source": [
    "path = [i for i in path]"
   ]
  },
  {
   "cell_type": "code",
   "execution_count": 65,
   "metadata": {},
   "outputs": [
    {
     "data": {
      "text/plain": [
       "['U', 'D', 'D', 'D', 'U', 'D', 'U', 'U']"
      ]
     },
     "execution_count": 65,
     "metadata": {},
     "output_type": "execute_result"
    }
   ],
   "source": [
    "path"
   ]
  },
  {
   "cell_type": "code",
   "execution_count": 109,
   "metadata": {},
   "outputs": [
    {
     "name": "stdout",
     "output_type": "stream",
     "text": [
      "[0, 1, 0, -1, -2, -1, -2, -1, 0, -999]\n"
     ]
    },
    {
     "data": {
      "text/plain": [
       "1"
      ]
     },
     "execution_count": 109,
     "metadata": {},
     "output_type": "execute_result"
    }
   ],
   "source": [
    "def conv(arg):\n",
    "    if arg == 'U' : return 1\n",
    "    else : return -1\n",
    "\n",
    "conv_path = list(map(conv, path))\n",
    "new_path = [0]+conv_path\n",
    "new_path\n",
    "\n",
    "cumsums = 0\n",
    "cumsums_path = []\n",
    "\n",
    "for i in new_path : \n",
    "    cumsums += i\n",
    "    cumsums_path.append(cumsums)\n",
    "    \n",
    "cumsums_path.append(-999) # after finish\n",
    "print(cumsums_path)\n",
    "\n",
    "valleys = 0\n",
    "for i in range(len(cumsums_path)) : \n",
    "    if cumsums_path[i] == 0 :\n",
    "        if cumsums_path[i+1] == -1 :\n",
    "            valleys +=1\n",
    "            \n",
    "\n",
    "valleys\n",
    "    "
   ]
  },
  {
   "cell_type": "code",
   "execution_count": 110,
   "metadata": {},
   "outputs": [],
   "source": [
    "### submit\n",
    "\n",
    "def countingValleys(steps, path):\n",
    "    \n",
    "    path = [i for i in path]\n",
    "    \n",
    "    def conv(arg):\n",
    "        if arg == 'U' : return 1\n",
    "        else : return -1\n",
    "    \n",
    "    new_path = [0] + list(map(conv, path))\n",
    "    \n",
    "    cumsums = 0\n",
    "    cumsums_path = []\n",
    "\n",
    "    for i in new_path : \n",
    "        cumsums += i\n",
    "        cumsums_path.append(cumsums)\n",
    "    \n",
    "    cumsums_path.append(-999) # after finish\n",
    "\n",
    "    valleys = 0\n",
    "    for i in range(len(cumsums_path)) : \n",
    "        if cumsums_path[i] == 0 :\n",
    "            if cumsums_path[i+1] == -1 :\n",
    "                valleys +=1\n",
    "        \n",
    "    return valleys\n"
   ]
  }
 ],
 "metadata": {
  "kernelspec": {
   "display_name": "Python 3",
   "language": "python",
   "name": "python3"
  },
  "language_info": {
   "codemirror_mode": {
    "name": "ipython",
    "version": 3
   },
   "file_extension": ".py",
   "mimetype": "text/x-python",
   "name": "python",
   "nbconvert_exporter": "python",
   "pygments_lexer": "ipython3",
   "version": "3.7.9"
  }
 },
 "nbformat": 4,
 "nbformat_minor": 4
}
