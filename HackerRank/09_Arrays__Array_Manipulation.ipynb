{
 "cells": [
  {
   "cell_type": "code",
   "execution_count": 46,
   "metadata": {},
   "outputs": [],
   "source": [
    "queries = [[1, 5, 3], [4, 8, 7], [6, 9, 1]]\n",
    "q = queries\n",
    "n = 10\n",
    "m = len(q[0])"
   ]
  },
  {
   "cell_type": "code",
   "execution_count": 47,
   "metadata": {},
   "outputs": [
    {
     "data": {
      "text/plain": [
       "[1, 5, 3]"
      ]
     },
     "execution_count": 47,
     "metadata": {},
     "output_type": "execute_result"
    }
   ],
   "source": [
    "q[0]"
   ]
  },
  {
   "cell_type": "code",
   "execution_count": 69,
   "metadata": {},
   "outputs": [
    {
     "data": {
      "text/plain": [
       "[0, 0, 0, 0, 0, 0, 0, 0, 0, 0]"
      ]
     },
     "execution_count": 69,
     "metadata": {},
     "output_type": "execute_result"
    }
   ],
   "source": [
    "line = [0]*n\n",
    "line"
   ]
  },
  {
   "cell_type": "code",
   "execution_count": 72,
   "metadata": {},
   "outputs": [],
   "source": [
    "queries = [[1, 5, 3], [4, 8, 7], [6, 9, 1]]\n",
    "n = 10\n",
    "\n",
    "# Algorithm\n",
    "q = queries\n",
    "m = len(q)\n",
    "g_max = 0 # k >= 0, g_max is global maximum\n",
    "\n",
    "\n",
    "## first line\n",
    "### zeros(n)\n",
    "line = [0]*n\n",
    "\n",
    "for i in range(m) : \n",
    "    #print(q[i][0], q[i][1], q[i][2])\n",
    "    state = q[i][0]-1\n",
    "    while state < q[i][1]:\n",
    "        \n",
    "        line[state] = line[state]+ q[i][2]\n",
    "        #print(line, state)\n",
    "        state +=1\n",
    "    \n",
    "    l_max = max(line)\n",
    "    if g_max < l_max : g_max = l_max\n",
    "    #print(g_max)"
   ]
  },
  {
   "cell_type": "markdown",
   "metadata": {},
   "source": [
    "## Runtime error"
   ]
  },
  {
   "cell_type": "code",
   "execution_count": 73,
   "metadata": {},
   "outputs": [],
   "source": [
    "def arrayManipulation(n, queries):\n",
    "    q = queries\n",
    "    m = len(q)\n",
    "    g_max = 0 # k >= 0, g_max is global maximum\n",
    "\n",
    "\n",
    "    ## first line\n",
    "    ### zeros(n)\n",
    "    line = [0]*n\n",
    "\n",
    "    for i in range(m) : \n",
    "        #print(q[i][0], q[i][1], q[i][2])\n",
    "        state = q[i][0]-1\n",
    "        while state < q[i][1]:\n",
    "\n",
    "            line[state] = line[state]+ q[i][2]\n",
    "            #print(line, state)\n",
    "            state +=1\n",
    "\n",
    "        l_max = max(line)\n",
    "        if g_max < l_max : g_max = l_max\n",
    "        #print(g_max)\n",
    "    return g_max"
   ]
  },
  {
   "cell_type": "code",
   "execution_count": 74,
   "metadata": {
    "scrolled": true
   },
   "outputs": [
    {
     "data": {
      "text/plain": [
       "11"
      ]
     },
     "execution_count": 74,
     "metadata": {},
     "output_type": "execute_result"
    }
   ],
   "source": [
    "arrayManipulation(n, queries)"
   ]
  },
  {
   "cell_type": "markdown",
   "metadata": {},
   "source": [
    "# 풀이의 핵심: PreFix sum 누적합"
   ]
  },
  {
   "cell_type": "code",
   "execution_count": 187,
   "metadata": {},
   "outputs": [
    {
     "name": "stdout",
     "output_type": "stream",
     "text": [
      "[0, 8, 8, 8, 8, 8, 0, 0, 0, 0, 0]\n",
      "[0, 8, 15, 15, 15, 8, 0, 0, 0, 0, 0]\n",
      "[1, 9, 16, 16, 16, 9, 1, 1, 0, 0, 0]\n",
      "[1, 9, 16, 16, 31, 24, 16, 16, 15, 0, 0]\n"
     ]
    }
   ],
   "source": [
    "queries = [[1, 5, 3], [4, 8, 7], [6, 9, 1]]\n",
    "queries = [[2, 6, 8], [3, 5, 7], [1, 8, 1], [5, 9, 15]]\n",
    "n = 10\n",
    "\n",
    "# Algorithm\n",
    "q = queries\n",
    "m = len(q)\n",
    "g_max = 0 # k >= 0, g_max is global maximum\n",
    "\n",
    "def _cumsum(arg):\n",
    "    _sums = 0\n",
    "    _list = []\n",
    "    for args in arg : \n",
    "        _sums += args\n",
    "        _list.append(_sums)\n",
    "    return _list\n",
    "    \n",
    "### zeros(n)\n",
    "line = [0]*(n+1)\n",
    "\n",
    "for i in range(m) : \n",
    "    a, b, k = q[i]\n",
    "    line[a-1] += k\n",
    "    line[b] += -k\n",
    "    \n",
    "    #print(line)\n",
    "    print(_cumsum(line))\n",
    "    l_max = max(_cumsum(line))\n",
    "    if g_max < l_max : g_max = l_max\n",
    "    \n",
    "    \n",
    "    \n",
    "    "
   ]
  },
  {
   "cell_type": "code",
   "execution_count": 183,
   "metadata": {
    "scrolled": true
   },
   "outputs": [
    {
     "data": {
      "text/plain": [
       "24"
      ]
     },
     "execution_count": 183,
     "metadata": {},
     "output_type": "execute_result"
    }
   ],
   "source": [
    "g_max"
   ]
  },
  {
   "cell_type": "markdown",
   "metadata": {},
   "source": [
    "## Answer"
   ]
  },
  {
   "cell_type": "code",
   "execution_count": 192,
   "metadata": {},
   "outputs": [],
   "source": [
    "def arrayManipulation(n, queries):\n",
    "    # Algorithm\n",
    "    q = queries\n",
    "    m = len(q)\n",
    "    _max = 0 # k >= 0\n",
    "\n",
    "    ### zeros(n)\n",
    "    line = [0]*(n+1)\n",
    "\n",
    "    for i in range(m) : \n",
    "        a, b, k = q[i]\n",
    "        line[a-1] += k\n",
    "        line[b] += -k\n",
    "    \n",
    "    is_max = 0\n",
    "    for value in line :\n",
    "        \n",
    "        is_max += value\n",
    "        if is_max > _max : _max = is_max\n",
    "                \n",
    "    return _max\n",
    "    "
   ]
  },
  {
   "cell_type": "code",
   "execution_count": 193,
   "metadata": {
    "scrolled": true
   },
   "outputs": [
    {
     "data": {
      "text/plain": [
       "31"
      ]
     },
     "execution_count": 193,
     "metadata": {},
     "output_type": "execute_result"
    }
   ],
   "source": [
    "arrayManipulation(n, queries)"
   ]
  },
  {
   "cell_type": "code",
   "execution_count": 181,
   "metadata": {},
   "outputs": [
    {
     "data": {
      "text/plain": [
       "[3, 0, 0, 7, 0, -2, 0, 0, -7, -1]"
      ]
     },
     "execution_count": 181,
     "metadata": {},
     "output_type": "execute_result"
    }
   ],
   "source": [
    "line"
   ]
  },
  {
   "cell_type": "code",
   "execution_count": 35,
   "metadata": {},
   "outputs": [
    {
     "data": {
      "text/plain": [
       "[3, 3, 3, 3, 3, 0, 0, 0, 0, 0]"
      ]
     },
     "execution_count": 35,
     "metadata": {},
     "output_type": "execute_result"
    }
   ],
   "source": [
    "line[0:5] = [3]*5\n",
    "line"
   ]
  },
  {
   "cell_type": "code",
   "execution_count": 38,
   "metadata": {},
   "outputs": [
    {
     "data": {
      "text/plain": [
       "[3, 3, 0, 0, 0]"
      ]
     },
     "execution_count": 38,
     "metadata": {},
     "output_type": "execute_result"
    }
   ],
   "source": [
    "line[3:8]."
   ]
  },
  {
   "cell_type": "code",
   "execution_count": 33,
   "metadata": {
    "scrolled": true
   },
   "outputs": [
    {
     "data": {
      "text/plain": [
       "[3, 3, 3, 7, 7, 7, 7, 7, 0, 0]"
      ]
     },
     "execution_count": 33,
     "metadata": {},
     "output_type": "execute_result"
    }
   ],
   "source": [
    "line[3:8] = [7]*5\n",
    "line"
   ]
  },
  {
   "cell_type": "code",
   "execution_count": 39,
   "metadata": {},
   "outputs": [],
   "source": [
    "line[5:9] = []\n",
    "\n"
   ]
  },
  {
   "cell_type": "code",
   "execution_count": 40,
   "metadata": {},
   "outputs": [],
   "source": [
    "queries = [[1, 5, 3], [4, 8, 7], [6, 9, 1]]\n",
    "n = 10\n",
    "\n",
    "# Algorithm\n",
    "q = queries\n",
    "m = len(q[0])\n",
    "g_max = 0 # k >= 0, g_max is global maximum\n",
    "\n",
    "\n",
    "## first line\n",
    "### zeros(n)\n",
    "line = [0]*10\n",
    "\n",
    "\n",
    "## second line\n",
    "### index 1to5,  add 3\n",
    "line[0:5] = [3]*5\n",
    "\n",
    "### max value\n",
    "l_max = max(line) # local maiximum\n",
    "\n",
    "### if max value is bigger than before?\n",
    "if g_max < l_max : \n",
    "    g_max = l_max\n",
    "    \n",
    "\n",
    "## ** Third line\n",
    "### index 4to8, add 7\n"
   ]
  },
  {
   "cell_type": "markdown",
   "metadata": {},
   "source": [
    "- list는 list형태로 다른 값과 연산이 불가능하다\n",
    "- list는 스칼라의 형태로는 다른 값과 연산이 가능하다 이것은 list가 이미 아니게 되므로 당연하다."
   ]
  },
  {
   "cell_type": "code",
   "execution_count": 146,
   "metadata": {},
   "outputs": [
    {
     "name": "stdout",
     "output_type": "stream",
     "text": [
      "0 1 5 3\n",
      "1 4 8 7\n",
      "2 6 9 1\n"
     ]
    }
   ],
   "source": [
    "queries = [[1, 5, 3], [4, 8, 7], [6, 9, 1]]\n",
    "n = 10\n",
    "\n",
    "# Algorithm\n",
    "q = queries\n",
    "m = len(q[0])\n",
    "g_max = 0 # k >= 0, g_max is global maximum\n",
    "#line = [0]*n \n",
    "\n",
    "line = [[0]*n]\n",
    "all_line = []\n",
    "for i in range(m):\n",
    "    a,b,k = q[i]\n",
    "    print(i, a,b,k)\n",
    "    \n",
    "    line = [0]*n\n",
    "    line[a-1:b] = [k]*(b-a+1)\n",
    "    \n",
    "    all_line += [line]\n",
    "    "
   ]
  },
  {
   "cell_type": "code",
   "execution_count": 154,
   "metadata": {},
   "outputs": [
    {
     "data": {
      "text/plain": [
       "7"
      ]
     },
     "execution_count": 154,
     "metadata": {},
     "output_type": "execute_result"
    }
   ],
   "source": [
    "all_line[][3]"
   ]
  },
  {
   "cell_type": "code",
   "execution_count": 148,
   "metadata": {},
   "outputs": [
    {
     "name": "stdout",
     "output_type": "stream",
     "text": [
      "0\n",
      "1\n",
      "2\n",
      "3\n",
      "4\n",
      "5\n",
      "6\n",
      "7\n",
      "8\n",
      "9\n"
     ]
    }
   ],
   "source": [
    "for j in range(n):\n",
    "    "
   ]
  },
  {
   "cell_type": "code",
   "execution_count": null,
   "metadata": {},
   "outputs": [],
   "source": []
  },
  {
   "cell_type": "code",
   "execution_count": null,
   "metadata": {},
   "outputs": [],
   "source": []
  },
  {
   "cell_type": "code",
   "execution_count": null,
   "metadata": {},
   "outputs": [],
   "source": []
  },
  {
   "cell_type": "code",
   "execution_count": null,
   "metadata": {},
   "outputs": [],
   "source": []
  },
  {
   "cell_type": "code",
   "execution_count": 130,
   "metadata": {},
   "outputs": [
    {
     "data": {
      "text/plain": [
       "[[0, 0, 0, 0, 0, 0, 0, 0, 0, 0],\n",
       " [0, 0, 0, 0, 0, 0, 0, 0, 0, 0],\n",
       " [0, 0, 0, 0, 0, 0, 0, 0, 0, 0]]"
      ]
     },
     "execution_count": 130,
     "metadata": {},
     "output_type": "execute_result"
    }
   ],
   "source": [
    "line = [[0]*n]*m\n",
    "line"
   ]
  },
  {
   "cell_type": "code",
   "execution_count": 135,
   "metadata": {},
   "outputs": [
    {
     "data": {
      "text/plain": [
       "[[0, 99, 0, 0, 0, 0, 0, 0, 0, 0],\n",
       " [0, 99, 0, 0, 0, 0, 0, 0, 0, 0],\n",
       " [0, 99, 0, 0, 0, 0, 0, 0, 0, 0]]"
      ]
     },
     "execution_count": 135,
     "metadata": {},
     "output_type": "execute_result"
    }
   ],
   "source": [
    "line[0][1] = 99\n",
    "line"
   ]
  },
  {
   "cell_type": "code",
   "execution_count": 138,
   "metadata": {},
   "outputs": [
    {
     "data": {
      "text/plain": [
       "[[1, 2, 3], [2, 4, 5]]"
      ]
     },
     "execution_count": 138,
     "metadata": {},
     "output_type": "execute_result"
    }
   ],
   "source": [
    "[[1,2,3]]+[[2,4,5]]"
   ]
  },
  {
   "cell_type": "code",
   "execution_count": null,
   "metadata": {},
   "outputs": [],
   "source": []
  }
 ],
 "metadata": {
  "kernelspec": {
   "display_name": "Python 3",
   "language": "python",
   "name": "python3"
  },
  "language_info": {
   "codemirror_mode": {
    "name": "ipython",
    "version": 3
   },
   "file_extension": ".py",
   "mimetype": "text/x-python",
   "name": "python",
   "nbconvert_exporter": "python",
   "pygments_lexer": "ipython3",
   "version": "3.8.3"
  }
 },
 "nbformat": 4,
 "nbformat_minor": 4
}
