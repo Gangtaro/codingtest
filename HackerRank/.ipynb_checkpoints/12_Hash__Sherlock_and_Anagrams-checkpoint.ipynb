{
 "cells": [
  {
   "cell_type": "markdown",
   "metadata": {},
   "source": [
    "# Tutorial problem : Anagram"
   ]
  },
  {
   "cell_type": "code",
   "execution_count": 1,
   "metadata": {},
   "outputs": [],
   "source": [
    "from collections import Counter\n",
    "from math import floor\n",
    "# Complete the anagram function below.\n",
    "def anagram(s):\n",
    "    if len(s)%2 != 0 :\n",
    "        print(-1)\n",
    "        return\n",
    "    split_point = floor(len(s)/2)\n",
    "    \n",
    "    s1 = s[:split_point]\n",
    "    s2 = s[split_point:]\n",
    "    \n",
    "    print(len(Counter(s1) - Counter(s2)))"
   ]
  },
  {
   "cell_type": "code",
   "execution_count": 19,
   "metadata": {},
   "outputs": [
    {
     "data": {
      "text/plain": [
       "4"
      ]
     },
     "execution_count": 19,
     "metadata": {},
     "output_type": "execute_result"
    }
   ],
   "source": [
    "s = 'xaxbbbxx'\n",
    "s= 'aaabbb bbcccc'\n",
    "\n",
    "split_point = floor(len(s)/2)\n",
    "\n",
    "s1 = s[:split_point]\n",
    "s2 = s[split_point:]\n",
    "\n",
    "sum((Counter(s1) - Counter(s2)).values())"
   ]
  },
  {
   "cell_type": "markdown",
   "metadata": {},
   "source": [
    "# Sherlock and Anagrams"
   ]
  },
  {
   "cell_type": "code",
   "execution_count": 20,
   "metadata": {},
   "outputs": [],
   "source": [
    "s = 'ifailuhkqq'\n",
    "#s = 'kkkk'"
   ]
  },
  {
   "cell_type": "code",
   "execution_count": 21,
   "metadata": {},
   "outputs": [],
   "source": [
    "from collections import Counter "
   ]
  },
  {
   "cell_type": "code",
   "execution_count": 22,
   "metadata": {},
   "outputs": [],
   "source": [
    "count_s = Counter(s)"
   ]
  },
  {
   "cell_type": "code",
   "execution_count": 23,
   "metadata": {},
   "outputs": [
    {
     "data": {
      "text/plain": [
       "[('i', 2), ('q', 2)]"
      ]
     },
     "execution_count": 23,
     "metadata": {},
     "output_type": "execute_result"
    }
   ],
   "source": [
    "list(filter(lambda x: x[1]>1, count_s.items()))"
   ]
  },
  {
   "cell_type": "code",
   "execution_count": 24,
   "metadata": {},
   "outputs": [
    {
     "data": {
      "text/plain": [
       "dict_values([2, 1, 1, 1, 1, 1, 1, 2])"
      ]
     },
     "execution_count": 24,
     "metadata": {},
     "output_type": "execute_result"
    }
   ],
   "source": [
    "count_s.values()"
   ]
  },
  {
   "cell_type": "code",
   "execution_count": 25,
   "metadata": {},
   "outputs": [
    {
     "data": {
      "text/plain": [
       "Counter({'i': 2, 'f': 1, 'a': 1, 'l': 1, 'u': 1, 'h': 1, 'k': 1, 'q': 2})"
      ]
     },
     "execution_count": 25,
     "metadata": {},
     "output_type": "execute_result"
    }
   ],
   "source": [
    "count_s\n"
   ]
  },
  {
   "cell_type": "code",
   "execution_count": 37,
   "metadata": {},
   "outputs": [
    {
     "name": "stdout",
     "output_type": "stream",
     "text": [
      "0 i\n",
      "1\n",
      "last 0\n",
      "\n",
      "2\n",
      "last 0\n",
      "\n",
      "3\n",
      "last 3\n",
      "\n",
      "4\n",
      "last 3\n",
      "\n",
      "5\n",
      "last 3\n",
      "\n",
      "6\n",
      "last 3\n",
      "\n",
      "7\n",
      "last 3\n",
      "\n",
      "8\n",
      "last 3\n",
      "\n",
      "9\n",
      "last 3\n",
      "\n",
      "1 f\n",
      "2\n",
      "last 1\n",
      "\n",
      "3\n",
      "last 1\n",
      "\n",
      "4\n",
      "last 1\n",
      "\n",
      "5\n",
      "last 1\n",
      "\n",
      "6\n",
      "last 1\n",
      "\n",
      "7\n",
      "last 1\n",
      "\n",
      "8\n",
      "last 1\n",
      "\n",
      "9\n",
      "last 1\n",
      "\n",
      "2 a\n",
      "3\n",
      "last 2\n",
      "\n",
      "4\n",
      "last 2\n",
      "\n",
      "5\n",
      "last 2\n",
      "\n",
      "6\n",
      "last 2\n",
      "\n",
      "7\n",
      "last 2\n",
      "\n",
      "8\n",
      "last 2\n",
      "\n",
      "9\n",
      "last 2\n",
      "\n",
      "3 i\n",
      "4\n",
      "last 3\n",
      "\n",
      "5\n",
      "last 3\n",
      "\n",
      "6\n",
      "last 3\n",
      "\n",
      "7\n",
      "last 3\n",
      "\n",
      "8\n",
      "last 3\n",
      "\n",
      "9\n",
      "last 3\n",
      "\n",
      "4 l\n",
      "5\n",
      "last 4\n",
      "\n",
      "6\n",
      "last 4\n",
      "\n",
      "7\n",
      "last 4\n",
      "\n",
      "8\n",
      "last 4\n",
      "\n",
      "9\n",
      "last 4\n",
      "\n",
      "5 u\n",
      "6\n",
      "last 5\n",
      "\n",
      "7\n",
      "last 5\n",
      "\n",
      "8\n",
      "last 5\n",
      "\n",
      "9\n",
      "last 5\n",
      "\n",
      "6 h\n",
      "7\n",
      "last 6\n",
      "\n",
      "8\n",
      "last 6\n",
      "\n",
      "9\n",
      "last 6\n",
      "\n",
      "7 k\n",
      "8\n",
      "last 7\n",
      "\n",
      "9\n",
      "last 7\n",
      "\n",
      "8 q\n",
      "9\n",
      "last 9\n",
      "\n",
      "9 q\n"
     ]
    }
   ],
   "source": [
    "for i, value in enumerate(s) : \n",
    "    print(i, value)\n",
    "    \n",
    "    _last = i\n",
    "    for j in range(i+1, len(s)):\n",
    "        print(j)\n",
    "        \n",
    "        if value == s[j] : \n",
    "            _last = j\n",
    "        print('last', _last)\n",
    "        print('')\n",
    "    "
   ]
  },
  {
   "cell_type": "code",
   "execution_count": null,
   "metadata": {},
   "outputs": [],
   "source": []
  },
  {
   "cell_type": "code",
   "execution_count": null,
   "metadata": {},
   "outputs": [],
   "source": []
  }
 ],
 "metadata": {
  "kernelspec": {
   "display_name": "Python 3",
   "language": "python",
   "name": "python3"
  },
  "language_info": {
   "codemirror_mode": {
    "name": "ipython",
    "version": 3
   },
   "file_extension": ".py",
   "mimetype": "text/x-python",
   "name": "python",
   "nbconvert_exporter": "python",
   "pygments_lexer": "ipython3",
   "version": "3.8.3"
  }
 },
 "nbformat": 4,
 "nbformat_minor": 4
}
