{
 "cells": [
  {
   "cell_type": "code",
   "execution_count": 48,
   "metadata": {},
   "outputs": [],
   "source": [
    "7\n",
    "c = [0, 0, 1, 0, 0, 1, 0]"
   ]
  },
  {
   "cell_type": "code",
   "execution_count": 58,
   "metadata": {},
   "outputs": [],
   "source": [
    "c = [0, 0, 0, 0, 1, 0]"
   ]
  },
  {
   "cell_type": "code",
   "execution_count": 59,
   "metadata": {},
   "outputs": [
    {
     "data": {
      "text/plain": [
       "6"
      ]
     },
     "execution_count": 59,
     "metadata": {},
     "output_type": "execute_result"
    }
   ],
   "source": [
    "len(c)"
   ]
  },
  {
   "cell_type": "code",
   "execution_count": 60,
   "metadata": {},
   "outputs": [],
   "source": [
    "state = 0\n",
    "times = 0\n",
    "\n",
    "while state < len(c)-1 : # state가 c의 마지막번째 수에 도달하면 더 이상 반복하지 않는다.\n",
    "    \n",
    "    # 움직일 때 마다 움직이는 횟수 추가\n",
    "    times += 1 \n",
    "    \n",
    "    # 마지막에서 두 번째 수에 도달했다면 2칸을 뛰어 넘는 것은 불가능하므로 1칸 이동 후 종료\n",
    "    if state == len(c) - 2 :\n",
    "        break\n",
    "    \n",
    "    # 알고리즘\n",
    "    # 2칸 앞에 0이라면 그 칸으로 간다.\n",
    "    # 1이라면 1칸만 이동한다\n",
    "    if c[state+2]==0 :\n",
    "        state +=2\n",
    "    else : state += 1\n",
    "        \n",
    "    \n"
   ]
  },
  {
   "cell_type": "code",
   "execution_count": 63,
   "metadata": {},
   "outputs": [],
   "source": [
    "### submit code\n",
    "\n",
    "def jumpingOnClouds(c):\n",
    "    state = 0\n",
    "    times = 0\n",
    "\n",
    "    while state < len(c)-1 : # state가 c의 마지막번째 수에 도달하면 더 이상 반복하지 않는다.\n",
    "\n",
    "        # 움직일 때 마다 움직이는 횟수 추가\n",
    "        times += 1 \n",
    "\n",
    "        # 마지막에서 두 번째 수에 도달했다면 2칸을 뛰어 넘는 것은 불가능하므로 1칸 이동 후 종료\n",
    "        if state == len(c) - 2 :\n",
    "            break\n",
    "\n",
    "        # 알고리즘\n",
    "        # 2칸 앞에 0이라면 그 칸으로 간다.\n",
    "        # 1이라면 1칸만 이동한다\n",
    "        if c[state+2]==0 :\n",
    "            state +=2\n",
    "        else : state += 1\n",
    "            \n",
    "    return times\n"
   ]
  }
 ],
 "metadata": {
  "kernelspec": {
   "display_name": "Python 3",
   "language": "python",
   "name": "python3"
  },
  "language_info": {
   "codemirror_mode": {
    "name": "ipython",
    "version": 3
   },
   "file_extension": ".py",
   "mimetype": "text/x-python",
   "name": "python",
   "nbconvert_exporter": "python",
   "pygments_lexer": "ipython3",
   "version": "3.7.9"
  }
 },
 "nbformat": 4,
 "nbformat_minor": 4
}
