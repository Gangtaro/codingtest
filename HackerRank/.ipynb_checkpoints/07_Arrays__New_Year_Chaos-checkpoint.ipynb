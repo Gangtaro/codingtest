{
 "cells": [
  {
   "cell_type": "code",
   "execution_count": 1,
   "metadata": {},
   "outputs": [],
   "source": [
    "q = [2, 1, 5, 3, 4]\n",
    "q = [2, 5, 1, 3, 4]"
   ]
  },
  {
   "cell_type": "code",
   "execution_count": 92,
   "metadata": {},
   "outputs": [
    {
     "name": "stdout",
     "output_type": "stream",
     "text": [
      "1 2 -1\n",
      "2 5 -3\n",
      "3 1 2\n",
      "4 3 1\n",
      "5 4 1\n"
     ]
    }
   ],
   "source": [
    "for i, value in enumerate(q):\n",
    "    print(i+1, value, i+1-value)\n",
    "\n",
    "    # -3 이하는 'Too Chaotic'\n",
    "    if i+1-value <-3 : \n",
    "        print('Too chaotic')\n",
    "        break"
   ]
  },
  {
   "cell_type": "code",
   "execution_count": 25,
   "metadata": {},
   "outputs": [],
   "source": [
    "q = [5, 1, 2, 3, 7, 8, 6, 4]"
   ]
  },
  {
   "cell_type": "code",
   "execution_count": 58,
   "metadata": {},
   "outputs": [],
   "source": [
    "q = [1, 2, 5, 3, 7, 8, 6, 4]"
   ]
  },
  {
   "cell_type": "code",
   "execution_count": 70,
   "metadata": {
    "scrolled": true
   },
   "outputs": [
    {
     "name": "stdout",
     "output_type": "stream",
     "text": [
      "1 1 0\n",
      "2 2 0\n",
      "3 3 0\n",
      "4 4 0\n",
      "5 5 0\n"
     ]
    }
   ],
   "source": [
    "for i, value in enumerate(q):\n",
    "    print(i+1, value, i+1-value)\n",
    "\n",
    "    # -3 이하는 'Too Chaotic'\n",
    "    if i+1-value <-3 : \n",
    "        print('Too chaotic')\n",
    "        break\n",
    "        \n",
    "# too chaotic 판단함수\n",
    "def determine_tc(q):\n",
    "    for i, value in enumerate(q):\n",
    "        if i+1-value <-3 : \n",
    "            return 'Too chaotic'"
   ]
  },
  {
   "cell_type": "code",
   "execution_count": 71,
   "metadata": {},
   "outputs": [
    {
     "data": {
      "text/plain": [
       "'Too chaotic'"
      ]
     },
     "execution_count": 71,
     "metadata": {},
     "output_type": "execute_result"
    }
   ],
   "source": [
    "q = [5, 1, 2, 3, 7, 8, 6, 4]\n",
    "determine_tc(q)"
   ]
  },
  {
   "cell_type": "code",
   "execution_count": 67,
   "metadata": {},
   "outputs": [
    {
     "name": "stdout",
     "output_type": "stream",
     "text": [
      "1 0\n",
      "1 1\n",
      "2 1\n",
      "3 1\n",
      "2 2\n",
      "3 2\n",
      "4 2\n",
      "3 3\n",
      "4 3\n"
     ]
    }
   ],
   "source": [
    "q = [1, 2, 5, 3, 7, 8, 6, 4]\n",
    "q = [2, 1, 5, 3, 4]\n",
    "\n",
    "# switching은 총 자리를 바꾼 수를 counting 한 값이다. (initial =0)\n",
    "switching = 0\n",
    "\n",
    "# state는 현재 기준이되는 왼쪽에서부터의 자리수를 의미한다. 1 ~ length(queue)\n",
    "state =  0\n",
    "\n",
    "while state < len(q) :   # state = len(q)가 되면 반복문을 멈춘다.\n",
    "    state += 1\n",
    "    if state == len(q) : break\n",
    "        \n",
    "    print(state, switching)\n",
    "    \n",
    "    if q[state-1] < q[state] :\n",
    "        continue\n",
    "        \n",
    "    else :   # switch\n",
    "        num_pop = q.pop(state-1)\n",
    "        q.insert(state, num_pop)\n",
    "        switching += 1\n",
    "        if state == 1 : state -= 1\n",
    "        else : state -= 2\n",
    "        \n",
    "    "
   ]
  },
  {
   "cell_type": "code",
   "execution_count": 68,
   "metadata": {},
   "outputs": [
    {
     "data": {
      "text/plain": [
       "3"
      ]
     },
     "execution_count": 68,
     "metadata": {},
     "output_type": "execute_result"
    }
   ],
   "source": [
    "switching"
   ]
  },
  {
   "cell_type": "code",
   "execution_count": 27,
   "metadata": {
    "scrolled": true
   },
   "outputs": [],
   "source": [
    "### Terminated due to timeout\n",
    "\n",
    "def minimumBribes(q):\n",
    "    # too chaotic 판단\n",
    "    for i, value in enumerate(q):\n",
    "        if i+1-value <-2 : \n",
    "            return print('Too chaotic') \n",
    "    \n",
    "    # switching은 총 자리를 바꾼 수를 counting 한 값이다. (initial =0)\n",
    "    switching = 0\n",
    "\n",
    "    # state는 현재 기준이되는 왼쪽에서부터의 자리수를 의미한다. 1 ~ length(queue)\n",
    "    state =  1\n",
    "\n",
    "    while state < len(q) :   # state = len(q)가 되면 반복문을 멈춘다.\n",
    "        state += 1\n",
    "        if state == len(q) : break\n",
    "        if state == 0 : state = 1\n",
    "        print(state, q, switching)\n",
    "\n",
    "\n",
    "        if q[state-1] < q[state] :\n",
    "            state += 1\n",
    "            continue\n",
    "\n",
    "        else :   # switch\n",
    "            num_pop = q.pop(state-1)\n",
    "            q.insert(state, num_pop)\n",
    "            switching += 1\n",
    "            state -= 1\n",
    "    \n",
    "    return print(switching)"
   ]
  },
  {
   "cell_type": "code",
   "execution_count": 22,
   "metadata": {},
   "outputs": [],
   "source": [
    "### redefine pop part\n",
    "def minimumBribes(q):\n",
    "    \n",
    "    q.append(len(q)+1)\n",
    "    \n",
    "    # too chaotic 판단\n",
    "    for i, value in enumerate(q):\n",
    "        if i+1-value <-2 : \n",
    "            return print('Too chaotic') \n",
    "    \n",
    "    # switching은 총 자리를 바꾼 수를 counting 한 값이다. (initial =0)\n",
    "    switching = 0\n",
    "\n",
    "    # state는 현재 기준이되는 왼쪽에서부터의 자리수를 의미한다. 1 ~ length(queue)\n",
    "    state =  1\n",
    "\n",
    "    while state < len(q) :   # state = len(q)가 되면 반복문을 멈춘다.\n",
    "\n",
    "        if state == len(q) : break\n",
    "        if state == 0 : state = 1\n",
    "        print('state:', state, q, switching)\n",
    "\n",
    "\n",
    "\n",
    "        if q[state-1] < q[state] :\n",
    "            state += 1\n",
    "            continue\n",
    "\n",
    "        else :   # switch\n",
    "            \n",
    "            for inner_state in range(state+1, len(q)+1):\n",
    "                if q[state-1] < q[inner_state-1]:\n",
    "                    \n",
    "                    pop_num = q.pop(state-1)\n",
    "                    q.insert(inner_state-2, pop_num)\n",
    "                    \n",
    "                    switching += inner_state - state - 1\n",
    "                    state -= 1\n",
    "                    break\n",
    "                else : continue\n",
    "    \n",
    "    return print(switching)"
   ]
  },
  {
   "cell_type": "code",
   "execution_count": 23,
   "metadata": {
    "scrolled": true
   },
   "outputs": [
    {
     "name": "stdout",
     "output_type": "stream",
     "text": [
      "state: 1 [1, 2, 5, 3, 7, 8, 6, 4, 9] 0\n",
      "state: 2 [1, 2, 5, 3, 7, 8, 6, 4, 9] 0\n",
      "state: 3 [1, 2, 5, 3, 7, 8, 6, 4, 9] 0\n",
      "state: 2 [1, 2, 3, 5, 7, 8, 6, 4, 9] 1\n",
      "state: 3 [1, 2, 3, 5, 7, 8, 6, 4, 9] 1\n",
      "state: 4 [1, 2, 3, 5, 7, 8, 6, 4, 9] 1\n",
      "state: 5 [1, 2, 3, 5, 7, 8, 6, 4, 9] 1\n",
      "state: 6 [1, 2, 3, 5, 7, 8, 6, 4, 9] 1\n",
      "state: 5 [1, 2, 3, 5, 7, 6, 4, 8, 9] 3\n",
      "state: 4 [1, 2, 3, 5, 6, 4, 7, 8, 9] 5\n",
      "state: 5 [1, 2, 3, 5, 6, 4, 7, 8, 9] 5\n",
      "state: 4 [1, 2, 3, 5, 4, 6, 7, 8, 9] 6\n",
      "state: 3 [1, 2, 3, 4, 5, 6, 7, 8, 9] 7\n",
      "state: 4 [1, 2, 3, 4, 5, 6, 7, 8, 9] 7\n",
      "state: 5 [1, 2, 3, 4, 5, 6, 7, 8, 9] 7\n",
      "state: 6 [1, 2, 3, 4, 5, 6, 7, 8, 9] 7\n",
      "state: 7 [1, 2, 3, 4, 5, 6, 7, 8, 9] 7\n",
      "state: 8 [1, 2, 3, 4, 5, 6, 7, 8, 9] 7\n",
      "7\n"
     ]
    }
   ],
   "source": [
    "q = [2, 1, 5, 3, 4]\n",
    "q = [1, 2,5, 3, 7, 8, 6, 4]\n",
    "minimumBribes(q)"
   ]
  },
  {
   "cell_type": "markdown",
   "metadata": {},
   "source": [
    "## Answer\n"
   ]
  },
  {
   "cell_type": "code",
   "execution_count": 76,
   "metadata": {},
   "outputs": [],
   "source": [
    "### Terminated due to timeout\n",
    "\n",
    "def minimumBribes(q):\n",
    "    # too chaotic 판단\n",
    "    for i, value in enumerate(q):\n",
    "        if i+1-value <-2 : \n",
    "            return print('Too chaotic') \n",
    "    \n",
    "    # swap 총 자리를 바꾼 수를 counting 한 값이다. (initial =0)\n",
    "    swap = 0\n",
    "\n",
    "    # state는 현재 기준이되는 왼쪽에서부터의 자리수를 의미한다. 1 ~ length(queue)\n",
    "    state =  1\n",
    "\n",
    "    while state < len(q) :   # state = len(q)가 되면 반복문을 멈춘다.\n",
    "        if state == len(q) : break\n",
    "        if state == 0 : state = 1\n",
    "        #print(state, q, switching)\n",
    "\n",
    "        if q[state-1] < q[state] :\n",
    "            state += 1\n",
    "            continue\n",
    "\n",
    "        else :   # swap\n",
    "            q[state-1], q[state] = q[state], q[state-1]\n",
    "\n",
    "            swap += 1\n",
    "            state -= 1\n",
    "    \n",
    "    return print(swap)"
   ]
  },
  {
   "cell_type": "code",
   "execution_count": null,
   "metadata": {},
   "outputs": [],
   "source": []
  },
  {
   "cell_type": "code",
   "execution_count": null,
   "metadata": {},
   "outputs": [],
   "source": []
  },
  {
   "cell_type": "code",
   "execution_count": null,
   "metadata": {},
   "outputs": [],
   "source": []
  },
  {
   "cell_type": "code",
   "execution_count": null,
   "metadata": {},
   "outputs": [],
   "source": []
  },
  {
   "cell_type": "code",
   "execution_count": null,
   "metadata": {},
   "outputs": [],
   "source": []
  },
  {
   "cell_type": "code",
   "execution_count": null,
   "metadata": {},
   "outputs": [],
   "source": []
  },
  {
   "cell_type": "code",
   "execution_count": null,
   "metadata": {},
   "outputs": [],
   "source": []
  },
  {
   "cell_type": "code",
   "execution_count": null,
   "metadata": {},
   "outputs": [],
   "source": []
  },
  {
   "cell_type": "code",
   "execution_count": 22,
   "metadata": {},
   "outputs": [],
   "source": [
    "def minimumBribes(q):\n",
    "    bribes = 0\n",
    "    \n",
    "    for i, value in enumerate(q) :\n",
    "        # break\n",
    "        if value-i-1>2 : \n",
    "            return print('Too chaotic')\n",
    "            break\n",
    "            \n",
    "        for j in range(i+1, len(q)):\n",
    "            \n",
    "            if value > q[j] :\n",
    "                bribes += 1\n",
    "    return print(bribes)\n"
   ]
  },
  {
   "cell_type": "code",
   "execution_count": 35,
   "metadata": {},
   "outputs": [
    {
     "name": "stdout",
     "output_type": "stream",
     "text": [
      "Too chaotic\n"
     ]
    }
   ],
   "source": [
    "q = [1, 2, 5, 3, 7, 8, 6, 4]\n",
    "q = [6, 2, 1, 5, 3, 4]\n",
    "minimumBribes(q)"
   ]
  },
  {
   "cell_type": "code",
   "execution_count": 36,
   "metadata": {
    "scrolled": true
   },
   "outputs": [
    {
     "data": {
      "text/plain": [
       "[1, 2, 3, 4, 1, 2, 3, 4]"
      ]
     },
     "execution_count": 36,
     "metadata": {},
     "output_type": "execute_result"
    }
   ],
   "source": [
    "bribes = 0\n",
    "\n",
    "for i, value in enumerate(q) :\n",
    "    # break\n",
    "    if i == len(q) : break\n",
    "    if value-i-1>2 : \n",
    "        return print('Too chaotic')\n",
    "        break\n",
    "    \n",
    "    if value < min(q[i+1:]) :\n",
    "        continue\n",
    "\n",
    "    for j in range(i+1, len(q)):\n",
    "\n",
    "        if value > q[j] :\n",
    "            bribes += 1"
   ]
  },
  {
   "cell_type": "code",
   "execution_count": 51,
   "metadata": {},
   "outputs": [],
   "source": [
    "def minimumBribes(q):\n",
    "    bribes = 0\n",
    "    \n",
    "    for i, value in enumerate(q) :\n",
    "        # break\n",
    "        if i == len(q) : break\n",
    "        if value-i-1>2 : \n",
    "            return print('Too chaotic')\n",
    "            break\n",
    "            \n",
    "        if value == min(q[i:]) :\n",
    "            continue\n",
    "            \n",
    "        bribes += sum(map(lambda x: x < value, q[i:]))\n",
    "    return print(bribes)"
   ]
  },
  {
   "cell_type": "code",
   "execution_count": 75,
   "metadata": {},
   "outputs": [
    {
     "name": "stdout",
     "output_type": "stream",
     "text": [
      "7\n"
     ]
    }
   ],
   "source": [
    "q = [1, 2, 5, 3, 7, 8, 6, 4]\n",
    "#q = [6, 2, 1, 5, 3, 4]\n",
    "minimumBribes(q)"
   ]
  },
  {
   "cell_type": "code",
   "execution_count": 66,
   "metadata": {},
   "outputs": [],
   "source": [
    "import sys"
   ]
  },
  {
   "cell_type": "code",
   "execution_count": 62,
   "metadata": {},
   "outputs": [
    {
     "ename": "SyntaxError",
     "evalue": "invalid syntax (<ipython-input-62-1425a36d4665>, line 16)",
     "output_type": "error",
     "traceback": [
      "\u001b[0;36m  File \u001b[0;32m\"<ipython-input-62-1425a36d4665>\"\u001b[0;36m, line \u001b[0;32m16\u001b[0m\n\u001b[0;31m    bribes +=\u001b[0m\n\u001b[0m              ^\u001b[0m\n\u001b[0;31mSyntaxError\u001b[0m\u001b[0;31m:\u001b[0m invalid syntax\n"
     ]
    }
   ],
   "source": [
    "def minimumBribes(q):\n",
    "    bribes = 0\n",
    "    \n",
    "    for i, value in enumerate(q) :\n",
    "        # break\n",
    "        if i == len(q) : break\n",
    "        if value-i-1>2 : \n",
    "            return print('Too chaotic')\n",
    "            break\n",
    "            \n",
    "        if value == min(q[i:]) :\n",
    "            continue\n",
    "            \n",
    "        \n",
    "            \n",
    "        bribes += \n",
    "    return print(bribes)"
   ]
  },
  {
   "cell_type": "code",
   "execution_count": 73,
   "metadata": {},
   "outputs": [
    {
     "data": {
      "text/plain": [
       "[(8, 4), (7, 6), (6, 8), (5, 7), (4, 3), (3, 5), (2, 2), (1, 1)]"
      ]
     },
     "execution_count": 73,
     "metadata": {},
     "output_type": "execute_result"
    }
   ],
   "source": [
    "mins = [sys.maxsize, sys.maxsize]\n",
    "mins\n",
    "list(reversed(list(enumerate(q, 1))))"
   ]
  },
  {
   "cell_type": "code",
   "execution_count": 64,
   "metadata": {},
   "outputs": [],
   "source": []
  },
  {
   "cell_type": "code",
   "execution_count": null,
   "metadata": {},
   "outputs": [],
   "source": []
  },
  {
   "cell_type": "code",
   "execution_count": null,
   "metadata": {},
   "outputs": [],
   "source": []
  }
 ],
 "metadata": {
  "kernelspec": {
   "display_name": "Python 3",
   "language": "python",
   "name": "python3"
  },
  "language_info": {
   "codemirror_mode": {
    "name": "ipython",
    "version": 3
   },
   "file_extension": ".py",
   "mimetype": "text/x-python",
   "name": "python",
   "nbconvert_exporter": "python",
   "pygments_lexer": "ipython3",
   "version": "3.8.3"
  }
 },
 "nbformat": 4,
 "nbformat_minor": 4
}
