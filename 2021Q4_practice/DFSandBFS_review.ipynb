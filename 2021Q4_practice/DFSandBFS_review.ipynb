{
 "cells": [
  {
   "cell_type": "code",
   "execution_count": 1,
   "metadata": {},
   "outputs": [],
   "source": [
    "from collections import deque"
   ]
  },
  {
   "cell_type": "code",
   "execution_count": 2,
   "metadata": {},
   "outputs": [],
   "source": [
    "# 재귀함수\n",
    "# 재귀함수의 종료 조건\n",
    "\n",
    "def recursive_function(i):\n",
    "    # 10번째 출력했을 때, 종료되도록 종료 조건 명시\n",
    "    if i == 10:\n",
    "        return\n",
    "    print(i, '번째 재귀 함수에서', i+1, '번째 재귀 함수를 호출합니다.')\n",
    "    recursive_function(i+1)\n",
    "    print(i, '번째 재귀 함수를 종료합니다.')"
   ]
  },
  {
   "cell_type": "code",
   "execution_count": 5,
   "metadata": {},
   "outputs": [
    {
     "name": "stdout",
     "output_type": "stream",
     "text": [
      "9 번째 재귀 함수에서 10 번째 재귀 함수를 호출합니다.\n",
      "9 번째 재귀 함수를 종료합니다.\n"
     ]
    }
   ],
   "source": [
    "recursive_function(9)"
   ]
  },
  {
   "cell_type": "code",
   "execution_count": 8,
   "metadata": {},
   "outputs": [
    {
     "data": {
      "text/plain": [
       "1"
      ]
     },
     "execution_count": 8,
     "metadata": {},
     "output_type": "execute_result"
    }
   ],
   "source": [
    "# factorial n! =  n * (n - 1) * ... * 1 = n * (n-1)!\n",
    "n = 1\n",
    "result = 1\n",
    "while n >= 1 : \n",
    "    result *= n\n",
    "    n -= 1\n",
    "result\n",
    "    \n"
   ]
  },
  {
   "cell_type": "code",
   "execution_count": 11,
   "metadata": {},
   "outputs": [],
   "source": [
    "def recursive_factorial(n) :\n",
    "    if n <= 1 : \n",
    "        return 1\n",
    "    return n*recursive_factorial(n-1)"
   ]
  },
  {
   "cell_type": "markdown",
   "metadata": {},
   "source": [
    "- 재귀함수를 만드는 방법  \n",
    "    1. 그 함수가 결국 멈추게 되는 지점에서 뱉어낼 값 지정\n",
    "    2. 그 전까지는 점화식을 return\n",
    "   \n"
   ]
  },
  {
   "cell_type": "code",
   "execution_count": 12,
   "metadata": {
    "scrolled": true
   },
   "outputs": [
    {
     "data": {
      "text/plain": [
       "1"
      ]
     },
     "execution_count": 12,
     "metadata": {},
     "output_type": "execute_result"
    }
   ],
   "source": [
    "recursive_factorial(n)"
   ]
  },
  {
   "cell_type": "code",
   "execution_count": 13,
   "metadata": {},
   "outputs": [
    {
     "name": "stdout",
     "output_type": "stream",
     "text": [
      "[[0, 7, 5], [7, 0, 9999999999], [5, 9999999999, 0]]\n"
     ]
    }
   ],
   "source": [
    "# 인접 행렬\n",
    "INF = 9999999999 # 무한의 비용 선언\n",
    "\n",
    "# 2차원 리스트를 이용해 인접 행렬 표현\n",
    "graph = [\n",
    "    [0, 7, 5],\n",
    "    [7, 0, INF],\n",
    "    [5, INF, 0]\n",
    "]\n",
    "\n",
    "print(graph)"
   ]
  },
  {
   "cell_type": "code",
   "execution_count": 14,
   "metadata": {},
   "outputs": [
    {
     "name": "stdout",
     "output_type": "stream",
     "text": [
      "[[(1, 7), (2, 5)], [(0, 7)], [(0, 5)]]\n"
     ]
    }
   ],
   "source": [
    "# 인접리스트\n",
    "# 모든 노드에 연결된 노드에 대한 정보를 차례로 연결하여 저장한다. \n",
    "\n",
    "# 행이 3개인 2차원 리스트로 인접리스트 표현\n",
    "graph = [[] for _ in range(3)]\n",
    "\n",
    "# 노드 0에 연결되어 있는 노드 정보 저장(노드, 거리)\n",
    "graph[0].append((1, 7))\n",
    "graph[0].append((2, 5))\n",
    "\n",
    "# 노드 1에 연결되어 있는 노드 정보 저장 (노드, 거리)\n",
    "graph[1].append((0, 7))\n",
    "\n",
    "# 노드 2에 연결되어 있는 노드 정보 저장 (노드, 거리)\n",
    "graph[2].append((0, 5))\n",
    "\n",
    "print(graph)"
   ]
  },
  {
   "cell_type": "markdown",
   "metadata": {},
   "source": [
    "1. 자료가 어떤 구조인지 파악!\n",
    "2. 시작 위치 및, 현재 어느 위치인지 알려주는 정보 필요 v!\n",
    "3. 그리고 어디를 방문 했었는지 기록도 필요!"
   ]
  },
  {
   "cell_type": "code",
   "execution_count": 21,
   "metadata": {},
   "outputs": [],
   "source": [
    "def dfs(graph, v, visited) :\n",
    "    \n",
    "    visited[v] = True\n",
    "    print(v, end = ' ')\n",
    "    \n",
    "    for i in graph[v] : #여기서 자료의 구조에 대한 특성이 나타난다. 이것는 리스트형 자료 구조로, 현재 위치 v에 대해서 연결된 위치에 대한 정보를 담고 있다.\n",
    "        # 여기서 방문 했던 곳인지 판단해야한다. \n",
    "        if not visited[i] : # 방문하지 않았던 곳이라면, 방문해야한다. 그리고 기록해야한다. 여기서는 방문까지가 최종 목적이다. \n",
    "            dfs(graph, i, visited) # 이게 재귀함수로 나타내면, dfs라는 함수의 역할은 해당 위치에서 방문하지 않았던 위치로의 이동이다."
   ]
  },
  {
   "cell_type": "code",
   "execution_count": 22,
   "metadata": {},
   "outputs": [],
   "source": [
    "graph = [\n",
    "    [],\n",
    "    [2,3,8],\n",
    "    [1,7],\n",
    "    [1,4,5],\n",
    "    [3,5],\n",
    "    [3,4],\n",
    "    [7],\n",
    "    [2,6,8],\n",
    "    [1,7]\n",
    "]\n",
    "\n",
    "visited = [False]*9"
   ]
  },
  {
   "cell_type": "code",
   "execution_count": 23,
   "metadata": {},
   "outputs": [
    {
     "name": "stdout",
     "output_type": "stream",
     "text": [
      "1 2 7 6 8 3 4 5 "
     ]
    }
   ],
   "source": [
    "dfs(graph, 1, visited)\n",
    "# 그래프의 방문했던 순서를 그대로 출력한다. "
   ]
  },
  {
   "cell_type": "markdown",
   "metadata": {},
   "source": [
    "- 재귀함수로 DFS를 만드는 방법 (조건)\n",
    "\n",
    "    1. 지금 자리가 어디인지 알아야한다. (특정 노드에 연결된 정보가 어떻게 되는지 알아야한다.)\n",
    "    2. 원하는 정보에 따라 다르겠지만, 재귀함수로써 만든다면,   \n",
    "        해당 DFS는 딱 현재 위치를 나타내고, 다음 위치에 대한 가이드를 하고 그 다음 위치에서의 DFS를 나타내야한다. "
   ]
  },
  {
   "cell_type": "markdown",
   "metadata": {},
   "source": [
    "- BFS\n",
    "    - DFS와 방식은 비슷하지만, 성능이 더 좋고, 선입 선출 구조를 가진다. \n",
    "    - 현재 시점에서, 갈 수 있는 곳을 모두 파악하고, 분기한다. \n",
    "    - 모든 점을 방문하는 입장에서 DFS보다 더 빠른 탐색 시간을 보통 기록하며, 수평적으로 분기한다는 특징이 있다. "
   ]
  },
  {
   "cell_type": "code",
   "execution_count": 26,
   "metadata": {},
   "outputs": [],
   "source": [
    "# bfs는 재귀함수를 사용하지 않는것이 보통이다. \n",
    "def bfs(graph, start, visited)  : \n",
    "    # 모든 탐색이 다 그렇듯이 일단 처음 있던 그 위치에 대한 정보를 입력해준다. \n",
    "    queue = deque([start]) # 제일 처음 시작. 선입 선출 구조의 Queue를 시작점으로 부터 생성해준다. \n",
    "    \n",
    "    # 그리고 시작점은 시작과 동시에 다시 방문안해도 되는 것이므로 일단 시작점이라는 것을 등록한다. \n",
    "    visited[start] = True\n",
    "    \n",
    "    while queue : #queue가 empty될때까지 돌아간다. \n",
    "        # 여기서부터 본격적으로 탐색하기 시작한다. \n",
    "        # 따라서 큐에서 있던거 그거 하나를 꺼내서 조사하기 시작하낟, \n",
    "        v = queue.popleft() # 선입 선출\n",
    "        print(v, end = ' ')\n",
    "        \n",
    "        # 그 위치와 연결된 정보를 탐색해야한다. \n",
    "        for i in graph[v] : # 꺼낸 노드의 위치에 대한 정보를 바탕으로 해당 노드와 연결된 정보를 모두 순서대로 불러온다.\n",
    "            if not visited[i] : # 가지 않았던 곳만 선택해서 해당 노드를 조사해야하니까 queue에 등록하고(바로 다음 루프에서 해당 노드에 대해서 BFS를 진행할 것이기 때문에)\n",
    "                queue.append(i)\n",
    "                visited[i] = True # 다른 루프에서 또 탐색하는 일이 없게 방문처리한다.\n",
    "                \n",
    "            \n",
    "    \n",
    "    "
   ]
  },
  {
   "cell_type": "code",
   "execution_count": 27,
   "metadata": {},
   "outputs": [
    {
     "name": "stdout",
     "output_type": "stream",
     "text": [
      "1 2 3 8 7 4 5 6 "
     ]
    }
   ],
   "source": [
    "graph = [\n",
    "    [],\n",
    "    [2,3,8],\n",
    "    [1,7],\n",
    "    [1,4,5],\n",
    "    [3,5],\n",
    "    [3,4],\n",
    "    [7],\n",
    "    [2,6,8],\n",
    "    [1,7]\n",
    "]\n",
    "\n",
    "visited = [False]*9\n",
    "\n",
    "bfs(graph, 1, visited)"
   ]
  },
  {
   "cell_type": "markdown",
   "metadata": {},
   "source": [
    "### 실전문제 3 음료수 얼려먹기\n",
    "- idea.\n",
    "    - DFS, BFS를 이용하자 (해당 문제는, 어느 위치가 최단 거리임을 찾는 문제가 아니라, 색칠하는 문제이기 때문에 DFS가 최적이다. )\n",
    "    - DFS 개념을 하나의 모듈로 이용하자. \n",
    "    - 얼음을 채운다는 개념으로 이해하자. \n"
   ]
  },
  {
   "cell_type": "code",
   "execution_count": 40,
   "metadata": {},
   "outputs": [],
   "source": [
    "graph = [\n",
    "    [0,0,1,1,0],\n",
    "    [0,0,0,1,1],\n",
    "    [1,1,1,1,1],\n",
    "    [0,0,0,0,0]\n",
    "]\n",
    "\n",
    "# 그래프와 방문기록을 일치화 해야하나? = 아니다. \n"
   ]
  },
  {
   "cell_type": "code",
   "execution_count": 41,
   "metadata": {},
   "outputs": [],
   "source": [
    "n,m = len(graph), len(graph[0])"
   ]
  },
  {
   "cell_type": "code",
   "execution_count": 42,
   "metadata": {},
   "outputs": [
    {
     "name": "stdout",
     "output_type": "stream",
     "text": [
      "3\n"
     ]
    }
   ],
   "source": [
    "# dfs 모듈 생성\n",
    "def dfs_module(v):\n",
    "    # 시작점의 위치를 등록한다. \n",
    "    x, y = v\n",
    "    # 해당 위치가 정해진 범위를 벗어났다면, 종료\n",
    "    if x < 0 or x >= n or y < 0 or y >= m :\n",
    "        return False\n",
    "    \n",
    "    if graph[x][y] == 0 : \n",
    "        graph[x][y] = 1\n",
    "        \n",
    "        dfs_module((x+1, y))\n",
    "        dfs_module((x-1, y))\n",
    "        dfs_module((x, y+1))\n",
    "        dfs_module((x, y-1))\n",
    "        return True # 색칠을 다 했다면 True\n",
    "    return False\n",
    "\n",
    "result = 0\n",
    "for i in range(n):\n",
    "    for j in range(m):\n",
    "        if dfs_module((i, j)) == True : \n",
    "            result += 1\n",
    "print(result)"
   ]
  },
  {
   "cell_type": "markdown",
   "metadata": {},
   "source": [
    "### 실전문제 4 미로탈출\n",
    "- [문제 설명]\n",
    "    - 1이 표시된 위치로만 이동할 수 있다. \n",
    "    - 시작점은 (1,1)이다. \n",
    "    - (N, M)까지 가는 길의 최소 칸의 개수를 구해라. (지나왔던 모든 칸의 개수를 세어라)  \n",
    "    \n",
    "    \n",
    "- [풀이 노트]\n",
    "    - 시작점에서 끝점으로 가는 최단 거리 탐색  = BFS\n",
    "    - 해당 위치로 오기까지 지나온 칸들에 대한 정보를 업데이트 해야한다. \n",
    "        - visited를 어떻게 설계해야할까?\n",
    "            - 0 인 부분을 가면 안되니까, 1인 부분으로만 가야한다. \n",
    "            - 한 칸 옮길 때 마다, 1을 더해준다. \n",
    "            - 다음 칸을 조사할 때, 1인 곳으로만 간다. (예외사항, 시작점은 1이므로, 시작점은 예외로 하기 위해서, 시작점은 99999로 기록해준다.)\n",
    "    - BFS 모듈의 사용이 필요없고, 해당 개념 자체로 function을 구현할 수 있다. \n",
    "    "
   ]
  },
  {
   "cell_type": "code",
   "execution_count": 43,
   "metadata": {},
   "outputs": [],
   "source": [
    "graph = [\n",
    "    [1,0,1,0,1,0],\n",
    "    [1,1,1,1,1,1],\n",
    "    [0,0,0,0,0,1],\n",
    "    [1,1,1,1,1,1],\n",
    "    [1,1,1,1,1,1]\n",
    "]\n",
    "N = 5\n",
    "M = 6"
   ]
  },
  {
   "cell_type": "code",
   "execution_count": 47,
   "metadata": {},
   "outputs": [],
   "source": [
    "from collections import deque\n",
    "\n",
    "dx = [1, -1, 0, 0]\n",
    "dy = [0,  0, 1,-1]\n",
    "\n",
    "def find_the_exit(graph, start) : \n",
    "    # 시작점 기록\n",
    "    x, y = start\n",
    "    queue = deque([(x,y)])\n",
    "    graph[x][y] = 2 # 한 칸 미리 이동했다 치고, 마지막에서 이 값을 계산 해줘야한다. \n",
    "    \n",
    "    while queue : \n",
    "        v = queue.popleft()\n",
    "        x, y = v\n",
    "        for i in range(4) : #앞뒤양옆으로 간다. 단 길이 아닌곳은 continue로 스킵해줘.\n",
    "            new_x, new_y = x + dx[i], y + dy[i]\n",
    "            if new_x <= -1 or new_x >= N or new_y <= -1 or new_y >= M : \n",
    "                continue\n",
    "            if graph[new_x][new_y] == 1 : # 아직 가보지 않은 길이기 때문에 가야한다.\n",
    "                graph[new_x][new_y] = graph[x][y] +1 # 한 칸 이동을 기록해주자. (방문기록이다 이게)\n",
    "                queue.append((new_x, new_y)) # 그리고 갔던 점에 가보자.\n",
    "    return graph"
   ]
  },
  {
   "cell_type": "code",
   "execution_count": 48,
   "metadata": {},
   "outputs": [
    {
     "data": {
      "text/plain": [
       "[[2, 0, 6, 0, 8, 0],\n",
       " [3, 4, 5, 6, 7, 8],\n",
       " [0, 0, 0, 0, 0, 9],\n",
       " [15, 14, 13, 12, 11, 10],\n",
       " [16, 15, 14, 13, 12, 11]]"
      ]
     },
     "execution_count": 48,
     "metadata": {},
     "output_type": "execute_result"
    }
   ],
   "source": [
    "find_the_exit(graph, (0,0))"
   ]
  },
  {
   "cell_type": "code",
   "execution_count": null,
   "metadata": {},
   "outputs": [],
   "source": []
  }
 ],
 "metadata": {
  "kernelspec": {
   "display_name": "Python 3",
   "language": "python",
   "name": "python3"
  },
  "language_info": {
   "codemirror_mode": {
    "name": "ipython",
    "version": 3
   },
   "file_extension": ".py",
   "mimetype": "text/x-python",
   "name": "python",
   "nbconvert_exporter": "python",
   "pygments_lexer": "ipython3",
   "version": "3.8.3"
  },
  "toc": {
   "base_numbering": 1,
   "nav_menu": {},
   "number_sections": true,
   "sideBar": true,
   "skip_h1_title": false,
   "title_cell": "Table of Contents",
   "title_sidebar": "Contents",
   "toc_cell": false,
   "toc_position": {},
   "toc_section_display": true,
   "toc_window_display": false
  }
 },
 "nbformat": 4,
 "nbformat_minor": 4
}
