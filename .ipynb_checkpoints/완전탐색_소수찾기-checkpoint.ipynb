{
 "cells": [
  {
   "cell_type": "markdown",
   "metadata": {},
   "source": [
    "#### 문제 설명\n",
    "한자리 숫자가 적힌 종이 조각이 흩어져있습니다. 흩어진 종이 조각을 붙여 소수를 몇 개 만들 수 있는지 알아내려 합니다.  \n",
    "각 종이 조각에 적힌 숫자가 적힌 문자열 numbers가 주어졌을 때, 종이 조각으로 만들 수 있는 소수가 몇 개인지 return 하도록 solution 함수를 완성해주세요.  \n",
    "\n",
    "#### 제한사항\n",
    "- numbers는 길이 1 이상 7 이하인 문자열입니다.\n",
    "- numbers는 0~9까지 숫자만으로 이루어져 있습니다.\n",
    "- 013은 0, 1, 3 숫자가 적힌 종이 조각이 흩어져있다는 의미입니다."
   ]
  },
  {
   "cell_type": "code",
   "execution_count": 2,
   "metadata": {},
   "outputs": [],
   "source": [
    "def solution(numbers):\n",
    "    answer = 0\n",
    "    return answer"
   ]
  },
  {
   "cell_type": "code",
   "execution_count": 46,
   "metadata": {},
   "outputs": [],
   "source": [
    "numbers = '0177'\n",
    "# return = 3"
   ]
  },
  {
   "cell_type": "markdown",
   "metadata": {},
   "source": [
    "문제 풀이 전략\n",
    "1. 만들 수 있는 수의 조합 나열 => list\n",
    "2. 소수 판단 함수 생성 => def"
   ]
  },
  {
   "cell_type": "code",
   "execution_count": 51,
   "metadata": {},
   "outputs": [
    {
     "name": "stdout",
     "output_type": "stream",
     "text": [
      "['0', '1', '7', '7']\n",
      "0\n",
      "1\n",
      "2\n",
      "3\n"
     ]
    }
   ],
   "source": [
    "# 만들 수 있는 수의 조합\n",
    "# ex) numbers = '17' => 1과 7의 종이 조각 => 각 한 번씩만 사용가능/ 써도되고 안써도 된다.\n",
    "# 조합 경우의 수 1, 7, 17, 71\n",
    "\n",
    "from itertools import permutations\n",
    "\n",
    "split_numbers = [i for i in numbers]    # numbers 분해\n",
    "\n",
    "p_numbers = []\n",
    "for n in range(len(numbers)):\n",
    "    print(n)\n",
    "    p_numbers += (list(map(lambda x:int(''.join(x)),permutations(split_numbers,n+1))))\n",
    "\n",
    "p_numbers = list(set(p_numbers)) # 가능한 수의 모든 조합(중복값처리)"
   ]
  },
  {
   "cell_type": "code",
   "execution_count": 98,
   "metadata": {},
   "outputs": [
    {
     "data": {
      "text/plain": [
       "True"
      ]
     },
     "execution_count": 98,
     "metadata": {},
     "output_type": "execute_result"
    }
   ],
   "source": [
    "# 소수 판단 함수 생성\n",
    "# 소수? 1과 자기 자신 이외에 약수가 없는 수\n",
    "def is_prime(arg) :\n",
    "    if arg in [0,1] : return False    \n",
    "    for i in range(2, arg):\n",
    "        if arg % i == 0 :\n",
    "            return False\n",
    "            break\n",
    "    return True\n",
    "\n",
    "is_prime(491)\n",
    "   "
   ]
  },
  {
   "cell_type": "code",
   "execution_count": 87,
   "metadata": {},
   "outputs": [],
   "source": [
    "answer = sum(map(is_prime, p_numbers))"
   ]
  },
  {
   "cell_type": "markdown",
   "metadata": {},
   "source": [
    "#### My work"
   ]
  },
  {
   "cell_type": "code",
   "execution_count": 99,
   "metadata": {},
   "outputs": [],
   "source": [
    "def solution(numbers):\n",
    "    from itertools import permutations\n",
    "    \n",
    "    # 소수 판단 함수\n",
    "    def is_prime(arg) :\n",
    "        if arg in [0,1] : return False    \n",
    "        for i in range(2, arg):\n",
    "            if arg % i == 0 :\n",
    "                return False\n",
    "                break\n",
    "        return True\n",
    "            \n",
    "    # 가능한 수의 조합\n",
    "    split_numbers = [i for i in numbers]    # numbers 분해\n",
    "\n",
    "    p_numbers = []\n",
    "    for n in range(len(numbers)):\n",
    "        print(n)\n",
    "        p_numbers += (list(map(lambda x:int(''.join(x)),permutations(split_numbers,n+1))))\n",
    "\n",
    "    p_numbers = list(set(p_numbers)) # 가능한 수의 모든 조합(중복값처리)\n",
    "    answer = sum(map(is_prime, p_numbers))\n",
    "    \n",
    "    return answer"
   ]
  },
  {
   "cell_type": "markdown",
   "metadata": {},
   "source": [
    "문제 상황:\n",
    "- 주어진 수의 조합을 어떻게 만들것인가.\n",
    "    - itertools module의 permutations 함수를 이용하여"
   ]
  }
 ],
 "metadata": {
  "kernelspec": {
   "display_name": "Python 3",
   "language": "python",
   "name": "python3"
  },
  "language_info": {
   "codemirror_mode": {
    "name": "ipython",
    "version": 3
   },
   "file_extension": ".py",
   "mimetype": "text/x-python",
   "name": "python",
   "nbconvert_exporter": "python",
   "pygments_lexer": "ipython3",
   "version": "3.8.3"
  }
 },
 "nbformat": 4,
 "nbformat_minor": 4
}
