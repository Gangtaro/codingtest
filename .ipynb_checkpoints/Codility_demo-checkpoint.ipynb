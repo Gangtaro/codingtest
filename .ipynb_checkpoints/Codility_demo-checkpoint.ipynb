{
 "cells": [
  {
   "cell_type": "markdown",
   "metadata": {},
   "source": [
    "This is a demo task.\n",
    "\n",
    "Write a function:\n",
    "```python\n",
    "def solution(A)\n",
    "```\n",
    "that, given an array A of N integers, returns the smallest positive integer (greater than 0) that does not occur in A.\n",
    "\n",
    "For example, given A = [1, 3, 6, 4, 1, 2], the function should return 5.\n",
    "\n",
    "Given A = [1, 2, 3], the function should return 4.\n",
    "\n",
    "Given A = [−1, −3], the function should return 1.\n",
    "\n",
    "Write an efficient algorithm for the following assumptions:\n",
    "\n",
    "- N is an integer within the range [1..100,000];\n",
    "- each element of array A is an integer within the range [−1,000,000..1,000,000]."
   ]
  },
  {
   "cell_type": "code",
   "execution_count": 185,
   "metadata": {},
   "outputs": [],
   "source": [
    "# A에 나타난 수를 제외하고 가장 작은 양의 정수를 고르시도, \n",
    "\n",
    "## A중 가장 큰 것이 1 보다 작다 : return 1\n",
    "## else  :\n",
    "##   set(A) 와 비교"
   ]
  },
  {
   "cell_type": "code",
   "execution_count": 186,
   "metadata": {},
   "outputs": [],
   "source": [
    "A = [1, 3, 6, 4, 1, 2]"
   ]
  },
  {
   "cell_type": "code",
   "execution_count": 187,
   "metadata": {},
   "outputs": [
    {
     "name": "stdout",
     "output_type": "stream",
     "text": [
      "5\n"
     ]
    }
   ],
   "source": [
    "for i,a in enumerate(set(A)):\n",
    "    if i+1 != a  :\n",
    "        print(i+1)\n",
    "    "
   ]
  },
  {
   "cell_type": "code",
   "execution_count": 188,
   "metadata": {},
   "outputs": [],
   "source": [
    "def solution(A):\n",
    "    _max = max(A)\n",
    "    print(_max)\n",
    "    if _max < 1 :\n",
    "        return 1\n",
    "    else : \n",
    "        for i, a in enumerate(set(A)):\n",
    "            if i+1 !=a : \n",
    "                return i+1\n",
    "    return _max+1"
   ]
  },
  {
   "cell_type": "code",
   "execution_count": 189,
   "metadata": {},
   "outputs": [],
   "source": [
    "def solution(A):\n",
    "    _max = max(A)\n",
    "    if _max < 1 :\n",
    "        return 1\n",
    "    if len(set(A+[0]))-1 == _max : \n",
    "        return _max+1\n",
    "    diff_set = set(range(len(A))) - set(A+[0])\n",
    "    _min = min(diff_set)\n",
    "    return(_min)"
   ]
  },
  {
   "cell_type": "code",
   "execution_count": 190,
   "metadata": {},
   "outputs": [],
   "source": [
    "def solution(A):\n",
    "    setA = set(A)\n",
    "    _max = max(setA)\n",
    "    if _max < 1 :\n",
    "        return 1\n",
    "        #print(1)\n",
    "\n",
    "    posA = [i for i in setA if i > 0]\n",
    "    if len(posA+[0])-1 == _max : \n",
    "        return _max+1\n",
    "        #print(_max+1)\n",
    "    setB = set(range(_max+1))-set([0])\n",
    "    diff_set = setB - set(posA)\n",
    "    _min = min(diff_set)\n",
    "    return _min\n",
    "    #print(_min)\n",
    "\n",
    "\n"
   ]
  },
  {
   "cell_type": "code",
   "execution_count": 193,
   "metadata": {
    "scrolled": true
   },
   "outputs": [
    {
     "ename": "ValueError",
     "evalue": "min() arg is an empty sequence",
     "output_type": "error",
     "traceback": [
      "\u001b[0;31m---------------------------------------------------------------------------\u001b[0m",
      "\u001b[0;31mValueError\u001b[0m                                Traceback (most recent call last)",
      "\u001b[0;32m<ipython-input-193-6ba9db322bb3>\u001b[0m in \u001b[0;36m<module>\u001b[0;34m\u001b[0m\n\u001b[0;32m----> 1\u001b[0;31m \u001b[0msolution\u001b[0m\u001b[0;34m(\u001b[0m\u001b[0;34m[\u001b[0m\u001b[0;36m1\u001b[0m\u001b[0;34m,\u001b[0m\u001b[0;36m3\u001b[0m\u001b[0;34m]\u001b[0m\u001b[0;34m)\u001b[0m\u001b[0;34m\u001b[0m\u001b[0;34m\u001b[0m\u001b[0m\n\u001b[0m",
      "\u001b[0;32m<ipython-input-190-27518c960156>\u001b[0m in \u001b[0;36msolution\u001b[0;34m(A)\u001b[0m\n\u001b[1;32m     12\u001b[0m \u001b[0;34m\u001b[0m\u001b[0m\n\u001b[1;32m     13\u001b[0m     \u001b[0mdiff_set\u001b[0m \u001b[0;34m=\u001b[0m \u001b[0mset\u001b[0m\u001b[0;34m(\u001b[0m\u001b[0mrange\u001b[0m\u001b[0;34m(\u001b[0m\u001b[0mlen\u001b[0m\u001b[0;34m(\u001b[0m\u001b[0mA\u001b[0m\u001b[0;34m)\u001b[0m\u001b[0;34m)\u001b[0m\u001b[0;34m)\u001b[0m \u001b[0;34m-\u001b[0m \u001b[0mset\u001b[0m\u001b[0;34m(\u001b[0m\u001b[0mA\u001b[0m\u001b[0;34m+\u001b[0m\u001b[0;34m[\u001b[0m\u001b[0;36m0\u001b[0m\u001b[0;34m]\u001b[0m\u001b[0;34m)\u001b[0m\u001b[0;34m\u001b[0m\u001b[0;34m\u001b[0m\u001b[0m\n\u001b[0;32m---> 14\u001b[0;31m     \u001b[0m_min\u001b[0m \u001b[0;34m=\u001b[0m \u001b[0mmin\u001b[0m\u001b[0;34m(\u001b[0m\u001b[0mdiff_set\u001b[0m\u001b[0;34m)\u001b[0m\u001b[0;34m\u001b[0m\u001b[0;34m\u001b[0m\u001b[0m\n\u001b[0m\u001b[1;32m     15\u001b[0m     \u001b[0;32mreturn\u001b[0m \u001b[0m_min\u001b[0m\u001b[0;34m\u001b[0m\u001b[0;34m\u001b[0m\u001b[0m\n\u001b[1;32m     16\u001b[0m     \u001b[0;31m#print(_min)\u001b[0m\u001b[0;34m\u001b[0m\u001b[0;34m\u001b[0m\u001b[0;34m\u001b[0m\u001b[0m\n",
      "\u001b[0;31mValueError\u001b[0m: min() arg is an empty sequence"
     ]
    }
   ],
   "source": [
    "solution([1,3])"
   ]
  },
  {
   "cell_type": "code",
   "execution_count": 161,
   "metadata": {},
   "outputs": [
    {
     "data": {
      "text/plain": [
       "6"
      ]
     },
     "execution_count": 161,
     "metadata": {},
     "output_type": "execute_result"
    }
   ],
   "source": [
    "solution(A)"
   ]
  },
  {
   "cell_type": "code",
   "execution_count": 152,
   "metadata": {},
   "outputs": [
    {
     "name": "stdout",
     "output_type": "stream",
     "text": [
      "5\n"
     ]
    }
   ],
   "source": [
    "A = [1, 3, 6, 4, 1, 2]\n",
    "#A = [1,0,0,0,0,1,1,1,1,1,1]\n",
    "setA = set(A)\n",
    "# 음수밖에 없으면 1 값 반환\n",
    "if max(setA) < 1 :\n",
    "    print(1)\n",
    "# 0~양의 정수 값\n",
    "_max = max(setA)\n",
    "setB = set(range(_max+1))-set([0])\n",
    "#print(setB)\n",
    "#print(setA)\n",
    "diffs = setB - setA\n",
    "if diffs == set() :\n",
    "    print(_max+1)\n",
    "print(min(diffs))"
   ]
  },
  {
   "cell_type": "code",
   "execution_count": 154,
   "metadata": {},
   "outputs": [],
   "source": [
    "def solution(A):\n",
    "    setA = set(A)\n",
    "    # 음수밖에 없으면 1 값 반환\n",
    "    if max(setA) < 1 :\n",
    "        return 1\n",
    "    # 0~양의 정수 값\n",
    "    _max = max(setA)\n",
    "    setB = set(range(_max+1))-set([0])\n",
    "    #print(setB)\n",
    "    #print(setA)\n",
    "    diffs = setB - setA\n",
    "    if diffs == set() :\n",
    "        return _max+1\n",
    "    return min(diffs)\n"
   ]
  },
  {
   "cell_type": "markdown",
   "metadata": {},
   "source": [
    "A binary gap within a positive integer N is any maximal sequence of consecutive zeros that is surrounded by ones at both ends in the binary representation of N.\n",
    "\n",
    "For example, number 9 has binary representation 1001 and contains a binary gap of length 2. The number 529 has binary representation 1000010001 and contains two binary gaps: one of length 4 and one of length 3. The number 20 has binary representation 10100 and contains one binary gap of length 1. The number 15 has binary representation 1111 and has no binary gaps. The number 32 has binary representation 100000 and has no binary gaps.\n",
    "\n",
    "Write a function:\n",
    "```python\n",
    "def solution(N)\n",
    "```\n",
    "that, given a positive integer N, returns the length of its longest binary gap. The function should return 0 if N doesn't contain a binary gap.\n",
    "\n",
    "For example, given N = 1041 the function should return 5, because N has binary representation 10000010001 and so its longest binary gap is of length 5. Given N = 32 the function should return 0, because N has binary representation '100000' and thus no binary gaps.\n",
    "\n",
    "Write an efficient algorithm for the following assumptions:\n",
    "\n",
    "- N is an integer within the range [1..2,147,483,647].\n"
   ]
  },
  {
   "cell_type": "code",
   "execution_count": 29,
   "metadata": {},
   "outputs": [],
   "source": [
    "# 이진수로 만들기\n",
    "# 1과 1사이에 있는 0 개수 카운트하기\n",
    "# None => 0"
   ]
  },
  {
   "cell_type": "code",
   "execution_count": 31,
   "metadata": {},
   "outputs": [
    {
     "data": {
      "text/plain": [
       "1"
      ]
     },
     "execution_count": 31,
     "metadata": {},
     "output_type": "execute_result"
    }
   ],
   "source": [
    "# 이진수로 만들기\n",
    "25%2"
   ]
  },
  {
   "cell_type": "code",
   "execution_count": null,
   "metadata": {},
   "outputs": [],
   "source": []
  },
  {
   "cell_type": "code",
   "execution_count": 43,
   "metadata": {},
   "outputs": [
    {
     "name": "stdout",
     "output_type": "stream",
     "text": [
      "529\n",
      "264\n",
      "132\n",
      "66\n",
      "33\n",
      "16\n",
      "8\n",
      "4\n",
      "2\n"
     ]
    }
   ],
   "source": [
    "moks = 529\n",
    "namozz = []\n",
    "while moks != 1 :\n",
    "    namoz = moks%2\n",
    "    moks = moks//2\n",
    "    namozz.append(namoz)\n",
    "namozz.append(1)"
   ]
  },
  {
   "cell_type": "code",
   "execution_count": 46,
   "metadata": {},
   "outputs": [],
   "source": [
    "namozz.reverse()"
   ]
  },
  {
   "cell_type": "code",
   "execution_count": 47,
   "metadata": {},
   "outputs": [
    {
     "data": {
      "text/plain": [
       "[1, 0, 0, 0, 0, 1, 0, 0, 0, 1]"
      ]
     },
     "execution_count": 47,
     "metadata": {},
     "output_type": "execute_result"
    }
   ],
   "source": [
    "namozz"
   ]
  },
  {
   "cell_type": "code",
   "execution_count": 52,
   "metadata": {},
   "outputs": [],
   "source": [
    "def binary_rep(N):\n",
    "    result = []\n",
    "    while N != 1 :\n",
    "        rest = N%2\n",
    "        N     = N//2\n",
    "        result.append(rest)\n",
    "    result.append(1)\n",
    "    result.reverse()\n",
    "    return result\n",
    "    "
   ]
  },
  {
   "cell_type": "code",
   "execution_count": 54,
   "metadata": {},
   "outputs": [],
   "source": [
    "binary = binary_rep(1041)"
   ]
  },
  {
   "cell_type": "code",
   "execution_count": null,
   "metadata": {},
   "outputs": [],
   "source": [
    "# 1이 있는 위치들을 찾아내서 return"
   ]
  },
  {
   "cell_type": "code",
   "execution_count": 55,
   "metadata": {},
   "outputs": [
    {
     "data": {
      "text/plain": [
       "[1, 0, 0, 0, 0, 0, 1, 0, 0, 0, 1]"
      ]
     },
     "execution_count": 55,
     "metadata": {},
     "output_type": "execute_result"
    }
   ],
   "source": [
    "for i in binary : \n",
    "    if i == 1  :\n",
    "        count = 0\n",
    "        "
   ]
  },
  {
   "cell_type": "code",
   "execution_count": 63,
   "metadata": {},
   "outputs": [],
   "source": [
    "#binary.index(1)\n",
    "where_1 = []\n",
    "for i, digits in enumerate(binary):\n",
    "    if digits == 1:\n",
    "        where_1.append(i)"
   ]
  },
  {
   "cell_type": "code",
   "execution_count": 75,
   "metadata": {},
   "outputs": [
    {
     "name": "stdout",
     "output_type": "stream",
     "text": [
      "5\n"
     ]
    }
   ],
   "source": [
    "if len(where_1) == 1 : \n",
    "    print(0)\n",
    "else : \n",
    "    where_1 = np.array(where_1)\n",
    "    _max = max(where_1[1:]-where_1[:-1])\n",
    "    print(_max-1)\n",
    "\n",
    "\n",
    "\n"
   ]
  },
  {
   "cell_type": "code",
   "execution_count": 73,
   "metadata": {},
   "outputs": [
    {
     "data": {
      "text/plain": [
       "array([6, 4])"
      ]
     },
     "execution_count": 73,
     "metadata": {},
     "output_type": "execute_result"
    }
   ],
   "source": [
    "import numpy as np\n",
    "where_1 = np.array(where_1)\n",
    "where_1[1:]-where_1[:-1]"
   ]
  },
  {
   "cell_type": "code",
   "execution_count": 71,
   "metadata": {},
   "outputs": [
    {
     "data": {
      "text/plain": [
       "[6, 10]"
      ]
     },
     "execution_count": 71,
     "metadata": {},
     "output_type": "execute_result"
    }
   ],
   "source": [
    "where_1[1:]"
   ]
  },
  {
   "cell_type": "code",
   "execution_count": 72,
   "metadata": {},
   "outputs": [
    {
     "data": {
      "text/plain": [
       "[0, 6]"
      ]
     },
     "execution_count": 72,
     "metadata": {},
     "output_type": "execute_result"
    }
   ],
   "source": [
    "where_1[:-1]"
   ]
  },
  {
   "cell_type": "code",
   "execution_count": 87,
   "metadata": {},
   "outputs": [],
   "source": [
    "import numpy as np\n",
    "\n",
    "def solution(N):\n",
    "    def binary_rep(N):\n",
    "        result = []\n",
    "        while N != 1 :\n",
    "            rest = N%2\n",
    "            N     = N//2\n",
    "            result.append(rest)\n",
    "        result.append(1)\n",
    "        result.reverse()\n",
    "        return result\n",
    "    \n",
    "    result = binary_rep(N)\n",
    "    #print(result)\n",
    "    where_1 = []\n",
    "    for i, digits in enumerate(result):\n",
    "        if digits == 1:\n",
    "            where_1.append(i)\n",
    "    \n",
    "    #print(where_1)\n",
    "    if len(where_1) == 1 : \n",
    "        return 0\n",
    "    else : \n",
    "        where_1 = np.array(where_1)\n",
    "        _max = max(where_1[1:]-where_1[:-1])\n",
    "        return _max -1 \n",
    "            \n",
    "    \n",
    "    "
   ]
  },
  {
   "cell_type": "code",
   "execution_count": 92,
   "metadata": {},
   "outputs": [
    {
     "data": {
      "text/plain": [
       "3"
      ]
     },
     "execution_count": 92,
     "metadata": {},
     "output_type": "execute_result"
    }
   ],
   "source": [
    "solution(10000)"
   ]
  },
  {
   "cell_type": "code",
   "execution_count": 91,
   "metadata": {},
   "outputs": [],
   "source": [
    "def solution(N):\n",
    "    def binary_rep(N):\n",
    "        result = []\n",
    "        while N != 1 :\n",
    "            rest = N%2\n",
    "            N     = N//2\n",
    "            result.append(rest)\n",
    "        result.append(1)\n",
    "        result.reverse()\n",
    "        return result\n",
    "    \n",
    "    result = binary_rep(N)\n",
    "    where_1 = []\n",
    "    for i, digits in enumerate(result):\n",
    "        if digits == 1:\n",
    "            where_1.append(i)\n",
    "    \n",
    "    if len(where_1) == 1 : \n",
    "        return 0\n",
    "    else : \n",
    "        right, left = where_1[1:], where_1[:-1]\n",
    "        lengths = []\n",
    "        for i in range(len(right)):\n",
    "            lengths.append(right[i] - left[i]) \n",
    "        _max = max(lengths)\n",
    "        return _max -1 "
   ]
  },
  {
   "cell_type": "code",
   "execution_count": 89,
   "metadata": {},
   "outputs": [],
   "source": [
    "right, left = where_1[1:], where_1[:-1]\n",
    "lengths = []\n",
    "for i in range(len(right)):\n",
    "    lengths.append(right[i] - left[i])"
   ]
  },
  {
   "cell_type": "code",
   "execution_count": 90,
   "metadata": {},
   "outputs": [
    {
     "data": {
      "text/plain": [
       "[6, 4]"
      ]
     },
     "execution_count": 90,
     "metadata": {},
     "output_type": "execute_result"
    }
   ],
   "source": [
    "lengths"
   ]
  },
  {
   "cell_type": "markdown",
   "metadata": {},
   "source": [
    "An array A consisting of N integers is given. Rotation of the array means that each element is shifted right by one index, and the last element of the array is moved to the first place. For example, the rotation of array A = [3, 8, 9, 7, 6] is [6, 3, 8, 9, 7] (elements are shifted right by one index and 6 is moved to the first place).\n",
    "\n",
    "The goal is to rotate array A K times; that is, each element of A will be shifted to the right K times.\n",
    "\n",
    "Write a function:\n",
    "```python\n",
    "def solution(A, K)\n",
    "```\n",
    "that, given an array A consisting of N integers and an integer K, returns the array A rotated K times.\n",
    "\n",
    "For example, given\n",
    "\n",
    "    A = [3, 8, 9, 7, 6]\n",
    "    K = 3\n",
    "the function should return [9, 7, 6, 3, 8]. Three rotations were made:\n",
    "\n",
    "    [3, 8, 9, 7, 6] -> [6, 3, 8, 9, 7]\n",
    "    [6, 3, 8, 9, 7] -> [7, 6, 3, 8, 9]\n",
    "    [7, 6, 3, 8, 9] -> [9, 7, 6, 3, 8]\n",
    "For another example, given\n",
    "\n",
    "    A = [0, 0, 0]\n",
    "    K = 1\n",
    "the function should return [0, 0, 0]\n",
    "\n",
    "Given\n",
    "\n",
    "    A = [1, 2, 3, 4]\n",
    "    K = 4\n",
    "the function should return [1, 2, 3, 4]\n",
    "\n",
    "Assume that:\n",
    "\n",
    "- N and K are integers within the range [0..100];\n",
    "- each element of array A is an integer within the range [−1,000..1,000].  \n",
    "\n",
    "In your solution, focus on correctness. The performance of your solution will not be the focus of the assessment"
   ]
  },
  {
   "cell_type": "code",
   "execution_count": 194,
   "metadata": {},
   "outputs": [],
   "source": [
    "A = [3, 8, 9, 7, 6]\n",
    "K = 8"
   ]
  },
  {
   "cell_type": "code",
   "execution_count": 198,
   "metadata": {},
   "outputs": [
    {
     "data": {
      "text/plain": [
       "[9, 7, 6, 3, 8]"
      ]
     },
     "execution_count": 198,
     "metadata": {},
     "output_type": "execute_result"
    }
   ],
   "source": [
    "K = K % len(A)\n",
    "A[-K:] + A[:len(A)-K]"
   ]
  },
  {
   "cell_type": "code",
   "execution_count": 202,
   "metadata": {},
   "outputs": [],
   "source": [
    "def solution(A, K):\n",
    "    if A == [] : \n",
    "        return []\n",
    "    K = K % len(A)\n",
    "    if K == 0 :\n",
    "        return A\n",
    "    return A[-K:] + A[:len(A)-K]"
   ]
  },
  {
   "cell_type": "code",
   "execution_count": 203,
   "metadata": {},
   "outputs": [
    {
     "data": {
      "text/plain": [
       "[]"
      ]
     },
     "execution_count": 203,
     "metadata": {},
     "output_type": "execute_result"
    }
   ],
   "source": [
    "solution([],1)"
   ]
  },
  {
   "cell_type": "markdown",
   "metadata": {},
   "source": [
    "A non-empty array A consisting of N integers is given. The array contains an odd number of elements, and each element of the array can be paired with another element that has the same value, except for one element that is left unpaired.\n",
    "\n",
    "For example, in array A such that:\n",
    "  \n",
    "  A[0] = 9,  A[1] = 3,  A[2] = 9,  \n",
    "  A[3] = 3,  A[4] = 9,  A[5] = 7,  \n",
    "  A[6] = 9  \n",
    "  \n",
    "- the elements at indexes 0 and 2 have value 9,\n",
    "- the elements at indexes 1 and 3 have value 3,\n",
    "- the elements at indexes 4 and 6 have value 9,\n",
    "- the element at index 5 has value 7 and is unpaired.\n",
    "Write a function:\n",
    "```python\n",
    "def solution(A)\n",
    "```\n",
    "that, given an array A consisting of N integers fulfilling the above conditions, returns the value of the unpaired element.\n",
    "\n",
    "For example, given array A such that:\n",
    "  \n",
    "  A[0] = 9  A[1] = 3  A[2] = 9  \n",
    "  A[3] = 3  A[4] = 9  A[5] = 7  \n",
    "  A[6] = 9  \n",
    "  \n",
    "the function should return 7, as explained in the example above.\n",
    "\n",
    "Write an efficient algorithm for the following assumptions:\n",
    "\n",
    "- N is an odd integer within the range [1..1,000,000];\n",
    "- each element of array A is an integer within the range [1..1,000,000,000];\n",
    "- all but one of the values in A occur an even number of times.\n"
   ]
  },
  {
   "cell_type": "code",
   "execution_count": 231,
   "metadata": {},
   "outputs": [],
   "source": [
    "def solution(A) : \n",
    "    pass"
   ]
  },
  {
   "cell_type": "code",
   "execution_count": 237,
   "metadata": {},
   "outputs": [
    {
     "name": "stdout",
     "output_type": "stream",
     "text": [
      "[9, 3, 7]\n",
      "7\n"
     ]
    }
   ],
   "source": [
    "A = [9, 3, 9, 3, 9, 7, 9]\n",
    "\n",
    "unique_value = list(set(A))\n",
    "print(unique_value)\n",
    "\n",
    "for i in unique_value : \n",
    "    #print(i)\n",
    "    if A.count(i)%2 == 1 : \n",
    "        print(i)"
   ]
  },
  {
   "cell_type": "code",
   "execution_count": 238,
   "metadata": {},
   "outputs": [],
   "source": [
    "def solution(A) : \n",
    "    unique_vlaue = list(set(A))\n",
    "    for i in unique_value : \n",
    "        if A.count(i)%2 == 1 : \n",
    "            return i"
   ]
  },
  {
   "cell_type": "code",
   "execution_count": 241,
   "metadata": {},
   "outputs": [
    {
     "name": "stdout",
     "output_type": "stream",
     "text": [
      "[7, 9, 9, 9, 9]\n",
      "7\n",
      "[9]\n"
     ]
    }
   ],
   "source": [
    "A = sorted(A)\n",
    "for i in sorted(unique_value):\n",
    "    counts = A.count(i)\n",
    "    if counts%2 == 0 :\n",
    "        A = A[counts:]\n",
    "        print(A)\n",
    "    else :\n",
    "        print(i)"
   ]
  },
  {
   "cell_type": "code",
   "execution_count": 242,
   "metadata": {},
   "outputs": [],
   "source": [
    "A.sort()"
   ]
  },
  {
   "cell_type": "code",
   "execution_count": 250,
   "metadata": {},
   "outputs": [],
   "source": [
    "def solution(A) : \n",
    "    A = sorted(A)\n",
    "    unique_value = list(set(A))\n",
    "    for i in sorted(unique_value):\n",
    "        counts = A.count(i)\n",
    "        if counts%2 == 0 :\n",
    "            A = A[counts:] \n",
    "        else :\n",
    "            return i\n",
    "\n"
   ]
  },
  {
   "cell_type": "code",
   "execution_count": 256,
   "metadata": {},
   "outputs": [
    {
     "name": "stdout",
     "output_type": "stream",
     "text": [
      "[3, 3, 7, 9, 9, 9, 9]\n"
     ]
    },
    {
     "data": {
      "text/plain": [
       "7"
      ]
     },
     "execution_count": 256,
     "metadata": {},
     "output_type": "execute_result"
    }
   ],
   "source": [
    "A = [9, 3, 9, 3, 9, 7, 9]\n",
    "solution(A)"
   ]
  },
  {
   "cell_type": "code",
   "execution_count": 255,
   "metadata": {},
   "outputs": [],
   "source": [
    "def solution(A) : \n",
    "\n",
    "    if len(A) == 1 : \n",
    "        print(A[0])\n",
    "\n",
    "    A = sorted(A)\n",
    "    print(A)\n",
    "    for i in range(0, len(A), 2):\n",
    "        if i == len(A)-1 : \n",
    "            return A[i]\n",
    "        if A[i] != A[1+i] : \n",
    "            return A[i]\n"
   ]
  },
  {
   "cell_type": "code",
   "execution_count": 261,
   "metadata": {},
   "outputs": [
    {
     "data": {
      "text/plain": [
       "13"
      ]
     },
     "execution_count": 261,
     "metadata": {},
     "output_type": "execute_result"
    }
   ],
   "source": [
    "10^7"
   ]
  },
  {
   "cell_type": "markdown",
   "metadata": {},
   "source": [
    "A small frog wants to get to the other side of the road. The frog is currently located at position X and wants to get to a position greater than or equal to Y. The small frog always jumps a fixed distance, D.\n",
    "\n",
    "Count the minimal number of jumps that the small frog must perform to reach its target.\n",
    "\n",
    "Write a function:\n",
    "```python\n",
    "def solution(X, Y, D)\n",
    "```\n",
    "that, given three integers X, Y and D, returns the minimal number of jumps from position X to a position equal to or greater than Y.\n",
    "\n",
    "For example, given:\n",
    "  \n",
    "  X = 10  \n",
    "  Y = 85  \n",
    "  D = 30  \n",
    "  \n",
    "the function should return 3, because the frog will be positioned as follows:\n",
    "\n",
    "after the first jump, at position 10 + 30 = 40\n",
    "after the second jump, at position 10 + 30 + 30 = 70\n",
    "after the third jump, at position 10 + 30 + 30 + 30 = 100\n",
    "Write an efficient algorithm for the following assumptions:\n",
    "\n",
    "- X, Y and D are integers within the range [1..1,000,000,000];\n",
    "- X ≤ Y.\n"
   ]
  },
  {
   "cell_type": "code",
   "execution_count": 265,
   "metadata": {},
   "outputs": [],
   "source": [
    "X = 10\n",
    "Y = 85\n",
    "D = 30"
   ]
  },
  {
   "cell_type": "code",
   "execution_count": 263,
   "metadata": {
    "collapsed": true
   },
   "outputs": [
    {
     "ename": "SyntaxError",
     "evalue": "'return' outside function (<ipython-input-263-573cbfc7058b>, line 3)",
     "output_type": "error",
     "traceback": [
      "\u001b[0;36m  File \u001b[0;32m\"<ipython-input-263-573cbfc7058b>\"\u001b[0;36m, line \u001b[0;32m3\u001b[0m\n\u001b[0;31m    return 1\u001b[0m\n\u001b[0m    ^\u001b[0m\n\u001b[0;31mSyntaxError\u001b[0m\u001b[0;31m:\u001b[0m 'return' outside function\n"
     ]
    }
   ],
   "source": [
    "distance = Y - X\n",
    "if distance == 0 : \n",
    "    return 1\n",
    "\n",
    "return distance//D + 1"
   ]
  },
  {
   "cell_type": "code",
   "execution_count": 264,
   "metadata": {},
   "outputs": [],
   "source": [
    "def solution(X, Y, D):\n",
    "    distance = Y - X\n",
    "    if distance%D == 0 : \n",
    "        return distance//D\n",
    "    return distance//D + 1"
   ]
  },
  {
   "cell_type": "code",
   "execution_count": 266,
   "metadata": {},
   "outputs": [
    {
     "data": {
      "text/plain": [
       "3"
      ]
     },
     "execution_count": 266,
     "metadata": {},
     "output_type": "execute_result"
    }
   ],
   "source": [
    "solution(X, Y, D)"
   ]
  },
  {
   "cell_type": "markdown",
   "metadata": {},
   "source": [
    "An array A consisting of N different integers is given. The array contains integers in the range [1..(N + 1)], which means that exactly one element is missing.\n",
    "\n",
    "Your goal is to find that missing element.\n",
    "\n",
    "Write a function:\n",
    "```python\n",
    "def solution(A)\n",
    "```\n",
    "that, given an array A, returns the value of the missing element.\n",
    "\n",
    "For example, given array A such that:\n",
    "  \n",
    "  A[0] = 2  \n",
    "  A[1] = 3  \n",
    "  A[2] = 1  \n",
    "  A[3] = 5  \n",
    "the function should return 4, as it is the missing element.\n",
    "\n",
    "Write an efficient algorithm for the following assumptions:\n",
    "  \n",
    "- N is an integer within the range [0..100,000];\n",
    "- the elements of A are all distinct;\n",
    "- each element of array A is an integer within the range [1..(N + 1)].\n"
   ]
  },
  {
   "cell_type": "code",
   "execution_count": 269,
   "metadata": {},
   "outputs": [],
   "source": [
    "# Array A는 N (0~10만)개의 서로다른 정수를 가지고 있다. 그리고 딱 하나의 정수를 뺀 값을 찾고 잇다. 1과 N+1 사이에 빠진 수를 찾아라\n",
    "\n",
    "## (1) 이진 탐색\n",
    "\n",
    "### 매 라운드 절 반씩 분할해서 찾아가자\n",
    "\n",
    "\n",
    "## (2) \n"
   ]
  },
  {
   "cell_type": "code",
   "execution_count": 285,
   "metadata": {},
   "outputs": [
    {
     "name": "stdout",
     "output_type": "stream",
     "text": [
      "[6, 7, 9, 10, 11]\n",
      "5 6\n",
      "[1, 2, 3, 4, 5]\n",
      "5 5\n"
     ]
    },
    {
     "data": {
      "text/plain": [
       "[6, 7, 9, 10, 11]"
      ]
     },
     "execution_count": 285,
     "metadata": {},
     "output_type": "execute_result"
    }
   ],
   "source": [
    "# 이진 탐색\n",
    "A = [2,3,1,5]\n",
    "A = [1,2,3,4,5,6,7,9,10,11]\n",
    "A = sorted(A)\n",
    "\n",
    "N = len(A)\n",
    "# 초기 N은 2이상 일때부터 해당된다. if N\n",
    "split = N//2\n",
    "\n",
    "right =A[split:]\n",
    "left = A[:split]\n",
    "\n",
    "print(right)\n",
    "print(len(right), right[-1]-right[0]+1)\n",
    "print(left)\n",
    "\n",
    "print(len(left), left[-1]-left[0]+1)\n",
    "\n",
    "A = right \n",
    "A"
   ]
  },
  {
   "cell_type": "code",
   "execution_count": 286,
   "metadata": {},
   "outputs": [
    {
     "name": "stdout",
     "output_type": "stream",
     "text": [
      "[9, 10, 11]\n",
      "3 3\n",
      "[6, 7]\n",
      "2 2\n"
     ]
    },
    {
     "data": {
      "text/plain": [
       "[9, 10, 11]"
      ]
     },
     "execution_count": 286,
     "metadata": {},
     "output_type": "execute_result"
    }
   ],
   "source": [
    "N = len(A)\n",
    "# 초기 N은 2이상 일때부터 해당된다. if N\n",
    "split = N//2\n",
    "\n",
    "right =A[split:]\n",
    "left = A[:split]\n",
    "\n",
    "print(right)\n",
    "print(len(right), right[-1]-right[0]+1)\n",
    "print(left)\n",
    "\n",
    "print(len(left), left[-1]-left[0]+1)\n",
    "# 이렇게 된 경우는 A[split]이 정답.\n",
    "A = right \n",
    "A\n"
   ]
  },
  {
   "cell_type": "code",
   "execution_count": 293,
   "metadata": {},
   "outputs": [
    {
     "name": "stdout",
     "output_type": "stream",
     "text": [
      "[7, 8, 9, 10, 11]\n",
      "5 5\n",
      "[1, 2, 3, 4, 6]\n",
      "5 6\n"
     ]
    },
    {
     "data": {
      "text/plain": [
       "[1, 2, 3, 4, 6]"
      ]
     },
     "execution_count": 293,
     "metadata": {},
     "output_type": "execute_result"
    }
   ],
   "source": [
    "A = [1,2,3,4,6,7,8,9,10,11]\n",
    "A = sorted(A)\n",
    "\n",
    "N = len(A)\n",
    "# 초기 N은 2이상 일때부터 해당된다. if N\n",
    "split = N//2\n",
    "\n",
    "right =A[split:]\n",
    "left = A[:split]\n",
    "\n",
    "print(right)\n",
    "print(len(right), right[-1]-right[0]+1)\n",
    "print(left)\n",
    "\n",
    "print(len(left), left[-1]-left[0]+1)\n",
    "\n",
    "A = left \n",
    "A"
   ]
  },
  {
   "cell_type": "code",
   "execution_count": 294,
   "metadata": {},
   "outputs": [
    {
     "name": "stdout",
     "output_type": "stream",
     "text": [
      "[3, 4, 6]\n",
      "3 4\n",
      "[1, 2]\n",
      "2 2\n"
     ]
    },
    {
     "data": {
      "text/plain": [
       "[3, 4, 6]"
      ]
     },
     "execution_count": 294,
     "metadata": {},
     "output_type": "execute_result"
    }
   ],
   "source": [
    "N = len(A)\n",
    "# 초기 N은 2이상 일때부터 해당된다. if N\n",
    "split = N//2\n",
    "\n",
    "right =A[split:]\n",
    "left = A[:split]\n",
    "\n",
    "print(right)\n",
    "print(len(right), right[-1]-right[0]+1)\n",
    "print(left)\n",
    "\n",
    "print(len(left), left[-1]-left[0]+1)\n",
    "\n",
    "A = right \n",
    "A"
   ]
  },
  {
   "cell_type": "code",
   "execution_count": 295,
   "metadata": {},
   "outputs": [
    {
     "name": "stdout",
     "output_type": "stream",
     "text": [
      "[4, 6]\n",
      "2 3\n",
      "[3]\n",
      "1 1\n"
     ]
    }
   ],
   "source": [
    "N = len(A)\n",
    "# 초기 N은 2이상 일때부터 해당된다. if N\n",
    "split = N//2\n",
    "\n",
    "right =A[split:]\n",
    "left = A[:split]\n",
    "\n",
    "print(right)\n",
    "print(len(right), right[-1]-right[0]+1)\n",
    "print(left)\n",
    "\n",
    "print(len(left), left[-1]-left[0]+1)\n",
    "\n",
    "## 2개 엔딩이면 "
   ]
  },
  {
   "cell_type": "code",
   "execution_count": 296,
   "metadata": {},
   "outputs": [],
   "source": [
    "A = sorted(A)\n",
    "while N == 2 : \n",
    "    N = len(A)"
   ]
  },
  {
   "cell_type": "code",
   "execution_count": 315,
   "metadata": {},
   "outputs": [
    {
     "name": "stdout",
     "output_type": "stream",
     "text": [
      "[6, 7, 9, 10, 11]\n",
      "8\n"
     ]
    }
   ],
   "source": [
    "A = [1,2,3,4,6,7,8,9,10,11]\n",
    "A = [1,2,3,4,5,6,7,9,10,11]\n",
    "\n",
    "A = sorted(A)\n",
    "while 1: \n",
    "    N = len(A)\n",
    "    split = N//2\n",
    "    \n",
    "    right =A[split:]\n",
    "    left = A[:split]\n",
    "    \n",
    "    if len(right) != right[-1]-right[0]+1 :\n",
    "        A = right\n",
    "    elif len(left) != left[-1]-left[0]+1  : \n",
    "        A = left\n",
    "    else : \n",
    "        answer = A[split]-1\n",
    "        break\n",
    "    \n",
    "    print(A)\n",
    "    if len(A) <= 2 : \n",
    "        answer = A[0]+1\n",
    "        break\n",
    "print(answer)"
   ]
  },
  {
   "cell_type": "code",
   "execution_count": 352,
   "metadata": {},
   "outputs": [],
   "source": [
    "def solution(A):\n",
    "    if A == [] : \n",
    "        return 1\n",
    "    if A == [1]:\n",
    "        return 2\n",
    "    A = sorted(A)\n",
    "\n",
    "    if A[0] != 1 : \n",
    "        return 1\n",
    "    if A[-1] == len(A):\n",
    "        return len(A)+1\n",
    "    \n",
    "    while 1: \n",
    "        N = len(A)\n",
    "        split = N//2\n",
    "\n",
    "        right =A[split:]\n",
    "        left = A[:split]\n",
    "\n",
    "        if len(right) != right[-1]-right[0]+1 :\n",
    "            A = right\n",
    "        elif len(left) != left[-1]-left[0]+1  : \n",
    "            A = left\n",
    "        else : \n",
    "            answer = A[split]-1\n",
    "            break\n",
    "\n",
    "        #print(A)\n",
    "        if len(A) <= 2 : \n",
    "            answer = A[0]+1\n",
    "            break\n",
    "    return answer"
   ]
  },
  {
   "cell_type": "code",
   "execution_count": 355,
   "metadata": {},
   "outputs": [
    {
     "name": "stdout",
     "output_type": "stream",
     "text": [
      "[] : 1\n",
      "[1] : 2\n",
      "[2] : 1\n",
      "[1, 2] : 3\n",
      "[1, 2, 3] : 4\n",
      "[2, 3, 4, 5] : 1\n"
     ]
    }
   ],
   "source": [
    "# 이거의 답을 맞춰야한다.\n",
    "for lst in [[], [1], [2], [1,2], [1,2,3], [2,3,4,5]]:\n",
    "    print(lst, ':', solution(lst))"
   ]
  },
  {
   "cell_type": "code",
   "execution_count": 318,
   "metadata": {},
   "outputs": [],
   "source": [
    "A = [1,2,3,4,6,7,8,9,10,11]\n",
    "A = [1,2,3,4,5,6,7,9,10,11]"
   ]
  },
  {
   "cell_type": "code",
   "execution_count": 340,
   "metadata": {},
   "outputs": [
    {
     "data": {
      "text/plain": [
       "2"
      ]
     },
     "execution_count": 340,
     "metadata": {},
     "output_type": "execute_result"
    }
   ],
   "source": [
    "solution([1,2,3,4,5])"
   ]
  },
  {
   "cell_type": "code",
   "execution_count": 323,
   "metadata": {},
   "outputs": [],
   "source": [
    "rgs = list(range(1,11))\n",
    "examples = []\n",
    "\n",
    "for i in list(range(1,11)):\n",
    "    if i == 1 or i == 10 : \n",
    "        continue\n",
    "    example = rgs.copy()\n",
    "    example.remove(i)\n",
    "    examples.append(example)"
   ]
  },
  {
   "cell_type": "code",
   "execution_count": 324,
   "metadata": {},
   "outputs": [
    {
     "data": {
      "text/plain": [
       "[[1, 3, 4, 5, 6, 7, 8, 9, 10],\n",
       " [1, 2, 4, 5, 6, 7, 8, 9, 10],\n",
       " [1, 2, 3, 5, 6, 7, 8, 9, 10],\n",
       " [1, 2, 3, 4, 6, 7, 8, 9, 10],\n",
       " [1, 2, 3, 4, 5, 7, 8, 9, 10],\n",
       " [1, 2, 3, 4, 5, 6, 8, 9, 10],\n",
       " [1, 2, 3, 4, 5, 6, 7, 9, 10],\n",
       " [1, 2, 3, 4, 5, 6, 7, 8, 10]]"
      ]
     },
     "execution_count": 324,
     "metadata": {},
     "output_type": "execute_result"
    }
   ],
   "source": [
    "examples"
   ]
  },
  {
   "cell_type": "code",
   "execution_count": 325,
   "metadata": {},
   "outputs": [
    {
     "name": "stdout",
     "output_type": "stream",
     "text": [
      "2\n",
      "3\n",
      "4\n",
      "5\n",
      "6\n",
      "7\n",
      "8\n",
      "9\n"
     ]
    }
   ],
   "source": [
    "for i in examples : \n",
    "    print(solution(i))"
   ]
  },
  {
   "cell_type": "markdown",
   "metadata": {},
   "source": [
    "A non-empty array A consisting of N integers is given. Array A represents numbers on a tape.\n",
    "\n",
    "Any integer P, such that 0 < P < N, splits this tape into two non-empty parts: A[0], A[1], ..., A[P − 1] and A[P], A[P + 1], ..., A[N − 1].\n",
    "\n",
    "The difference between the two parts is the value of: |(A[0] + A[1] + ... + A[P − 1]) − (A[P] + A[P + 1] + ... + A[N − 1])|\n",
    "\n",
    "In other words, it is the absolute difference between the sum of the first part and the sum of the second part.\n",
    "\n",
    "For example, consider array A such that:\n",
    "  \n",
    "  A[0] = 3  \n",
    "  A[1] = 1  \n",
    "  A[2] = 2  \n",
    "  A[3] = 4  \n",
    "  A[4] = 3  \n",
    "  \n",
    "We can split this tape in four places:\n",
    "\n",
    "P = 1, difference = |3 − 10| = 7\n",
    "P = 2, difference = |4 − 9| = 5\n",
    "P = 3, difference = |6 − 7| = 1\n",
    "P = 4, difference = |10 − 3| = 7\n",
    "Write a function:\n",
    "```python\n",
    "def solution(A)\n",
    "```\n",
    "that, given a non-empty array A of N integers, returns the minimal difference that can be achieved.\n",
    "\n",
    "For example, given:\n",
    "  \n",
    "  A[0] = 3  \n",
    "  A[1] = 1  \n",
    "  A[2] = 2  \n",
    "  A[3] = 4  \n",
    "  A[4] = 3  \n",
    "  \n",
    "the function should return 1, as explained above.\n",
    "\n",
    "Write an efficient algorithm for the following assumptions:\n",
    "\n",
    "- N is an integer within the range [2..100,000];\n",
    "- each element of array A is an integer within the range [−1,000..1,000].\n"
   ]
  },
  {
   "cell_type": "code",
   "execution_count": null,
   "metadata": {},
   "outputs": [],
   "source": [
    "# ############# 배운점!! ################\n",
    "# for 문 안에 list 전체의 sum이 있는 경우 해당 소요시간이 N이라 생각하며 된다. "
   ]
  },
  {
   "cell_type": "code",
   "execution_count": 356,
   "metadata": {},
   "outputs": [],
   "source": [
    "# A에는  N개의 정수가 주어진다. "
   ]
  },
  {
   "cell_type": "code",
   "execution_count": 357,
   "metadata": {},
   "outputs": [],
   "source": [
    "A = [3, 1, 2, 4, 3]"
   ]
  },
  {
   "cell_type": "code",
   "execution_count": 358,
   "metadata": {},
   "outputs": [],
   "source": [
    "P = 1"
   ]
  },
  {
   "cell_type": "code",
   "execution_count": 362,
   "metadata": {},
   "outputs": [
    {
     "data": {
      "text/plain": [
       "[3]"
      ]
     },
     "execution_count": 362,
     "metadata": {},
     "output_type": "execute_result"
    }
   ],
   "source": [
    "A[:P]"
   ]
  },
  {
   "cell_type": "code",
   "execution_count": 364,
   "metadata": {},
   "outputs": [
    {
     "data": {
      "text/plain": [
       "10"
      ]
     },
     "execution_count": 364,
     "metadata": {},
     "output_type": "execute_result"
    }
   ],
   "source": [
    "(A[P:])"
   ]
  },
  {
   "cell_type": "code",
   "execution_count": 366,
   "metadata": {},
   "outputs": [],
   "source": [
    "def solution(A):\n",
    "    results = []\n",
    "    for P in range(1, len(A)):\n",
    "        results.append(abs(sum(A[:P]) - sum(A[P:])) )\n",
    "        result = min(results)\n",
    "    return result"
   ]
  },
  {
   "cell_type": "code",
   "execution_count": 379,
   "metadata": {},
   "outputs": [
    {
     "data": {
      "text/plain": [
       "1"
      ]
     },
     "execution_count": 379,
     "metadata": {},
     "output_type": "execute_result"
    }
   ],
   "source": [
    "solution(A)"
   ]
  },
  {
   "cell_type": "code",
   "execution_count": 374,
   "metadata": {},
   "outputs": [],
   "source": [
    "def solution(A):\n",
    "    if A == []:\n",
    "        return 0\n",
    "    if len(A) == 1 : \n",
    "        return A[0]\n",
    "    \n",
    "    results = []\n",
    "    for P in range(1, len(A)):\n",
    "        results.append(abs(sum(A[:P]) - sum(A[P:])) )\n",
    "    result = min(results)\n",
    "    return result"
   ]
  },
  {
   "cell_type": "code",
   "execution_count": 398,
   "metadata": {},
   "outputs": [],
   "source": [
    "def solution(A):\n",
    "    print(A)\n",
    "    if A == []:\n",
    "        return 0\n",
    "    if len(A) == 1 : \n",
    "        return A[0]\n",
    "\n",
    "    left_sum = 0\n",
    "    right_sum = sum(A)\n",
    "    _min = 999999999999\n",
    "\n",
    "    for i in range(len(A)-1):\n",
    "        left_sum += A[i]\n",
    "        right_sum -= A[i]\n",
    "        print(left_sum,right_sum, A[i])\n",
    "\n",
    "        if _min > abs(left_sum - right_sum) :\n",
    "            _min = abs(left_sum - right_sum)\n",
    "            \n",
    "            if _min == 0  :\n",
    "                break\n",
    "            \n",
    "    return _min"
   ]
  },
  {
   "cell_type": "code",
   "execution_count": 405,
   "metadata": {
    "scrolled": true
   },
   "outputs": [
    {
     "name": "stdout",
     "output_type": "stream",
     "text": [
      "[1, -2, 3, 34, 5, -56, 6, 76, 7, 78]\n",
      "1 151 1\n",
      "-1 153 -2\n",
      "2 150 3\n",
      "36 116 34\n",
      "41 111 5\n",
      "-15 167 -56\n",
      "-9 161 6\n",
      "67 85 76\n",
      "74 78 7\n"
     ]
    },
    {
     "data": {
      "text/plain": [
       "4"
      ]
     },
     "execution_count": 405,
     "metadata": {},
     "output_type": "execute_result"
    }
   ],
   "source": [
    "solution([1,-2,3,34,5,-56,6,76,7,78])"
   ]
  },
  {
   "cell_type": "code",
   "execution_count": 397,
   "metadata": {
    "scrolled": true
   },
   "outputs": [
    {
     "name": "stdout",
     "output_type": "stream",
     "text": [
      "3 10 3\n",
      "4 9 1\n",
      "6 7 2\n",
      "10 3 4\n"
     ]
    },
    {
     "data": {
      "text/plain": [
       "1"
      ]
     },
     "execution_count": 397,
     "metadata": {},
     "output_type": "execute_result"
    }
   ],
   "source": [
    "solution(A)\n"
   ]
  },
  {
   "cell_type": "markdown",
   "metadata": {},
   "source": [
    "A small frog wants to get to the other side of a river. The frog is initially located on one bank of the river (position 0) and wants to get to the opposite bank (position X+1). Leaves fall from a tree onto the surface of the river.\n",
    "\n",
    "You are given an array A consisting of N integers representing the falling leaves. A[K] represents the position where one leaf falls at time K, measured in seconds.\n",
    "\n",
    "The goal is to find the earliest time when the frog can jump to the other side of the river. The frog can cross only when leaves appear at every position across the river from 1 to X (that is, we want to find the earliest moment when all the positions from 1 to X are covered by leaves). You may assume that the speed of the current in the river is negligibly small, i.e. the leaves do not change their positions once they fall in the river.\n",
    "\n",
    "For example, you are given integer X = 5 and array A such that:  \n",
    "  \n",
    "  A[0] = 1  \n",
    "  A[1] = 3  \n",
    "  A[2] = 1  \n",
    "  A[3] = 4  \n",
    "  A[4] = 2  \n",
    "  A[5] = 3  \n",
    "  A[6] = 5  \n",
    "  A[7] = 4  \n",
    "  \n",
    "In second 6, a leaf falls into position 5. This is the earliest time when leaves appear in every position across the river.\n",
    "\n",
    "Write a function:\n",
    "```python\n",
    "def solution(X, A)\n",
    "```\n",
    "that, given a non-empty array A consisting of N integers and integer X, returns the earliest time when the frog can jump to the other side of the river.  \n",
    "  \n",
    "If the frog is never able to jump to the other side of the river, the function should return −1.  \n",
    "  \n",
    "For example, given X = 5 and array A such that:  \n",
    "\n",
    "  A[0] = 1  \n",
    "  A[1] = 3   \n",
    "  A[2] = 1   \n",
    "  A[3] = 4   \n",
    "  A[4] = 2   \n",
    "  A[5] = 3   \n",
    "  A[6] = 5   \n",
    "  A[7] = 4   \n",
    "  \n",
    "the function should return 6, as explained above.  \n",
    "  \n",
    "Write an efficient algorithm for the following assumptions:  \n",
    "  \n",
    "- N and X are integers within the range [1..100,000];\n",
    "- each element of array A is an integer within the range [1..X].\n"
   ]
  },
  {
   "cell_type": "code",
   "execution_count": 406,
   "metadata": {},
   "outputs": [],
   "source": [
    "# 1 부터 X 수까지의 수가 차례대로 있는거는 A의 몇 번째 원소냐 ? (index)"
   ]
  },
  {
   "cell_type": "code",
   "execution_count": 463,
   "metadata": {},
   "outputs": [],
   "source": [
    "A = [1,3,1,4,2,3,5,4]\n",
    "# X가 등장하는 원소를 다 찾아라\n",
    "# 그게 1~X를 다 포함하면 Stop\n",
    "# 다 포함하지 못하면 Next X까지의 모든 수 test 반복, "
   ]
  },
  {
   "cell_type": "code",
   "execution_count": 464,
   "metadata": {},
   "outputs": [
    {
     "name": "stdout",
     "output_type": "stream",
     "text": [
      "[1, 3, 1, 4, 2, 3, 5]\n"
     ]
    },
    {
     "data": {
      "text/plain": [
       "True"
      ]
     },
     "execution_count": 464,
     "metadata": {},
     "output_type": "execute_result"
    }
   ],
   "source": [
    "pre_set = {}\n",
    "X = 5\n",
    "candidate = A.index(X)\n",
    "print(A[:candidate+1])\n",
    "list(set(A[:candidate+1])) == list(range(1,X+1)) #: 이게 맞으면 Stop 하고 candidate return\n",
    "\n"
   ]
  },
  {
   "cell_type": "code",
   "execution_count": 435,
   "metadata": {},
   "outputs": [
    {
     "name": "stdout",
     "output_type": "stream",
     "text": [
      "[1, 3, 1, 6]\n"
     ]
    },
    {
     "data": {
      "text/plain": [
       "False"
      ]
     },
     "execution_count": 435,
     "metadata": {},
     "output_type": "execute_result"
    }
   ],
   "source": [
    "A = [1,3,1,6,4,2,3,5,4,2,3,5,6,10,17,14,4,6,8,3,2,1,3,4,6,8,7]\n",
    "X = 6\n",
    "candidate = A.index(X)\n",
    "print(A[:candidate+1])\n",
    "set(A[:candidate+1]) == set(range(1,X+1)) #: 이게 맞으면 Stop 하고 candidate return"
   ]
  },
  {
   "cell_type": "code",
   "execution_count": 441,
   "metadata": {},
   "outputs": [
    {
     "data": {
      "text/plain": [
       "3"
      ]
     },
     "execution_count": 441,
     "metadata": {},
     "output_type": "execute_result"
    }
   ],
   "source": [
    "A.index(X, )"
   ]
  },
  {
   "cell_type": "code",
   "execution_count": 419,
   "metadata": {},
   "outputs": [
    {
     "data": {
      "text/plain": [
       "{1, 3, 6}"
      ]
     },
     "execution_count": 419,
     "metadata": {},
     "output_type": "execute_result"
    }
   ],
   "source": [
    "pre_set = set(A[:candidate+1])\n",
    "pre_set"
   ]
  },
  {
   "cell_type": "code",
   "execution_count": 421,
   "metadata": {},
   "outputs": [
    {
     "name": "stdout",
     "output_type": "stream",
     "text": [
      "[4, 2, 3, 5, 4, 2, 3, 5, 6, 10, 17, 14, 4, 6, 8, 3, 2, 1, 3, 4, 6, 8, 7]\n",
      "[4, 2, 3, 5, 4, 2, 3, 5, 6]\n"
     ]
    }
   ],
   "source": [
    "A = A[candidate+1:]\n",
    "print(A)\n",
    "candidate = A.index(X)\n",
    "print(A[:candidate+1])"
   ]
  },
  {
   "cell_type": "code",
   "execution_count": 432,
   "metadata": {},
   "outputs": [
    {
     "data": {
      "text/plain": [
       "True"
      ]
     },
     "execution_count": 432,
     "metadata": {},
     "output_type": "execute_result"
    }
   ],
   "source": [
    "pre_set.union(set(A[:candidate+1])) == set(range(1,X+1)) # :  이게 맞으면 Stop 하고 candidate return"
   ]
  },
  {
   "cell_type": "code",
   "execution_count": 433,
   "metadata": {},
   "outputs": [
    {
     "data": {
      "text/plain": [
       "8"
      ]
     },
     "execution_count": 433,
     "metadata": {},
     "output_type": "execute_result"
    }
   ],
   "source": [
    "candidate"
   ]
  },
  {
   "cell_type": "code",
   "execution_count": 449,
   "metadata": {},
   "outputs": [
    {
     "name": "stdout",
     "output_type": "stream",
     "text": [
      "10\n"
     ]
    }
   ],
   "source": [
    "try :\n",
    "    A.index(X,30)\n",
    "except:\n",
    "    break\n",
    "    "
   ]
  },
  {
   "cell_type": "code",
   "execution_count": 456,
   "metadata": {},
   "outputs": [
    {
     "name": "stdout",
     "output_type": "stream",
     "text": [
      "-1 []\n",
      "3 [1, 3, 1, 6]\n",
      "12\n"
     ]
    }
   ],
   "source": [
    "# initial setting\n",
    "cand = -1\n",
    "target_range = set(range(1, X+1))\n",
    "\n",
    "while 1:\n",
    "    print(cand, A[:cand+1])\n",
    "    try :\n",
    "        cand = A.index(X, cand+1) #X에 나타나는 처음 초\n",
    "    except :\n",
    "        print(-1)\n",
    "        break # return -1\n",
    "    # 거기까지의 수가 모두 있으면 브레잌\n",
    "    if set(A[:cand+1]) == target_range : \n",
    "        print(cand)\n",
    "        break #return cand"
   ]
  },
  {
   "cell_type": "code",
   "execution_count": 454,
   "metadata": {},
   "outputs": [
    {
     "data": {
      "text/plain": [
       "3"
      ]
     },
     "execution_count": 454,
     "metadata": {},
     "output_type": "execute_result"
    }
   ],
   "source": [
    "A.index(X, cand+1)"
   ]
  },
  {
   "cell_type": "code",
   "execution_count": 478,
   "metadata": {},
   "outputs": [],
   "source": [
    "def solution(X, A):\n",
    "    cand = -1\n",
    "    target_range = set(range(1, X+1))\n",
    "\n",
    "    while 1:\n",
    "        #print(cand, A[:cand+1])\n",
    "        try :\n",
    "            cand = A.index(X, cand+1) #X에 나타나는 처음 초\n",
    "        except :\n",
    "            return -1\n",
    "        # 거기까지의 수가 모두 있으면 브레잌\n",
    "        if target_range - set(A[:cand+1]) == set({}) : \n",
    "            return cand"
   ]
  },
  {
   "cell_type": "code",
   "execution_count": 479,
   "metadata": {},
   "outputs": [
    {
     "data": {
      "text/plain": [
       "11"
      ]
     },
     "execution_count": 479,
     "metadata": {},
     "output_type": "execute_result"
    }
   ],
   "source": [
    "solution(3, [1,2,2,2,2,2,2,2,2,2,4,3])"
   ]
  },
  {
   "cell_type": "code",
   "execution_count": 474,
   "metadata": {},
   "outputs": [
    {
     "data": {
      "text/plain": [
       "{2}"
      ]
     },
     "execution_count": 474,
     "metadata": {},
     "output_type": "execute_result"
    }
   ],
   "source": [
    "set([1,2,2,2,2,2,2,2,2,2,4,3])\n",
    "set([1,2,3])- set([1,2,2,2,2,2,2,2,2,2,4,3])\n",
    "set([1,2,3])- set([1,4,3])"
   ]
  },
  {
   "cell_type": "code",
   "execution_count": null,
   "metadata": {},
   "outputs": [],
   "source": []
  },
  {
   "cell_type": "code",
   "execution_count": null,
   "metadata": {},
   "outputs": [],
   "source": [
    "# X를 고정하지 말고, X를 그중에서 부족한 수로 바꿔도 될 것 같은데?\n",
    "\n",
    "SELECT name\n",
    "\n",
    "FROM(\n",
    "    SELECT phone_number, sum(duration)\n",
    "\n",
    "    FROM (\n",
    "        SELECT caller AS phone_number, duration AS duration\n",
    "        FROM calls\n",
    "\n",
    "        UNION ALL\n",
    "\n",
    "        SELECT callee AS phone_number,  duration AS duration\n",
    "        FROM calls\n",
    "    )\n",
    "\n",
    "    GROUP BY phone_number\n",
    "    having sum(duration) >= 10 \n",
    "    \n",
    ") AS call_time\n",
    "\n",
    "left outer join phones on call_time.phone_number = phones.phone_number\n",
    "order by name"
   ]
  }
 ],
 "metadata": {
  "kernelspec": {
   "display_name": "Python 3",
   "language": "python",
   "name": "python3"
  },
  "language_info": {
   "codemirror_mode": {
    "name": "ipython",
    "version": 3
   },
   "file_extension": ".py",
   "mimetype": "text/x-python",
   "name": "python",
   "nbconvert_exporter": "python",
   "pygments_lexer": "ipython3",
   "version": "3.8.3"
  },
  "toc": {
   "base_numbering": 1,
   "nav_menu": {},
   "number_sections": true,
   "sideBar": true,
   "skip_h1_title": false,
   "title_cell": "Table of Contents",
   "title_sidebar": "Contents",
   "toc_cell": false,
   "toc_position": {},
   "toc_section_display": true,
   "toc_window_display": false
  }
 },
 "nbformat": 4,
 "nbformat_minor": 4
}
