{
 "cells": [
  {
   "cell_type": "code",
   "execution_count": 36,
   "metadata": {},
   "outputs": [],
   "source": [
    "import collections"
   ]
  },
  {
   "cell_type": "markdown",
   "metadata": {},
   "source": [
    "## Python Collections 모듈 이해하기\n",
    "### tuple, dict에 대한 확장 데이터 구조를 제공\n",
    "\n",
    "- **namedtuple()** :  Tuple 타입의 subclass를 만들어 주는 function\n",
    "- **OrderedDict** :  dict subclass that remembers the order entries were added\n",
    "- **Counter** :  dict subclass for counting has hable objects\n",
    "- **defaultdict** :  dict subclass that calls a factory function to supply missing values\n",
    "- **deque** :  list-like container with fast appends and pops on either end"
   ]
  },
  {
   "cell_type": "markdown",
   "metadata": {},
   "source": [
    "### Tuple vs namedtuple\n",
    "tuple type은 immutable type으로 내부 원소에 대해 갱신이 불가능하여 리스트처리보다 제한적. \n",
    "slicing은 String처럼 처리 가능"
   ]
  },
  {
   "cell_type": "markdown",
   "metadata": {},
   "source": [
    "### Tuple"
   ]
  },
  {
   "cell_type": "code",
   "execution_count": 6,
   "metadata": {},
   "outputs": [
    {
     "name": "stdout",
     "output_type": "stream",
     "text": [
      "(1,)\n"
     ]
    }
   ],
   "source": [
    "T = (1, ); print(T)\n",
    "# 튜플 생성 시 원소가 하나일 경우 뒤에 ','를 붙여야함"
   ]
  },
  {
   "cell_type": "code",
   "execution_count": 7,
   "metadata": {},
   "outputs": [
    {
     "name": "stdout",
     "output_type": "stream",
     "text": [
      "(1, 2, 3, 4)\n"
     ]
    }
   ],
   "source": [
    "T = (1,2,3,4); print(T)\n",
    "# 일반적인 튜플 생성"
   ]
  },
  {
   "cell_type": "code",
   "execution_count": 8,
   "metadata": {},
   "outputs": [
    {
     "data": {
      "text/plain": [
       "3"
      ]
     },
     "execution_count": 8,
     "metadata": {},
     "output_type": "execute_result"
    }
   ],
   "source": [
    "len((1,2,3))\n",
    "# length로 길이 확인 가능"
   ]
  },
  {
   "cell_type": "code",
   "execution_count": 10,
   "metadata": {},
   "outputs": [
    {
     "data": {
      "text/plain": [
       "(1, 2, 3, 4, 5, 6)"
      ]
     },
     "execution_count": 10,
     "metadata": {},
     "output_type": "execute_result"
    }
   ],
   "source": [
    "(1,2,3) + (4,5,6)\n",
    "# 튜플 합치기 Concatenation"
   ]
  },
  {
   "cell_type": "code",
   "execution_count": 20,
   "metadata": {},
   "outputs": [
    {
     "data": {
      "text/plain": [
       "(1, 2, 3, 1, 2, 3, 1, 2, 3)"
      ]
     },
     "execution_count": 20,
     "metadata": {},
     "output_type": "execute_result"
    }
   ],
   "source": [
    "('Hi!')*10\n",
    "'Hi!'*10 # 두 결과 일치\n",
    "(1,2,3) * 3\n",
    "# 곱으로 반복적으로 표현 가능"
   ]
  },
  {
   "cell_type": "code",
   "execution_count": 21,
   "metadata": {},
   "outputs": [
    {
     "data": {
      "text/plain": [
       "True"
      ]
     },
     "execution_count": 21,
     "metadata": {},
     "output_type": "execute_result"
    }
   ],
   "source": [
    "3 in (1,2,3)\n",
    "# 튜플 내 원소들은 Membership"
   ]
  },
  {
   "cell_type": "code",
   "execution_count": 23,
   "metadata": {},
   "outputs": [
    {
     "name": "stdout",
     "output_type": "stream",
     "text": [
      "1\n",
      "2\n",
      "3\n"
     ]
    }
   ],
   "source": [
    "for x in (1,2,3) : print(x)\n",
    "# 튜플 내 원소를 반복자(Iteration)으로 활용가능"
   ]
  },
  {
   "cell_type": "code",
   "execution_count": 33,
   "metadata": {},
   "outputs": [
    {
     "name": "stdout",
     "output_type": "stream",
     "text": [
      "(1, 2, 3, 4)\n",
      "<class 'tuple'>\n"
     ]
    }
   ],
   "source": [
    "T = 1,2,3,4\n",
    "print(T); print(type(T))"
   ]
  },
  {
   "cell_type": "code",
   "execution_count": 34,
   "metadata": {},
   "outputs": [
    {
     "data": {
      "text/plain": [
       "1"
      ]
     },
     "execution_count": 34,
     "metadata": {},
     "output_type": "execute_result"
    }
   ],
   "source": [
    "# Tuple.count(3) : Tuple 내 원소 3의 개수\n",
    "T.count(3)"
   ]
  },
  {
   "cell_type": "code",
   "execution_count": 35,
   "metadata": {},
   "outputs": [
    {
     "data": {
      "text/plain": [
       "2"
      ]
     },
     "execution_count": 35,
     "metadata": {},
     "output_type": "execute_result"
    }
   ],
   "source": [
    "# Tuple.index(3) : Tuple 내 원소의 위치\n",
    "T.index(3)"
   ]
  },
  {
   "cell_type": "markdown",
   "metadata": {},
   "source": [
    "### namedtuple\n",
    "Tuple은 index를 기준으로 접근하지만 namedtuple은 key를 가지고 접근할 수 있는 것도 추가적으로 지원"
   ]
  },
  {
   "cell_type": "code",
   "execution_count": 37,
   "metadata": {},
   "outputs": [
    {
     "name": "stdout",
     "output_type": "stream",
     "text": [
      "Help on function namedtuple in module collections:\n",
      "\n",
      "namedtuple(typename, field_names, *, rename=False, defaults=None, module=None)\n",
      "    Returns a new subclass of tuple with named fields.\n",
      "    \n",
      "    >>> Point = namedtuple('Point', ['x', 'y'])\n",
      "    >>> Point.__doc__                   # docstring for the new class\n",
      "    'Point(x, y)'\n",
      "    >>> p = Point(11, y=22)             # instantiate with positional args or keywords\n",
      "    >>> p[0] + p[1]                     # indexable like a plain tuple\n",
      "    33\n",
      "    >>> x, y = p                        # unpack like a regular tuple\n",
      "    >>> x, y\n",
      "    (11, 22)\n",
      "    >>> p.x + p.y                       # fields also accessible by name\n",
      "    33\n",
      "    >>> d = p._asdict()                 # convert to a dictionary\n",
      "    >>> d['x']\n",
      "    11\n",
      "    >>> Point(**d)                      # convert from a dictionary\n",
      "    Point(x=11, y=22)\n",
      "    >>> p._replace(x=100)               # _replace() is like str.replace() but targets named fields\n",
      "    Point(x=100, y=22)\n",
      "\n"
     ]
    }
   ],
   "source": [
    "help(collections.namedtuple)"
   ]
  },
  {
   "cell_type": "code",
   "execution_count": 44,
   "metadata": {},
   "outputs": [
    {
     "name": "stdout",
     "output_type": "stream",
     "text": [
      "subclass check:  True\n",
      "Point(x, y)\n",
      "33\n",
      "33\n"
     ]
    }
   ],
   "source": [
    "Point = collections.namedtuple('Point', ['x', 'y'])\n",
    "\n",
    "print(\"subclass check: \", issubclass(Point, tuple))\n",
    "print(Point.__doc__)\n",
    "\n",
    "p = Point(11, y=22)\n",
    "\n",
    "# instantiate with positional args or keywords\n",
    "print(p[0]+p[1])\n",
    "print(p.x+p.y)"
   ]
  },
  {
   "cell_type": "code",
   "execution_count": 49,
   "metadata": {},
   "outputs": [
    {
     "ename": "ValueError",
     "evalue": "Type names and field names cannot be a keyword: 'class'",
     "output_type": "error",
     "traceback": [
      "\u001b[0;31m---------------------------------------------------------------------------\u001b[0m",
      "\u001b[0;31mValueError\u001b[0m                                Traceback (most recent call last)",
      "\u001b[0;32m<ipython-input-49-328a06376e02>\u001b[0m in \u001b[0;36m<module>\u001b[0;34m\u001b[0m\n\u001b[0;32m----> 1\u001b[0;31m \u001b[0mwith_class\u001b[0m \u001b[0;34m=\u001b[0m \u001b[0mcollections\u001b[0m\u001b[0;34m.\u001b[0m\u001b[0mnamedtuple\u001b[0m\u001b[0;34m(\u001b[0m\u001b[0;34m'Person'\u001b[0m\u001b[0;34m,\u001b[0m \u001b[0mfield_names\u001b[0m\u001b[0;34m=\u001b[0m \u001b[0;34m'names class age gender'\u001b[0m\u001b[0;34m)\u001b[0m\u001b[0;34m\u001b[0m\u001b[0;34m\u001b[0m\u001b[0m\n\u001b[0m",
      "\u001b[0;32m~/opt/anaconda3/lib/python3.8/collections/__init__.py\u001b[0m in \u001b[0;36mnamedtuple\u001b[0;34m(typename, field_names, rename, defaults, module)\u001b[0m\n\u001b[1;32m    359\u001b[0m                              f'identifiers: {name!r}')\n\u001b[1;32m    360\u001b[0m         \u001b[0;32mif\u001b[0m \u001b[0m_iskeyword\u001b[0m\u001b[0;34m(\u001b[0m\u001b[0mname\u001b[0m\u001b[0;34m)\u001b[0m\u001b[0;34m:\u001b[0m\u001b[0;34m\u001b[0m\u001b[0;34m\u001b[0m\u001b[0m\n\u001b[0;32m--> 361\u001b[0;31m             raise ValueError('Type names and field names cannot be a '\n\u001b[0m\u001b[1;32m    362\u001b[0m                              f'keyword: {name!r}')\n\u001b[1;32m    363\u001b[0m \u001b[0;34m\u001b[0m\u001b[0m\n",
      "\u001b[0;31mValueError\u001b[0m: Type names and field names cannot be a keyword: 'class'"
     ]
    }
   ],
   "source": [
    "with_class = collections.namedtuple('Person', field_names= 'name class age gender')\n",
    "# field_names에 class 포함불가"
   ]
  },
  {
   "cell_type": "code",
   "execution_count": 56,
   "metadata": {},
   "outputs": [
    {
     "name": "stdout",
     "output_type": "stream",
     "text": [
      "('name', '_1', 'age', 'gender')\n",
      "trippleA\n",
      "('name', 'age', 'gender', '_3')\n"
     ]
    }
   ],
   "source": [
    "# namedtuple은 class를 정의시 rename=True로 정의하면 필드명이 중복이거나 명명이 불가한 경우 대체해준다.\n",
    "with_class = collections.namedtuple('Person', field_names= 'name class age gender', rename = True)\n",
    "print(with_class._fields)\n",
    "andy = with_class('Andy', 'trippleA', 23, 'M')\n",
    "print(andy._1) # class => _1\n",
    "\n",
    "with_double_age = collections.namedtuple('Person', 'name age gender age', rename = True)\n",
    "print(with_double_age._fields)"
   ]
  },
  {
   "cell_type": "markdown",
   "metadata": {},
   "source": [
    "#### namedtuple method 1\n",
    "- _asdict: namedtuple에서 생성된 타입의 인스턴스를 OrderedDict로 전환\n",
    "- _fields: namedtuple에서 생성된 타입 내의 named 변수를 검색\n",
    "- _make: namedtuple에서 생성된 타입을 가지고 새로운 인스턴스를 생성"
   ]
  },
  {
   "cell_type": "code",
   "execution_count": 68,
   "metadata": {},
   "outputs": [
    {
     "name": "stdout",
     "output_type": "stream",
     "text": [
      "Type of Person:  <class 'type'>\n",
      "\n",
      "Representation:  Person(name='Bob', age='30', gender='male')\n",
      "\n",
      "_fields: \n",
      " ('name', 'age', 'gender')\n",
      "\n",
      "_asdict: \n",
      " {'name': 'Bob', 'age': '30', 'gender': 'male'}\n",
      "\n",
      "_make: \n",
      "Field by name:  jane\n"
     ]
    }
   ],
   "source": [
    "Person = collections.namedtuple('Person', 'name age gender')\n",
    "print('Type of Person: ', type(Person))\n",
    "\n",
    "bob = Person(name = 'Bob', age = '30', gender = 'male')\n",
    "print('\\nRepresentation: ', bob)\n",
    "\n",
    "print('\\n_fields: \\n', bob._fields)\n",
    "print('\\n_asdict: \\n', bob._asdict())\n",
    "\n",
    "jane = bob._make(['jane', 29, 'female'])\n",
    "print('\\n_make: \\nField by name: ', jane.name)"
   ]
  },
  {
   "cell_type": "markdown",
   "metadata": {},
   "source": [
    "#### namedtuple method 2\n",
    "- _replace: namedtuple에서 생선된 타입에 대한 인스턴스 내의 값을 변경\n",
    "- count: 내부 값에 대한 갯수\n",
    "- index: 내부 값에 대한 위치"
   ]
  },
  {
   "cell_type": "code",
   "execution_count": 73,
   "metadata": {},
   "outputs": [
    {
     "name": "stdout",
     "output_type": "stream",
     "text": [
      "Type of Person:  <class 'type'>\n",
      "\n",
      "Representation:  Person(name='Bob', age='30', gender='male')\n",
      "\n",
      "_replace: \n",
      " Person(name='Bob', age=50, gender='male')\n",
      "\n",
      "count: \n",
      " 1\n",
      "\n",
      "index: \n",
      " 1\n"
     ]
    }
   ],
   "source": [
    "Person = collections.namedtuple('Person', 'name age gender')\n",
    "print('Type of Person: ', type(Person))\n",
    "\n",
    "bob = Person(name = 'Bob', age = '30', gender = 'male')\n",
    "print('\\nRepresentation: ', bob)\n",
    "\n",
    "# 튜플 변경으로 새로운 객체 생성\n",
    "bob  = bob._replace(age = 50)\n",
    "print('\\n_replace: \\n', bob)\n",
    "print('\\ncount: \\n', bob.count(50))\n",
    "print('\\nindex: \\n', bob.index(50))\n"
   ]
  },
  {
   "cell_type": "markdown",
   "metadata": {},
   "source": [
    "### OrderedDict\n",
    "OrderedDict는 dict의 subclass로써 새로운 인스턴스를 만드는 클래스"
   ]
  },
  {
   "cell_type": "code",
   "execution_count": 76,
   "metadata": {},
   "outputs": [
    {
     "name": "stdout",
     "output_type": "stream",
     "text": [
      "Help on class OrderedDict in module collections:\n",
      "\n",
      "class OrderedDict(builtins.dict)\n",
      " |  Dictionary that remembers insertion order\n",
      " |  \n",
      " |  Method resolution order:\n",
      " |      OrderedDict\n",
      " |      builtins.dict\n",
      " |      builtins.object\n",
      " |  \n",
      " |  Methods defined here:\n",
      " |  \n",
      " |  __delitem__(self, key, /)\n",
      " |      Delete self[key].\n",
      " |  \n",
      " |  __eq__(self, value, /)\n",
      " |      Return self==value.\n",
      " |  \n",
      " |  __ge__(self, value, /)\n",
      " |      Return self>=value.\n",
      " |  \n",
      " |  __gt__(self, value, /)\n",
      " |      Return self>value.\n",
      " |  \n",
      " |  __init__(self, /, *args, **kwargs)\n",
      " |      Initialize self.  See help(type(self)) for accurate signature.\n",
      " |  \n",
      " |  __iter__(self, /)\n",
      " |      Implement iter(self).\n",
      " |  \n",
      " |  __le__(self, value, /)\n",
      " |      Return self<=value.\n",
      " |  \n",
      " |  __lt__(self, value, /)\n",
      " |      Return self<value.\n",
      " |  \n",
      " |  __ne__(self, value, /)\n",
      " |      Return self!=value.\n",
      " |  \n",
      " |  __reduce__(...)\n",
      " |      Return state information for pickling\n",
      " |  \n",
      " |  __repr__(self, /)\n",
      " |      Return repr(self).\n",
      " |  \n",
      " |  __reversed__(...)\n",
      " |      od.__reversed__() <==> reversed(od)\n",
      " |  \n",
      " |  __setitem__(self, key, value, /)\n",
      " |      Set self[key] to value.\n",
      " |  \n",
      " |  __sizeof__(...)\n",
      " |      D.__sizeof__() -> size of D in memory, in bytes\n",
      " |  \n",
      " |  clear(...)\n",
      " |      od.clear() -> None.  Remove all items from od.\n",
      " |  \n",
      " |  copy(...)\n",
      " |      od.copy() -> a shallow copy of od\n",
      " |  \n",
      " |  items(...)\n",
      " |      D.items() -> a set-like object providing a view on D's items\n",
      " |  \n",
      " |  keys(...)\n",
      " |      D.keys() -> a set-like object providing a view on D's keys\n",
      " |  \n",
      " |  move_to_end(self, /, key, last=True)\n",
      " |      Move an existing element to the end (or beginning if last is false).\n",
      " |      \n",
      " |      Raise KeyError if the element does not exist.\n",
      " |  \n",
      " |  pop(...)\n",
      " |      od.pop(k[,d]) -> v, remove specified key and return the corresponding\n",
      " |      value.  If key is not found, d is returned if given, otherwise KeyError\n",
      " |      is raised.\n",
      " |  \n",
      " |  popitem(self, /, last=True)\n",
      " |      Remove and return a (key, value) pair from the dictionary.\n",
      " |      \n",
      " |      Pairs are returned in LIFO order if last is true or FIFO order if false.\n",
      " |  \n",
      " |  setdefault(self, /, key, default=None)\n",
      " |      Insert key with a value of default if key is not in the dictionary.\n",
      " |      \n",
      " |      Return the value for key if key is in the dictionary, else default.\n",
      " |  \n",
      " |  update(...)\n",
      " |      D.update([E, ]**F) -> None.  Update D from dict/iterable E and F.\n",
      " |      If E is present and has a .keys() method, then does:  for k in E: D[k] = E[k]\n",
      " |      If E is present and lacks a .keys() method, then does:  for k, v in E: D[k] = v\n",
      " |      In either case, this is followed by: for k in F:  D[k] = F[k]\n",
      " |  \n",
      " |  values(...)\n",
      " |      D.values() -> an object providing a view on D's values\n",
      " |  \n",
      " |  ----------------------------------------------------------------------\n",
      " |  Class methods defined here:\n",
      " |  \n",
      " |  fromkeys(iterable, value=None) from builtins.type\n",
      " |      Create a new ordered dictionary with keys from iterable and values set to value.\n",
      " |  \n",
      " |  ----------------------------------------------------------------------\n",
      " |  Data descriptors defined here:\n",
      " |  \n",
      " |  __dict__\n",
      " |  \n",
      " |  ----------------------------------------------------------------------\n",
      " |  Data and other attributes defined here:\n",
      " |  \n",
      " |  __hash__ = None\n",
      " |  \n",
      " |  ----------------------------------------------------------------------\n",
      " |  Methods inherited from builtins.dict:\n",
      " |  \n",
      " |  __contains__(self, key, /)\n",
      " |      True if the dictionary has the specified key, else False.\n",
      " |  \n",
      " |  __getattribute__(self, name, /)\n",
      " |      Return getattr(self, name).\n",
      " |  \n",
      " |  __getitem__(...)\n",
      " |      x.__getitem__(y) <==> x[y]\n",
      " |  \n",
      " |  __len__(self, /)\n",
      " |      Return len(self).\n",
      " |  \n",
      " |  get(self, key, default=None, /)\n",
      " |      Return the value for key if key is in the dictionary, else default.\n",
      " |  \n",
      " |  ----------------------------------------------------------------------\n",
      " |  Static methods inherited from builtins.dict:\n",
      " |  \n",
      " |  __new__(*args, **kwargs) from builtins.type\n",
      " |      Create and return a new object.  See help(type) for accurate signature.\n",
      "\n"
     ]
    }
   ],
   "source": [
    "help(collections.OrderedDict)"
   ]
  },
  {
   "cell_type": "code",
   "execution_count": 77,
   "metadata": {},
   "outputs": [
    {
     "data": {
      "text/plain": [
       "True"
      ]
     },
     "execution_count": 77,
     "metadata": {},
     "output_type": "execute_result"
    }
   ],
   "source": [
    "# OderedDict는 dict의 subclass이다.\n",
    "issubclass(collections.OrderedDict, dict)"
   ]
  },
  {
   "cell_type": "markdown",
   "metadata": {},
   "source": [
    "collections.OrderedDict는 순서를 유지하기 위해 linked list로 내부에 구성되어 각 순서를 유지함"
   ]
  },
  {
   "cell_type": "code",
   "execution_count": 115,
   "metadata": {},
   "outputs": [
    {
     "name": "stdout",
     "output_type": "stream",
     "text": [
      "banana\n",
      "apple\n",
      "pear\n",
      "orange\n",
      "[('apple', 4), ('banana', 3), ('orange', 2), ('pear', 1)]\n",
      "OrderedDict([('apple', 4), ('banana', 3), ('orange', 2), ('pear', 1)])\n"
     ]
    }
   ],
   "source": [
    "d = {'banana': 3, 'apple': 4, 'pear': 1, 'orange': 2}\n",
    "\n",
    "# dictionary sorted by key\n",
    "for t in d.items():\n",
    "    print(t[0])\n",
    "print(sorted(d.items(),  key=lambda t: t[0]))\n",
    "\n",
    "do = collections.OrderedDict(sorted(d.items(), key = lambda t:t[0]))\n",
    "print(do)"
   ]
  },
  {
   "cell_type": "markdown",
   "metadata": {},
   "source": [
    "#### dict method 1\n",
    "- dict.clear(): dict 객체 내의 요소들 싹다 삭제\n",
    "- dict.copy(): dict 객체를 다른곳에 deep 복제\n",
    "- dict.fromkeys(): dict 객체의 키를 새로운 dict 객체를 생성하는 키로 처리\n",
    "- dict.get(key, default =None): dict내의 키를 가지고 값을 가져옴\n",
    "- ~~dict.has_key(key): dict내의 key 존재 여부 boolean 출력~~ *py3에서 없어짐\n",
    "- dict.items(): dict 객체의 키와 값을 순서쌍으로 나타내어 리스트로 전달  \n",
    "- dict.keys(): dict 내의 키를 리스트로 전달\n",
    "- dict.setdefault(key, default = None): dict 내의 키와 값을 추가\n",
    "- dict.update(dict2): dict에 dict추가\n",
    "- dict.values(): dict 내의 값을 리스트로 전달\n",
    "- dict.pop('key'): dict 내의 원소를 삭제, 해당 원소 전달 가능"
   ]
  },
  {
   "cell_type": "code",
   "execution_count": 117,
   "metadata": {},
   "outputs": [
    {
     "name": "stdout",
     "output_type": "stream",
     "text": [
      "Type:  <class 'dict'> ,  {'apple': 10, 'banana': 4, 'carrot': 6, 'pear': 3}\n"
     ]
    }
   ],
   "source": [
    "d = {'apple': 10, 'banana': 4, 'carrot':6, 'pear':3}\n",
    "type(d)\n",
    "print('Type: ',type(d),', ',d)"
   ]
  },
  {
   "cell_type": "code",
   "execution_count": 97,
   "metadata": {},
   "outputs": [
    {
     "name": "stdout",
     "output_type": "stream",
     "text": [
      "{}\n"
     ]
    }
   ],
   "source": [
    "# dict.clear()\n",
    "# dict.copy()\n",
    "d1 = d.copy()\n",
    "d1.clear()\n",
    "print(d1)"
   ]
  },
  {
   "cell_type": "code",
   "execution_count": 101,
   "metadata": {},
   "outputs": [
    {
     "data": {
      "text/plain": [
       "{'apple': None, 'banana': None, 'carrot': None, 'pear': None}"
      ]
     },
     "execution_count": 101,
     "metadata": {},
     "output_type": "execute_result"
    }
   ],
   "source": [
    "# dict.fromkeys()\n",
    "d2 = d.fromkeys(d)\n",
    "d2"
   ]
  },
  {
   "cell_type": "code",
   "execution_count": 102,
   "metadata": {},
   "outputs": [
    {
     "data": {
      "text/plain": [
       "10"
      ]
     },
     "execution_count": 102,
     "metadata": {},
     "output_type": "execute_result"
    }
   ],
   "source": [
    "# dict.get(key, default = None)\n",
    "d.get('apple')"
   ]
  },
  {
   "cell_type": "code",
   "execution_count": 109,
   "metadata": {},
   "outputs": [
    {
     "data": {
      "text/plain": [
       "dict_items([('apple', 10), ('banana', 4), ('carrot', 6), ('pear', 3)])"
      ]
     },
     "execution_count": 109,
     "metadata": {},
     "output_type": "execute_result"
    }
   ],
   "source": [
    "# dict.items()\n",
    "d.items()"
   ]
  },
  {
   "cell_type": "code",
   "execution_count": 110,
   "metadata": {},
   "outputs": [
    {
     "data": {
      "text/plain": [
       "dict_keys(['apple', 'banana', 'carrot', 'pear'])"
      ]
     },
     "execution_count": 110,
     "metadata": {},
     "output_type": "execute_result"
    }
   ],
   "source": [
    "# dict.keys()\n",
    "d.keys()"
   ]
  },
  {
   "cell_type": "code",
   "execution_count": 111,
   "metadata": {},
   "outputs": [
    {
     "data": {
      "text/plain": [
       "{'apple': 10, 'banana': 4, 'carrot': 6, 'pear': 3, 'caco': 6}"
      ]
     },
     "execution_count": 111,
     "metadata": {},
     "output_type": "execute_result"
    }
   ],
   "source": [
    "# dict.setdefault()\n",
    "d.setdefault('caco',6)\n",
    "d"
   ]
  },
  {
   "cell_type": "code",
   "execution_count": 121,
   "metadata": {},
   "outputs": [
    {
     "data": {
      "text/plain": [
       "{'apple': 10, 'banana': 4, 'carrot': 6, 'pear': 3, 'star': 1}"
      ]
     },
     "execution_count": 121,
     "metadata": {},
     "output_type": "execute_result"
    }
   ],
   "source": [
    "# dict.update(dict2)\n",
    "d.update({'star':1})\n",
    "d"
   ]
  },
  {
   "cell_type": "code",
   "execution_count": 113,
   "metadata": {},
   "outputs": [
    {
     "data": {
      "text/plain": [
       "dict_values([10, 4, 6, 3, 6, 1])"
      ]
     },
     "execution_count": 113,
     "metadata": {},
     "output_type": "execute_result"
    }
   ],
   "source": [
    "# dict.values()\n",
    "d.values()"
   ]
  },
  {
   "cell_type": "code",
   "execution_count": 122,
   "metadata": {},
   "outputs": [
    {
     "name": "stdout",
     "output_type": "stream",
     "text": [
      "Before:  {'apple': 10, 'banana': 4, 'carrot': 6, 'pear': 3, 'star': 1}\n",
      "After:  {'apple': 10, 'banana': 4, 'carrot': 6, 'pear': 3}\n",
      "POP:  1\n"
     ]
    }
   ],
   "source": [
    "# dict.pop('key')\n",
    "print('Before: ',d)\n",
    "d_pop = d.pop('star')\n",
    "print('After: ',d)\n",
    "print('POP: ', d_pop)"
   ]
  },
  {
   "cell_type": "markdown",
   "metadata": {},
   "source": [
    "#### OrderedDict method\n",
    "- pop\n",
    "- move_to_end  \n",
    "\n",
    "*내부 순서가 바뀔 경우 동등하지 않은 것으로 인식"
   ]
  },
  {
   "cell_type": "code",
   "execution_count": 126,
   "metadata": {},
   "outputs": [
    {
     "name": "stdout",
     "output_type": "stream",
     "text": [
      "Dict:  {'a': 1, 'b': 2}\n",
      "\n",
      "OrderedDict:  OrderedDict([('b', 2), ('a', 1)])\n",
      "\n",
      "What PoP at OrderedDict:  2\n",
      "After PoP OrderedDict([('a', 1)])\n",
      "\n",
      "What PoP at Dict:  2\n",
      "After PoP:  {'a': 1}\n"
     ]
    }
   ],
   "source": [
    "# pop\n",
    "d = {}\n",
    "d['a'] = 1\n",
    "d['b'] = 2\n",
    "print('Dict: ',d)\n",
    "\n",
    "od = collections.OrderedDict({'b':2, 'a':1})\n",
    "print('\\nOrderedDict: ',od)\n",
    "\n",
    "print('\\nWhat PoP at OrderedDict: ', od.pop('b'))\n",
    "print('After PoP',od)\n",
    "\n",
    "print('\\nWhat PoP at Dict: ', d.pop('b'))\n",
    "print('After PoP: ',d)"
   ]
  },
  {
   "cell_type": "code",
   "execution_count": 130,
   "metadata": {},
   "outputs": [
    {
     "name": "stdout",
     "output_type": "stream",
     "text": [
      "OrderedDict([('a', 1), ('b', 2), ('c', 3)])\n",
      "OrderedDict([('c', 3), ('a', 1), ('b', 2)])\n"
     ]
    }
   ],
   "source": [
    "# move_to_end:\n",
    "#\n",
    "# collections.OrderedDict는 순서를 유지하고 있어서 dict 처럼 처리하기 위해서는 move_to_end method를 사용해야한다.\n",
    "d1 = collections.OrderedDict([('a',1), ('b',2)])\n",
    "d1.update({'c':3})\n",
    "print(d1)\n",
    "\n",
    "d1.move_to_end('c', last = False)\n",
    "print(d1)"
   ]
  },
  {
   "cell_type": "code",
   "execution_count": 136,
   "metadata": {},
   "outputs": [
    {
     "name": "stdout",
     "output_type": "stream",
     "text": [
      "OrderedDict([('name', 'name'), ('age', 30)])\n",
      "name\n",
      "OrderedDict([('age', 30), ('name', 'name')])\n",
      "False\n",
      "OrderedDict([('name', 'name'), ('age', 30)])\n",
      "True\n"
     ]
    }
   ],
   "source": [
    "# OrderedDict 클래스에 순서가 다르면 동등하지 않은 것으로 간주함\n",
    "\n",
    "a = collections.OrderedDict(name = 'name', age = 30)\n",
    "print(a)\n",
    "print(a['name'])\n",
    "\n",
    "b = collections.OrderedDict(age = 30, name='name')\n",
    "print(b)\n",
    "print(a == b)\n",
    "\n",
    "b.move_to_end('age')\n",
    "print(b)\n",
    "print(a == b)"
   ]
  },
  {
   "cell_type": "markdown",
   "metadata": {},
   "source": [
    "### Counter\n",
    "dict의 subclass로써 새로운 인스턴스를 만드는 클래스"
   ]
  },
  {
   "cell_type": "code",
   "execution_count": 137,
   "metadata": {},
   "outputs": [
    {
     "data": {
      "text/plain": [
       "True"
      ]
     },
     "execution_count": 137,
     "metadata": {},
     "output_type": "execute_result"
    }
   ],
   "source": [
    "issubclass(collections.Counter, dict)"
   ]
  },
  {
   "cell_type": "markdown",
   "metadata": {},
   "source": [
    "Counter class로 생성하는 이유:  \n",
    "실제 key 값들에 연속된 상황이 확인이 필요할 경우 사용"
   ]
  },
  {
   "cell_type": "code",
   "execution_count": 138,
   "metadata": {},
   "outputs": [
    {
     "data": {
      "text/plain": [
       "Counter({'a': 2, 't': 2, 'c': 1, 'k': 1, 'e': 1, 'd': 1})"
      ]
     },
     "execution_count": 138,
     "metadata": {},
     "output_type": "execute_result"
    }
   ],
   "source": [
    "collections.Counter('attacked')"
   ]
  },
  {
   "cell_type": "code",
   "execution_count": 142,
   "metadata": {},
   "outputs": [
    {
     "data": {
      "text/plain": [
       "Counter({1: 2, 2: 2})"
      ]
     },
     "execution_count": 142,
     "metadata": {},
     "output_type": "execute_result"
    }
   ],
   "source": [
    "collections.Counter({1:2, 2:2})"
   ]
  },
  {
   "cell_type": "code",
   "execution_count": 143,
   "metadata": {},
   "outputs": [
    {
     "data": {
      "text/plain": [
       "Counter({(1, 2): 1, (2, 2): 1})"
      ]
     },
     "execution_count": 143,
     "metadata": {},
     "output_type": "execute_result"
    }
   ],
   "source": [
    "collections.Counter({1:2, 2:2}.items())"
   ]
  },
  {
   "cell_type": "code",
   "execution_count": 144,
   "metadata": {},
   "outputs": [
    {
     "data": {
      "text/plain": [
       "Counter({1: 1, 2: 1, 3: 1})"
      ]
     },
     "execution_count": 144,
     "metadata": {},
     "output_type": "execute_result"
    }
   ],
   "source": [
    "collections.Counter([1,2,3])"
   ]
  },
  {
   "cell_type": "code",
   "execution_count": null,
   "metadata": {},
   "outputs": [],
   "source": []
  }
 ],
 "metadata": {
  "kernelspec": {
   "display_name": "Python 3",
   "language": "python",
   "name": "python3"
  },
  "language_info": {
   "codemirror_mode": {
    "name": "ipython",
    "version": 3
   },
   "file_extension": ".py",
   "mimetype": "text/x-python",
   "name": "python",
   "nbconvert_exporter": "python",
   "pygments_lexer": "ipython3",
   "version": "3.8.3"
  }
 },
 "nbformat": 4,
 "nbformat_minor": 4
}
