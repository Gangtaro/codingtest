{
 "cells": [
  {
   "cell_type": "markdown",
   "metadata": {},
   "source": [
    "# DFS(깊이 우선 탐색), BFS(너비 우선 탐색)\n",
    "[ref. cyc1am3n](https://cyc1am3n.github.io/2019/04/26/bfs_dfs_with_python.html)"
   ]
  },
  {
   "cell_type": "markdown",
   "metadata": {},
   "source": [
    "## BFS(Breadth First Searching, 너비 우선 탐색)"
   ]
  },
  {
   "cell_type": "markdown",
   "metadata": {},
   "source": [
    "시작점인 루트 노드로 부터 가까이 있는 노드부터 탐색  \n",
    "![](https://upload.wikimedia.org/wikipedia/commons/5/5d/Breadth-First-Search-Algorithm.gif)\n",
    "\n",
    "이 알고리즘의 핵심은 큐(Queue) 자료구조를 사용하는 것  \n",
    "인접한 노드 중 방문하지 않았던 노드의 정보만 **큐**에 넣어 먼저 **큐**에 들어있던 노드부터 방문  \n",
    "  \n",
    "파이썬의 경우 list를 활용시,  \n",
    "자료입력시 list.append( new )  \n",
    "자료출력시 list.pop(0)\n",
    "를 이용하여 활용하는 경우가 잦은데 이 list.pop(0)의 경우 시간복잡도는 O(N)이라 비휴율적인 코드를 생성하게 됨  \n",
    "  \n",
    "=> **collections** module의 **deque**를 사용하면 시간절약가능\n",
    "  \n",
    "인접노드 중 방문하지 않았던 노드를 큐에 넣을시 set을 사용하면 쉽게 구현가능\n"
   ]
  },
  {
   "cell_type": "code",
   "execution_count": 1,
   "metadata": {},
   "outputs": [
    {
     "name": "stdout",
     "output_type": "stream",
     "text": [
      "[1, 3, 4, 5, 2, 6]\n"
     ]
    }
   ],
   "source": [
    "# 유향그래프 예시\n",
    "graph_list = {1: set([3, 4]),\n",
    "              2: set([3, 4, 5]),\n",
    "              3: set([1, 5]),\n",
    "              4: set([1]),\n",
    "              5: set([2, 6]),\n",
    "              6: set([3, 5])}\n",
    "root_node = 1\n",
    "\n",
    "\n",
    "\n",
    "# BFS 구현\n",
    "from collections import deque\n",
    "\n",
    "def BFS_with_adj_list(graph, root):\n",
    "    visited = []\n",
    "    queue = deque([root])\n",
    "\n",
    "    while queue:\n",
    "        n = queue.popleft()\n",
    "        if n not in visited:\n",
    "            visited.append(n)\n",
    "            queue += graph[n] - set(visited)\n",
    "    return visited\n",
    "  \n",
    "print(BFS_with_adj_list(graph_list, root_node))"
   ]
  },
  {
   "cell_type": "markdown",
   "metadata": {},
   "source": [
    "## DFS(Depth First Searching, 깊이 우선 탐색)"
   ]
  },
  {
   "cell_type": "markdown",
   "metadata": {},
   "source": [
    "![](https://upload.wikimedia.org/wikipedia/commons/7/7f/Depth-First-Search.gif)\n",
    "\n",
    "BFS에 있던 **큐**대신에 **스택(Stack)**으로 자료구조를 대체  \n",
    "먼저 방문한 노드에 연결된 노드보다 현재 방문한 노드에 연결된 노드를 방문해야 한 방향으로 간다.  "
   ]
  },
  {
   "cell_type": "code",
   "execution_count": 2,
   "metadata": {},
   "outputs": [
    {
     "name": "stdout",
     "output_type": "stream",
     "text": [
      "[1, 3, 4, 5, 2, 6]\n"
     ]
    }
   ],
   "source": [
    "# DFS 구현\n",
    "def DFS_with_adj_list(graph, root):\n",
    "    visited = []\n",
    "    stack = [root]\n",
    "\n",
    "    while stack:\n",
    "        n = stack.pop()\n",
    "        if n not in visited:\n",
    "            visited.append(n)\n",
    "            stack += graph[n] - set(visited)\n",
    "    return visited\n",
    "\n",
    "print(BFS_with_adj_list(graph_list, root_node))"
   ]
  },
  {
   "cell_type": "code",
   "execution_count": null,
   "metadata": {},
   "outputs": [],
   "source": []
  }
 ],
 "metadata": {
  "kernelspec": {
   "display_name": "Python 3",
   "language": "python",
   "name": "python3"
  },
  "language_info": {
   "codemirror_mode": {
    "name": "ipython",
    "version": 3
   },
   "file_extension": ".py",
   "mimetype": "text/x-python",
   "name": "python",
   "nbconvert_exporter": "python",
   "pygments_lexer": "ipython3",
   "version": "3.8.3"
  }
 },
 "nbformat": 4,
 "nbformat_minor": 4
}
