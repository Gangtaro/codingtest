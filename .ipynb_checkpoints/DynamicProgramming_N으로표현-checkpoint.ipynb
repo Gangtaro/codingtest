{
 "cells": [
  {
   "cell_type": "markdown",
   "metadata": {},
   "source": [
    "#### 문제 설명\n",
    "아래와 같이 5와 사칙연산만으로 12를 표현할 수 있습니다.  \n",
    "12 = 5 + 5 + (5 / 5) + (5 / 5)  \n",
    "12 = 55 / 5 + 5 / 5  \n",
    "12 = (55 + 5) / 5  \n",
    "5를 사용한 횟수는 각각 6,5,4 입니다. 그리고 이중 가장 작은 경우는 4입니다.  \n",
    "이처럼 숫자 N과 number가 주어질 때, N과 사칙연산만 사용해서 표현 할 수 있는 방법 중 N 사용횟수의 최솟값을 return 하도록 solution 함수를 작성하세요.  \n",
    "\n",
    "#### 제한사항\n",
    "- N은 1 이상 9 이하입니다.\n",
    "- number는 1 이상 32,000 이하입니다.\n",
    "- 수식에는 괄호와 사칙연산만 가능하며 나누기 연산에서 나머지는 무시합니다.\n",
    "- 최솟값이 8보다 크면 -1을 return 합니다."
   ]
  },
  {
   "cell_type": "code",
   "execution_count": 1,
   "metadata": {},
   "outputs": [],
   "source": [
    "def solution(N, number):\n",
    "    answer = 0\n",
    "    return answer"
   ]
  },
  {
   "cell_type": "code",
   "execution_count": 2,
   "metadata": {},
   "outputs": [],
   "source": [
    "N = 5\n",
    "number = 12\n",
    "# return = 4"
   ]
  },
  {
   "cell_type": "code",
   "execution_count": 17,
   "metadata": {},
   "outputs": [],
   "source": [
    "N = 2\n",
    "number = 11\n",
    "# return = 3"
   ]
  },
  {
   "cell_type": "code",
   "execution_count": 18,
   "metadata": {},
   "outputs": [],
   "source": [
    "ones = [1, 11, 111, 1111, 11111]\n",
    "cost_1 = [2, 3, 4, 5, 6] # 총 cost 계산 시 (사용된 ones 개수)-1 만큼 빼준다.\n",
    "\n",
    "i = 1\n",
    "Ns = []\n",
    "cost_N = [] # 총 cost 계산 시 (사용된 Ns 개수)-1 만큼 빼준다. except N\n",
    "\n",
    "while N**i < 32000 :\n",
    "    Ns.append(N**i)\n",
    "    cost_N.append(i)\n",
    "    i += 1\n",
    "\n",
    "dicMap = []\n",
    "\n",
    "for i, N in enumerate(ones+Ns):\n",
    "    dicMap.append([i, abs(N-number)])\n",
    "    \n",
    "    print(i, N)\n",
    "    if A < "
   ]
  },
  {
   "cell_type": "code",
   "execution_count": 20,
   "metadata": {},
   "outputs": [
    {
     "data": {
      "text/plain": [
       "[1, 0]"
      ]
     },
     "execution_count": 20,
     "metadata": {},
     "output_type": "execute_result"
    }
   ],
   "source": [
    "dicMap[1]\n",
    "    "
   ]
  },
  {
   "cell_type": "code",
   "execution_count": 9,
   "metadata": {},
   "outputs": [
    {
     "name": "stdout",
     "output_type": "stream",
     "text": [
      "[2, 4, 8, 16, 32, 64, 128, 256, 512, 1024, 2048, 4096, 8192, 16384]\n",
      "[1, 2, 3, 4, 5, 6, 7, 8, 9, 10, 11, 12, 13, 14]\n"
     ]
    }
   ],
   "source": [
    "print(Ns)\n",
    "print(cost_N)"
   ]
  },
  {
   "cell_type": "code",
   "execution_count": null,
   "metadata": {},
   "outputs": [],
   "source": []
  }
 ],
 "metadata": {
  "kernelspec": {
   "display_name": "Python 3",
   "language": "python",
   "name": "python3"
  },
  "language_info": {
   "codemirror_mode": {
    "name": "ipython",
    "version": 3
   },
   "file_extension": ".py",
   "mimetype": "text/x-python",
   "name": "python",
   "nbconvert_exporter": "python",
   "pygments_lexer": "ipython3",
   "version": "3.8.3"
  }
 },
 "nbformat": 4,
 "nbformat_minor": 4
}
