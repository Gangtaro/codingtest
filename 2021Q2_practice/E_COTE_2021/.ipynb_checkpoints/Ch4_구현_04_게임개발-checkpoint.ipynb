{
 "cells": [
  {
   "cell_type": "code",
   "execution_count": 1,
   "metadata": {},
   "outputs": [],
   "source": [
    "# 가보지 않은 길의 탐색은 왼쪽으로 회전\n",
    "# 만약에 정면 기준으로 왼쪽이 바다이거나 가본 칸이라면, 그냥 왼쪽으로 돌기만한다.\n",
    "# 4방향이 모두 가본 칸이거나, 바다이라면, 뒤로 움직인다.\n",
    "# 만약에 뒤가 바다인경우 멈춘다.\n",
    "\n",
    "# 이때 방문한 칸의 횟수를 구하시오.\n",
    "array = [[1,1,1,1],\n",
    "         [1,0,0,1],\n",
    "         [1,1,0,1],\n",
    "         [1,1,1,1]]"
   ]
  },
  {
   "cell_type": "code",
   "execution_count": 5,
   "metadata": {},
   "outputs": [
    {
     "data": {
      "text/plain": [
       "0"
      ]
     },
     "execution_count": 5,
     "metadata": {},
     "output_type": "execute_result"
    }
   ],
   "source": [
    "# 이동방향\n",
    "dx = [1,-1, 0, 0]\n",
    "dy = [0, 0, 1,-1]\n",
    "\n",
    "# 현재 위치\n",
    "x, y = (1, 1)\n",
    "\n",
    "array[1][1]"
   ]
  },
  {
   "cell_type": "code",
   "execution_count": 6,
   "metadata": {},
   "outputs": [],
   "source": [
    "# 현재 위치 정보     -> 현재 위치는 가본곳이므로 이를 저장한다.\n",
    "# 보고 있는 방향 정보 -> 토대로 왼쪽에 있는지 확인, 왼쪽이 가본곳인지, 바다인지, 안가본곳인지 알아야함"
   ]
  },
  {
   "cell_type": "code",
   "execution_count": 7,
   "metadata": {},
   "outputs": [
    {
     "data": {
      "text/plain": [
       "0"
      ]
     },
     "execution_count": 7,
     "metadata": {},
     "output_type": "execute_result"
    }
   ],
   "source": [
    "# 현재 위치\n",
    "array[x][y]\n",
    "\n",
    "# 현재 위치에서 볼 수 있는 방향 탐색\n",
    "# 만약에 제일 가장자리라면, 이에 대한 정보또한 있어야 한다.\n",
    "if (x == 0)&(x==3) \n",
    "\n",
    "# 현재 보는 방향 \n",
    "# 0: 북, 1: 서, 2: 남, 3: 동\n",
    "way = 0\n",
    "array[]"
   ]
  },
  {
   "cell_type": "code",
   "execution_count": 8,
   "metadata": {},
   "outputs": [],
   "source": [
    "# 이동 방향에 대한 정보\n",
    "# 0: 북, 1: 서, 2: 남, 3: 동\n",
    "dx = [-1, 0, 1, 0 ]\n",
    "dy = [0, -1, 0, -1]\n",
    "\n",
    "# 이동방향 \n",
    "way = 0 #북쪽\n",
    "\n",
    "# 방문했던곳 기록에 현재 장소 기록\n",
    "visited = [(x,y)]\n",
    "\n",
    "# 다음 서쪽을 바라보게\n",
    "# point1\n",
    "way+=1\n",
    "search_x = x+dx[way]\n",
    "search_y = y+dy[way]\n",
    "\n",
    "# 갈곳이 없는 끝방향이라면 방향 변경\n",
    "if search_x*search_y*(3-search_x)*(3-search_y) == 0 :\n",
    "    way += 1\n",
    "    if way > 3 : \n",
    "        way %= 4\n",
    "        # and turn to point1\n",
    "# 갈곳이 없는 바다라며느 방향 변경\n",
    "elif array[search_x][search_y] == 1 :\n",
    "    way+=1\n",
    "    if way > 3 :\n",
    "        way %= 4\n",
    "\n",
    "\n",
    "# 이미 가본 곳이라면 방향 변경\n",
    "elif search_x, search_y in visited : \n",
    "    way  +=1\n",
    "    if way > 3 :\n",
    "        way%= 4\n",
    "        \n",
    "\n",
    "# 한 바퀴 돌았다면, 뒤로가기\n",
    "if turn_times == 4 :\n",
    "    \n",
    "    # 뒤로가기\n",
    "    if way == 0 | way == 1 :\n",
    "        way += 2\n",
    "    else :\n",
    "        way -= 2\n",
    "    \n",
    "    # 뒤가 바다라면 끝\n",
    "    if array[search_x][search_y] == 1 :\n",
    "        break\n",
    "        \n",
    "new_x = search_x\n",
    "new_y = search_y\n",
    "visited.append((new_x, new_y))\n",
    "        "
   ]
  },
  {
   "cell_type": "code",
   "execution_count": 13,
   "metadata": {},
   "outputs": [
    {
     "ename": "SyntaxError",
     "evalue": "invalid syntax (<ipython-input-13-c988c536251b>, line 20)",
     "output_type": "error",
     "traceback": [
      "\u001b[0;36m  File \u001b[0;32m\"<ipython-input-13-c988c536251b>\"\u001b[0;36m, line \u001b[0;32m20\u001b[0m\n\u001b[0;31m    break break\u001b[0m\n\u001b[0m          ^\u001b[0m\n\u001b[0;31mSyntaxError\u001b[0m\u001b[0;31m:\u001b[0m invalid syntax\n"
     ]
    }
   ],
   "source": [
    "# 출발 전 준비\n",
    "## 현재 위치를 가본 곳에 업데이트\n",
    "visited = [(x, y)]\n",
    "\n",
    "## 현재 방향 체크\n",
    "way = 0\n",
    "\n",
    "# 출발\n",
    "## 현재 보고 있는 방향에서 왼쪽으로 차례로 갈 곳 탐색\n",
    "while 1:\n",
    "    turn_times = 0\n",
    "    \n",
    "    while 1:\n",
    "        # 방향변경 및 가볼 곳 지정\n",
    "        way += 1\n",
    "        way %= 4\n",
    "        search_x = x+dx[way]\n",
    "        search_y = y+dy[way]\n",
    "        if turn_times == 4 : \n",
    "            break \n",
    "\n",
    "        # 바라보는 방향이 가지 못하는 곳이라면(가장자리 및 바다)\n",
    "        if search_x*search_y*(3-search_x)*(3-search_y) == 0 :\n",
    "            turn_times += 1\n",
    "            continue\n",
    "        # 바라보는 방향이 바다라면\n",
    "        elif array[search_x][search_y] == 1 :\n",
    "            turn_times += 1\n",
    "            continue\n",
    "        # 바라보는 방향이 가본 곳이라면\n",
    "        elif search_x, search_y in visited : \n",
    "            turn_times += 1\n",
    "            continue\n",
    "        else :\n",
    "            \n",
    "        \n",
    "        \n",
    "            \n",
    "            \n",
    "            \n",
    "    # 다음 위치로 이동\n",
    "    x = search_x\n",
    "    y = search_y"
   ]
  },
  {
   "cell_type": "code",
   "execution_count": 12,
   "metadata": {},
   "outputs": [
    {
     "data": {
      "text/plain": [
       "[(1, 1)]"
      ]
     },
     "execution_count": 12,
     "metadata": {},
     "output_type": "execute_result"
    }
   ],
   "source": [
    "# 출발 전 준비\n",
    "## 현재 위치를 가본 곳에 업데이트\n",
    "visited = [(x, y)]\n",
    "\n",
    "## 현재 방향 체크\n",
    "way = 0\n",
    "\n",
    "\n",
    "# 출발\n",
    "turn_times = 0\n",
    "## 현재 보고 있는 방향에서 왼쪽으로 차례로 갈 곳 탐색\n",
    "while 1:\n",
    "    # 방향변경 및 가볼 곳 지정\n",
    "    way += 1\n",
    "    way %= 4\n",
    "    search_x = x+dx[way]\n",
    "    search_y = y+dy[way]\n",
    "    \n",
    "    # 바라보는 방향이 가지 못하는 곳이라면(가장자리 및 바다)\n",
    "    if (search_x*search_y*(3-search_x)*(3-search_y) == 0)|(array[search_x][search_y] == 1)|(search_x, search_y in visited):\n",
    "        turn_times += 1\n",
    "        # 그리고 이미 4번 돌았다면, 돌아가지말고 뒤로 이동\n",
    "        if turn_times == 4 :\n",
    "            \n",
    "            if way == 0 | way == 1 :\n",
    "                way += 2\n",
    "            else :\n",
    "                way -= 2\n",
    "            x = x + dx[way]\n",
    "            y = y + dy[way]\n",
    "            \n",
    "            # 그리고 그 뒤가 바다라면 \n",
    "            if x\n",
    "            \n",
    "            continue\n",
    "    \n",
    "    elif \n",
    "    # 가보지 않은 곳이라면 \n",
    "    "
   ]
  },
  {
   "cell_type": "code",
   "execution_count": 35,
   "metadata": {},
   "outputs": [
    {
     "data": {
      "text/plain": [
       "[-1]"
      ]
     },
     "execution_count": 35,
     "metadata": {},
     "output_type": "execute_result"
    }
   ],
   "source": [
    "dx"
   ]
  },
  {
   "cell_type": "code",
   "execution_count": 46,
   "metadata": {},
   "outputs": [
    {
     "data": {
      "text/plain": [
       "[[1, 1, 1, 1], [1, 0, 0, 1], [1, 1, 0, 1], [1, 1, 1, 1]]"
      ]
     },
     "execution_count": 46,
     "metadata": {},
     "output_type": "execute_result"
    }
   ],
   "source": [
    "array"
   ]
  },
  {
   "cell_type": "code",
   "execution_count": 60,
   "metadata": {},
   "outputs": [
    {
     "name": "stdout",
     "output_type": "stream",
     "text": [
      "way: 0\n",
      "turn_times: 0\n",
      "visited: [(1, 1)]\n",
      "(1, 0) 1\n",
      "way: 1\n",
      "turn_times: 1\n",
      "visited: [(1, 1)]\n",
      "(2, 1) 1\n",
      "way: 2\n",
      "turn_times: 2\n",
      "visited: [(1, 1)]\n",
      "(1, 2) 0\n",
      "Go\n",
      "way: 3\n",
      "turn_times: 0\n",
      "visited: [(1, 1), (1, 2)]\n",
      "(0, 2) 1\n",
      "way: 0\n",
      "turn_times: 1\n",
      "visited: [(1, 1), (1, 2)]\n",
      "(1, 1) 0\n",
      "way: 1\n",
      "turn_times: 2\n",
      "visited: [(1, 1), (1, 2)]\n",
      "(2, 2) 0\n",
      "Go\n",
      "way: 2\n",
      "turn_times: 0\n",
      "visited: [(1, 1), (1, 2), (2, 2)]\n",
      "(2, 3) 1\n",
      "way: 3\n",
      "turn_times: 1\n",
      "visited: [(1, 1), (1, 2), (2, 2)]\n",
      "(1, 2) 0\n",
      "way: 0\n",
      "turn_times: 2\n",
      "visited: [(1, 1), (1, 2), (2, 2)]\n",
      "(2, 1) 1\n",
      "way: 1\n",
      "turn_times: 3\n",
      "visited: [(1, 1), (1, 2), (2, 2)]\n",
      "(3, 2) 1\n",
      "BACK\n"
     ]
    }
   ],
   "source": [
    "# 출발 전 준비\n",
    "x, y = (1,1)\n",
    "visited = [(x, y)]  # 현재 위치를 가본 곳에 업데이트\n",
    "way_ref = [0,1,2,3,0,1] # 뒤도는 방향에 대비\n",
    "way = 0    # 제일 첫 방향 (input)\n",
    "\n",
    "# 이동 방향에 대한 정보\n",
    "# 0: 북, 1: 서, 2: 남, 3: 동\n",
    "dx = [-1, 0, 1, 0 ]\n",
    "dy = [0, -1, 0, 1]\n",
    "\n",
    "# 뒤돌기 \n",
    "turn_times = 0\n",
    "while 1:\n",
    "    print('way:',way)\n",
    "    print('turn_times:',turn_times)\n",
    "    print('visited:',visited)\n",
    "    # 방향변경 및 가볼 곳 지정\n",
    "    way += 1\n",
    "    way %= 4\n",
    "    direction_x = x + dx[way]\n",
    "    direction_y = y + dy[way]\n",
    "    print((direction_x, direction_y), array[direction_x][direction_y])\n",
    "\n",
    "    # 바깥인 경우\n",
    "    OUT = (direction_x == -1)&(direction_y == -1)&(direction_x == 4)&(direction_y == 4)\n",
    "    # 갔던곳인 경우\n",
    "    VIS = (direction_x, direction_y) in visited\n",
    "    # 바다인 경우 (*바깥인 경우. ERROR 주의)\n",
    "    SEA = array[direction_x][direction_y] == 1\n",
    "\n",
    "\n",
    "    if OUT|VIS|SEA == True : # 계속해서 돌아야하는 경우\n",
    "        turn_times += 1\n",
    "\n",
    "        if turn_times == 4 : # 돌다가 4번 돌아버렸다면, 정지 후 뒤로 이동 (방향유지)\n",
    "            print('BACK')\n",
    "            way -= 1 # 방향유지\n",
    "            back_x = x + dx[way_ref[way+2]]\n",
    "            back_y = y + dy[way_ref[way+2]]\n",
    "\n",
    "            # 반대방향이 바다면 끝\n",
    "            if (array[back_x][back_y] == 1)|(back_x == -1)&(back_y == -1)&(back_x == 4)&(back_y == 4) :\n",
    "                break\n",
    "            # 반대방향이 바다가 아니면 그쪽으로 이동\n",
    "            else :\n",
    "                x = back_x\n",
    "                y = back_y\n",
    "                # 갔던곳이라, 기록 안해도댐\n",
    "\n",
    "    else : # 방문하지 않은 곳이고, 그 방향으로 진행\n",
    "        print('Go')\n",
    "        x = direction_x\n",
    "        y = direction_y\n",
    "        visited.append((x,y)) # 방명록\n",
    "        turn_times = 0 # 도는 횟수 초기화"
   ]
  },
  {
   "cell_type": "code",
   "execution_count": 53,
   "metadata": {},
   "outputs": [
    {
     "data": {
      "text/plain": [
       "[(1, 1), (1, 2), (2, 2)]"
      ]
     },
     "execution_count": 53,
     "metadata": {},
     "output_type": "execute_result"
    }
   ],
   "source": [
    "visited"
   ]
  },
  {
   "cell_type": "code",
   "execution_count": 43,
   "metadata": {},
   "outputs": [
    {
     "ename": "TypeError",
     "evalue": "append() takes exactly one argument (2 given)",
     "output_type": "error",
     "traceback": [
      "\u001b[0;31m---------------------------------------------------------------------------\u001b[0m",
      "\u001b[0;31mTypeError\u001b[0m                                 Traceback (most recent call last)",
      "\u001b[0;32m<ipython-input-43-1051ecfb117f>\u001b[0m in \u001b[0;36m<module>\u001b[0;34m\u001b[0m\n\u001b[0;32m----> 1\u001b[0;31m \u001b[0mvisited1\u001b[0m\u001b[0;34m.\u001b[0m\u001b[0mappend\u001b[0m\u001b[0;34m(\u001b[0m\u001b[0;36m1\u001b[0m\u001b[0;34m,\u001b[0m\u001b[0;36m1\u001b[0m\u001b[0;34m)\u001b[0m\u001b[0;34m\u001b[0m\u001b[0;34m\u001b[0m\u001b[0m\n\u001b[0m",
      "\u001b[0;31mTypeError\u001b[0m: append() takes exactly one argument (2 given)"
     ]
    }
   ],
   "source": [
    "visited1.append(1,1)"
   ]
  },
  {
   "cell_type": "code",
   "execution_count": 45,
   "metadata": {},
   "outputs": [
    {
     "data": {
      "text/plain": [
       "[(1, 1)]"
      ]
     },
     "execution_count": 45,
     "metadata": {},
     "output_type": "execute_result"
    }
   ],
   "source": [
    "visited"
   ]
  },
  {
   "cell_type": "code",
   "execution_count": 30,
   "metadata": {},
   "outputs": [
    {
     "data": {
      "text/plain": [
       "1"
      ]
     },
     "execution_count": 30,
     "metadata": {},
     "output_type": "execute_result"
    }
   ],
   "source": [
    "way_ref = [0,1,2,3,0,1]"
   ]
  },
  {
   "cell_type": "code",
   "execution_count": null,
   "metadata": {},
   "outputs": [],
   "source": []
  }
 ],
 "metadata": {
  "kernelspec": {
   "display_name": "Python 3",
   "language": "python",
   "name": "python3"
  },
  "language_info": {
   "codemirror_mode": {
    "name": "ipython",
    "version": 3
   },
   "file_extension": ".py",
   "mimetype": "text/x-python",
   "name": "python",
   "nbconvert_exporter": "python",
   "pygments_lexer": "ipython3",
   "version": "3.8.3"
  },
  "toc": {
   "base_numbering": 1,
   "nav_menu": {},
   "number_sections": true,
   "sideBar": true,
   "skip_h1_title": false,
   "title_cell": "Table of Contents",
   "title_sidebar": "Contents",
   "toc_cell": false,
   "toc_position": {},
   "toc_section_display": true,
   "toc_window_display": false
  }
 },
 "nbformat": 4,
 "nbformat_minor": 4
}
