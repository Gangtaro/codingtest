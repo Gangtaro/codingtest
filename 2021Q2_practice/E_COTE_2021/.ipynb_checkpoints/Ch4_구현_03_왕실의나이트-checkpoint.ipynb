{
 "cells": [
  {
   "cell_type": "code",
   "execution_count": 7,
   "metadata": {},
   "outputs": [],
   "source": [
    "data = 'a1'\n",
    "\n",
    "xline = ['a', 'b', 'c', 'd', 'e', 'f', 'g', 'h']\n",
    "\n",
    "x = xline.index(data[0])+1\n",
    "y = int(data[1])\n",
    "\n",
    "# 이동 가능한 경우의 수 \n",
    "dx = [2, 2,-2,-2, 1, 1,-1,-1]\n",
    "dy = [1,-1, 1,-1, 2,-2, 2,-2]\n",
    "\n",
    "count = 0\n",
    "for i in range(8) : # 움직일 수 있는 경우의 수가 8가지\n",
    "    new_x = x+dx[i]\n",
    "    new_y = y+dy[i]\n",
    "    \n",
    "    if (new_x <= 0)|(new_x >= 9)|(new_y <= 0)|(new_y >= 9):\n",
    "        continue\n",
    "    count += 1"
   ]
  },
  {
   "cell_type": "code",
   "execution_count": 16,
   "metadata": {},
   "outputs": [
    {
     "data": {
      "text/plain": [
       "3"
      ]
     },
     "execution_count": 16,
     "metadata": {},
     "output_type": "execute_result"
    }
   ],
   "source": [
    "# 공부해야할 점\n",
    "\n",
    "# 'c'는 몇 번째 알파벳일까?\n",
    "\n",
    "int(ord('c')) - int(ord('a')) + 1 "
   ]
  },
  {
   "cell_type": "code",
   "execution_count": null,
   "metadata": {},
   "outputs": [],
   "source": []
  }
 ],
 "metadata": {
  "kernelspec": {
   "display_name": "Python 3",
   "language": "python",
   "name": "python3"
  },
  "language_info": {
   "codemirror_mode": {
    "name": "ipython",
    "version": 3
   },
   "file_extension": ".py",
   "mimetype": "text/x-python",
   "name": "python",
   "nbconvert_exporter": "python",
   "pygments_lexer": "ipython3",
   "version": "3.8.3"
  },
  "toc": {
   "base_numbering": 1,
   "nav_menu": {},
   "number_sections": true,
   "sideBar": true,
   "skip_h1_title": false,
   "title_cell": "Table of Contents",
   "title_sidebar": "Contents",
   "toc_cell": false,
   "toc_position": {},
   "toc_section_display": true,
   "toc_window_display": false
  }
 },
 "nbformat": 4,
 "nbformat_minor": 4
}
