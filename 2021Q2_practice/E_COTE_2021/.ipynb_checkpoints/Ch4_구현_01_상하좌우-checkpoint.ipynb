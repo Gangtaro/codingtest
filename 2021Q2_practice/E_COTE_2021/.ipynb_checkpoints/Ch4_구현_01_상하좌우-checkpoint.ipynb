{
 "cells": [
  {
   "cell_type": "code",
   "execution_count": 15,
   "metadata": {},
   "outputs": [],
   "source": [
    "#x = 1\n",
    "#y = 1\n",
    "\n",
    "n = 5\n",
    "data = ['R', 'R', 'R', 'U', 'D', 'D']\n",
    "\n",
    "way = data[5]\n",
    "\n",
    "pre_x = x # 잘못된 방향으로 가는 것을 대비하여 저장\n",
    "pre_y = y\n",
    "\n",
    "if way == 'R' : \n",
    "    y += 1\n",
    "elif way == 'L' : \n",
    "    y -= 1\n",
    "elif way == 'U' :\n",
    "    x -= 1 \n",
    "else :\n",
    "    x += 1\n",
    "\n",
    "if (x == 0)|(y == 0)|(x == n)|(y == n) : # 전에 있던곳으로 복귀하는 IF문\n",
    "    x = pre_x\n",
    "    y = pre_y\n"
   ]
  },
  {
   "cell_type": "code",
   "execution_count": 21,
   "metadata": {},
   "outputs": [
    {
     "name": "stdout",
     "output_type": "stream",
     "text": [
      "5\n",
      "R R R U D D D\n",
      "4 4\n"
     ]
    }
   ],
   "source": [
    "# N,M,K 입력 받기\n",
    "n = int(input())\n",
    "\n",
    "# N개의 수를 공백으로 구분하여 입력받기\n",
    "data = input().split()\n",
    "\n",
    "# 출발위치\n",
    "x = 1\n",
    "y = 1\n",
    "\n",
    "for i in range(len(data)):\n",
    "    # 지시한 방향\n",
    "    way = data[i]\n",
    "    \n",
    "    # 잘못된 방향으로 가는 것을 대비하여 저장\n",
    "    pre_x = x \n",
    "    pre_y = y\n",
    "    \n",
    "    # 지시한 방향으로 이동\n",
    "    if way == 'R' : \n",
    "        y += 1\n",
    "    elif way == 'L' : \n",
    "        y -= 1\n",
    "    elif way == 'U' :\n",
    "        x -= 1 \n",
    "    else :\n",
    "        x += 1\n",
    "        \n",
    "    # 전에 있던곳으로 복귀하는 IF문 \n",
    "    if (x == 0)|(y == 0)|(x == n)|(y == n) : \n",
    "        x = pre_x\n",
    "        y = pre_y\n",
    "        \n",
    "print(x, y)"
   ]
  },
  {
   "cell_type": "code",
   "execution_count": 19,
   "metadata": {},
   "outputs": [
    {
     "data": {
      "text/plain": [
       "(3, 4)"
      ]
     },
     "execution_count": 19,
     "metadata": {},
     "output_type": "execute_result"
    }
   ],
   "source": [
    "x , y"
   ]
  },
  {
   "cell_type": "code",
   "execution_count": null,
   "metadata": {},
   "outputs": [],
   "source": []
  }
 ],
 "metadata": {
  "kernelspec": {
   "display_name": "Python 3",
   "language": "python",
   "name": "python3"
  },
  "language_info": {
   "codemirror_mode": {
    "name": "ipython",
    "version": 3
   },
   "file_extension": ".py",
   "mimetype": "text/x-python",
   "name": "python",
   "nbconvert_exporter": "python",
   "pygments_lexer": "ipython3",
   "version": "3.8.3"
  },
  "toc": {
   "base_numbering": 1,
   "nav_menu": {},
   "number_sections": true,
   "sideBar": true,
   "skip_h1_title": false,
   "title_cell": "Table of Contents",
   "title_sidebar": "Contents",
   "toc_cell": false,
   "toc_position": {},
   "toc_section_display": true,
   "toc_window_display": false
  }
 },
 "nbformat": 4,
 "nbformat_minor": 4
}
