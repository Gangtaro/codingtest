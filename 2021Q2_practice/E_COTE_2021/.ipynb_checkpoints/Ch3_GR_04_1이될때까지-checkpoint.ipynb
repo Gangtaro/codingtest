{
 "cells": [
  {
   "cell_type": "code",
   "execution_count": 13,
   "metadata": {},
   "outputs": [],
   "source": [
    "n = 17\n",
    "k = 4"
   ]
  },
  {
   "cell_type": "code",
   "execution_count": 14,
   "metadata": {},
   "outputs": [],
   "source": [
    "# condition\n",
    "# n은 k보다 크거나 같다.\n",
    "\n",
    "# idea\n",
    "# 나누어질 수 있는 수까지 1로 빼고\n",
    "# 나누어지면 그 몫을 다시 k의 배수가 될때까지 1로 뺀다.\n",
    "\n"
   ]
  },
  {
   "cell_type": "code",
   "execution_count": 16,
   "metadata": {},
   "outputs": [],
   "source": [
    "count = 0\n",
    "\n",
    "# 반복\n",
    "while 1 :\n",
    "    count += n%k + 1 \n",
    "    n //= k\n",
    "    if n == 1 : \n",
    "        break"
   ]
  },
  {
   "cell_type": "code",
   "execution_count": 18,
   "metadata": {},
   "outputs": [
    {
     "name": "stdout",
     "output_type": "stream",
     "text": [
      "25 5\n",
      "2\n"
     ]
    }
   ],
   "source": [
    "# N,M,K 입력 받기\n",
    "n, k = map(int, input().split())\n",
    "count = 0\n",
    "\n",
    "# 반복\n",
    "while 1 :\n",
    "    count += n%k + 1 \n",
    "    n //= k\n",
    "    if n == 1 : \n",
    "        break\n",
    "print(count)"
   ]
  }
 ],
 "metadata": {
  "kernelspec": {
   "display_name": "Python 3",
   "language": "python",
   "name": "python3"
  },
  "language_info": {
   "codemirror_mode": {
    "name": "ipython",
    "version": 3
   },
   "file_extension": ".py",
   "mimetype": "text/x-python",
   "name": "python",
   "nbconvert_exporter": "python",
   "pygments_lexer": "ipython3",
   "version": "3.8.3"
  },
  "toc": {
   "base_numbering": 1,
   "nav_menu": {},
   "number_sections": true,
   "sideBar": true,
   "skip_h1_title": false,
   "title_cell": "Table of Contents",
   "title_sidebar": "Contents",
   "toc_cell": false,
   "toc_position": {},
   "toc_section_display": true,
   "toc_window_display": false
  }
 },
 "nbformat": 4,
 "nbformat_minor": 4
}
