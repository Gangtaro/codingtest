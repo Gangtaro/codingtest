{
 "cells": [
  {
   "cell_type": "markdown",
   "metadata": {},
   "source": [
    "거스름 동전 개수의 최소값을 구하여라."
   ]
  },
  {
   "cell_type": "code",
   "execution_count": 2,
   "metadata": {},
   "outputs": [
    {
     "name": "stdout",
     "output_type": "stream",
     "text": [
      "working time :  2.6941299438476562e-05\n"
     ]
    }
   ],
   "source": [
    "# 소요시간 계산\n",
    "import time\n",
    "\n",
    "start_time  = time.time()\n",
    "\n",
    "\n",
    "end_time    = time.time()\n",
    "print('working time : ', end_time - start_time)"
   ]
  },
  {
   "cell_type": "markdown",
   "metadata": {},
   "source": [
    "### 탐욕법으로 구하기"
   ]
  },
  {
   "cell_type": "code",
   "execution_count": 13,
   "metadata": {},
   "outputs": [
    {
     "name": "stdout",
     "output_type": "stream",
     "text": [
      "6\n",
      "working time :  0.00032210350036621094\n"
     ]
    }
   ],
   "source": [
    "start_time  = time.time()\n",
    "\n",
    "# 동전의 종류\n",
    "coins = [500, 100, 50, 10]\n",
    "\n",
    "# 거슬러 주는 횟수\n",
    "count = 0\n",
    "\n",
    "# 잔돈으로 바꿀 돈\n",
    "N = 1260\n",
    "\n",
    "for coin in coins : \n",
    "    count += N//coin # 현재 금액에서 바꿀 수 있는 코인의 개수 \n",
    "    N %= coin        # 현재 코인으로 바꾼 뒤 남은 금액\n",
    "print(count)\n",
    "\n",
    "end_time    = time.time()\n",
    "print('working time : ', end_time - start_time)"
   ]
  }
 ],
 "metadata": {
  "kernelspec": {
   "display_name": "Python 3",
   "language": "python",
   "name": "python3"
  },
  "language_info": {
   "codemirror_mode": {
    "name": "ipython",
    "version": 3
   },
   "file_extension": ".py",
   "mimetype": "text/x-python",
   "name": "python",
   "nbconvert_exporter": "python",
   "pygments_lexer": "ipython3",
   "version": "3.8.3"
  },
  "toc": {
   "base_numbering": 1,
   "nav_menu": {},
   "number_sections": true,
   "sideBar": true,
   "skip_h1_title": false,
   "title_cell": "Table of Contents",
   "title_sidebar": "Contents",
   "toc_cell": false,
   "toc_position": {},
   "toc_section_display": true,
   "toc_window_display": false
  }
 },
 "nbformat": 4,
 "nbformat_minor": 4
}
