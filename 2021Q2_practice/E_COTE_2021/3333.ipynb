{
 "cells": [
  {
   "cell_type": "code",
   "execution_count": null,
   "metadata": {},
   "outputs": [],
   "source": [
    "def solution(n, k, cmd):\n",
    "    answer = ''\n",
    "    return answer\n",
    "\n",
    "\n",
    "# n = 행 개수\n",
    "# k = 현재 선택된 행의 위치\n",
    "# cmd = list, 명령"
   ]
  },
  {
   "cell_type": "code",
   "execution_count": 1,
   "metadata": {},
   "outputs": [],
   "source": [
    "# 원래 그 행이 가지고 있던 고유 번호 있어야함\n",
    "# 현재 상태의 위치\n",
    "# 지울때는 그 당시에 값이 지니고 있던 고유번호와 해당 위치에 대한 정보를 같이 저장해야함"
   ]
  },
  {
   "cell_type": "code",
   "execution_count": 43,
   "metadata": {},
   "outputs": [],
   "source": [
    "n = 8\n",
    "k = 2\n",
    "lst = [i for i in range(8)]\n",
    "cmd = [\"D 2\",\"C\",\"U 3\",\"C\",\"D 4\",\"C\",\"U 2\",\"Z\",\"Z\"]"
   ]
  },
  {
   "cell_type": "code",
   "execution_count": 4,
   "metadata": {},
   "outputs": [],
   "source": []
  },
  {
   "cell_type": "code",
   "execution_count": 6,
   "metadata": {},
   "outputs": [
    {
     "data": {
      "text/plain": [
       "2"
      ]
     },
     "execution_count": 6,
     "metadata": {},
     "output_type": "execute_result"
    }
   ],
   "source": [
    "lst.index"
   ]
  },
  {
   "cell_type": "code",
   "execution_count": 7,
   "metadata": {},
   "outputs": [],
   "source": [
    "\n"
   ]
  },
  {
   "cell_type": "code",
   "execution_count": 16,
   "metadata": {},
   "outputs": [
    {
     "data": {
      "text/plain": [
       "8"
      ]
     },
     "execution_count": 16,
     "metadata": {},
     "output_type": "execute_result"
    }
   ],
   "source": [
    "cmd[1][0]\n",
    "len(lst)\n"
   ]
  },
  {
   "cell_type": "code",
   "execution_count": 17,
   "metadata": {},
   "outputs": [],
   "source": [
    "lst.insert(4,99)"
   ]
  },
  {
   "cell_type": "code",
   "execution_count": 20,
   "metadata": {},
   "outputs": [
    {
     "data": {
      "text/plain": [
       "[0, 1, 2, 3, 4, 5, 6, 7]"
      ]
     },
     "execution_count": 20,
     "metadata": {},
     "output_type": "execute_result"
    }
   ],
   "source": [
    "lst.pop(4)\n",
    "lst"
   ]
  },
  {
   "cell_type": "code",
   "execution_count": 22,
   "metadata": {},
   "outputs": [
    {
     "data": {
      "text/plain": [
       "[0, 1, 2, 3, 5, 6, 7]"
      ]
     },
     "execution_count": 22,
     "metadata": {},
     "output_type": "execute_result"
    }
   ],
   "source": [
    "lst.pop(4)\n",
    "lst"
   ]
  },
  {
   "cell_type": "code",
   "execution_count": 23,
   "metadata": {},
   "outputs": [],
   "source": [
    "lst.insert(4, 4)"
   ]
  },
  {
   "cell_type": "code",
   "execution_count": 24,
   "metadata": {},
   "outputs": [
    {
     "data": {
      "text/plain": [
       "[0, 1, 2, 3, 4, 5, 6, 7]"
      ]
     },
     "execution_count": 24,
     "metadata": {},
     "output_type": "execute_result"
    }
   ],
   "source": [
    "lst"
   ]
  },
  {
   "cell_type": "code",
   "execution_count": 33,
   "metadata": {},
   "outputs": [],
   "source": [
    "# 삭제시에 -> (당시의 위치, 그 값)\n",
    "deletes = []\n",
    "\n",
    "for cmd_iters in cmd :\n",
    "    \n",
    "    # 이동이라면 (특히 아래로)\n",
    "    if cmd_iters[0] == 'D' :\n",
    "        k+= int(cmd_iters[2]) \n",
    "    \n",
    "    elif cmd_iters[0] == 'U' :\n",
    "        k-= int(cmd_iters[2])\n",
    "        \n",
    "    # 삭제라면\n",
    "    elif cmd_iters[0] == 'C' : \n",
    "        pops = (k, lst.pop(k))\n",
    "        deletes.append(pops)\n",
    "        \n",
    "        # 제일 마지막 행을 선택하고 있었다면 +1\n",
    "        if k == len(lst)-1 :\n",
    "            k+=1\n",
    "    \n",
    "    # 복구라면\n",
    "    elif cmd_iters[0] == 'Z'  :\n",
    "        retur = deletes.pop()\n",
    "        lst.insert(retur[0], retur[1])\n",
    "    "
   ]
  },
  {
   "cell_type": "code",
   "execution_count": 34,
   "metadata": {},
   "outputs": [
    {
     "data": {
      "text/plain": [
       "[0, 1, 2, 3, 5, 6, 7]"
      ]
     },
     "execution_count": 34,
     "metadata": {},
     "output_type": "execute_result"
    }
   ],
   "source": [
    "lst"
   ]
  },
  {
   "cell_type": "code",
   "execution_count": 36,
   "metadata": {},
   "outputs": [
    {
     "data": {
      "text/plain": [
       "[0, 1, 2, 3, 5, 6, 7]"
      ]
     },
     "execution_count": 36,
     "metadata": {},
     "output_type": "execute_result"
    }
   ],
   "source": [
    "# 길이까지 없는 수의 위치에만 X\n",
    "\n",
    "[i for i in range(n) if i in lst]"
   ]
  },
  {
   "cell_type": "code",
   "execution_count": 37,
   "metadata": {},
   "outputs": [],
   "source": [
    "answer = ''\n",
    "for i in range(n) :\n",
    "    if i in lst : \n",
    "        answer+='O'\n",
    "    else :\n",
    "        answer+='X'"
   ]
  },
  {
   "cell_type": "code",
   "execution_count": 38,
   "metadata": {},
   "outputs": [
    {
     "data": {
      "text/plain": [
       "'OOOOXOOO'"
      ]
     },
     "execution_count": 38,
     "metadata": {},
     "output_type": "execute_result"
    }
   ],
   "source": [
    "answer"
   ]
  },
  {
   "cell_type": "code",
   "execution_count": 39,
   "metadata": {},
   "outputs": [],
   "source": [
    "def solution(n, k, cmd):\n",
    "    \n",
    "    lst = [i for i in range(n)]\n",
    "\n",
    "    # 삭제시에 -> (당시의 위치, 그 값)\n",
    "    deletes = []\n",
    "\n",
    "    for cmd_iters in cmd :\n",
    "\n",
    "        # 이동이라면 (특히 아래로)\n",
    "        if cmd_iters[0] == 'D' :\n",
    "            k+= int(cmd_iters[2]) \n",
    "            continue\n",
    "\n",
    "        elif cmd_iters[0] == 'U' :\n",
    "            k-= int(cmd_iters[2])\n",
    "            continue\n",
    "\n",
    "        # 삭제라면\n",
    "        elif cmd_iters[0] == 'C' : \n",
    "            pops = (k, lst.pop(k))\n",
    "            deletes.append(pops)\n",
    "\n",
    "            # 제일 마지막 행을 선택하고 있었다면 +1\n",
    "            if k == len(lst)-1 :\n",
    "                k+=1\n",
    "            continue\n",
    "\n",
    "        # 복구라면\n",
    "        elif cmd_iters[0] == 'Z'  :\n",
    "            retur = deletes.pop()\n",
    "            lst.insert(retur[0], retur[1])    \n",
    "            \n",
    "            \n",
    "    answer = ''\n",
    "    for i in range(n) :\n",
    "        if i in lst : \n",
    "            answer+='O'\n",
    "        else :\n",
    "            answer+='X'       \n",
    "\n",
    "    return answer"
   ]
  },
  {
   "cell_type": "code",
   "execution_count": 44,
   "metadata": {},
   "outputs": [
    {
     "data": {
      "text/plain": [
       "'OOOOXOOO'"
      ]
     },
     "execution_count": 44,
     "metadata": {},
     "output_type": "execute_result"
    }
   ],
   "source": [
    "solution(n, k, cmd)"
   ]
  },
  {
   "cell_type": "code",
   "execution_count": 41,
   "metadata": {},
   "outputs": [
    {
     "data": {
      "text/plain": [
       "8"
      ]
     },
     "execution_count": 41,
     "metadata": {},
     "output_type": "execute_result"
    }
   ],
   "source": [
    "n"
   ]
  },
  {
   "cell_type": "code",
   "execution_count": 42,
   "metadata": {},
   "outputs": [
    {
     "data": {
      "text/plain": [
       "3"
      ]
     },
     "execution_count": 42,
     "metadata": {},
     "output_type": "execute_result"
    }
   ],
   "source": [
    "k"
   ]
  },
  {
   "cell_type": "code",
   "execution_count": null,
   "metadata": {},
   "outputs": [],
   "source": [
    "# 어딜 지웠고\n",
    "# 어딜 복구했고\n"
   ]
  },
  {
   "cell_type": "code",
   "execution_count": 45,
   "metadata": {},
   "outputs": [],
   "source": [
    "# 선택은 단순히 삭제에만 영향을 준다.\n",
    "# 선택이동, 삭제, 복구 크게 세가지 범주의 명령이 있다\n",
    "# 선택이동은 삭제에만 영향을 준다.\n",
    "# 삭제 또한 선택이동에 영향을 준다. "
   ]
  },
  {
   "cell_type": "code",
   "execution_count": 50,
   "metadata": {},
   "outputs": [],
   "source": [
    "deletes = [1,2,3]\n",
    "deletes\n",
    "\n",
    "from collections import deque"
   ]
  },
  {
   "cell_type": "code",
   "execution_count": 53,
   "metadata": {},
   "outputs": [],
   "source": [
    "import numpy as np\n",
    "deletes = np.array([])"
   ]
  },
  {
   "cell_type": "code",
   "execution_count": 60,
   "metadata": {},
   "outputs": [
    {
     "data": {
      "text/plain": [
       "1"
      ]
     },
     "execution_count": 60,
     "metadata": {},
     "output_type": "execute_result"
    }
   ],
   "source": [
    "deletes = [1,2,3]\n",
    "sum(np.array(deletes) < 2)"
   ]
  },
  {
   "cell_type": "code",
   "execution_count": null,
   "metadata": {},
   "outputs": [],
   "source": [
    "for cmd_iters in cmd :\n",
    "\n",
    "    # 이동이라면 (특히 아래로)\n",
    "    if cmd_iters[0] == 'D' :\n",
    "        k+= int(cmd_iters[2]) \n",
    "        continue\n",
    "\n",
    "    elif cmd_iters[0] == 'U' :\n",
    "        k-= int(cmd_iters[2])\n",
    "        continue\n",
    "\n",
    "    # 삭제라면\n",
    "    elif cmd_iters[0] == 'C' : \n",
    "        deletes.append(k + sum(np.array(deletes) >= k))\n",
    "        \n",
    "        if n - len(deletes) == k :\n",
    "            k -= 1\n",
    "    # \n",
    "    elif cmd_iters[0] == 'Z'  :\n",
    "        deletes.pop()\n",
    "        \n"
   ]
  }
 ],
 "metadata": {
  "kernelspec": {
   "display_name": "Python 3",
   "language": "python",
   "name": "python3"
  },
  "language_info": {
   "codemirror_mode": {
    "name": "ipython",
    "version": 3
   },
   "file_extension": ".py",
   "mimetype": "text/x-python",
   "name": "python",
   "nbconvert_exporter": "python",
   "pygments_lexer": "ipython3",
   "version": "3.8.3"
  },
  "toc": {
   "base_numbering": 1,
   "nav_menu": {},
   "number_sections": true,
   "sideBar": true,
   "skip_h1_title": false,
   "title_cell": "Table of Contents",
   "title_sidebar": "Contents",
   "toc_cell": false,
   "toc_position": {},
   "toc_section_display": true,
   "toc_window_display": false
  }
 },
 "nbformat": 4,
 "nbformat_minor": 4
}
