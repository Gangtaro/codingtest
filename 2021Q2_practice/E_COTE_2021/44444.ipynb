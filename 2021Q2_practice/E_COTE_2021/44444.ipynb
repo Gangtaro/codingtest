{
 "cells": [
  {
   "cell_type": "code",
   "execution_count": 1,
   "metadata": {},
   "outputs": [],
   "source": [
    "def solution(n, start, end, roads, traps):\n",
    "    answer = 0\n",
    "    return answer"
   ]
  },
  {
   "cell_type": "code",
   "execution_count": 2,
   "metadata": {},
   "outputs": [],
   "source": [
    "n = 4\n",
    "start=  1\n",
    "end = 4\n",
    "roads = [[1, 2, 1], [3, 2, 1], [2, 4, 1]] \n",
    "traps = [2, 3]"
   ]
  },
  {
   "cell_type": "code",
   "execution_count": null,
   "metadata": {},
   "outputs": [],
   "source": [
    "# 시작점에서 갈 수 있는 방향으로 탐색\n",
    "# "
   ]
  },
  {
   "cell_type": "code",
   "execution_count": null,
   "metadata": {},
   "outputs": [],
   "source": [
    "# 그래프에 대한 정보가 2개 여야한다.\n",
    "x1s = [for i in roads]"
   ]
  },
  {
   "cell_type": "code",
   "execution_count": 6,
   "metadata": {},
   "outputs": [],
   "source": [
    "graph = {} \n",
    "infinity = float(\"inf\")\n",
    "costs = {}\n",
    "parents = {}\n",
    "processed = []\n",
    "# 초기화 \n",
    "def init(): \n",
    "    global graph, infinity, costs, parents, processed \n",
    "    graph = {} # 간선 정보 입력 \n",
    "    graph[\"A\"] = {}\n",
    "    graph[\"A\"][\"B\"] = 5\n",
    "    graph[\"A\"][\"C\"] = 0\n",
    "    graph[\"B\"] = {} \n",
    "    graph[\"B\"][\"D\"] = 15 \n",
    "    graph[\"B\"][\"E\"] = 20 \n",
    "    graph[\"C\"] = {}\n",
    "    graph[\"C\"][\"D\"] = 30\n",
    "    graph[\"C\"][\"E\"] = 35\n",
    "    graph[\"D\"] = {} \n",
    "    graph[\"D\"][\"F\"] = 20 \n",
    "    graph[\"E\"] = {}\n",
    "    graph[\"E\"][\"F\"] = 10\n",
    "    graph[\"F\"] = {} \n",
    "    # ---------------------------------------- \n",
    "    infinity = float(\"inf\") \n",
    "    # ------------------------------------------ \n",
    "    costs = {} # 해당 노드 최단경로 입력 \n",
    "    costs[\"A\"] = infinity \n",
    "    costs[\"B\"] = infinity \n",
    "    costs[\"C\"] = infinity \n",
    "    costs[\"D\"] = infinity \n",
    "    costs[\"E\"] = infinity\n",
    "    costs[\"F\"] = infinity\n",
    "    # ------------------------------------------- \n",
    "    parents = {} # 추적 경로를 위해 부모 설정\n",
    "    parents[\"B\"] = None\n",
    "    parents[\"C\"] = None\n",
    "    parents[\"D\"] = None\n",
    "    parents[\"E\"] = None \n",
    "    parents[\"F\"] = None \n",
    "    # ------------------------------------------- \n",
    "    processed = []"
   ]
  },
  {
   "cell_type": "code",
   "execution_count": 8,
   "metadata": {},
   "outputs": [],
   "source": [
    "init()"
   ]
  },
  {
   "cell_type": "code",
   "execution_count": 9,
   "metadata": {},
   "outputs": [
    {
     "data": {
      "text/plain": [
       "{'A': {'B': 5, 'C': 0},\n",
       " 'B': {'D': 15, 'E': 20},\n",
       " 'C': {'D': 30, 'E': 35},\n",
       " 'D': {'F': 20},\n",
       " 'E': {'F': 10},\n",
       " 'F': {}}"
      ]
     },
     "execution_count": 9,
     "metadata": {},
     "output_type": "execute_result"
    }
   ],
   "source": [
    "graph"
   ]
  },
  {
   "cell_type": "code",
   "execution_count": 11,
   "metadata": {},
   "outputs": [
    {
     "data": {
      "text/plain": [
       "{'A': inf, 'B': inf, 'C': inf, 'D': inf, 'E': inf, 'F': inf}"
      ]
     },
     "execution_count": 11,
     "metadata": {},
     "output_type": "execute_result"
    }
   ],
   "source": [
    "costs\n"
   ]
  },
  {
   "cell_type": "code",
   "execution_count": null,
   "metadata": {},
   "outputs": [],
   "source": []
  }
 ],
 "metadata": {
  "kernelspec": {
   "display_name": "Python 3",
   "language": "python",
   "name": "python3"
  },
  "language_info": {
   "codemirror_mode": {
    "name": "ipython",
    "version": 3
   },
   "file_extension": ".py",
   "mimetype": "text/x-python",
   "name": "python",
   "nbconvert_exporter": "python",
   "pygments_lexer": "ipython3",
   "version": "3.8.3"
  },
  "toc": {
   "base_numbering": 1,
   "nav_menu": {},
   "number_sections": true,
   "sideBar": true,
   "skip_h1_title": false,
   "title_cell": "Table of Contents",
   "title_sidebar": "Contents",
   "toc_cell": false,
   "toc_position": {},
   "toc_section_display": true,
   "toc_window_display": false
  }
 },
 "nbformat": 4,
 "nbformat_minor": 4
}
