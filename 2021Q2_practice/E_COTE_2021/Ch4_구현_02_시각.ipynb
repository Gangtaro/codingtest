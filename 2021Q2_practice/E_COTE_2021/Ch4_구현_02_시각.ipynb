{
 "cells": [
  {
   "cell_type": "code",
   "execution_count": 1,
   "metadata": {},
   "outputs": [],
   "source": [
    "# 시각은 60진법\n",
    "\n",
    "# 00 - 59\n",
    "# 0-9: 6번 반복, 30-39: 10번 노출, 1번 중복, \n",
    "# 00-59에 총 15번 노출\n",
    "\n",
    "# 시간, 분, 초 단위에서 다음의 60진법이 노출\n",
    "# ~ 00: 00: 59, 15번\n",
    "# ~ 00: 01: 59, 30번 = 15*2\n",
    "# ~ 00: 02: 59, 45번 = 15*3\n",
    "# ~ 00: 03: 59, 105번 = 45번 + 60번\n",
    "# ...\n",
    "# ~ 00: 30: \n",
    "\n",
    "# 먼저 N시, "
   ]
  },
  {
   "cell_type": "code",
   "execution_count": 5,
   "metadata": {},
   "outputs": [
    {
     "name": "stdout",
     "output_type": "stream",
     "text": [
      "11475\n"
     ]
    }
   ],
   "source": [
    "n  =5\n",
    "# 시간단위에서 3이 노출되는 경우\n",
    "h = 0\n",
    "if n >= 3 : \n",
    "    h+=1\n",
    "if n >= 13 :\n",
    "    h+=1\n",
    "if n == 23 :\n",
    "    h +1\n",
    "    \n",
    "# 시간 단위에서 3일 때\n",
    "h*60*60\n",
    "\n",
    "# 시간 단위에서 3이 아닐때\n",
    "## 분 단위에서 3일때, \n",
    "(n-h+1)*15*60\n",
    "\n",
    "## 분 단위에서 3이 아닐때,\n",
    "### 초 단위에서 3일때\n",
    "(n-h+1)*45*15\n",
    "\n",
    "\n",
    "result = (h*60*60 + (n-h+1)*15*60 + (n-h+1)*45*15)\n",
    "print(result)"
   ]
  },
  {
   "cell_type": "code",
   "execution_count": 8,
   "metadata": {},
   "outputs": [],
   "source": [
    "# 이 경우 데이터의 크기가 100만개 이하이므로(고작 9만개 이하이다.)\n",
    "# 완전 탐색을 쓰는게 제일 편하다."
   ]
  },
  {
   "cell_type": "code",
   "execution_count": 9,
   "metadata": {},
   "outputs": [
    {
     "data": {
      "text/plain": [
       "86400"
      ]
     },
     "execution_count": 9,
     "metadata": {},
     "output_type": "execute_result"
    }
   ],
   "source": [
    "24*60*60"
   ]
  }
 ],
 "metadata": {
  "kernelspec": {
   "display_name": "Python 3",
   "language": "python",
   "name": "python3"
  },
  "language_info": {
   "codemirror_mode": {
    "name": "ipython",
    "version": 3
   },
   "file_extension": ".py",
   "mimetype": "text/x-python",
   "name": "python",
   "nbconvert_exporter": "python",
   "pygments_lexer": "ipython3",
   "version": "3.8.3"
  },
  "toc": {
   "base_numbering": 1,
   "nav_menu": {},
   "number_sections": true,
   "sideBar": true,
   "skip_h1_title": false,
   "title_cell": "Table of Contents",
   "title_sidebar": "Contents",
   "toc_cell": false,
   "toc_position": {},
   "toc_section_display": true,
   "toc_window_display": false
  }
 },
 "nbformat": 4,
 "nbformat_minor": 4
}
