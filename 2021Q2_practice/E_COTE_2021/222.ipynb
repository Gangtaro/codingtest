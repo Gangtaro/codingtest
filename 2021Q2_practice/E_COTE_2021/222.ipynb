{
 "cells": [
  {
   "cell_type": "code",
   "execution_count": 1,
   "metadata": {},
   "outputs": [],
   "source": [
    "places = [\n",
    "    [\"POOOP\", \n",
    "     \"OXXOX\", \n",
    "     \"OPXPX\", \n",
    "     \"OOXOX\", \n",
    "     \"POXXP\"], \n",
    "    [\"POOPX\", \"OXPXP\", \"PXXXO\", \"OXXXO\", \"OOOPP\"], \n",
    "    [\"PXOPX\", \"OXOXP\", \"OXPXX\", \"OXXXP\", \"POOXX\"], \n",
    "    [\"OOOXX\", \"XOOOX\", \"OOOXX\", \"OXOOX\", \"OOOOO\"], \n",
    "    [\"PXPXP\", \"XPXPX\", \"PXPXP\", \"XPXPX\", \"PXPXP\"]\n",
    "]"
   ]
  },
  {
   "cell_type": "code",
   "execution_count": 2,
   "metadata": {},
   "outputs": [],
   "source": [
    "#1 맨허튼 거리 2 이내에 다른 사람이 있는 것 부터 찾고\n",
    "#2 다음의 예외사항에 해당되는 것이 아니라면 지키고 않은 것이다\n",
    "#2-1) 직선구간에서 사이에 X\n",
    "#2-2) 사선구간에서 사이에 X 교차\n"
   ]
  },
  {
   "cell_type": "code",
   "execution_count": 7,
   "metadata": {},
   "outputs": [],
   "source": [
    "places_0= places[0]"
   ]
  },
  {
   "cell_type": "code",
   "execution_count": 9,
   "metadata": {},
   "outputs": [
    {
     "data": {
      "text/plain": [
       "'P'"
      ]
     },
     "execution_count": 9,
     "metadata": {},
     "output_type": "execute_result"
    }
   ],
   "source": [
    "places_0[0][0]"
   ]
  },
  {
   "cell_type": "code",
   "execution_count": 10,
   "metadata": {},
   "outputs": [],
   "source": [
    "# 너비 탐색으로 전채를 탐색 할까???\n",
    "\n",
    "\n",
    "from collections import deque"
   ]
  },
  {
   "cell_type": "code",
   "execution_count": null,
   "metadata": {},
   "outputs": [],
   "source": [
    "# 제일 왼쪽 상단부터 검사한다.\n",
    "d1x = [1, 0]\n",
    "d1y = [0, 1]\n",
    "\n",
    "d2x = [0, 1, 2]\n",
    "d2y = [2, 1, 0]\n",
    "\n",
    "def bfs(x,y)  :\n",
    "    queue = deque()\n",
    "    queue.append(x,y)\n",
    "    \n",
    "    # 큐가 빌때까지 반복\n",
    "    while queue :\n",
    "        x,y = queue.popleft()\n",
    "        # 현재 위치에서 4가지 방향으로 위치 확인\n",
    "        for i in range(4) : \n",
    "            new_x = x + dx[i]\n",
    "            new_y = y + dy[i]\n",
    "            \n",
    "            if new_x < 0 or new_y < 0 or new_x >=5 or new_y >=5 :\n",
    "                continue\n",
    "            if place[new_x][new_y] != 'P' : # 사람이 앉아 있는 자리가 아닌경우는 체크 안해도 된다.\n",
    "                continue\n",
    "            if place[new_x][new_y] == 'P' : \n",
    "                queue.append((new_x, new_y))"
   ]
  },
  {
   "cell_type": "code",
   "execution_count": 11,
   "metadata": {},
   "outputs": [],
   "source": [
    "place = places[0]"
   ]
  },
  {
   "cell_type": "code",
   "execution_count": 14,
   "metadata": {},
   "outputs": [
    {
     "ename": "AttributeError",
     "evalue": "'list' object has no attribute 'split'",
     "output_type": "error",
     "traceback": [
      "\u001b[0;31m---------------------------------------------------------------------------\u001b[0m",
      "\u001b[0;31mAttributeError\u001b[0m                            Traceback (most recent call last)",
      "\u001b[0;32m<ipython-input-14-df64632c6fa8>\u001b[0m in \u001b[0;36m<module>\u001b[0;34m\u001b[0m\n\u001b[0;32m----> 1\u001b[0;31m \u001b[0mplace\u001b[0m\u001b[0;34m.\u001b[0m\u001b[0msplit\u001b[0m\u001b[0;34m(\u001b[0m\u001b[0;34m)\u001b[0m\u001b[0;34m\u001b[0m\u001b[0;34m\u001b[0m\u001b[0m\n\u001b[0m",
      "\u001b[0;31mAttributeError\u001b[0m: 'list' object has no attribute 'split'"
     ]
    }
   ],
   "source": [
    "place.split()"
   ]
  },
  {
   "cell_type": "code",
   "execution_count": 21,
   "metadata": {},
   "outputs": [
    {
     "data": {
      "text/plain": [
       "2.0"
      ]
     },
     "execution_count": 21,
     "metadata": {},
     "output_type": "execute_result"
    }
   ],
   "source": [
    "import numpy as np\n",
    "int(np.mean([1,3]))\n",
    "np.median([1,3])"
   ]
  },
  {
   "cell_type": "code",
   "execution_count": 22,
   "metadata": {},
   "outputs": [
    {
     "ename": "SyntaxError",
     "evalue": "'return' outside function (<ipython-input-22-ae4504bb8802>, line 24)",
     "output_type": "error",
     "traceback": [
      "\u001b[0;36m  File \u001b[0;32m\"<ipython-input-22-ae4504bb8802>\"\u001b[0;36m, line \u001b[0;32m24\u001b[0m\n\u001b[0;31m    return 0\u001b[0m\n\u001b[0m    ^\u001b[0m\n\u001b[0;31mSyntaxError\u001b[0m\u001b[0;31m:\u001b[0m 'return' outside function\n"
     ]
    }
   ],
   "source": [
    "import numpy as np\n",
    "\n",
    "# 검사 방향은 왼쪽 상단 (0,0)부터 (0,1), .. ,(4,4)까지 열 -> 행 순으로 전개\n",
    "d1x = [1, 0]\n",
    "d1y = [0, 1]\n",
    "\n",
    "d2x = [0, 1, 2]\n",
    "d2y = [2, 1, 0]\n",
    "\n",
    "\n",
    "for j in range(4): # 열 전개 (제일 가장자리는 확인할 필요 없음)\n",
    "    for i in range(4) : # 행 전개 (제일 가장자리는 확인할 필요 없음)\n",
    "        # 사람이 앉아 있는 곳이 아니라면 PASS\n",
    "        if place[i][j] != 'P': \n",
    "            continue\n",
    "        \n",
    "        # 거리가 1인 구간 탐색\n",
    "        for l1 in range(2) : \n",
    "            new_x = i + d1x[l1]\n",
    "            new_y = j + d1y[l1]\n",
    "            if new_x < 0 or new_y < 0 or new_x >=5 or new_y >=5 :\n",
    "                continue\n",
    "            if place[new_x][new_y] == 'P' : \n",
    "                return 0\n",
    "            \n",
    "        # 거리가 2인 구간 탐색\n",
    "        for l2 in range(3) :\n",
    "            new_x = i + d2x[l2]\n",
    "            new_y = j + d2y[l2]\n",
    "            if new_x < 0 or new_y < 0 or new_x >=5 or new_y >=5 :\n",
    "                continue\n",
    "            \n",
    "            # 만일 맨허튼 거리 2에서 다른 사용자가 보인다면\n",
    "            if place[new_x][new_y] == 'P' :\n",
    "                # 사선에 위치한 경우\n",
    "                if np.abs(i-new_x) == 1 :\n",
    "                    # 둘다X가 아니라면 return 0\n",
    "                    if place[i+1][j] != 'X' |  place[i][j+1] != 'X'  :\n",
    "                        return 0\n",
    "                # 직선상에 위치한 경우\n",
    "                if np.abs(i-new_x) == 0 or np.abs(i-new_x) == 2 :\n",
    "                    # 중간자리가 X가 아니라면 return 0\n",
    "                    # 중간 위치\n",
    "                    med_x = int(np.median([i,new_x]))\n",
    "                    med_y = int(np.median([j,new_y]))\n",
    "                    if place[med_x][med_y] != 'X' :\n",
    "                        return 0\n",
    "                    \n",
    "                \n",
    "            \n",
    "            "
   ]
  },
  {
   "cell_type": "code",
   "execution_count": 29,
   "metadata": {},
   "outputs": [],
   "source": [
    "def take_answer(place) :\n",
    "    import numpy as np\n",
    "\n",
    "    # 검사 방향은 왼쪽 상단 (0,0)부터 (0,1), .. ,(4,4)까지 열 -> 행 순으로 전개\n",
    "    d1x = [1, 0]\n",
    "    d1y = [0, 1]\n",
    "\n",
    "    d2x = [0, 1, 2]\n",
    "    d2y = [2, 1, 0]\n",
    "    \n",
    "    for j in range(5): # 열 전개 (제일 가장자리는 확인할 필요 없음)\n",
    "        for i in range(5) : # 행 전개 (제일 가장자리는 확인할 필요 없음)\n",
    "            # 사람이 앉아 있는 곳이 아니라면 PASS\n",
    "            if place[i][j] != 'P': \n",
    "                continue\n",
    "\n",
    "            # 거리가 1인 구간 탐색\n",
    "            for l1 in range(2) : \n",
    "                new_x = i + d1x[l1]\n",
    "                new_y = j + d1y[l1]\n",
    "                if new_x < 0 or new_y < 0 or new_x >=5 or new_y >=5 :\n",
    "                    continue\n",
    "                if place[new_x][new_y] == 'P' : \n",
    "                    return 0\n",
    "\n",
    "            # 거리가 2인 구간 탐색\n",
    "            for l2 in range(3) :\n",
    "                new_x = i + d2x[l2]\n",
    "                new_y = j + d2y[l2]\n",
    "                if new_x < 0 or new_y < 0 or new_x >=5 or new_y >=5 :\n",
    "                    continue\n",
    "\n",
    "                # 만일 맨허튼 거리 2에서 다른 사용자가 보인다면\n",
    "                if place[new_x][new_y] == 'P' :\n",
    "                    # 사선에 위치한 경우\n",
    "                    if np.abs(i-new_x) == 1 :\n",
    "                        # 둘다X가 아니라면 return 0\n",
    "                        if place[i+1][j] != 'X' or  place[i][j+1] != 'X'  :\n",
    "                            return 0\n",
    "                    # 직선상에 위치한 경우\n",
    "                    if np.abs(i-new_x) == 0 or np.abs(i-new_x) == 2 :\n",
    "                        # 중간자리가 X가 아니라면 return 0\n",
    "                        # 중간 위치\n",
    "                        med_x = int(np.median([i,new_x]))\n",
    "                        med_y = int(np.median([j,new_y]))\n",
    "                        if place[med_x][med_y] != 'X' :\n",
    "                            return 0\n",
    "    return 1"
   ]
  },
  {
   "cell_type": "code",
   "execution_count": 32,
   "metadata": {},
   "outputs": [
    {
     "data": {
      "text/plain": [
       "1"
      ]
     },
     "execution_count": 32,
     "metadata": {},
     "output_type": "execute_result"
    }
   ],
   "source": [
    "take_answer(places[4]) "
   ]
  },
  {
   "cell_type": "code",
   "execution_count": 33,
   "metadata": {},
   "outputs": [],
   "source": [
    "def solution(places):\n",
    "    answer = []\n",
    "    for place in places :\n",
    "        answer.append(take_answer(place))\n",
    "    return answer"
   ]
  },
  {
   "cell_type": "code",
   "execution_count": 34,
   "metadata": {},
   "outputs": [
    {
     "data": {
      "text/plain": [
       "[1, 0, 1, 1, 1]"
      ]
     },
     "execution_count": 34,
     "metadata": {},
     "output_type": "execute_result"
    }
   ],
   "source": [
    "solution(places)"
   ]
  },
  {
   "cell_type": "code",
   "execution_count": 35,
   "metadata": {},
   "outputs": [],
   "source": [
    "def take_answer(place) :\n",
    "    import numpy as np\n",
    "\n",
    "    # 검사 방향은 왼쪽 상단 (0,0)부터 (0,1), .. ,(4,4)까지 열 -> 행 순으로 전개\n",
    "    d1x = [1, 0]\n",
    "    d1y = [0, 1]\n",
    "\n",
    "    d2x = [0, 1, 2, 1, 0]\n",
    "    d2y = [-2, -1, 0, 1, 2]\n",
    "    \n",
    "    for i in range(5): #행 전개 \n",
    "        for j in range(5) : #열 전개 \n",
    "            # 사람이 앉아 있는 곳이 아니라면 PASS\n",
    "            if place[i][j] != 'P': \n",
    "                continue\n",
    "\n",
    "            # 거리가 1인 구간 탐색\n",
    "            for l1 in range(2) : \n",
    "                new_x = i + d1x[l1]\n",
    "                new_y = j + d1y[l1]\n",
    "                if new_x >=5 or new_y >=5 :\n",
    "                    continue\n",
    "                if place[new_x][new_y] == 'P' : \n",
    "                    return 0\n",
    "\n",
    "            # 거리가 2인 구간 탐색\n",
    "            for l2 in range(5) :\n",
    "                new_x = i + d2x[l2]\n",
    "                new_y = j + d2y[l2]\n",
    "                if new_x >=5 or new_y >=5 or new_y < 0:\n",
    "                    continue\n",
    "\n",
    "                # 만일 맨허튼 거리 2에서 다른 사용자가 보인다면\n",
    "                if place[new_x][new_y] == 'P' :\n",
    "                    # 사선에 위치한 경우\n",
    "                    if l2 == 1 :\n",
    "                        if place[i][j-1] != 'X' or place[i+1][j] != 'X' : \n",
    "                            return 0\n",
    "                    elif l2 == 3 : \n",
    "                        # 둘다X가 아니라면 return 0\n",
    "                        if place[i+1][j] != 'X' or  place[i][j+1] != 'X'  :\n",
    "                            return 0\n",
    "                    # 직선상에 위치한 경우\n",
    "                    else :\n",
    "                        # 중간자리가 X가 아니라면 return 0\n",
    "                        # 중간 위치\n",
    "                        med_x = int(np.median([i,new_x]))\n",
    "                        med_y = int(np.median([j,new_y]))\n",
    "                        if place[med_x][med_y] != 'X' :\n",
    "                            return 0\n",
    "    return 1\n",
    "\n",
    "def solution(places):\n",
    "    answer = []\n",
    "    for place in places :\n",
    "        answer.append(take_answer(place))\n",
    "    return answer"
   ]
  },
  {
   "cell_type": "code",
   "execution_count": 36,
   "metadata": {},
   "outputs": [
    {
     "data": {
      "text/plain": [
       "[1, 0, 1, 1, 1]"
      ]
     },
     "execution_count": 36,
     "metadata": {},
     "output_type": "execute_result"
    }
   ],
   "source": [
    "solution(places)"
   ]
  },
  {
   "cell_type": "code",
   "execution_count": null,
   "metadata": {},
   "outputs": [],
   "source": []
  }
 ],
 "metadata": {
  "kernelspec": {
   "display_name": "Python 3",
   "language": "python",
   "name": "python3"
  },
  "language_info": {
   "codemirror_mode": {
    "name": "ipython",
    "version": 3
   },
   "file_extension": ".py",
   "mimetype": "text/x-python",
   "name": "python",
   "nbconvert_exporter": "python",
   "pygments_lexer": "ipython3",
   "version": "3.8.3"
  },
  "toc": {
   "base_numbering": 1,
   "nav_menu": {},
   "number_sections": true,
   "sideBar": true,
   "skip_h1_title": false,
   "title_cell": "Table of Contents",
   "title_sidebar": "Contents",
   "toc_cell": false,
   "toc_position": {},
   "toc_section_display": true,
   "toc_window_display": false
  }
 },
 "nbformat": 4,
 "nbformat_minor": 4
}
