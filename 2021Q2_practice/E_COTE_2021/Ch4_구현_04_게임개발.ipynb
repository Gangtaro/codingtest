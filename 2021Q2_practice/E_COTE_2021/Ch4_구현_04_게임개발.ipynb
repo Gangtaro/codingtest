{
 "cells": [
  {
   "cell_type": "code",
   "execution_count": 1,
   "metadata": {},
   "outputs": [],
   "source": [
    "# 가보지 않은 길의 탐색은 왼쪽으로 회전\n",
    "# 만약에 정면 기준으로 왼쪽이 바다이거나 가본 칸이라면, 그냥 왼쪽으로 돌기만한다.\n",
    "# 4방향이 모두 가본 칸이거나, 바다이라면, 뒤로 움직인다.\n",
    "# 만약에 뒤가 바다인경우 멈춘다.\n",
    "\n",
    "# 이때 방문한 칸의 횟수를 구하시오.\n",
    "array = [[1,1,1,1],\n",
    "         [1,0,0,1],\n",
    "         [1,1,0,1],\n",
    "         [1,1,1,1]]"
   ]
  },
  {
   "cell_type": "code",
   "execution_count": 5,
   "metadata": {},
   "outputs": [
    {
     "data": {
      "text/plain": [
       "0"
      ]
     },
     "execution_count": 5,
     "metadata": {},
     "output_type": "execute_result"
    }
   ],
   "source": [
    "# 이동방향\n",
    "dx = [1,-1, 0, 0]\n",
    "dy = [0, 0, 1,-1]\n",
    "\n",
    "# 현재 위치\n",
    "x, y = (1, 1)\n",
    "\n",
    "array[1][1]"
   ]
  },
  {
   "cell_type": "code",
   "execution_count": null,
   "metadata": {},
   "outputs": [],
   "source": [
    "# 현재 위치 정보     -> 현재 위치는 가본곳이므로 이를 저장한다.\n",
    "# 보고 있는 방향 정보 -> 토대로 왼쪽에 있는지 확인, 왼쪽이 가본곳인지, 바다인지, 안가본곳인지 알아야함"
   ]
  }
 ],
 "metadata": {
  "kernelspec": {
   "display_name": "Python 3",
   "language": "python",
   "name": "python3"
  },
  "language_info": {
   "codemirror_mode": {
    "name": "ipython",
    "version": 3
   },
   "file_extension": ".py",
   "mimetype": "text/x-python",
   "name": "python",
   "nbconvert_exporter": "python",
   "pygments_lexer": "ipython3",
   "version": "3.8.3"
  },
  "toc": {
   "base_numbering": 1,
   "nav_menu": {},
   "number_sections": true,
   "sideBar": true,
   "skip_h1_title": false,
   "title_cell": "Table of Contents",
   "title_sidebar": "Contents",
   "toc_cell": false,
   "toc_position": {},
   "toc_section_display": true,
   "toc_window_display": false
  }
 },
 "nbformat": 4,
 "nbformat_minor": 4
}
