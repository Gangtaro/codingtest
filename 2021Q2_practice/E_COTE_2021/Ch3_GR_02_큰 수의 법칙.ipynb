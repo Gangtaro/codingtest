{
 "cells": [
  {
   "cell_type": "code",
   "execution_count": 1,
   "metadata": {},
   "outputs": [],
   "source": [
    "n = 5\n",
    "m = 8\n",
    "k = 3\n",
    "data = [2,4,5,4,6]"
   ]
  },
  {
   "cell_type": "code",
   "execution_count": 2,
   "metadata": {},
   "outputs": [],
   "source": [
    "# idea\n",
    "# 제일 큰 값과, 두번째로 큰 값만이 사용된다.\n",
    "# 1. 제일 큰 값이 2개로 일치한다면, 그 값만 M번 반복해서 더해주면 된다.\n",
    "# 2. 1번의 경우가 아니라면, M을 (K+1)로 나눈 몫 만큼 두번째 값을 더해주고, 나머지는 최대값으로 채운다.\n",
    "\n",
    "# 추가 수정+\n",
    "# 1번의 경우를 따로 지정해줄필요없이, 2번으로 일반화 가능하다, (시간 복잡도를 건드리지 않는다.)"
   ]
  },
  {
   "cell_type": "code",
   "execution_count": 9,
   "metadata": {},
   "outputs": [
    {
     "name": "stdout",
     "output_type": "stream",
     "text": [
      "46\n"
     ]
    }
   ],
   "source": [
    "data.sort() # 데이터 정렬\n",
    "max1 = data[-1] # 1번째로 큰 값\n",
    "max2 = data[-2] # 2번째로 큰 값\n",
    "\n",
    "count_m2 = m//(k+1)\n",
    "count_m1 = m - count_m2\n",
    "\n",
    "result = count_m1*max1+count_m2*max2\n",
    "\n",
    "print(result)"
   ]
  },
  {
   "cell_type": "code",
   "execution_count": 8,
   "metadata": {},
   "outputs": [
    {
     "name": "stdout",
     "output_type": "stream",
     "text": [
      "5 8 3\n",
      "2 4 5 4 6\n"
     ]
    }
   ],
   "source": [
    "# N,M,K 입력 받기\n",
    "n, m, k = map(int, input().split())\n",
    "\n",
    "# N개의 수를 공백으로 구분하여 입력받기\n",
    "data = list(map(int, input().split()))"
   ]
  },
  {
   "cell_type": "code",
   "execution_count": 10,
   "metadata": {},
   "outputs": [
    {
     "name": "stdout",
     "output_type": "stream",
     "text": [
      "46\n"
     ]
    }
   ],
   "source": [
    "data.sort() # 데이터 정렬\n",
    "max1 = data[-1] # 1번째로 큰 값\n",
    "max2 = data[-2] # 2번째로 큰 값\n",
    "\n",
    "count_m2 = m//(k+1)\n",
    "count_m1 = m - count_m2\n",
    "\n",
    "result = count_m1*max1+count_m2*max2\n",
    "\n",
    "print(result)"
   ]
  },
  {
   "cell_type": "code",
   "execution_count": null,
   "metadata": {},
   "outputs": [],
   "source": []
  }
 ],
 "metadata": {
  "kernelspec": {
   "display_name": "Python 3",
   "language": "python",
   "name": "python3"
  },
  "language_info": {
   "codemirror_mode": {
    "name": "ipython",
    "version": 3
   },
   "file_extension": ".py",
   "mimetype": "text/x-python",
   "name": "python",
   "nbconvert_exporter": "python",
   "pygments_lexer": "ipython3",
   "version": "3.8.3"
  },
  "toc": {
   "base_numbering": 1,
   "nav_menu": {},
   "number_sections": true,
   "sideBar": true,
   "skip_h1_title": false,
   "title_cell": "Table of Contents",
   "title_sidebar": "Contents",
   "toc_cell": false,
   "toc_position": {},
   "toc_section_display": true,
   "toc_window_display": false
  }
 },
 "nbformat": 4,
 "nbformat_minor": 4
}
