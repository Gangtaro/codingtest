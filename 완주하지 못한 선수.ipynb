{
 "cells": [
  {
   "cell_type": "markdown",
   "metadata": {},
   "source": [
    "### my work"
   ]
  },
  {
   "cell_type": "code",
   "execution_count": 1,
   "metadata": {},
   "outputs": [],
   "source": [
    "import pandas as pd\n",
    "import numpy as np\n",
    "def solution(participant, completion):\n",
    "    \n",
    "    part = pd.DataFrame({'index' : participant, 'inp' : np.ones(len(participant))})\n",
    "    comp = pd.DataFrame({'index':completion, 'inc' : np.ones(len(completion))})\n",
    "    check = pd.merge(part.groupby('index').count(), comp.groupby('index').count(), on = 'index', how = 'left').fillna(0)\n",
    "    return check[check['inp'] - check['inc'] == 1].index[0]"
   ]
  },
  {
   "cell_type": "code",
   "execution_count": 2,
   "metadata": {},
   "outputs": [
    {
     "data": {
      "text/plain": [
       "'leo'"
      ]
     },
     "execution_count": 2,
     "metadata": {},
     "output_type": "execute_result"
    }
   ],
   "source": [
    "participant, completion = [\"leo\", \"kiki\", \"eden\",'leo'], ['leo',\"eden\", \"kiki\"]\n",
    "solution(participant, completion)"
   ]
  },
  {
   "cell_type": "markdown",
   "metadata": {},
   "source": [
    "### best work\n",
    "\n",
    "- collections module\n",
    "- collections.Count"
   ]
  },
  {
   "cell_type": "code",
   "execution_count": 3,
   "metadata": {},
   "outputs": [],
   "source": [
    "import collections\n",
    "\n",
    "\n",
    "def solution(participant, completion):\n",
    "    answer = collections.Counter(participant) - collections.Counter(completion)\n",
    "    return list(answer.keys())[0]\n"
   ]
  },
  {
   "cell_type": "code",
   "execution_count": 4,
   "metadata": {},
   "outputs": [
    {
     "data": {
      "text/plain": [
       "'leo'"
      ]
     },
     "execution_count": 4,
     "metadata": {},
     "output_type": "execute_result"
    }
   ],
   "source": [
    "solution(participant, completion)"
   ]
  },
  {
   "cell_type": "markdown",
   "metadata": {},
   "source": [
    "### Summary\n",
    "문제: 하나의 리스트A에서 하나의 원소가 빠진 리스트B를 비교하여 빠진 원소를 찾아내기.\n",
    "해결: pandas.DataFrame을 이용하여 groupby, count, merge로 테이블을 생성 후 개수가 하나 모자라는 값을 택한다.\n",
    "오답노트: merge, concat 함수 사용의 미숙함, Collections module을 공부하고 이를 이용한 풀이에 대해 학습하자."
   ]
  }
 ],
 "metadata": {
  "kernelspec": {
   "display_name": "Python 3",
   "language": "python",
   "name": "python3"
  },
  "language_info": {
   "codemirror_mode": {
    "name": "ipython",
    "version": 3
   },
   "file_extension": ".py",
   "mimetype": "text/x-python",
   "name": "python",
   "nbconvert_exporter": "python",
   "pygments_lexer": "ipython3",
   "version": "3.8.3"
  }
 },
 "nbformat": 4,
 "nbformat_minor": 4
}
