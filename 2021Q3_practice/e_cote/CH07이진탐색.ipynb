{
 "cells": [
  {
   "cell_type": "markdown",
   "metadata": {},
   "source": [
    "## 범위를 반씩 좁혀가는 탐색"
   ]
  },
  {
   "cell_type": "markdown",
   "metadata": {},
   "source": [
    "### 순차 탐색\n",
    "- 리스트 안에 있는 특정한 데이터를 찾기 위해 앞에서부터 데이터를 하나씩 차례대로 확인하는 방법이다. "
   ]
  },
  {
   "cell_type": "markdown",
   "metadata": {},
   "source": [
    "### 이진 탐색 : 반으로 쪼개면서 탐색하기\n",
    "- 배열 내부의 데이터가 정렬되어 있어야만 사용할 수 있는 알고리즘이다. \n",
    "- 탐색 범위를 절반씩 좁혀가며 데이터를 탐색하는 특징이 있다. \n",
    "\n",
    "\n",
    "- 위치를 나타내는 변수 3개를 사용하는데 탐색하고자 하는 범위의 **시작점, 끝점, 중간점**\n",
    "\n",
    "- **찾으려는 데이터와 <u>중간점</u> 위치에 있는 데이터를 반복적으로 비교**해서 원하는 데이터를 찾는게 이진 탐색 과정이다. "
   ]
  },
  {
   "cell_type": "code",
   "execution_count": 1,
   "metadata": {},
   "outputs": [],
   "source": [
    "# 재귀함수를 이용한 이진탐색\n",
    "def binary_search(array, target, start, end): #array문자열, target: 문자열 내에서 찾고자하는 숫자, \n",
    "    if start > end :\n",
    "        return None\n",
    "    mid = (start+end)//2\n",
    "    \n",
    "    if array[mid] == target :\n",
    "        return mid\n",
    "    elif array[mid] < target :\n",
    "        return binary_search(array, target, mid+1, end)\n",
    "    else : \n",
    "        return binary_search(array, target, start, mid-1)"
   ]
  },
  {
   "cell_type": "code",
   "execution_count": 10,
   "metadata": {},
   "outputs": [
    {
     "name": "stdout",
     "output_type": "stream",
     "text": [
      "4\n"
     ]
    }
   ],
   "source": [
    "array = [1,3,5,7,9,11,13,15,17,19]\n",
    "target, start, end = 7, 0, len(array)-1\n",
    "result = binary_search(array, target, start, end)\n",
    "if result == None : \n",
    "    print('없음')\n",
    "else : \n",
    "    print(result+1)"
   ]
  },
  {
   "cell_type": "code",
   "execution_count": 9,
   "metadata": {},
   "outputs": [
    {
     "name": "stdout",
     "output_type": "stream",
     "text": [
      "없음\n"
     ]
    }
   ],
   "source": [
    "array = [1,3,5,9,11,13,15,17,19]\n",
    "target, start, end = 7, 0, len(array)-1\n",
    "result = binary_search(array, target, start, end)\n",
    "if result == None : \n",
    "    print('없음')\n",
    "else : \n",
    "    print(result+1)"
   ]
  },
  {
   "cell_type": "code",
   "execution_count": 11,
   "metadata": {},
   "outputs": [],
   "source": [
    "# 반복문을 이용한 이진 탐색\n",
    "def binary_search(array, target, start, end):\n",
    "    while start<=end:\n",
    "        mid = (start+end)//2\n",
    "        \n",
    "        if target == array[mid] : \n",
    "            return mid\n",
    "        elif target < array[mid] :\n",
    "            end = mid -1 \n",
    "        else  :\n",
    "            start = mid + 1\n",
    "            \n",
    "    return None\n"
   ]
  },
  {
   "cell_type": "code",
   "execution_count": 12,
   "metadata": {},
   "outputs": [
    {
     "name": "stdout",
     "output_type": "stream",
     "text": [
      "4\n"
     ]
    }
   ],
   "source": [
    "array = [1,3,5,7,9,11,13,15,17,19]\n",
    "target, start, end = 7, 0, len(array)-1\n",
    "result = binary_search(array, target, start, end)\n",
    "if result == None : \n",
    "    print('없음')\n",
    "else : \n",
    "    print(result+1)"
   ]
  },
  {
   "cell_type": "code",
   "execution_count": 13,
   "metadata": {},
   "outputs": [
    {
     "name": "stdout",
     "output_type": "stream",
     "text": [
      "없음\n"
     ]
    }
   ],
   "source": [
    "array = [1,3,5,9,11,13,15,17,19]\n",
    "target, start, end = 7, 0, len(array)-1\n",
    "result = binary_search(array, target, start, end)\n",
    "if result == None : \n",
    "    print('없음')\n",
    "else : \n",
    "    print(result+1)"
   ]
  },
  {
   "cell_type": "markdown",
   "metadata": {},
   "source": [
    "### 트리 자료구조\n",
    "\n",
    "- 이진 탐색은 전제 조건이, **데이터 정렬**이다.\n",
    "- 데이터베이스는 내부적으로 대용량 데이터 처리에 적합한 Tree 자료구조를 이용하여 항상 데이터가 정렬되어있다. \n",
    "- 따라서 데이터베이스에서의 탐색은 이진 탐색과는 조금 다르지만, 이진 탐색과 유사한 방법을 이용해 탐색을 항상 빠르게 수행하도록 설계되어 있어서 데이터가 많아도 탐색하는 속도가 빠르다.\n",
    "\n",
    "\n",
    "- 트리는 부모 노드와 자식 노드의 관계로 표현된다. \n",
    "- 트리의 최상단 노드를 루트 노드라고 한다. \n",
    "- 트리의 최하단 노드를 단말 노드라고 한다. \n",
    "- 트리에서 일부를 떼어내도 트리 구조이며 이를 서브트리라고 한다. \n",
    "- 트리는 파일 시스템과 같이 계층적이고 정렬된 데이터를 다루기에 적합하다. \n",
    "\n",
    "### 이진 탐색 트리\n",
    "- **왼쪽 자식 노드 < 부모 노드 < 오른쪽 자식 노드**\n",
    "    - 부모 노드보다 왼쪽 자식 노드가 작다\n",
    "    - 부모 노드보다 오른쪽 자식 노드가 크다\n",
    "\n"
   ]
  },
  {
   "cell_type": "code",
   "execution_count": 20,
   "metadata": {},
   "outputs": [
    {
     "name": "stdout",
     "output_type": "stream",
     "text": [
      "\n"
     ]
    }
   ],
   "source": [
    "# 빠르게 입력 받기 소스코드\n",
    "import sys\n",
    "input_data = sys.stdin.readline().rstrip()\n",
    "\n",
    "print(input_data)"
   ]
  },
  {
   "cell_type": "markdown",
   "metadata": {},
   "source": [
    "## 실전 문제 부품 찾기"
   ]
  },
  {
   "cell_type": "code",
   "execution_count": 21,
   "metadata": {},
   "outputs": [],
   "source": [
    "N, M = 5, 3\n",
    "array = [8, 3, 7, 9, 2]\n",
    "query = [5, 7, 9]"
   ]
  },
  {
   "cell_type": "code",
   "execution_count": 27,
   "metadata": {},
   "outputs": [],
   "source": [
    "# 집합 연산으로 계산하기\n",
    "def exist(array, query):\n",
    "    for i in query : \n",
    "        if i in array : \n",
    "            print( 'Yes')\n",
    "        else : \n",
    "            print('No')"
   ]
  },
  {
   "cell_type": "code",
   "execution_count": 28,
   "metadata": {},
   "outputs": [
    {
     "name": "stdout",
     "output_type": "stream",
     "text": [
      "No\n",
      "Yes\n",
      "Yes\n"
     ]
    }
   ],
   "source": [
    "exist(array, query)"
   ]
  },
  {
   "cell_type": "code",
   "execution_count": 32,
   "metadata": {},
   "outputs": [],
   "source": [
    "# 이진 탐색법으로 구현하기 \n",
    "\n",
    "# 우선 이진 탐색 알고리즘을 구현한다. \n",
    "def binary_search(array, target, start, end) :\n",
    "    if start >= end : \n",
    "        return None\n",
    "    mid = (start+end)//2\n",
    "    if array[mid] == target : \n",
    "        return mid\n",
    "    elif array[mid] > target : \n",
    "        return binary_search(array, target, start, mid-1)\n",
    "    else  :\n",
    "        return binary_search(array, target, mid+1, end)\n",
    "        "
   ]
  },
  {
   "cell_type": "code",
   "execution_count": 33,
   "metadata": {},
   "outputs": [],
   "source": [
    "def is_it_in(array, query):\n",
    "    start = 0\n",
    "    end = len(array)-1\n",
    "    for target in query : \n",
    "        result = binary_search(array, target, start, end)\n",
    "        if result == None : \n",
    "            print('no', end = ' ')\n",
    "        else  :\n",
    "            print('yes', end = ' ')    "
   ]
  },
  {
   "cell_type": "code",
   "execution_count": 34,
   "metadata": {},
   "outputs": [
    {
     "name": "stdout",
     "output_type": "stream",
     "text": [
      "no yes yes "
     ]
    }
   ],
   "source": [
    "is_it_in(array, query)"
   ]
  },
  {
   "cell_type": "markdown",
   "metadata": {},
   "source": [
    "### 실전 문제 떡볶이 떡 만들기"
   ]
  },
  {
   "cell_type": "code",
   "execution_count": 35,
   "metadata": {},
   "outputs": [],
   "source": [
    "N, M = 4, 6\n",
    "array = [19,15,10,17]"
   ]
  },
  {
   "cell_type": "code",
   "execution_count": 49,
   "metadata": {},
   "outputs": [
    {
     "name": "stdout",
     "output_type": "stream",
     "text": [
      "0 18\n",
      "1 17\n",
      "2 16\n",
      "4 15\n",
      "6 14\n",
      "14\n"
     ]
    }
   ],
   "source": [
    "# 제일 큰 것 = H로 정해서 1씩 크기르 ㄹ줄여나간다. \n",
    "# H보다 큰 것을 찾는다. \n",
    "\n",
    "H = max(array)\n",
    "sums = 0\n",
    "for h in range(H-1,0,-1):\n",
    "    print(sums, h)\n",
    "    if sums == 6 : \n",
    "        print(h)\n",
    "        break\n",
    "    sums = 0\n",
    "    for i in array : \n",
    "        if i > h :\n",
    "            sums+=(i-h)\n",
    "            \n",
    "            "
   ]
  },
  {
   "cell_type": "code",
   "execution_count": 41,
   "metadata": {},
   "outputs": [
    {
     "data": {
      "text/plain": [
       "[19, 15, 10, 17]"
      ]
     },
     "execution_count": 41,
     "metadata": {},
     "output_type": "execute_result"
    }
   ],
   "source": [
    "uppers"
   ]
  },
  {
   "cell_type": "code",
   "execution_count": null,
   "metadata": {},
   "outputs": [],
   "source": []
  }
 ],
 "metadata": {
  "kernelspec": {
   "display_name": "Python 3",
   "language": "python",
   "name": "python3"
  },
  "language_info": {
   "codemirror_mode": {
    "name": "ipython",
    "version": 3
   },
   "file_extension": ".py",
   "mimetype": "text/x-python",
   "name": "python",
   "nbconvert_exporter": "python",
   "pygments_lexer": "ipython3",
   "version": "3.8.3"
  },
  "toc": {
   "base_numbering": 1,
   "nav_menu": {},
   "number_sections": true,
   "sideBar": true,
   "skip_h1_title": false,
   "title_cell": "Table of Contents",
   "title_sidebar": "Contents",
   "toc_cell": false,
   "toc_position": {},
   "toc_section_display": true,
   "toc_window_display": false
  }
 },
 "nbformat": 4,
 "nbformat_minor": 4
}
