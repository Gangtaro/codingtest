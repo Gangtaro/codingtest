{
 "cells": [
  {
   "cell_type": "code",
   "execution_count": 76,
   "metadata": {},
   "outputs": [],
   "source": [
    "new_id = '...!@BaT#*..y.abcdefghijklm-_'\n",
    "new_id = 'z-+.^.'\n"
   ]
  },
  {
   "cell_type": "code",
   "execution_count": 77,
   "metadata": {},
   "outputs": [],
   "source": [
    "# 1. 소문자화\n",
    "new_id = new_id.lower()\n",
    "\n",
    "# 2. 영어소문자, 숫자 , -, _, . 빼고 지워\n",
    "import re\n",
    "new_id = ''.join(re.findall(r'[a-z0-9\\-^\\.^\\_]', new_id))\n",
    "\n",
    "# 3. 중복되는 . 순열을 다 .로 바꿔\n",
    "new_id = re.sub(r'\\.+', r'.', new_id)\n",
    "\n",
    "# 4. 앞 뒤 . 제거\n",
    "if new_id[0] == '.' :\n",
    "    new_id = new_id[1:]\n",
    "if new_id[-1] == '.':\n",
    "    new_id = new_id[:-1]\n",
    "    \n",
    "# 5. 빈문자열 처리\n",
    "if new_id == '':\n",
    "    new_id = 'a'\n",
    "    \n",
    "# 6. \n",
    "if len(new_id) >= 16 :\n",
    "    new_id = new_id[:15]\n",
    "    \n",
    "# 7. \n",
    "if new_id[-1] == '.':\n",
    "    new_id = new_id[:-1]\n",
    "\n",
    "if len(new_id)<=2:\n",
    "    while len(new_id) <3 :\n",
    "        new_id += new_id[-1]"
   ]
  },
  {
   "cell_type": "code",
   "execution_count": 88,
   "metadata": {},
   "outputs": [],
   "source": [
    "def solution(new_id):\n",
    "    # 1. 소문자화\n",
    "    new_id = new_id.lower()\n",
    "\n",
    "    # 2. 영어소문자, 숫자 , -, _, . 빼고 지워\n",
    "    import re\n",
    "    new_id = ''.join(re.findall(r'[\\w\\-\\.\\_]', new_id))\n",
    "\n",
    "    # 3. 중복되는 . 순열을 다 .로 바꿔\n",
    "    new_id = re.sub(r'\\.+', r'.', new_id)\n",
    "\n",
    "    # 4. 앞 뒤 . 제거\n",
    "    if new_id != '':\n",
    "        if new_id[0] == '.' :\n",
    "            new_id = new_id[1:]\n",
    "    if new_id != '':        \n",
    "        if new_id[-1] == '.':\n",
    "            new_id = new_id[:-1]\n",
    "\n",
    "    # 5. 빈문자열 처리\n",
    "    if new_id == '':\n",
    "        new_id = 'a'\n",
    "\n",
    "    # 6. \n",
    "    if len(new_id) >= 16 :\n",
    "        new_id = new_id[:15]\n",
    "\n",
    "    # 7. \n",
    "    if new_id[-1] == '.':\n",
    "        new_id = new_id[:-1]\n",
    "\n",
    "    if len(new_id)<=2:\n",
    "        while len(new_id) <3 :\n",
    "            new_id += new_id[-1]    \n",
    "    return new_id"
   ]
  },
  {
   "cell_type": "code",
   "execution_count": 89,
   "metadata": {},
   "outputs": [
    {
     "data": {
      "text/plain": [
       "'aaa'"
      ]
     },
     "execution_count": 89,
     "metadata": {},
     "output_type": "execute_result"
    }
   ],
   "source": [
    "solution('=.=')"
   ]
  },
  {
   "cell_type": "code",
   "execution_count": null,
   "metadata": {},
   "outputs": [],
   "source": []
  }
 ],
 "metadata": {
  "kernelspec": {
   "display_name": "Python 3",
   "language": "python",
   "name": "python3"
  },
  "language_info": {
   "codemirror_mode": {
    "name": "ipython",
    "version": 3
   },
   "file_extension": ".py",
   "mimetype": "text/x-python",
   "name": "python",
   "nbconvert_exporter": "python",
   "pygments_lexer": "ipython3",
   "version": "3.8.3"
  },
  "toc": {
   "base_numbering": 1,
   "nav_menu": {},
   "number_sections": true,
   "sideBar": true,
   "skip_h1_title": false,
   "title_cell": "Table of Contents",
   "title_sidebar": "Contents",
   "toc_cell": false,
   "toc_position": {},
   "toc_section_display": true,
   "toc_window_display": false
  }
 },
 "nbformat": 4,
 "nbformat_minor": 4
}
