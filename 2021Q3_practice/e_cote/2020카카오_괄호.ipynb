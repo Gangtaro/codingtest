{
 "cells": [
  {
   "cell_type": "code",
   "execution_count": 8,
   "metadata": {},
   "outputs": [],
   "source": [
    "s = 'aabbaccc'"
   ]
  },
  {
   "cell_type": "code",
   "execution_count": 25,
   "metadata": {},
   "outputs": [
    {
     "data": {
      "text/plain": [
       "['a', 'a', 'b', 'b', 'a', 'c', 'c', 'c']"
      ]
     },
     "execution_count": 25,
     "metadata": {},
     "output_type": "execute_result"
    }
   ],
   "source": [
    "[i for i in s]"
   ]
  },
  {
   "cell_type": "code",
   "execution_count": 26,
   "metadata": {},
   "outputs": [
    {
     "name": "stdout",
     "output_type": "stream",
     "text": [
      "a\n",
      "a\n",
      "b\n",
      "b\n",
      "a\n",
      "c\n",
      "c\n",
      "c\n"
     ]
    }
   ],
   "source": [
    "for i in s :\n",
    "    print(i) # now state"
   ]
  },
  {
   "cell_type": "code",
   "execution_count": 27,
   "metadata": {},
   "outputs": [],
   "source": [
    "import re"
   ]
  },
  {
   "cell_type": "code",
   "execution_count": null,
   "metadata": {},
   "outputs": [],
   "source": [
    "re.findall"
   ]
  },
  {
   "cell_type": "code",
   "execution_count": 28,
   "metadata": {},
   "outputs": [
    {
     "data": {
      "text/plain": [
       "['a', 'a', 'b', 'b', 'a', 'c', 'c', 'c']"
      ]
     },
     "execution_count": 28,
     "metadata": {},
     "output_type": "execute_result"
    }
   ],
   "source": [
    "[i for i in s]"
   ]
  },
  {
   "cell_type": "code",
   "execution_count": 32,
   "metadata": {},
   "outputs": [
    {
     "data": {
      "text/plain": [
       "8"
      ]
     },
     "execution_count": 32,
     "metadata": {},
     "output_type": "execute_result"
    }
   ],
   "source": [
    "len(s)"
   ]
  },
  {
   "cell_type": "code",
   "execution_count": 36,
   "metadata": {},
   "outputs": [
    {
     "data": {
      "text/plain": [
       "[0, 2, 4, 6]"
      ]
     },
     "execution_count": 36,
     "metadata": {},
     "output_type": "execute_result"
    }
   ],
   "source": [
    "[i for i in range(0, len(s), 2)]"
   ]
  },
  {
   "cell_type": "code",
   "execution_count": 63,
   "metadata": {},
   "outputs": [
    {
     "data": {
      "text/plain": [
       "['aa', 'bb', 'ac', 'cc']"
      ]
     },
     "execution_count": 63,
     "metadata": {},
     "output_type": "execute_result"
    }
   ],
   "source": [
    "n = 2\n",
    "strings = [s[i:i + n] for i in range(0, len(s), n)]\n",
    "strings"
   ]
  },
  {
   "cell_type": "code",
   "execution_count": 66,
   "metadata": {},
   "outputs": [],
   "source": [
    "strs = '' \n",
    "count = 1\n",
    "for i in range(1,len(strings)):\n",
    "    if strings[i] == strings[i-1] :\n",
    "        # 같으면 count를 계속해서 늘려\n",
    "        count+=1\n",
    "    else :\n",
    "        # 다르면 \n",
    "        # 이전에꺼를 업데이트해준다.\n",
    "        # 이때, count == 1이면 이건 값에 안더해준다.\n",
    "        if count == 1 :\n",
    "            strs += str(strings[i-1])\n",
    "        else :\n",
    "            strs += str(count)+str(strings[i-1])\n",
    "            count = 1\n",
    "if count == 1:\n",
    "    strs += str(strings[-1])\n",
    "else : \n",
    "    strs += str(count)+str(strings[-1])"
   ]
  },
  {
   "cell_type": "code",
   "execution_count": 67,
   "metadata": {},
   "outputs": [
    {
     "data": {
      "text/plain": [
       "'aabbaccc'"
      ]
     },
     "execution_count": 67,
     "metadata": {},
     "output_type": "execute_result"
    }
   ],
   "source": [
    "strs"
   ]
  },
  {
   "cell_type": "code",
   "execution_count": 81,
   "metadata": {},
   "outputs": [
    {
     "name": "stdout",
     "output_type": "stream",
     "text": [
      "2a2ba3c\n",
      "aabbaccc\n",
      "aabbaccc\n",
      "aabbaccc\n",
      "aabbaccc\n",
      "aabbaccc\n",
      "aabbaccc\n"
     ]
    }
   ],
   "source": [
    "results = []\n",
    "for n in range(1, len(s)):\n",
    "    strings = [s[i:i + n] for i in range(0, len(s), n)]\n",
    "    strs = '' \n",
    "    count = 1\n",
    "    for i in range(1,len(strings)):\n",
    "        if strings[i] == strings[i-1] :\n",
    "            # 같으면 count를 계속해서 늘려\n",
    "            count+=1\n",
    "        else :\n",
    "            # 다르면 \n",
    "            # 이전에꺼를 업데이트해준다.\n",
    "            # 이때, count == 1이면 이건 값에 안더해준다.\n",
    "            if count == 1 :\n",
    "                strs += str(strings[i-1])\n",
    "            else :\n",
    "                strs += str(count)+str(strings[i-1])\n",
    "                count = 1\n",
    "    if count == 1:\n",
    "        strs += str(strings[-1])\n",
    "    else : \n",
    "        strs += str(count)+str(strings[-1])\n",
    "    results.append(len(strs))\n",
    "\n",
    "prin"
   ]
  },
  {
   "cell_type": "code",
   "execution_count": 82,
   "metadata": {},
   "outputs": [
    {
     "data": {
      "text/plain": [
       "[7, 8, 8, 8, 8, 8, 8]"
      ]
     },
     "execution_count": 82,
     "metadata": {},
     "output_type": "execute_result"
    }
   ],
   "source": [
    "results"
   ]
  },
  {
   "cell_type": "code",
   "execution_count": 107,
   "metadata": {},
   "outputs": [],
   "source": [
    "def solution(s):\n",
    "    results = []\n",
    "    for n in range(1, len(s)):\n",
    "        strings = [s[i:i + n] for i in range(0, len(s), n)]\n",
    "        strs = '' \n",
    "        count = 1\n",
    "        for i in range(1,len(strings)):\n",
    "            if strings[i] == strings[i-1] :\n",
    "                # 같으면 count를 계속해서 늘려\n",
    "                count+=1\n",
    "            else :\n",
    "                # 다르면 \n",
    "                # 이전에꺼를 업데이트해준다.\n",
    "                # 이때, count == 1이면 이건 값에 안더해준다.\n",
    "                if count == 1 :\n",
    "                    strs += str(strings[i-1])\n",
    "                else :\n",
    "                    strs += str(count)+str(strings[i-1])\n",
    "                    count = 1\n",
    "        if count == 1:\n",
    "            strs += str(strings[-1])\n",
    "        else : \n",
    "            strs += str(count)+str(strings[-1])\n",
    "        results.append(len(strs))\n",
    "        answer = min(results)\n",
    "    return answer"
   ]
  },
  {
   "cell_type": "code",
   "execution_count": 108,
   "metadata": {},
   "outputs": [
    {
     "data": {
      "text/plain": [
       "8"
      ]
     },
     "execution_count": 108,
     "metadata": {},
     "output_type": "execute_result"
    }
   ],
   "source": []
  },
  {
   "cell_type": "code",
   "execution_count": 103,
   "metadata": {},
   "outputs": [],
   "source": [
    "#1\n",
    "if p = '':\n",
    "    return ''\n",
    "\n",
    "#2 \n",
    "\n"
   ]
  },
  {
   "cell_type": "code",
   "execution_count": 105,
   "metadata": {},
   "outputs": [
    {
     "data": {
      "text/plain": [
       "[8, 4, 2, 1]"
      ]
     },
     "execution_count": 105,
     "metadata": {},
     "output_type": "execute_result"
    }
   ],
   "source": [
    "lst"
   ]
  },
  {
   "cell_type": "markdown",
   "metadata": {},
   "source": [
    "# 괄호 변환"
   ]
  },
  {
   "cell_type": "code",
   "execution_count": 136,
   "metadata": {},
   "outputs": [],
   "source": [
    "p='()))((()'"
   ]
  },
  {
   "cell_type": "code",
   "execution_count": 111,
   "metadata": {},
   "outputs": [
    {
     "data": {
      "text/plain": [
       "['(', ')', ')', ')', '(', '(', '(', ')']"
      ]
     },
     "execution_count": 111,
     "metadata": {},
     "output_type": "execute_result"
    }
   ],
   "source": [
    "[i for i in p]"
   ]
  },
  {
   "cell_type": "code",
   "execution_count": 112,
   "metadata": {},
   "outputs": [],
   "source": [
    "whenzero = 0\n",
    "for idx,i in enumerate(p) : \n",
    "    if i == ')' : \n",
    "        whenzero += -1\n",
    "    else  :\n",
    "        whenzero += 1\n",
    "    if whenzero == 0 :\n",
    "        cut_index = idx\n",
    "        break\n",
    "        "
   ]
  },
  {
   "cell_type": "code",
   "execution_count": 113,
   "metadata": {},
   "outputs": [
    {
     "data": {
      "text/plain": [
       "1"
      ]
     },
     "execution_count": 113,
     "metadata": {},
     "output_type": "execute_result"
    }
   ],
   "source": [
    "cut_index"
   ]
  },
  {
   "cell_type": "code",
   "execution_count": 115,
   "metadata": {},
   "outputs": [
    {
     "data": {
      "text/plain": [
       "'()'"
      ]
     },
     "execution_count": 115,
     "metadata": {},
     "output_type": "execute_result"
    }
   ],
   "source": [
    "p[:cut_index+1]\n"
   ]
  },
  {
   "cell_type": "code",
   "execution_count": 118,
   "metadata": {},
   "outputs": [
    {
     "data": {
      "text/plain": [
       "'))((()'"
      ]
     },
     "execution_count": 118,
     "metadata": {},
     "output_type": "execute_result"
    }
   ],
   "source": [
    "p[cut_index+1:]"
   ]
  },
  {
   "cell_type": "code",
   "execution_count": 153,
   "metadata": {},
   "outputs": [],
   "source": [
    "# 필요한 모듈\n",
    "# u 와 v를 나누는 것\n",
    "# 올바른 문자열인지 아닌지 확인할 수 있는 모듈\n",
    "\n",
    "def dividing(array):\n",
    "    #if array == '':\n",
    "    #        return ''\n",
    "    pos = 0\n",
    "    for idx,i in enumerate(array) : \n",
    "        if i == '(' :\n",
    "            pos += 1\n",
    "        else:\n",
    "            pos -= 1\n",
    "        if pos == 0 :\n",
    "            u = array[:idx+1]\n",
    "            v = array[idx+1:]\n",
    "            return u, v\n",
    "    \n",
    "    return u, v"
   ]
  },
  {
   "cell_type": "code",
   "execution_count": 154,
   "metadata": {},
   "outputs": [],
   "source": [
    "def checking(array):\n",
    "    pos = 0\n",
    "    for idx,i in enumerate(array) : \n",
    "        if i == '(' :\n",
    "            pos += 1\n",
    "        else:\n",
    "            pos -= 1\n",
    "        if pos < 0 :\n",
    "            return False\n",
    "    return True\n"
   ]
  },
  {
   "cell_type": "code",
   "execution_count": 170,
   "metadata": {},
   "outputs": [],
   "source": [
    "def changing(array):\n",
    "    dictionary = {'(':')', ')':'('}\n",
    "    return ''.join([dictionary[i] for i in array])\n",
    "            "
   ]
  },
  {
   "cell_type": "code",
   "execution_count": 171,
   "metadata": {},
   "outputs": [],
   "source": [
    "def solution(p):\n",
    "    array = p\n",
    "    \n",
    "    if array == '':\n",
    "        return array\n",
    "    \n",
    "    u, v = dividing(array)\n",
    "    \n",
    "    if checking(u) == True :\n",
    "        return u + solution(v)\n",
    "    else :\n",
    "        return '('+ solution(v) +')'+ changing(u[1:-1])\n",
    "    \n",
    "    "
   ]
  },
  {
   "cell_type": "code",
   "execution_count": 172,
   "metadata": {},
   "outputs": [
    {
     "data": {
      "text/plain": [
       "'()))((()'"
      ]
     },
     "execution_count": 172,
     "metadata": {},
     "output_type": "execute_result"
    }
   ],
   "source": [
    "p"
   ]
  },
  {
   "cell_type": "code",
   "execution_count": 176,
   "metadata": {},
   "outputs": [
    {
     "data": {
      "text/plain": [
       "'()'"
      ]
     },
     "execution_count": 176,
     "metadata": {},
     "output_type": "execute_result"
    }
   ],
   "source": [
    "solution(')(')"
   ]
  },
  {
   "cell_type": "code",
   "execution_count": 158,
   "metadata": {
    "scrolled": true
   },
   "outputs": [
    {
     "data": {
      "text/plain": [
       "')))((('"
      ]
     },
     "execution_count": 158,
     "metadata": {},
     "output_type": "execute_result"
    }
   ],
   "source": [
    "p[1:-1]"
   ]
  },
  {
   "cell_type": "code",
   "execution_count": null,
   "metadata": {},
   "outputs": [],
   "source": [
    "def solution(p) :\n",
    "    array = p\n",
    "    start = 0\n",
    "    end = len(p)-1\n",
    "    \n",
    "    if array == '':\n",
    "        return array\n",
    "    \n",
    "    whenzero = 0\n",
    "    for idx,i in enumerate(p) : \n",
    "        if i == ')' : \n",
    "            whenzero += -1\n",
    "        else  :\n",
    "            whenzero += 1\n",
    "        if whenzero == 0 :\n",
    "            cut_index = idx\n",
    "            break\n",
    "    u = array[]"
   ]
  },
  {
   "cell_type": "code",
   "execution_count": null,
   "metadata": {},
   "outputs": [],
   "source": [
    "def solution(p, start, end) :\n",
    "    array = p\n",
    "\n",
    "    if array == '':\n",
    "        return array\n",
    "    \n",
    "    whenzero = 0\n",
    "    for idx,i in enumerate(p) : \n",
    "        if i == ')' : \n",
    "            whenzero += -1\n",
    "        else  :\n",
    "            whenzero += 1\n",
    "        if whenzero == 0 :\n",
    "            cut_index = idx\n",
    "            break\n",
    "    u = array[start:cut_index+1]\n",
    "    v = array[cut_index+1:end]\n",
    "    \n",
    "    if u"
   ]
  }
 ],
 "metadata": {
  "kernelspec": {
   "display_name": "Python 3",
   "language": "python",
   "name": "python3"
  },
  "language_info": {
   "codemirror_mode": {
    "name": "ipython",
    "version": 3
   },
   "file_extension": ".py",
   "mimetype": "text/x-python",
   "name": "python",
   "nbconvert_exporter": "python",
   "pygments_lexer": "ipython3",
   "version": "3.8.3"
  },
  "toc": {
   "base_numbering": 1,
   "nav_menu": {},
   "number_sections": true,
   "sideBar": true,
   "skip_h1_title": false,
   "title_cell": "Table of Contents",
   "title_sidebar": "Contents",
   "toc_cell": false,
   "toc_position": {},
   "toc_section_display": true,
   "toc_window_display": false
  }
 },
 "nbformat": 4,
 "nbformat_minor": 4
}
