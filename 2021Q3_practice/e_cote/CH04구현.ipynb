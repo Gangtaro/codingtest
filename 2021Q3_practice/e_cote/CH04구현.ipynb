{
 "cells": [
  {
   "cell_type": "code",
   "execution_count": 1,
   "metadata": {},
   "outputs": [],
   "source": [
    "import numpy as np\n",
    "import pandas as pd"
   ]
  },
  {
   "cell_type": "markdown",
   "metadata": {},
   "source": [
    "### 예제 4-1"
   ]
  },
  {
   "cell_type": "code",
   "execution_count": 2,
   "metadata": {},
   "outputs": [],
   "source": [
    "# input value\n",
    "N = 5\n",
    "words = 'R R R U D D'"
   ]
  },
  {
   "cell_type": "code",
   "execution_count": 5,
   "metadata": {},
   "outputs": [
    {
     "name": "stdout",
     "output_type": "stream",
     "text": [
      "['R', 'R', 'R', 'U', 'D', 'D']\n"
     ]
    }
   ],
   "source": [
    "orders = words.split()\n",
    "print(orders)"
   ]
  },
  {
   "cell_type": "code",
   "execution_count": 28,
   "metadata": {},
   "outputs": [],
   "source": [
    "x = 1\n",
    "y = 1\n",
    "\n",
    "# 순서 L R U D\n",
    "dx = [0, 0, -1, 1]\n",
    "dy = [-1, 1, 0, 0]\n",
    "\n",
    "dic = {'L':0, 'R':1, 'U':2, 'D':3}\n",
    "\n",
    "for a in orders: \n",
    "    x_new = x + dx[dic[a]]\n",
    "    y_new = y + dy[dic[a]]\n",
    "    \n",
    "    if ((x_new in [0, 6]) or (y_new in [0, 6])):\n",
    "        continue\n",
    "    \n",
    "    x = x_new\n",
    "    y = y_new\n"
   ]
  },
  {
   "cell_type": "markdown",
   "metadata": {},
   "source": [
    "### 예제 4-2"
   ]
  },
  {
   "cell_type": "code",
   "execution_count": 51,
   "metadata": {},
   "outputs": [],
   "source": [
    "N = 5\n",
    "counts = 0\n",
    "for hr in range(N+1):\n",
    "    for mm in range(60):\n",
    "        for ss in range(60):\n",
    "            if '3' in [i for i in str(hr)+str(mm)+str(ss)] :\n",
    "                counts += 1\n",
    " "
   ]
  },
  {
   "cell_type": "code",
   "execution_count": 53,
   "metadata": {},
   "outputs": [
    {
     "data": {
      "text/plain": [
       "11475"
      ]
     },
     "execution_count": 53,
     "metadata": {},
     "output_type": "execute_result"
    }
   ],
   "source": [
    "counts"
   ]
  },
  {
   "cell_type": "markdown",
   "metadata": {},
   "source": [
    "### 예제 4-3"
   ]
  },
  {
   "cell_type": "code",
   "execution_count": 59,
   "metadata": {},
   "outputs": [
    {
     "name": "stdout",
     "output_type": "stream",
     "text": [
      "3 4\n",
      "3 0\n",
      "1 4\n",
      "1 0\n",
      "4 3\n",
      "0 3\n",
      "4 1\n",
      "0 1\n"
     ]
    }
   ],
   "source": [
    "dx = [1, 1, -1, -1, 2, -2, 2, -2]\n",
    "dy = [2, -2, 2, -2, 1, 1, -1, -1]\n",
    "\n",
    "x = 2\n",
    "y = 2\n",
    "counts = 0\n",
    "for i in range(len(dx)):\n",
    "    x_new = x + dx[i]\n",
    "    y_new = y + dy[i]\n",
    "    print(x_new, y_new)\n",
    "    if ((x_new >= 1)& (x_new <= 8))&((y_new >= 1) & (y_new <= 8)):\n",
    "        counts += 1"
   ]
  },
  {
   "cell_type": "markdown",
   "metadata": {},
   "source": [
    "### 게임 개발"
   ]
  },
  {
   "cell_type": "code",
   "execution_count": null,
   "metadata": {},
   "outputs": [],
   "source": []
  }
 ],
 "metadata": {
  "kernelspec": {
   "display_name": "Python 3",
   "language": "python",
   "name": "python3"
  },
  "language_info": {
   "codemirror_mode": {
    "name": "ipython",
    "version": 3
   },
   "file_extension": ".py",
   "mimetype": "text/x-python",
   "name": "python",
   "nbconvert_exporter": "python",
   "pygments_lexer": "ipython3",
   "version": "3.8.3"
  },
  "toc": {
   "base_numbering": 1,
   "nav_menu": {},
   "number_sections": true,
   "sideBar": true,
   "skip_h1_title": false,
   "title_cell": "Table of Contents",
   "title_sidebar": "Contents",
   "toc_cell": false,
   "toc_position": {},
   "toc_section_display": true,
   "toc_window_display": false
  }
 },
 "nbformat": 4,
 "nbformat_minor": 4
}
