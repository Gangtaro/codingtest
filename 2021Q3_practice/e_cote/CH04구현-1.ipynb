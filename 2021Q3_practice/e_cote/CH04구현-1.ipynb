{
 "cells": [
  {
   "cell_type": "markdown",
   "metadata": {},
   "source": [
    "- 사소한 입력 조건 등을 문제에서 명시해주며 문제의 길이가 꽤 긴 편이다.  \n",
    "- 고차원적 사고를 물어보는 경우는 드물다. \n",
    "- 문법이 익숙하다면 오히려 익숙할 수 있다. \n",
    "\n"
   ]
  },
  {
   "cell_type": "code",
   "execution_count": 1,
   "metadata": {},
   "outputs": [],
   "source": [
    "import numpy as np\n",
    "import pandas as pd"
   ]
  },
  {
   "cell_type": "markdown",
   "metadata": {},
   "source": [
    "## 예제"
   ]
  },
  {
   "cell_type": "markdown",
   "metadata": {},
   "source": [
    "### 예제 4-1 상하좌우"
   ]
  },
  {
   "cell_type": "code",
   "execution_count": 2,
   "metadata": {},
   "outputs": [],
   "source": [
    "# 예제 4-1 상하좌우\n",
    "\n",
    "# 시작 (1,1)\n",
    "# 대각선 끝 (N,N)"
   ]
  },
  {
   "cell_type": "code",
   "execution_count": 26,
   "metadata": {},
   "outputs": [
    {
     "name": "stdout",
     "output_type": "stream",
     "text": [
      "['R', 'R', 'R', 'U', 'D', 'D']\n"
     ]
    }
   ],
   "source": [
    "N = 5\n",
    "strs = 'R R R U D D'\n",
    "\n",
    "strs = strs.split(\" \")\n",
    "print(strs)"
   ]
  },
  {
   "cell_type": "code",
   "execution_count": 27,
   "metadata": {},
   "outputs": [],
   "source": [
    "strs = pd.Series(strs)"
   ]
  },
  {
   "cell_type": "code",
   "execution_count": 29,
   "metadata": {},
   "outputs": [],
   "source": [
    "#  방향이동\n",
    "dx = [1, -1,0, 0]\n",
    "dy = [0, 0, 1, -1]\n",
    "# D U R L\n",
    "strs = strs.replace({'D':0, 'U': 1, 'R' : 2, 'L' : 3})"
   ]
  },
  {
   "cell_type": "code",
   "execution_count": 35,
   "metadata": {},
   "outputs": [
    {
     "name": "stdout",
     "output_type": "stream",
     "text": [
      "3 4\n"
     ]
    }
   ],
   "source": [
    "x, y  = 1, 1\n",
    "for i in range(len(strs)) : \n",
    "    x_new = x + dx[strs[i]]\n",
    "    y_new = y + dy[strs[i]]\n",
    "    \n",
    "    if (x_new < 1 or y_new < 1 or x_new > N or y_new > N) : \n",
    "        continue\n",
    "    \n",
    "    x = x_new\n",
    "    y = y_new\n",
    "\n",
    "print(x, y)"
   ]
  },
  {
   "cell_type": "markdown",
   "metadata": {},
   "source": [
    "### 예제 4-2 시각"
   ]
  },
  {
   "cell_type": "code",
   "execution_count": 46,
   "metadata": {},
   "outputs": [],
   "source": [
    "N = 5\n",
    "# 시 단위\n",
    "# 0 ~ 24시\n",
    "H = N//3"
   ]
  },
  {
   "cell_type": "code",
   "execution_count": 68,
   "metadata": {},
   "outputs": [
    {
     "data": {
      "text/plain": [
       "1"
      ]
     },
     "execution_count": 68,
     "metadata": {},
     "output_type": "execute_result"
    }
   ],
   "source": [
    "count_H = 0\n",
    "for i in range(N) : \n",
    "    if '3' in str(i):\n",
    "        count_H += 1\n",
    "count_H"
   ]
  },
  {
   "cell_type": "code",
   "execution_count": 71,
   "metadata": {},
   "outputs": [
    {
     "name": "stdout",
     "output_type": "stream",
     "text": [
      "3\n",
      "13\n",
      "23\n",
      "30\n",
      "31\n",
      "32\n",
      "33\n",
      "34\n",
      "35\n",
      "36\n",
      "37\n",
      "38\n",
      "39\n",
      "43\n",
      "53\n"
     ]
    },
    {
     "data": {
      "text/plain": [
       "15"
      ]
     },
     "execution_count": 71,
     "metadata": {},
     "output_type": "execute_result"
    }
   ],
   "source": [
    "count_MS = 0\n",
    "for i in range(60) : \n",
    "    if '3' in str(i):\n",
    "        print(str(i))\n",
    "        count_MS += 1\n",
    "count_MS"
   ]
  },
  {
   "cell_type": "code",
   "execution_count": 70,
   "metadata": {},
   "outputs": [
    {
     "data": {
      "text/plain": [
       "20475"
      ]
     },
     "execution_count": 70,
     "metadata": {},
     "output_type": "execute_result"
    }
   ],
   "source": [
    "(N+1)*60**2 - (N+1 - count_H)*count_MS**2"
   ]
  },
  {
   "cell_type": "code",
   "execution_count": 47,
   "metadata": {
    "scrolled": true
   },
   "outputs": [
    {
     "data": {
      "text/plain": [
       "19"
      ]
     },
     "execution_count": 47,
     "metadata": {},
     "output_type": "execute_result"
    }
   ],
   "source": [
    "# 분, 초 단위\n",
    "# 0~ 59분, 초\n",
    "59//3 # 3은 총 19번 나온다. \n"
   ]
  },
  {
   "cell_type": "code",
   "execution_count": 48,
   "metadata": {},
   "outputs": [
    {
     "data": {
      "text/plain": [
       "8405"
      ]
     },
     "execution_count": 48,
     "metadata": {},
     "output_type": "execute_result"
    }
   ],
   "source": [
    "# 전체숫자의 개수\n",
    "(N+1)*60**2\n",
    "\n",
    "# 여사건 (3이 한번도 안나오는 경우의 수)\n",
    "(N+1-H)*(60-19)**2"
   ]
  },
  {
   "cell_type": "code",
   "execution_count": 84,
   "metadata": {},
   "outputs": [
    {
     "data": {
      "text/plain": [
       "11475"
      ]
     },
     "execution_count": 84,
     "metadata": {},
     "output_type": "execute_result"
    }
   ],
   "source": [
    "(N+1)*60**2 - (N+1-count_H)*(60-count_MS)**2"
   ]
  },
  {
   "cell_type": "code",
   "execution_count": 76,
   "metadata": {},
   "outputs": [],
   "source": [
    "count = 0\n",
    "for HH in range(N+1) : \n",
    "    for MM in range(60) :\n",
    "        for SS in range(60) :\n",
    "            if '3' in str(HH)+str(MM)+str(SS) :\n",
    "                count += 1"
   ]
  },
  {
   "cell_type": "code",
   "execution_count": 77,
   "metadata": {},
   "outputs": [
    {
     "data": {
      "text/plain": [
       "11475"
      ]
     },
     "execution_count": 77,
     "metadata": {},
     "output_type": "execute_result"
    }
   ],
   "source": [
    "count"
   ]
  },
  {
   "cell_type": "code",
   "execution_count": 78,
   "metadata": {},
   "outputs": [],
   "source": [
    "count = 0\n",
    "for HH in range(N+1) : \n",
    "    for MM in range(60) :\n",
    "        for SS in range(60) :\n",
    "            count+=1"
   ]
  },
  {
   "cell_type": "code",
   "execution_count": 79,
   "metadata": {},
   "outputs": [
    {
     "data": {
      "text/plain": [
       "21600"
      ]
     },
     "execution_count": 79,
     "metadata": {},
     "output_type": "execute_result"
    }
   ],
   "source": [
    "count"
   ]
  },
  {
   "cell_type": "markdown",
   "metadata": {},
   "source": [
    "## 실전문제 왕실의 나이트"
   ]
  },
  {
   "cell_type": "code",
   "execution_count": 85,
   "metadata": {},
   "outputs": [],
   "source": [
    "# 나이트의 이동 경로 찾기\n",
    "# 나이트가 이동 가능한 경로가 몇 가지인가?"
   ]
  },
  {
   "cell_type": "code",
   "execution_count": 86,
   "metadata": {},
   "outputs": [],
   "source": [
    "inp = 'a1'"
   ]
  },
  {
   "cell_type": "code",
   "execution_count": 91,
   "metadata": {},
   "outputs": [],
   "source": [
    "rows = 'abcdefgh'\n",
    "cols = '12345678'"
   ]
  },
  {
   "cell_type": "code",
   "execution_count": 92,
   "metadata": {},
   "outputs": [
    {
     "data": {
      "text/plain": [
       "2"
      ]
     },
     "execution_count": 92,
     "metadata": {},
     "output_type": "execute_result"
    }
   ],
   "source": [
    "rows.find('d')\n",
    "cols.find('3')"
   ]
  },
  {
   "cell_type": "code",
   "execution_count": 93,
   "metadata": {},
   "outputs": [
    {
     "data": {
      "text/plain": [
       "(0, 0)"
      ]
     },
     "execution_count": 93,
     "metadata": {},
     "output_type": "execute_result"
    }
   ],
   "source": [
    "# 현재위치 출력\n",
    "x = rows.find(inp[0])\n",
    "y = cols.find(inp[1])\n",
    "x, y"
   ]
  },
  {
   "cell_type": "code",
   "execution_count": 95,
   "metadata": {},
   "outputs": [],
   "source": [
    "# 갈 수 있는 방향 탐색\n",
    "dx = [2, 2, -2, -2, 1, 1, -1, -1]\n",
    "dy = [1, -1, 1, -1, 2, -2, 2, -2]\n",
    "\n",
    "# 좌표점은 0~7 값의 밖을 나가게 되면 안된다. \n",
    "# new_x < 0 or new_x > 7 or new_y < 0 or new_y > 7 "
   ]
  },
  {
   "cell_type": "code",
   "execution_count": 96,
   "metadata": {},
   "outputs": [
    {
     "data": {
      "text/plain": [
       "2"
      ]
     },
     "execution_count": 96,
     "metadata": {},
     "output_type": "execute_result"
    }
   ],
   "source": [
    "count = 0\n",
    "# 현재위치 출력\n",
    "x = rows.find(inp[0])\n",
    "y = cols.find(inp[1])\n",
    "\n",
    "# 경로 탐색 = 최대 8가지의 방향\n",
    "for i in range(8):\n",
    "    new_x = x + dx[i]\n",
    "    new_y = y + dy[i]\n",
    "    \n",
    "    if new_x < 0 or new_x > 7 or new_y < 0 or new_y > 7 :\n",
    "        continue\n",
    "    \n",
    "    count += 1\n",
    "count"
   ]
  },
  {
   "cell_type": "markdown",
   "metadata": {},
   "source": [
    "##  실전문제 게임 개발"
   ]
  },
  {
   "cell_type": "code",
   "execution_count": 118,
   "metadata": {},
   "outputs": [],
   "source": [
    "# 바라보는 방향\n",
    "# 북쪽을 기준으로 시계방향으로 0 1 2 3 순환\n",
    "dx = [-1, 0, 1, 0]\n",
    "dy = [0, -1, 0, 1]\n",
    "\n",
    "# 현재 바라보고 있는 방향에 대한 정보\n",
    "# 0 북 1동 2남 3서 (순환은 반대 방향)\n",
    "way = 0 # 북쪽을 보고 있음\n",
    "\n",
    "# 보고있는 방향의 바로 왼쪽 부분이 \n",
    "# 갈 수 있는 방향이고,\n",
    "# 가보지 않은 칸이라면 그 쪽으로 간다\n",
    "\n",
    "# 가본 칸이라면 보고 있는 방향만 돌린다. \n",
    "\n",
    "# 4방향 모두 가본 곳이거나 바다라면 제일 처음 보고 있던 방향에서 반대 방향으로 움직이고 방향은 유지한다. \n",
    "\n",
    "# 완전 멈추는 것은 그 곳이 바다인 경우에만 멈춘다. "
   ]
  },
  {
   "cell_type": "code",
   "execution_count": 119,
   "metadata": {},
   "outputs": [
    {
     "name": "stdout",
     "output_type": "stream",
     "text": [
      "[[1, 1, 1, 1], [1, 0, 0, 1], [1, 1, 0, 1], [1, 1, 1, 1]]\n"
     ]
    }
   ],
   "source": [
    "_map = [[1,1,1,1],[1,0,0,1],[1,1,0,1],[1,1,1,1]]\n",
    "print(_map)"
   ]
  },
  {
   "cell_type": "code",
   "execution_count": 141,
   "metadata": {},
   "outputs": [
    {
     "name": "stdout",
     "output_type": "stream",
     "text": [
      "count: 0\n",
      "way: 1\n",
      "hist: []\n",
      "========\n",
      "count: 1\n",
      "way: 2\n",
      "hist: []\n",
      "========\n",
      "count: 2\n",
      "way: 3\n",
      "hist: []\n",
      "True\n",
      "========\n",
      "count: 0\n",
      "way: 0\n",
      "hist: [(1, 1)]\n",
      "========\n",
      "count: 1\n",
      "way: 1\n",
      "hist: [(1, 1)]\n",
      "========\n",
      "count: 2\n",
      "way: 2\n",
      "hist: [(1, 1)]\n",
      "True\n",
      "========\n",
      "count: 0\n",
      "way: 3\n",
      "hist: [(1, 1), (1, 2)]\n",
      "========\n",
      "count: 1\n",
      "way: 0\n",
      "hist: [(1, 1), (1, 2)]\n",
      "========\n",
      "count: 2\n",
      "way: 1\n",
      "hist: [(1, 1), (1, 2)]\n",
      "========\n",
      "count: 3\n",
      "way: 2\n",
      "hist: [(1, 1), (1, 2)]\n",
      "========\n",
      "count: 0\n",
      "way: 3\n",
      "hist: [(1, 1), (1, 2)]\n",
      "========\n",
      "count: 1\n",
      "way: 0\n",
      "hist: [(1, 1), (1, 2)]\n",
      "========\n",
      "count: 2\n",
      "way: 1\n",
      "hist: [(1, 1), (1, 2)]\n",
      "========\n",
      "count: 3\n",
      "way: 2\n",
      "hist: [(1, 1), (1, 2)]\n",
      "========\n"
     ]
    }
   ],
   "source": [
    "way = 0 #북쪽방향\n",
    "_map = [[1,1,1,1],[1,0,0,1],[1,1,0,1],[1,1,1,1]] #맵\n",
    "history = []\n",
    "x, y = 1, 1\n",
    "count = 0\n",
    "\n",
    "while 1: \n",
    "    # 보는 방향\n",
    "    # 보고 있는 방향에 대한 정보\n",
    "    way = (way+1)%4 # 제일 처음은 보고 있는 방향을 돌리는 것이다. \n",
    "    new_x = x + dx[way]\n",
    "    new_y = y + dy[way]\n",
    "    #count = 0 # 방향을 돌린 횟수\n",
    "    print('count:', count)\n",
    "    print('way:',  way)\n",
    "    print('hist:',history) \n",
    "    # 갈 수 있는 곳인가?\n",
    "    # 갈 수 있는 곳이라면 -> 간다 (이전에 있던 방향을 기록한다) \n",
    "    # 갈 수 없는 곳이라면 -> pass\n",
    "    if (_map[new_x][new_y] == 0) and ((new_x, new_y) not in history): # 바다가 아닌가 or 갔던 곳이 아닌가\n",
    "        print(_map[new_x][new_y] == 0) or ((new_x, new_y) not in history)\n",
    "        history.append((x, y))\n",
    "        x = new_x\n",
    "        y = new_y\n",
    "        count = 0\n",
    "    else : \n",
    "        count += 1 # 그 자리에서 방향을 돌려야하니까 방향을 돌린 수 만큼 count한다. \n",
    "        \n",
    "    print('========')\n",
    "    # 만약에 4 방향을 다 탐색 했다면?\n",
    "    # 기존의 방향을 유지한채로 뒤로 가야한다.\n",
    "    if count == 4 : \n",
    "        new_x = x + dx[((way+2)%4)]\n",
    "        new_y = y + dx[((way+2)%4)]\n",
    "        \n",
    "        # 이게 바다라면 상황종료\n",
    "        if _map[new_x][new_y] == 1 : \n",
    "            break\n",
    "\n",
    "        # 이게 바다가 아니라면 그냥 뒤로 가자\n",
    "        else : \n",
    "            x = new_x\n",
    "            y = new_y\n",
    "            count = 0\n",
    "            \n",
    "    \n",
    "\n",
    "    \n"
   ]
  },
  {
   "cell_type": "code",
   "execution_count": null,
   "metadata": {},
   "outputs": [],
   "source": []
  }
 ],
 "metadata": {
  "kernelspec": {
   "display_name": "Python 3",
   "language": "python",
   "name": "python3"
  },
  "language_info": {
   "codemirror_mode": {
    "name": "ipython",
    "version": 3
   },
   "file_extension": ".py",
   "mimetype": "text/x-python",
   "name": "python",
   "nbconvert_exporter": "python",
   "pygments_lexer": "ipython3",
   "version": "3.8.3"
  },
  "toc": {
   "base_numbering": 1,
   "nav_menu": {},
   "number_sections": true,
   "sideBar": true,
   "skip_h1_title": false,
   "title_cell": "Table of Contents",
   "title_sidebar": "Contents",
   "toc_cell": false,
   "toc_position": {},
   "toc_section_display": true,
   "toc_window_display": false
  }
 },
 "nbformat": 4,
 "nbformat_minor": 4
}
