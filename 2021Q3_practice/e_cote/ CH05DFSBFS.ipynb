{
 "cells": [
  {
   "cell_type": "code",
   "execution_count": 1,
   "metadata": {},
   "outputs": [],
   "source": [
    "from collections import deque"
   ]
  },
  {
   "cell_type": "markdown",
   "metadata": {},
   "source": [
    "## 자료구조 스택 큐 재귀함수"
   ]
  },
  {
   "cell_type": "code",
   "execution_count": 3,
   "metadata": {},
   "outputs": [],
   "source": [
    "# 큐\n",
    "# 선입 선출\n",
    "queue = deque()\n",
    "\n",
    "queue.append(5)\n",
    "queue.append(2)\n",
    "queue.append(3)\n",
    "queue.append(7)\n",
    "queue.popleft()\n",
    "queue.append(1)"
   ]
  },
  {
   "cell_type": "code",
   "execution_count": 4,
   "metadata": {},
   "outputs": [
    {
     "data": {
      "text/plain": [
       "deque([2, 3, 7, 1])"
      ]
     },
     "execution_count": 4,
     "metadata": {},
     "output_type": "execute_result"
    }
   ],
   "source": [
    "queue"
   ]
  },
  {
   "cell_type": "code",
   "execution_count": 5,
   "metadata": {},
   "outputs": [],
   "source": [
    "queue.reverse()"
   ]
  },
  {
   "cell_type": "code",
   "execution_count": 6,
   "metadata": {},
   "outputs": [
    {
     "data": {
      "text/plain": [
       "deque([1, 7, 3, 2])"
      ]
     },
     "execution_count": 6,
     "metadata": {},
     "output_type": "execute_result"
    }
   ],
   "source": [
    "queue"
   ]
  },
  {
   "cell_type": "code",
   "execution_count": 7,
   "metadata": {},
   "outputs": [
    {
     "data": {
      "text/plain": [
       "[1, 7, 3, 2]"
      ]
     },
     "execution_count": 7,
     "metadata": {},
     "output_type": "execute_result"
    }
   ],
   "source": [
    "list(queue)"
   ]
  },
  {
   "cell_type": "code",
   "execution_count": 11,
   "metadata": {},
   "outputs": [],
   "source": [
    "# 재귀함수\n",
    "# 재귀함수의 종료 조건\n",
    "\n",
    "def recursive_function(i):\n",
    "    # 10번째 출력했을 때, 종료되도록 종료 조건 명시\n",
    "    if i == 10:\n",
    "        return\n",
    "    print(i, '번째 재귀 함수에서', i+1, '번째 재귀 함수를 호출합니다.')\n",
    "    recursive_function(i+1)\n",
    "    print(i, '번째 재귀 함수를 종료합니다.')"
   ]
  },
  {
   "cell_type": "code",
   "execution_count": 12,
   "metadata": {},
   "outputs": [
    {
     "name": "stdout",
     "output_type": "stream",
     "text": [
      "1 번째 재귀 함수에서 2 번째 재귀 함수를 호출합니다.\n",
      "2 번째 재귀 함수에서 3 번째 재귀 함수를 호출합니다.\n",
      "3 번째 재귀 함수에서 4 번째 재귀 함수를 호출합니다.\n",
      "4 번째 재귀 함수에서 5 번째 재귀 함수를 호출합니다.\n",
      "5 번째 재귀 함수에서 6 번째 재귀 함수를 호출합니다.\n",
      "6 번째 재귀 함수에서 7 번째 재귀 함수를 호출합니다.\n",
      "7 번째 재귀 함수에서 8 번째 재귀 함수를 호출합니다.\n",
      "8 번째 재귀 함수에서 9 번째 재귀 함수를 호출합니다.\n",
      "9 번째 재귀 함수에서 10 번째 재귀 함수를 호출합니다.\n",
      "9 번째 재귀 함수를 종료합니다.\n",
      "8 번째 재귀 함수를 종료합니다.\n",
      "7 번째 재귀 함수를 종료합니다.\n",
      "6 번째 재귀 함수를 종료합니다.\n",
      "5 번째 재귀 함수를 종료합니다.\n",
      "4 번째 재귀 함수를 종료합니다.\n",
      "3 번째 재귀 함수를 종료합니다.\n",
      "2 번째 재귀 함수를 종료합니다.\n",
      "1 번째 재귀 함수를 종료합니다.\n"
     ]
    }
   ],
   "source": [
    "recursive_function(1)"
   ]
  },
  {
   "cell_type": "markdown",
   "metadata": {},
   "source": [
    "컴퓨터 내부에서 재귀함수의 수행은 스택 자료구조를 이용한다. = 선입후출 = 먼저 작동된 함수일수록 나중에 종료된다.\n",
    "\n",
    "\n",
    "이러한 특성으로 스택 구조를 활용해야하는 DFS 와 같은 문제를 쉽게 풀 수 있다. \n"
   ]
  },
  {
   "cell_type": "code",
   "execution_count": 16,
   "metadata": {},
   "outputs": [],
   "source": [
    "# factorial n 예제\n",
    "def factorial_iterative(n):\n",
    "    result = 1\n",
    "    for i in range(1, n+1) :\n",
    "        result *= i\n",
    "    return result"
   ]
  },
  {
   "cell_type": "code",
   "execution_count": 20,
   "metadata": {},
   "outputs": [
    {
     "data": {
      "text/plain": [
       "24"
      ]
     },
     "execution_count": 20,
     "metadata": {},
     "output_type": "execute_result"
    }
   ],
   "source": [
    "factorial_iterative(4)"
   ]
  },
  {
   "cell_type": "code",
   "execution_count": 21,
   "metadata": {},
   "outputs": [],
   "source": [
    "def factorial_recursive(n):\n",
    "    if n <= 1: # n이 1보다 작아지는 경우 1을 반환\n",
    "        return 1\n",
    "    return n*factorial_recursive(n-1)"
   ]
  },
  {
   "cell_type": "code",
   "execution_count": 22,
   "metadata": {},
   "outputs": [
    {
     "data": {
      "text/plain": [
       "24"
      ]
     },
     "execution_count": 22,
     "metadata": {},
     "output_type": "execute_result"
    }
   ],
   "source": [
    "factorial_recursive(4)"
   ]
  },
  {
   "cell_type": "markdown",
   "metadata": {},
   "source": [
    "반복문 대신에 재귀함수를 사용했을때, 얻을 수 있는 장점은 무엇일까?\n",
    "재귀함수의 코드가 더 간결하다. \n",
    "이렇게 간결해진 이유는, 재귀 함수가 수학의 점화식을 그대로 사용했기 때문이다.\n",
    "\n",
    "1. n이 0 혹은 1일 때: factorial(n) = 1\n",
    "2. n이 1보다 클 때 : factorial(n) = n * factorial(n-1) <=> n! = n*(n-1)!\n",
    "\n",
    "\n",
    "일반적으로 우리는 점화식에서 종료조건을 찾을 수 있다. 여기서 종료 조건은 n이 1보다 작거나 같을 때이다. \n",
    "재귀함수에서 if 절로 함수를 종료해주는 것이 필수"
   ]
  },
  {
   "cell_type": "markdown",
   "metadata": {},
   "source": [
    "## 탐색 알고리즘 DFS/BFS"
   ]
  },
  {
   "cell_type": "markdown",
   "metadata": {},
   "source": [
    "- DFS\n",
    "- 깊이 우선 탐색\n",
    "- 그래프에서 깊은 부분을 우선적으로 탐색하는 알고리즘이다.\n",
    "\n",
    "\n",
    "- 그래프는 다음과 같은 요소를 포함하고 있다.\n",
    "    - 노드node(aka 정점vertex)\n",
    "    - 간선edge  \n",
    "\n",
    "- 인접행렬(Adjacency Matrix) : 2차원 배열로 그래프의 연결 관계를 표현하는 방식\n",
    "- 인접리스트(Adjacency List) : 리스트로 그래프의 연결 관계를 표현하는 방식\n"
   ]
  },
  {
   "cell_type": "code",
   "execution_count": 23,
   "metadata": {},
   "outputs": [
    {
     "name": "stdout",
     "output_type": "stream",
     "text": [
      "[[0, 7, 5], [7, 0, 9999999999], [5, 9999999999, 0]]\n"
     ]
    }
   ],
   "source": [
    "# 인접 행렬\n",
    "INF = 9999999999 # 무한의 비용 선언\n",
    "\n",
    "# 2차원 리스트를 이용해 인접 행렬 표현\n",
    "graph = [\n",
    "    [0, 7, 5],\n",
    "    [7, 0, INF],\n",
    "    [5, INF, 0]\n",
    "]\n",
    "\n",
    "print(graph)"
   ]
  },
  {
   "cell_type": "code",
   "execution_count": 26,
   "metadata": {},
   "outputs": [
    {
     "name": "stdout",
     "output_type": "stream",
     "text": [
      "[[(1, 7), (2, 5)], [(0, 7)], [(0, 5)]]\n"
     ]
    }
   ],
   "source": [
    "# 인접리스트\n",
    "# 모든 노드에 연결된 노드에 대한 정보를 차례로 연결하여 저장한다. \n",
    "\n",
    "# 행이 3개인 2차원 리스트로 인접리스트 표현\n",
    "graph = [[] for _ in range(3)]\n",
    "\n",
    "# 노드 0에 연결되어 있는 노드 정보 저장(노드, 거리)\n",
    "graph[0].append((1, 7))\n",
    "graph[0].append((2, 5))\n",
    "\n",
    "# 노드 1에 연결되어 있는 노드 정보 저장 (노드, 거리)\n",
    "graph[1].append((0, 7))\n",
    "\n",
    "# 노드 2에 연결되어 있는 노드 정보 저장 (노드, 거리)\n",
    "graph[2].append((0, 5))\n",
    "\n",
    "print(graph)"
   ]
  },
  {
   "cell_type": "markdown",
   "metadata": {},
   "source": [
    "- 메모리 측면에서 보면\n",
    "    - 인접 행렬 방식은  \n",
    "    모든 관계를 저장하므로 노드 개수가 많을수록 메모리가 불필요하게 낭비 된다. \n",
    "    - 인접 리스트 방식은  \n",
    "    연결괸 정보만을 저장하기 때문에 메모리를 효율적으로 사용한다. \n",
    "- **하지만 이와 같은 속성 때문에 인접 리스트 방식은 인접 행렬 방식에 비해 특정한 두 노드가 연결되어 있는지에 대한 정보를 얻는 속도가 느리다.**\n",
    "\n",
    "- 어쨋든 모든 노드를 순회해야하는 경우에는 인접 리스트가 공간의 낭비가 적다.\n",
    "\n",
    "    "
   ]
  },
  {
   "cell_type": "code",
   "execution_count": 27,
   "metadata": {},
   "outputs": [],
   "source": [
    "# 재귀 함수를 이용한 DFS\n",
    "def dfs(graph, v, visited): \n",
    "    # graph: 리스트형 그래프\n",
    "    # v = 현재 위치\n",
    "    # visited = 어디 방문했는지 기록\n",
    "    \n",
    "    # 현재 노드를 방문 처리하자\n",
    "    visited[v] = True\n",
    "    print(v, end = ' ')\n",
    "    \n",
    "    # 그래프에서 현재 노드와 연결된 모든 노드를 순서대로 방문 (재귀함수를 이용하여)\n",
    "    for i in graph[v] :\n",
    "        if not visited[i]: # 방문하지 않았던 노드로 이동한다.\n",
    "            dfs(graph, i, visited) # 그곳에서 다시 그 노드를 방문처리하고 그 노드와 연결된 노드를 순서대로 방문할 것이다.\n",
    "\n",
    "# 안갔던 노드만 출력해주므로, 돌아다닌 순서가 출력된다. \n",
    "# 움직임을 나타낼 수 도 있다. "
   ]
  },
  {
   "cell_type": "markdown",
   "metadata": {},
   "source": [
    "여기서 graph는 리스트 자료형으로 구성 하였다. "
   ]
  },
  {
   "cell_type": "code",
   "execution_count": 34,
   "metadata": {},
   "outputs": [],
   "source": [
    "graph = [\n",
    "    [],\n",
    "    [2,3,8],\n",
    "    [1,7],\n",
    "    [1,4,5],\n",
    "    [3,5],\n",
    "    [3,4],\n",
    "    [7],\n",
    "    [2,6,8],\n",
    "    [1,7]\n",
    "]\n",
    "\n",
    "visited = [False]*9"
   ]
  },
  {
   "cell_type": "code",
   "execution_count": 35,
   "metadata": {},
   "outputs": [
    {
     "data": {
      "text/plain": [
       "[False, False, False, False, False, False, False, False, False]"
      ]
     },
     "execution_count": 35,
     "metadata": {},
     "output_type": "execute_result"
    }
   ],
   "source": [
    "visited"
   ]
  },
  {
   "cell_type": "code",
   "execution_count": 36,
   "metadata": {},
   "outputs": [
    {
     "name": "stdout",
     "output_type": "stream",
     "text": [
      "1 2 7 6 8 3 4 5 "
     ]
    }
   ],
   "source": [
    "dfs(graph, 1, visited)\n",
    "# 그래프의 방문했던 순서를 그대로 출력한다. "
   ]
  },
  {
   "cell_type": "markdown",
   "metadata": {},
   "source": [
    "- BFS\n",
    "- 너비 우선 탐색\n",
    "- 가까운 노드부터 순서대로 탐색\n",
    "\n",
    "\n",
    "- DFS와 비교하여, DFS는 한 가지를 선택했으면 그 가지의 끝까지 탐색하고 온다. \n",
    "- 하지만 BFS는 그 반대다. \n",
    "\n",
    "\n",
    "- BFS를 구현하기 위해서는 **선입선출**구조인 **Queue 구조**를 채택한다. \n",
    "- 인접한 노드를 반복적으로 큐에 넣도록 알고리즘을 설정하면, 자연스럽게 먼저 들어온 것이 먼저 나가게 되어, 가까운 노드부터 탐색을 진행하게 된다. \n",
    "\n",
    "\n",
    "**BFS 알고리즘 설명**\n",
    "1. 탐색 시작 노드를 Queue에 삽입하고, 방문처리한다. \n",
    "2. Queue에서 노드를 꺼내 해당 노드의 인접 노드 중에서 **방문하지 않은 노드**를 **모두 Queue**에 삽입하고 방문처리한다. \n",
    "3. 2.를 더 진행할 수 없을때 까지 진행한다. \n",
    "\n",
    "\n",
    "- 특징 설명\n",
    "    - BFS는 Queue 자료 구조에 기초한다는 점에서 구현이 간단하다. \n",
    "    - deque 라이브러리를 사용하는 것이 좋다. \n",
    "    - **실제 수행시간은 DFS보다 좋은 편이다.**"
   ]
  },
  {
   "cell_type": "code",
   "execution_count": 40,
   "metadata": {},
   "outputs": [],
   "source": [
    "# BFS 예제\n",
    "from collections import deque\n",
    "\n",
    "# BFS method 정의\n",
    "def bfs(graph, start, visited) : \n",
    "    # Queue구조를 사용하기 위해서 Deque 라이브러리 사용\n",
    "    # 현재 노드를 입력해준다. \n",
    "    queue = deque([start])\n",
    "    \n",
    "    # 그리고 현재 그 노드를 방문처리한다. \n",
    "    visited[start] = True\n",
    "    \n",
    "    while queue : #Queue가 텅텅 빌때까지 수행한다. \n",
    "        # 큐에서 원소를 하나 꺼낸다.\n",
    "        #  (이때, 큐는 선입 선출 구조이기 때문에, 제일 처음 입력한 값들이 나온다. )\n",
    "        v = queue.popleft()\n",
    "        print(v, end = ' ') #꺼낸 원소 출력\n",
    "        \n",
    "        # 해당 원소와 연결된, 아직 방문하지 않은 원소들을 큐에 삽입\n",
    "        for i in graph[v] : \n",
    "            if not visited[i]:\n",
    "                queue.append(i)\n",
    "                visited[i] = True"
   ]
  },
  {
   "cell_type": "code",
   "execution_count": 41,
   "metadata": {},
   "outputs": [
    {
     "name": "stdout",
     "output_type": "stream",
     "text": [
      "1 2 3 8 7 4 5 6 "
     ]
    }
   ],
   "source": [
    "graph = [\n",
    "    [],\n",
    "    [2,3,8],\n",
    "    [1,7],\n",
    "    [1,4,5],\n",
    "    [3,5],\n",
    "    [3,4],\n",
    "    [7],\n",
    "    [2,6,8],\n",
    "    [1,7]\n",
    "]\n",
    "\n",
    "visited = [False]*9\n",
    "\n",
    "bfs(graph, 1, visited)"
   ]
  },
  {
   "cell_type": "markdown",
   "metadata": {},
   "source": [
    "## 실전문제 음료수 얼려 먹기"
   ]
  },
  {
   "cell_type": "markdown",
   "metadata": {},
   "source": [
    "- 영역의 한 지점을 찍는 순간 그 부분은 모두 돌아 다닐 수 있다.\n",
    "- 따라서 그 부분은 꽉 채워지는 것이 가능하다는 것이다. \n",
    "- 그러니까 모든 점에 대해서 이를 실시하면 결국 색칠 가능한 영역의 개수만 카운트 할 수 있게 되는 것이다. "
   ]
  },
  {
   "cell_type": "code",
   "execution_count": 44,
   "metadata": {},
   "outputs": [],
   "source": [
    "graph = [\n",
    "    [0,0,1,1,0],\n",
    "    [0,0,0,1,1],\n",
    "    [1,1,1,1,1],\n",
    "    [0,0,0,0,0]\n",
    "]\n",
    "N = 4\n",
    "M = 5"
   ]
  },
  {
   "cell_type": "code",
   "execution_count": 45,
   "metadata": {},
   "outputs": [],
   "source": [
    "# My code\n",
    "def dfs(x, y) : \n",
    "    # 앞으로 상하좌우로 움직이게 될 것인데, \n",
    "    # 움직일 수 있는 범위를 벗어나게 되면 False\n",
    "    if x < 0 or x >= N or y < 0 or y >= M :\n",
    "        return False\n",
    "    \n",
    "    # 현재 노드를 아직 방문하지 않았다면 (칸막이, 또는 얼음이 아니라면,)\n",
    "    if graph[x][y] == 0 :\n",
    "        # 해당 노드는 얼음으로 채워지게 된다.\n",
    "        graph[x][y] = 1\n",
    "        # 그 다음 상하좌우 DFS를 실시한다. \n",
    "        dfs(x-1,y)\n",
    "        dfs(x+1,y)\n",
    "        dfs(x,y-1)\n",
    "        dfs(x,y+1)\n",
    "        \n",
    "        # 상하좌우 모두 색칠이 완료한다면 \n",
    "        return True\n",
    "    # 해당노드가 얼음이고, 칸막이라면 바로 종료(카운트 하면 안되기 때문에)\n",
    "    return False\n",
    "\n",
    "result = 0\n",
    "for i in range(N):\n",
    "    for j in range(M):\n",
    "        if dfs(i, j) == True :\n",
    "            result +=1"
   ]
  },
  {
   "cell_type": "code",
   "execution_count": 46,
   "metadata": {},
   "outputs": [
    {
     "data": {
      "text/plain": [
       "3"
      ]
     },
     "execution_count": 46,
     "metadata": {},
     "output_type": "execute_result"
    }
   ],
   "source": [
    "result"
   ]
  },
  {
   "cell_type": "markdown",
   "metadata": {},
   "source": [
    "## 실전문제 미로 탈출"
   ]
  },
  {
   "cell_type": "code",
   "execution_count": 191,
   "metadata": {},
   "outputs": [],
   "source": [
    "graph = [\n",
    "    [1,0,1,0,1,0],\n",
    "    [1,1,1,1,1,1],\n",
    "    [0,0,0,0,0,1],\n",
    "    [1,1,1,1,1,1],\n",
    "    [1,1,1,1,1,1]\n",
    "]\n",
    "N = 5\n",
    "M = 6"
   ]
  },
  {
   "cell_type": "code",
   "execution_count": 192,
   "metadata": {},
   "outputs": [
    {
     "data": {
      "text/plain": [
       "[[0, 0, 0, 0, 0, 0],\n",
       " [0, 0, 0, 0, 0, 0],\n",
       " [0, 0, 0, 0, 0, 0],\n",
       " [0, 0, 0, 0, 0, 0],\n",
       " [0, 0, 0, 0, 0, 0]]"
      ]
     },
     "execution_count": 192,
     "metadata": {},
     "output_type": "execute_result"
    }
   ],
   "source": [
    "[[0]*M]*N"
   ]
  },
  {
   "cell_type": "code",
   "execution_count": 193,
   "metadata": {},
   "outputs": [],
   "source": [
    "distance = [[0]*M]*N"
   ]
  },
  {
   "cell_type": "code",
   "execution_count": 194,
   "metadata": {},
   "outputs": [
    {
     "data": {
      "text/plain": [
       "0"
      ]
     },
     "execution_count": 194,
     "metadata": {},
     "output_type": "execute_result"
    }
   ],
   "source": [
    "distance[0][0]"
   ]
  },
  {
   "cell_type": "code",
   "execution_count": 195,
   "metadata": {},
   "outputs": [],
   "source": [
    "from collections import deque\n",
    "dx=[0,1,0,-1]\n",
    "dy=[1,0,-1,0]\n",
    "\n",
    "# 시작점 (1,1)예시\n",
    "# 이동거리 1 (초기화)\n",
    "# queue에 (1,1)입력\n",
    "# 그리고 (1,1)은 방문했었다고 정보 입력\n",
    "\n",
    "# 그다음 갈 수 있는 제일 인접 노드 탐색\n",
    "    # 상하좌우를 갈 수 있음.\n",
    "    # 사각형을 벗어나면 안된다.\n",
    "    # 갔던 곳은 못간다.\n",
    "# queue에 저장되어있는 현재 위치를 꺼낸다. \n",
    "# 갈 수 있는 곳들을 queue에 입력한다.\n",
    "# 그 곳들을 또 방문 했었다고 정보를 입력한다. \n",
    "# 또 해당 지역은 \n",
    "\n",
    "def bfs(start):\n",
    "    count=0\n",
    "    queue = deque([start])\n",
    "    while queue :\n",
    "        print(queue)\n",
    "        v = queue.popleft()\n",
    "        x, y = v\n",
    "        count +=1\n",
    "        for i in range(4):\n",
    "            new_x = x + dx[i]\n",
    "            new_y = y + dy[i]\n",
    "            if (new_x <0 or new_x >= N or new_y < 0 or new_y >= M): \n",
    "                continue\n",
    "            if graph[new_x][new_y] == 0 :\n",
    "                continue\n",
    "            \n",
    "            if graph[new_x][new_y] == 1 :\n",
    "                queue.append((new_x, new_y))\n",
    "                graph[new_x][new_y] = graph[x][y] + 1\n",
    "                \n",
    "    return graph\n"
   ]
  },
  {
   "cell_type": "code",
   "execution_count": 196,
   "metadata": {},
   "outputs": [
    {
     "name": "stdout",
     "output_type": "stream",
     "text": [
      "deque([(0, 0)])\n",
      "deque([(1, 0)])\n",
      "deque([(1, 1), (0, 0)])\n",
      "deque([(0, 0), (1, 2)])\n",
      "deque([(1, 2)])\n",
      "deque([(1, 3), (0, 2)])\n",
      "deque([(0, 2), (1, 4)])\n",
      "deque([(1, 4)])\n",
      "deque([(1, 5), (0, 4)])\n",
      "deque([(0, 4), (2, 5)])\n",
      "deque([(2, 5)])\n",
      "deque([(3, 5)])\n",
      "deque([(4, 5), (3, 4)])\n",
      "deque([(3, 4), (4, 4)])\n",
      "deque([(4, 4), (3, 3)])\n",
      "deque([(3, 3), (4, 3)])\n",
      "deque([(4, 3), (3, 2)])\n",
      "deque([(3, 2), (4, 2)])\n",
      "deque([(4, 2), (3, 1)])\n",
      "deque([(3, 1), (4, 1)])\n",
      "deque([(4, 1), (3, 0)])\n",
      "deque([(3, 0), (4, 0)])\n",
      "deque([(4, 0)])\n"
     ]
    },
    {
     "data": {
      "text/plain": [
       "[[3, 0, 5, 0, 7, 0],\n",
       " [2, 3, 4, 5, 6, 7],\n",
       " [0, 0, 0, 0, 0, 8],\n",
       " [14, 13, 12, 11, 10, 9],\n",
       " [15, 14, 13, 12, 11, 10]]"
      ]
     },
     "execution_count": 196,
     "metadata": {},
     "output_type": "execute_result"
    }
   ],
   "source": [
    "bfs((0,0))"
   ]
  }
 ],
 "metadata": {
  "kernelspec": {
   "display_name": "Python 3",
   "language": "python",
   "name": "python3"
  },
  "language_info": {
   "codemirror_mode": {
    "name": "ipython",
    "version": 3
   },
   "file_extension": ".py",
   "mimetype": "text/x-python",
   "name": "python",
   "nbconvert_exporter": "python",
   "pygments_lexer": "ipython3",
   "version": "3.8.3"
  },
  "toc": {
   "base_numbering": 1,
   "nav_menu": {},
   "number_sections": true,
   "sideBar": true,
   "skip_h1_title": false,
   "title_cell": "Table of Contents",
   "title_sidebar": "Contents",
   "toc_cell": false,
   "toc_position": {},
   "toc_section_display": true,
   "toc_window_display": false
  }
 },
 "nbformat": 4,
 "nbformat_minor": 4
}
