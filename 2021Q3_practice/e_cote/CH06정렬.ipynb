{
 "cells": [
  {
   "cell_type": "markdown",
   "metadata": {},
   "source": [
    "## 기준에 따라 데이터를 정렬"
   ]
  },
  {
   "cell_type": "markdown",
   "metadata": {},
   "source": [
    "- 정렬\n",
    "    - 데이터를 특정한 기준에 따라서 순서대로 나열\n",
    "    - **정렬 알고리즘**은**이진탐색**의 전처리 과정이다.\n",
    "\n",
    "\n",
    "- 선택 정렬\n",
    "- 삽입 정렬\n",
    "- 퀵 정렬\n",
    "- 계수 정렬"
   ]
  },
  {
   "cell_type": "markdown",
   "metadata": {},
   "source": [
    "### 선택 정렬\n",
    "\n",
    "- 가장 작은 데이터를 선택해 맨 앞에 있는 데이터와 바꾸고, 그 다음 작은 데이터를 선택해 앞에서 두 번째 데이터와 바꾸는 과정을 반복해보면 어떨까?\n",
    "- <u>매번 가장 작은 데이터를 **선택**한다</u>는 의미에서 **선택 정렬**이라고 한다. \n",
    "\n",
    "\n",
    "- 제일 기본 개념\n",
    "- 그러나 시간 복잡도가 O(N^2)"
   ]
  },
  {
   "cell_type": "code",
   "execution_count": 2,
   "metadata": {},
   "outputs": [
    {
     "name": "stdout",
     "output_type": "stream",
     "text": [
      "[0, 1, 2, 3, 4, 5, 6, 7, 8, 9]\n"
     ]
    }
   ],
   "source": [
    "# 선택 정렬 소스 코드\n",
    "array = [7, 5, 9, 0, 3, 1, 6, 2, 4, 8]\n",
    "\n",
    "for i in range(len(array)): \n",
    "    min_index = i\n",
    "    for j in range(i+1, len(array)):\n",
    "        # 가장 작은 것의 index를 찾는 행위\n",
    "        if array[min_index] > array[j] :\n",
    "            min_index = j\n",
    "    # 스왑\n",
    "    array[i], array[min_index] = array[min_index], array[i]\n",
    "print(array)"
   ]
  },
  {
   "cell_type": "markdown",
   "metadata": {},
   "source": [
    "### 삽입 정렬\n",
    "- 알고리즘 문제 풀이에 사용하기에는 느린 편이다. \n",
    "- 다른 접근 방법에 대해서 생각해보자. \n",
    "\n",
    "\n",
    "- **데이터를 확인하며, 각 데이터를 적적한 위치에 삽입하면 어떨까?**\n",
    "\n",
    "\n",
    "- 선택 정렬에 비해서는! 실행 시간 측면에서 더 효율적인 알고리즘\n",
    "- 필요할때만 위치를 바꾸므로 **'데이터가 거의 정렬되어 있을 때'** 훨씬 효율적이다. \n",
    "\n",
    "\n",
    "- 선택정렬은 현재 데이터의 상태와 상관없이 무조건 모든 원소를 비교하고 위치를 바꾸는 반면 삽입 정렬은 그렇지 않다. \n",
    "\n",
    "\n",
    "- 최고 장점은, 거의 다 정렬되어있는 것에서는 빠른 속도의 계산 속도를 확인할 수 있다."
   ]
  },
  {
   "cell_type": "code",
   "execution_count": 5,
   "metadata": {},
   "outputs": [
    {
     "name": "stdout",
     "output_type": "stream",
     "text": [
      "[0, 1, 2, 3, 4, 5, 6, 7, 8, 9]\n"
     ]
    }
   ],
   "source": [
    "# 삽입 정렬 소스 코드\n",
    "array = [7, 5, 9, 0, 3, 1, 6, 2, 4, 8]\n",
    "\n",
    "for i in range(1, len(array)):\n",
    "    for j in range(i, 0, -1):\n",
    "        if array[j-1] > array[j] : # 앞자리 숫자가 더 크면 자리를 바꾼다.\n",
    "            array[j-1], array[j] = array[j], array[j-1]\n",
    "        else :\n",
    "            break\n",
    "            \n",
    "print(array)\n",
    "            "
   ]
  },
  {
   "cell_type": "markdown",
   "metadata": {},
   "source": [
    "### 퀵 정렬\n",
    "\n",
    "- 가장 많이 사용되는 알고리즘\n",
    "- 대부분의 프로그래밍 언어에서 정렬 라이브러리의 근간이 되는 알고리즘\n",
    "\n",
    "\n",
    "- **기준 데이터를 설정하고 그 기준보다 큰 데이터와 작은 데이터의 위치를 바꾸면 어떨까?**\n",
    "    - 기준을 설정한 다음 큰 수와 작은 수를 교환한 후 리스트를 반으로 나누는 방식으로 동작한다.\n",
    "    \n",
    "\n",
    "- 피벗이 사용된다. 큰 수와 작은 수를 교환할 때, 교환하기 위한 기준을 바로 피벗이라고 표현한다. "
   ]
  },
  {
   "cell_type": "code",
   "execution_count": 30,
   "metadata": {},
   "outputs": [],
   "source": [
    "array = [5,7,9,0,3,1,6,2,4,8]\n",
    "\n",
    "def quick_sort(array, start, end):\n",
    "    # start는 end보다 항상 작아야한다.\n",
    "    if start >= end : \n",
    "        return\n",
    "    \n",
    "    pivot = start\n",
    "    left = start+1\n",
    "    right = end\n",
    "    \n",
    "    while left <= right : # 왼쪽\n",
    "        # 피벗보다 큰 데이터를 찾을 때 까지 반복\n",
    "        while left <= end and array[pivot] >= array[left] : \n",
    "            left+=1\n",
    "        while right > start and array[pivot] <= array[right] : \n",
    "            right-=1\n",
    "        if left > right : \n",
    "            array[right], array[pivot] = array[pivot], array[right]\n",
    "        else : \n",
    "            array[right], array[left] = array[left], array[right]\n",
    "            \n",
    "    quick_sort(array, start, right-1)\n",
    "    quick_sort(array, right+1, end)\n"
   ]
  },
  {
   "cell_type": "code",
   "execution_count": 31,
   "metadata": {},
   "outputs": [
    {
     "name": "stdout",
     "output_type": "stream",
     "text": [
      "[0, 1, 2, 3, 4, 5, 6, 7, 8, 9]\n"
     ]
    }
   ],
   "source": [
    "quick_sort(array, 0, len(array)-1)\n",
    "print(array)"
   ]
  },
  {
   "cell_type": "code",
   "execution_count": 41,
   "metadata": {},
   "outputs": [],
   "source": [
    "array = [5,7,9,0,3,1,6,2,4,8]\n",
    "\n",
    "\n",
    "def quick_sort(array) : \n",
    "    if len(array) <= 1:\n",
    "        return array\n",
    "    pivot = array[0]\n",
    "    tail = array[1:]\n",
    "\n",
    "\n",
    "    left_side = [x for x in tail if x <= pivot]\n",
    "    right_side = [x for x in tail if x >= pivot]\n",
    "    \n",
    "    return quick_sort(left_side)+[pivot]+quick_sort(right_side)\n",
    "    "
   ]
  },
  {
   "cell_type": "code",
   "execution_count": 42,
   "metadata": {},
   "outputs": [
    {
     "data": {
      "text/plain": [
       "[0, 1, 2, 3, 4, 5, 6, 7, 8, 9]"
      ]
     },
     "execution_count": 42,
     "metadata": {},
     "output_type": "execute_result"
    }
   ],
   "source": [
    "quick_sort(array)"
   ]
  },
  {
   "cell_type": "markdown",
   "metadata": {},
   "source": [
    "### 계수 정렬\n",
    "\n",
    "- 특정한 조건이 부합할 때만 사용할 수 있지만 매우 빠른 정렬 알고리즘\n",
    "- 데이터의 크기 범위가 제한되어 정수 형태로 표현할 수 있을 때.\n",
    "- 최소가 0, 최대가 100인 정수 범위와 같은 시험 점수의 데이터의 경우에 최고로 빠른 성능을 보이지만\n",
    "- 최대와 최소의 차이가 1,000,000 이상이 되면 사용하기 어렵다. \n"
   ]
  },
  {
   "cell_type": "code",
   "execution_count": 43,
   "metadata": {},
   "outputs": [],
   "source": [
    "array = [7,5,9,0,3,1,6,2,9,1,4,8,0,5,2]\n",
    "\n",
    "count = [0]*(max(array)+1)"
   ]
  },
  {
   "cell_type": "code",
   "execution_count": 44,
   "metadata": {},
   "outputs": [],
   "source": [
    "for i in range(len(array)):\n",
    "    count[array[i]] += 1"
   ]
  },
  {
   "cell_type": "code",
   "execution_count": 45,
   "metadata": {},
   "outputs": [
    {
     "data": {
      "text/plain": [
       "[2, 2, 2, 1, 1, 2, 1, 1, 1, 2]"
      ]
     },
     "execution_count": 45,
     "metadata": {},
     "output_type": "execute_result"
    }
   ],
   "source": [
    "count"
   ]
  },
  {
   "cell_type": "code",
   "execution_count": 46,
   "metadata": {},
   "outputs": [
    {
     "name": "stdout",
     "output_type": "stream",
     "text": [
      "0 0 1 1 2 2 3 4 5 5 6 7 8 9 9 "
     ]
    }
   ],
   "source": [
    "for i in range(len(count)):\n",
    "    for j in range(count[i]):\n",
    "        print(i, end = ' ')"
   ]
  },
  {
   "cell_type": "markdown",
   "metadata": {},
   "source": [
    "## 실전 문제 위에서 아래로"
   ]
  },
  {
   "cell_type": "code",
   "execution_count": 50,
   "metadata": {},
   "outputs": [
    {
     "data": {
      "text/plain": [
       "[27, 15, 12]"
      ]
     },
     "execution_count": 50,
     "metadata": {},
     "output_type": "execute_result"
    }
   ],
   "source": [
    "array = [15, 27, 12]\n",
    "\n",
    "sorted(array, reverse = True) # 내림차순"
   ]
  },
  {
   "cell_type": "markdown",
   "metadata": {},
   "source": [
    "## 실전 문제 성적이 낮은 순서로 학생 출력하기"
   ]
  },
  {
   "cell_type": "code",
   "execution_count": 52,
   "metadata": {},
   "outputs": [
    {
     "data": {
      "text/plain": [
       "['이순신', '홍길동']"
      ]
     },
     "execution_count": 52,
     "metadata": {},
     "output_type": "execute_result"
    }
   ],
   "source": [
    "array = [('홍길동', 95), ('이순신', 77)]\n",
    "\n",
    "def select_second(_tuple):\n",
    "    return _tuple[1]\n",
    "\n",
    "array = sorted(array, key = select_second)\n",
    "[i[0] for i in array]"
   ]
  },
  {
   "cell_type": "markdown",
   "metadata": {},
   "source": [
    "## 실전 문제 두 배열의 원소 교체"
   ]
  },
  {
   "cell_type": "code",
   "execution_count": 67,
   "metadata": {},
   "outputs": [],
   "source": [
    "# 두 가지 array\n",
    "# A에 큰 것을 다 몰아 줘야한다. \n",
    "# A, B를 각각 정렬하여\n",
    "\n",
    "A = [1,2,5,4,3]\n",
    "B = [5,5,6,6,5]\n",
    "K = 3"
   ]
  },
  {
   "cell_type": "code",
   "execution_count": 70,
   "metadata": {},
   "outputs": [
    {
     "name": "stdout",
     "output_type": "stream",
     "text": [
      "[4, 5, 6, 6, 5]\n",
      "[1, 2, 3, 5, 5]\n"
     ]
    }
   ],
   "source": [
    "#A = sorted(A)[K:] + sorted(B,reverse = True)[:K]\n",
    "#B = sorted(A)[:K] + sorted(B,reverse = True)[K:]\n",
    "A, B = sorted(A)[K:] + sorted(B,reverse = True)[:K], sorted(A)[:K] + sorted(B,reverse = True)[K:]\n",
    "print(A)\n",
    "print(B)"
   ]
  },
  {
   "cell_type": "code",
   "execution_count": 71,
   "metadata": {},
   "outputs": [
    {
     "data": {
      "text/plain": [
       "26"
      ]
     },
     "execution_count": 71,
     "metadata": {},
     "output_type": "execute_result"
    }
   ],
   "source": [
    "sum(A)"
   ]
  }
 ],
 "metadata": {
  "kernelspec": {
   "display_name": "Python 3",
   "language": "python",
   "name": "python3"
  },
  "language_info": {
   "codemirror_mode": {
    "name": "ipython",
    "version": 3
   },
   "file_extension": ".py",
   "mimetype": "text/x-python",
   "name": "python",
   "nbconvert_exporter": "python",
   "pygments_lexer": "ipython3",
   "version": "3.8.3"
  },
  "toc": {
   "base_numbering": 1,
   "nav_menu": {},
   "number_sections": true,
   "sideBar": true,
   "skip_h1_title": false,
   "title_cell": "Table of Contents",
   "title_sidebar": "Contents",
   "toc_cell": false,
   "toc_position": {},
   "toc_section_display": true,
   "toc_window_display": false
  }
 },
 "nbformat": 4,
 "nbformat_minor": 4
}
