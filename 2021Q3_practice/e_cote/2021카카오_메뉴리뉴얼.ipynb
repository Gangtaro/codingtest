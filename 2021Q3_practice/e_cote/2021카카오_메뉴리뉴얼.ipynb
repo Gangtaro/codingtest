{
 "cells": [
  {
   "cell_type": "code",
   "execution_count": 111,
   "metadata": {},
   "outputs": [],
   "source": [
    "orders = [\"ABCFG\", \"AC\", \"CDE\", \"ACDE\", \"BCFG\", \"ACDEH\"]\n",
    "orders = [''.join(sorted(i)) for i in orders]\n",
    "course = [2,3,4]"
   ]
  },
  {
   "cell_type": "code",
   "execution_count": null,
   "metadata": {},
   "outputs": [],
   "source": []
  },
  {
   "cell_type": "code",
   "execution_count": 112,
   "metadata": {},
   "outputs": [],
   "source": [
    "# \n",
    "kinds = sorted(list(set(''.join(orders))))"
   ]
  },
  {
   "cell_type": "code",
   "execution_count": 113,
   "metadata": {},
   "outputs": [],
   "source": [
    "from itertools import combinations"
   ]
  },
  {
   "cell_type": "code",
   "execution_count": 114,
   "metadata": {},
   "outputs": [
    {
     "data": {
      "text/plain": [
       "[('A', 'B'),\n",
       " ('A', 'C'),\n",
       " ('A', 'D'),\n",
       " ('A', 'E'),\n",
       " ('A', 'F'),\n",
       " ('A', 'G'),\n",
       " ('A', 'H'),\n",
       " ('B', 'C'),\n",
       " ('B', 'D'),\n",
       " ('B', 'E'),\n",
       " ('B', 'F'),\n",
       " ('B', 'G'),\n",
       " ('B', 'H'),\n",
       " ('C', 'D'),\n",
       " ('C', 'E'),\n",
       " ('C', 'F'),\n",
       " ('C', 'G'),\n",
       " ('C', 'H'),\n",
       " ('D', 'E'),\n",
       " ('D', 'F'),\n",
       " ('D', 'G'),\n",
       " ('D', 'H'),\n",
       " ('E', 'F'),\n",
       " ('E', 'G'),\n",
       " ('E', 'H'),\n",
       " ('F', 'G'),\n",
       " ('F', 'H'),\n",
       " ('G', 'H')]"
      ]
     },
     "execution_count": 114,
     "metadata": {},
     "output_type": "execute_result"
    }
   ],
   "source": [
    "list(combinations(kinds, 2))\n"
   ]
  },
  {
   "cell_type": "code",
   "execution_count": 115,
   "metadata": {},
   "outputs": [
    {
     "data": {
      "text/plain": [
       "['ABCFG', 'AC', 'CDE', 'ACDE', 'BCFG', 'ACDEH']"
      ]
     },
     "execution_count": 115,
     "metadata": {},
     "output_type": "execute_result"
    }
   ],
   "source": [
    "orders"
   ]
  },
  {
   "cell_type": "code",
   "execution_count": 17,
   "metadata": {},
   "outputs": [],
   "source": [
    "import re"
   ]
  },
  {
   "cell_type": "code",
   "execution_count": 101,
   "metadata": {},
   "outputs": [
    {
     "data": {
      "text/plain": [
       "['AC', 'CDE', 'ACDE', 'BCFG']"
      ]
     },
     "execution_count": 101,
     "metadata": {},
     "output_type": "execute_result"
    }
   ],
   "source": [
    "result = []\n",
    "cache = []\n",
    "for j in course : \n",
    "    cache = []\n",
    "    for i in combinations(kinds, j):\n",
    "        pattern = r'[^_]*'.join(i)\n",
    "        cache.append((len(re.findall(pattern , '_'.join(orders))), ''.join(i)))\n",
    "    _max_counts, _ = max(cache, key = lambda x:x[0])\n",
    "    if _max_counts >= 2 : \n",
    "        result+=[i for i in cache if i[0] == _max_counts]\n",
    "[i[1] for i in result ]"
   ]
  },
  {
   "cell_type": "code",
   "execution_count": 106,
   "metadata": {},
   "outputs": [],
   "source": [
    "def solution(orders, course):\n",
    "    orders = [''.join(sorted(i)) for i in orders]\n",
    "    import re\n",
    "    from itertools import combinations\n",
    "    kinds = sorted(list(set(''.join(orders))))\n",
    "    result = []\n",
    "    cache = []\n",
    "    for j in course : \n",
    "        cache = []\n",
    "        for i in combinations(kinds, j):\n",
    "            pattern = r'[^_]*'.join(i)\n",
    "            cache.append((len(re.findall(pattern , '_'.join(orders))), ''.join(i)))\n",
    "        _max_counts, _ = max(cache, key = lambda x:x[0])\n",
    "        if _max_counts >= 2 : \n",
    "            result+=[i for i in cache if i[0] == _max_counts]\n",
    "    answer = [i[1] for i in result ]\n",
    "    return sorted(answer)"
   ]
  },
  {
   "cell_type": "code",
   "execution_count": 107,
   "metadata": {},
   "outputs": [
    {
     "data": {
      "text/plain": [
       "['AC', 'ACDE', 'BCFG', 'CDE']"
      ]
     },
     "execution_count": 107,
     "metadata": {},
     "output_type": "execute_result"
    }
   ],
   "source": [
    "sorted(solution(orders, course))"
   ]
  },
  {
   "cell_type": "code",
   "execution_count": 108,
   "metadata": {},
   "outputs": [
    {
     "data": {
      "text/plain": [
       "['AC', 'CDE', 'ACDE', 'BCFG']"
      ]
     },
     "execution_count": 108,
     "metadata": {},
     "output_type": "execute_result"
    }
   ],
   "source": [
    "result\n",
    "[i[1] for i in result ]"
   ]
  },
  {
   "cell_type": "code",
   "execution_count": 94,
   "metadata": {},
   "outputs": [],
   "source": [
    "_max_counts, _ = max(cache, key = lambda x:x[0])"
   ]
  },
  {
   "cell_type": "code",
   "execution_count": 95,
   "metadata": {},
   "outputs": [],
   "source": [
    "if _max_counts >= 2 : \n",
    "    [i for i in cache if i]"
   ]
  },
  {
   "cell_type": "code",
   "execution_count": 96,
   "metadata": {},
   "outputs": [
    {
     "data": {
      "text/plain": [
       "[(2, 'ACDE'), (2, 'BCFG')]"
      ]
     },
     "execution_count": 96,
     "metadata": {},
     "output_type": "execute_result"
    }
   ],
   "source": [
    "[i for i in cache if i[0] == _max_counts]"
   ]
  },
  {
   "cell_type": "code",
   "execution_count": 84,
   "metadata": {},
   "outputs": [
    {
     "data": {
      "text/plain": [
       "'ABCFG_AC_CDE_ACDE_BCFG_ACDEH'"
      ]
     },
     "execution_count": 84,
     "metadata": {},
     "output_type": "execute_result"
    }
   ],
   "source": [
    "'_'.join(orders)"
   ]
  },
  {
   "cell_type": "code",
   "execution_count": 85,
   "metadata": {
    "scrolled": true
   },
   "outputs": [
    {
     "data": {
      "text/plain": [
       "[('A', 'C'),\n",
       " ('A', 'C', 'D'),\n",
       " ('A', 'C', 'E'),\n",
       " ('A', 'D', 'E'),\n",
       " ('B', 'C', 'F'),\n",
       " ('B', 'C', 'G'),\n",
       " ('B', 'F', 'G'),\n",
       " ('C', 'D', 'E'),\n",
       " ('A', 'C', 'D', 'E'),\n",
       " ('B', 'C', 'F', 'G')]"
      ]
     },
     "execution_count": 85,
     "metadata": {},
     "output_type": "execute_result"
    }
   ],
   "source": [
    "result"
   ]
  },
  {
   "cell_type": "code",
   "execution_count": 73,
   "metadata": {},
   "outputs": [
    {
     "data": {
      "text/plain": [
       "0"
      ]
     },
     "execution_count": 73,
     "metadata": {},
     "output_type": "execute_result"
    }
   ],
   "source": [
    "len(re.findall(pattern , '_'.join(orders)))"
   ]
  },
  {
   "cell_type": "code",
   "execution_count": 58,
   "metadata": {},
   "outputs": [
    {
     "data": {
      "text/plain": [
       "'E[A-Z]*F[A-Z]*G[A-Z]*H'"
      ]
     },
     "execution_count": 58,
     "metadata": {},
     "output_type": "execute_result"
    }
   ],
   "source": [
    "r'[A-Z]*'.join(i)"
   ]
  },
  {
   "cell_type": "code",
   "execution_count": 63,
   "metadata": {},
   "outputs": [
    {
     "data": {
      "text/plain": [
       "'E[A-Z]*F[A-Z]*G[A-Z]*H'"
      ]
     },
     "execution_count": 63,
     "metadata": {},
     "output_type": "execute_result"
    }
   ],
   "source": [
    "pattern"
   ]
  },
  {
   "cell_type": "code",
   "execution_count": 81,
   "metadata": {},
   "outputs": [
    {
     "data": {
      "text/plain": [
       "'ABCFG_AC_CDE_ACDE_BCFG_ACDEH'"
      ]
     },
     "execution_count": 81,
     "metadata": {},
     "output_type": "execute_result"
    }
   ],
   "source": [
    "'_'.join(orders)"
   ]
  },
  {
   "cell_type": "code",
   "execution_count": 82,
   "metadata": {},
   "outputs": [
    {
     "data": {
      "text/plain": [
       "['ACDE', 'ACDE']"
      ]
     },
     "execution_count": 82,
     "metadata": {},
     "output_type": "execute_result"
    }
   ],
   "source": [
    "re.findall('A[^_]*E' , '_'.join(orders))"
   ]
  },
  {
   "cell_type": "code",
   "execution_count": 116,
   "metadata": {},
   "outputs": [],
   "source": [
    "orders = [\"ABCFG\", \"AC\", \"CDE\", \"ACDE\", \"BCFG\", \"ACDEH\"]\n",
    "course = [2,3,4]"
   ]
  },
  {
   "cell_type": "code",
   "execution_count": 117,
   "metadata": {},
   "outputs": [],
   "source": [
    "from collections import Counter"
   ]
  },
  {
   "cell_type": "code",
   "execution_count": 125,
   "metadata": {},
   "outputs": [
    {
     "name": "stdout",
     "output_type": "stream",
     "text": [
      "AB\n",
      "AC\n",
      "AF\n",
      "AG\n",
      "BC\n",
      "BF\n",
      "BG\n",
      "CF\n",
      "CG\n",
      "FG\n",
      "Counter({'AB': 1, 'AC': 1, 'AF': 1, 'AG': 1, 'BC': 1, 'BF': 1, 'BG': 1, 'CF': 1, 'CG': 1, 'FG': 1})\n"
     ]
    }
   ],
   "source": [
    "cache = []\n",
    "for i in combinations(orders[0],2):\n",
    "    print(''.join(i))\n",
    "    cache.append(''.join(i))\n",
    "print(Counter(cache))"
   ]
  },
  {
   "cell_type": "code",
   "execution_count": 168,
   "metadata": {},
   "outputs": [],
   "source": [
    "result = []\n",
    "for courses in course :\n",
    "    cache = []\n",
    "    for ods in orders:\n",
    "        cache+=([''.join(i) for i in combinations(ods,courses)])\n",
    "    value_counts = Counter(cache)\n",
    "    _mode = max(value_counts.values())\n",
    "    if _mode >= 2:\n",
    "        result += [i[0] for i in filter(lambda x: x[1] == _mode, value_counts.items())]"
   ]
  },
  {
   "cell_type": "code",
   "execution_count": 170,
   "metadata": {},
   "outputs": [],
   "source": [
    "def solution(orders, course):\n",
    "    orders = [''.join(sorted(i)) for i in orders]\n",
    "    from collections import Counter\n",
    "    from itertools import combinations\n",
    "    \n",
    "    result= []\n",
    "    for courses in course :\n",
    "        cache = []\n",
    "        for ods in orders:\n",
    "            cache+=([''.join(i) for i in combinations(ods,courses)])\n",
    "        if cache != []:\n",
    "            value_counts = Counter(cache)\n",
    "            _mode = max(value_counts.values())\n",
    "            if _mode >= 2:\n",
    "                result += [i[0] for i in filter(lambda x: x[1] == _mode, value_counts.items())]\n",
    "            \n",
    "    return sorted(result)"
   ]
  },
  {
   "cell_type": "code",
   "execution_count": 169,
   "metadata": {},
   "outputs": [
    {
     "data": {
      "text/plain": [
       "['AC', 'CDE', 'BCFG', 'ACDE']"
      ]
     },
     "execution_count": 169,
     "metadata": {},
     "output_type": "execute_result"
    }
   ],
   "source": [
    "result"
   ]
  },
  {
   "cell_type": "code",
   "execution_count": 138,
   "metadata": {},
   "outputs": [
    {
     "data": {
      "text/plain": [
       "'ADEH'"
      ]
     },
     "execution_count": 138,
     "metadata": {},
     "output_type": "execute_result"
    }
   ],
   "source": [
    "max(Counter(cache), key = lambda x:x[1])"
   ]
  },
  {
   "cell_type": "code",
   "execution_count": 166,
   "metadata": {},
   "outputs": [],
   "source": [
    "\n",
    "value_counts = Counter(cache)\n",
    "_mode = max(value_counts.values())\n",
    "if _mode >= 2:\n",
    "    result += [i[0] for i in filter(lambda x: x[1] == _mode, value_counts.items())]\n"
   ]
  },
  {
   "cell_type": "code",
   "execution_count": 167,
   "metadata": {},
   "outputs": [
    {
     "data": {
      "text/plain": [
       "['BCFG', 'ACDE']"
      ]
     },
     "execution_count": 167,
     "metadata": {},
     "output_type": "execute_result"
    }
   ],
   "source": [
    "result"
   ]
  },
  {
   "cell_type": "code",
   "execution_count": 165,
   "metadata": {},
   "outputs": [
    {
     "data": {
      "text/plain": [
       "[('BCFG', 2), ('ACDE', 2)]"
      ]
     },
     "execution_count": 165,
     "metadata": {},
     "output_type": "execute_result"
    }
   ],
   "source": [
    "list(filter(lambda x: x[1] == _mode, value_counts.items()))"
   ]
  },
  {
   "cell_type": "code",
   "execution_count": 155,
   "metadata": {
    "scrolled": true
   },
   "outputs": [
    {
     "data": {
      "text/plain": [
       "2"
      ]
     },
     "execution_count": 155,
     "metadata": {},
     "output_type": "execute_result"
    }
   ],
   "source": [
    "max(Counter(cache).values())"
   ]
  },
  {
   "cell_type": "code",
   "execution_count": 164,
   "metadata": {},
   "outputs": [
    {
     "data": {
      "text/plain": [
       "dict_items([('ABCF', 1), ('ABCG', 1), ('ABFG', 1), ('ACFG', 1), ('BCFG', 2), ('ACDE', 2), ('ACDH', 1), ('ACEH', 1), ('ADEH', 1), ('CDEH', 1)])"
      ]
     },
     "execution_count": 164,
     "metadata": {},
     "output_type": "execute_result"
    }
   ],
   "source": [
    "value_counts.items()"
   ]
  },
  {
   "cell_type": "code",
   "execution_count": null,
   "metadata": {},
   "outputs": [],
   "source": []
  }
 ],
 "metadata": {
  "kernelspec": {
   "display_name": "Python 3",
   "language": "python",
   "name": "python3"
  },
  "language_info": {
   "codemirror_mode": {
    "name": "ipython",
    "version": 3
   },
   "file_extension": ".py",
   "mimetype": "text/x-python",
   "name": "python",
   "nbconvert_exporter": "python",
   "pygments_lexer": "ipython3",
   "version": "3.8.3"
  },
  "toc": {
   "base_numbering": 1,
   "nav_menu": {},
   "number_sections": true,
   "sideBar": true,
   "skip_h1_title": false,
   "title_cell": "Table of Contents",
   "title_sidebar": "Contents",
   "toc_cell": false,
   "toc_position": {},
   "toc_section_display": true,
   "toc_window_display": false
  }
 },
 "nbformat": 4,
 "nbformat_minor": 4
}
