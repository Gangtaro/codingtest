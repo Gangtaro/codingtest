{
 "cells": [
  {
   "cell_type": "code",
   "execution_count": 3,
   "metadata": {},
   "outputs": [],
   "source": [
    "def minimumAbsoluteDifference(arr):\n",
    "    return"
   ]
  },
  {
   "cell_type": "code",
   "execution_count": 4,
   "metadata": {},
   "outputs": [],
   "source": [
    "arr = ['-59', '-36', '-13', '1', '-53', '-92', '-2', '-96', '-54', '75']"
   ]
  },
  {
   "cell_type": "code",
   "execution_count": 7,
   "metadata": {},
   "outputs": [
    {
     "data": {
      "text/plain": [
       "[('-59', '-36'),\n",
       " ('-59', '-13'),\n",
       " ('-59', '1'),\n",
       " ('-59', '-53'),\n",
       " ('-59', '-92'),\n",
       " ('-59', '-2'),\n",
       " ('-59', '-96'),\n",
       " ('-59', '-54'),\n",
       " ('-59', '75'),\n",
       " ('-36', '-13'),\n",
       " ('-36', '1'),\n",
       " ('-36', '-53'),\n",
       " ('-36', '-92'),\n",
       " ('-36', '-2'),\n",
       " ('-36', '-96'),\n",
       " ('-36', '-54'),\n",
       " ('-36', '75'),\n",
       " ('-13', '1'),\n",
       " ('-13', '-53'),\n",
       " ('-13', '-92'),\n",
       " ('-13', '-2'),\n",
       " ('-13', '-96'),\n",
       " ('-13', '-54'),\n",
       " ('-13', '75'),\n",
       " ('1', '-53'),\n",
       " ('1', '-92'),\n",
       " ('1', '-2'),\n",
       " ('1', '-96'),\n",
       " ('1', '-54'),\n",
       " ('1', '75'),\n",
       " ('-53', '-92'),\n",
       " ('-53', '-2'),\n",
       " ('-53', '-96'),\n",
       " ('-53', '-54'),\n",
       " ('-53', '75'),\n",
       " ('-92', '-2'),\n",
       " ('-92', '-96'),\n",
       " ('-92', '-54'),\n",
       " ('-92', '75'),\n",
       " ('-2', '-96'),\n",
       " ('-2', '-54'),\n",
       " ('-2', '75'),\n",
       " ('-96', '-54'),\n",
       " ('-96', '75'),\n",
       " ('-54', '75')]"
      ]
     },
     "execution_count": 7,
     "metadata": {},
     "output_type": "execute_result"
    }
   ],
   "source": [
    "from itertools import combinations\n",
    "[i for i in combinations(arr, 2)]"
   ]
  },
  {
   "cell_type": "code",
   "execution_count": 10,
   "metadata": {},
   "outputs": [],
   "source": [
    "_min = 0\n",
    "for i in combinations(arr, 2):\n",
    "    cache = (abs(int(i[0])-int(i[1])))\n",
    "    if cache < _max :\n",
    "        _min = cache"
   ]
  },
  {
   "cell_type": "code",
   "execution_count": 11,
   "metadata": {},
   "outputs": [
    {
     "data": {
      "text/plain": [
       "171"
      ]
     },
     "execution_count": 11,
     "metadata": {},
     "output_type": "execute_result"
    }
   ],
   "source": [
    "_max"
   ]
  },
  {
   "cell_type": "code",
   "execution_count": null,
   "metadata": {},
   "outputs": [],
   "source": [
    "def minimumAbsoluteDifference(arr):\n",
    "    from itertools import combinations\n",
    "    _min = 0\n",
    "    for i in combinations(arr, 2):\n",
    "        cache = (abs(int(i[0])-int(i[1])))\n",
    "        if cache > _min :\n",
    "            _min = cache\n",
    "    return _min"
   ]
  },
  {
   "cell_type": "code",
   "execution_count": 13,
   "metadata": {},
   "outputs": [
    {
     "ename": "TypeError",
     "evalue": "int() argument must be a string, a bytes-like object or a number, not 'list'",
     "output_type": "error",
     "traceback": [
      "\u001b[0;31m---------------------------------------------------------------------------\u001b[0m",
      "\u001b[0;31mTypeError\u001b[0m                                 Traceback (most recent call last)",
      "\u001b[0;32m<ipython-input-13-7801db143e9c>\u001b[0m in \u001b[0;36m<module>\u001b[0;34m\u001b[0m\n\u001b[0;32m----> 1\u001b[0;31m \u001b[0mflatt\u001b[0m \u001b[0;34m=\u001b[0m \u001b[0msorted\u001b[0m\u001b[0;34m(\u001b[0m\u001b[0mint\u001b[0m\u001b[0;34m(\u001b[0m\u001b[0marr\u001b[0m\u001b[0;34m)\u001b[0m\u001b[0;34m)\u001b[0m\u001b[0;34m\u001b[0m\u001b[0;34m\u001b[0m\u001b[0m\n\u001b[0m",
      "\u001b[0;31mTypeError\u001b[0m: int() argument must be a string, a bytes-like object or a number, not 'list'"
     ]
    }
   ],
   "source": [
    "flatt = sorted((arr).)"
   ]
  },
  {
   "cell_type": "code",
   "execution_count": 24,
   "metadata": {},
   "outputs": [],
   "source": [
    "def minimumAbsoluteDifference(arr):\n",
    "    _sorted = sorted([int(i) for i in arr])\n",
    "    _min = 10**9\n",
    "    for i in range(1, len(arr)):\n",
    "        cache = abs(_sorted[i-1]-_sorted[i])\n",
    "        if cache < _min :\n",
    "            _min = cache\n",
    "    return _min"
   ]
  },
  {
   "cell_type": "code",
   "execution_count": 23,
   "metadata": {},
   "outputs": [
    {
     "data": {
      "text/plain": [
       "1"
      ]
     },
     "execution_count": 23,
     "metadata": {},
     "output_type": "execute_result"
    }
   ],
   "source": [
    "_min"
   ]
  },
  {
   "cell_type": "code",
   "execution_count": null,
   "metadata": {},
   "outputs": [],
   "source": []
  }
 ],
 "metadata": {
  "kernelspec": {
   "display_name": "Python 3",
   "language": "python",
   "name": "python3"
  },
  "language_info": {
   "codemirror_mode": {
    "name": "ipython",
    "version": 3
   },
   "file_extension": ".py",
   "mimetype": "text/x-python",
   "name": "python",
   "nbconvert_exporter": "python",
   "pygments_lexer": "ipython3",
   "version": "3.8.3"
  },
  "toc": {
   "base_numbering": 1,
   "nav_menu": {},
   "number_sections": true,
   "sideBar": true,
   "skip_h1_title": false,
   "title_cell": "Table of Contents",
   "title_sidebar": "Contents",
   "toc_cell": false,
   "toc_position": {},
   "toc_section_display": true,
   "toc_window_display": false
  }
 },
 "nbformat": 4,
 "nbformat_minor": 4
}
