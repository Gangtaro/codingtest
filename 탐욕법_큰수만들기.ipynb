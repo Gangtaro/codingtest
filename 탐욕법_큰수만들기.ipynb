{
 "cells": [
  {
   "cell_type": "markdown",
   "metadata": {},
   "source": [
    "#### 문제 설명\n",
    "\n",
    "어떤 숫자에서 k개의 수를 제거했을 때 얻을 수 있는 가장 큰 숫자를 구하려 합니다.  \n",
    "예를 들어, 숫자 1924에서 수 두 개를 제거하면 [19, 12, 14, 92, 94, 24] 를 만들 수 있습니다. 이 중 가장 큰 숫자는 94 입니다.  \n",
    "문자열 형식으로 숫자 number와 제거할 수의 개수 k가 solution 함수의 매개변수로 주어집니다. number에서 k 개의 수를 제거했을 때 만들 수 있는 수 중 가장 큰 숫자를 문자열 형태로 return 하도록 solution 함수를 완성하세요.  \n",
    "#### 제한 조건\n",
    "- number는 1자리 이상, 1,000,000자리 이하인 숫자입니다.\n",
    "- k는 1 이상 number의 자릿수 미만인 자연수입니다.\n"
   ]
  },
  {
   "cell_type": "code",
   "execution_count": 1,
   "metadata": {},
   "outputs": [],
   "source": [
    "def solution(number, k):\n",
    "    answer = ''\n",
    "    return answer"
   ]
  },
  {
   "cell_type": "code",
   "execution_count": 282,
   "metadata": {},
   "outputs": [],
   "source": [
    "number = '1924'\n",
    "k = 2\n",
    "# return = '94'"
   ]
  },
  {
   "cell_type": "code",
   "execution_count": 22,
   "metadata": {},
   "outputs": [
    {
     "data": {
      "text/plain": [
       "'94'"
      ]
     },
     "execution_count": 22,
     "metadata": {},
     "output_type": "execute_result"
    }
   ],
   "source": [
    "\n",
    "from itertools import combinations\n",
    "n = len(number) - k    #: 자리수\n",
    "answer = max(map(''.join, list(combinations([i for i in number],n))))\n",
    "answer"
   ]
  },
  {
   "cell_type": "markdown",
   "metadata": {},
   "source": [
    "#### 완전탐색법"
   ]
  },
  {
   "cell_type": "code",
   "execution_count": 49,
   "metadata": {},
   "outputs": [],
   "source": [
    "# time error 1\n",
    "def solution(number, k):\n",
    "    from itertools import combinations\n",
    "    n = len(number) - k    #: 자리수\n",
    "    answer = max(map(''.join, list(combinations([i for i in number],n))))\n",
    "    return answer"
   ]
  },
  {
   "cell_type": "code",
   "execution_count": 50,
   "metadata": {},
   "outputs": [
    {
     "data": {
      "text/plain": [
       "'94'"
      ]
     },
     "execution_count": 50,
     "metadata": {},
     "output_type": "execute_result"
    }
   ],
   "source": [
    "solution(number, k)"
   ]
  },
  {
   "cell_type": "code",
   "execution_count": 51,
   "metadata": {},
   "outputs": [
    {
     "name": "stdout",
     "output_type": "stream",
     "text": [
      "1\n",
      "['9', '2', '4']\n",
      "2\n",
      "['9', '4']\n"
     ]
    }
   ],
   "source": [
    "from itertools import combinations\n",
    "numbers = [i for i in number]\n",
    "i = 1\n",
    "while i <= k :\n",
    "    print(i)\n",
    "    _max = max(map(''.join,list(combinations(numbers, len(number)-i))))\n",
    "    numbers = [i for i in str(_max)]\n",
    "    i+=1\n",
    "    print(numbers)"
   ]
  },
  {
   "cell_type": "code",
   "execution_count": 52,
   "metadata": {},
   "outputs": [],
   "source": [
    "# time error 2\n",
    "def solution(number, k):\n",
    "    from itertools import combinations\n",
    "    numbers = [i for i in number]\n",
    "    i = 1\n",
    "    while i <= k :\n",
    "        _max = max(map(''.join,list(combinations(numbers, len(number)-i))))\n",
    "        numbers = [i for i in str(_max)]\n",
    "        i+=1\n",
    "    answer = ''.join(numbers)\n",
    "    return answer"
   ]
  },
  {
   "cell_type": "code",
   "execution_count": 53,
   "metadata": {},
   "outputs": [
    {
     "data": {
      "text/plain": [
       "'94'"
      ]
     },
     "execution_count": 53,
     "metadata": {},
     "output_type": "execute_result"
    }
   ],
   "source": [
    "solution(number, k)"
   ]
  },
  {
   "cell_type": "code",
   "execution_count": 81,
   "metadata": {},
   "outputs": [
    {
     "name": "stdout",
     "output_type": "stream",
     "text": [
      "n =  7 , k =  5 , numbers = [3, 6, 3, 9, 5, 7, 8] , answer= []\n",
      "n =  7 , k =  4 , numbers = [3, 9, 5, 7, 8] , answer= [6]\n",
      "n =  5 , k =  3 , numbers = [5, 7, 8] , answer= [6, 9]\n",
      "n =  3 , k =  2 , numbers = [7, 8] , answer= [6, 9, 5]\n",
      "n =  2 , k =  1 , numbers = [8] , answer= [6, 9, 5, 7]\n",
      "n =  1 , k =  0 , numbers = [] , answer= [6, 9, 5, 7, 8]\n"
     ]
    }
   ],
   "source": [
    "# 전략 수정\n",
    "# l = n - k 개 선택\n",
    "# 처음 k개 중 가장 큰 값 선택\n",
    "# 그 다음 k-1 개 중 가장 큰 값 선택\n",
    "# ...\n",
    "# \n",
    "\n",
    "# 3,6,3,9,5,7,8\n",
    "# 7개 중 5개 선택\n",
    "# 처음 3개 중 제일 큰 값 선택 => 6\n",
    "\n",
    "# 6  3,9,5,7,8\n",
    "# 5개 중 4개 선택\n",
    "# 처음 2개 중 제일 큰 값 선택 => 9\n",
    "\n",
    "# 6,9  5,7,8\n",
    "# 3 개중 3개 선택 => 세 값 다 선택\n",
    "\n",
    "number = [3,6,3,9,5,7,8]\n",
    "k = 5\n",
    "numbers = [i for i in number]\n",
    "answer = []\n",
    "\n",
    "while k > 0  :\n",
    "    n = len(numbers)\n",
    "    l = n - k\n",
    "\n",
    "    _max = max(numbers[:l+1])\n",
    "    answer.append(_max)\n",
    "    numbers = numbers[numbers.index(_max)+1:]\n",
    "    k -= 1\n",
    "    print('n = ', n, ',','k = ', k, ',', 'numbers =',numbers, ',','answer=',answer)"
   ]
  },
  {
   "cell_type": "code",
   "execution_count": 67,
   "metadata": {},
   "outputs": [
    {
     "data": {
      "text/plain": [
       "[3, 9, 5, 7, 8]"
      ]
     },
     "execution_count": 67,
     "metadata": {},
     "output_type": "execute_result"
    }
   ],
   "source": [
    "numbers[numbers[:l+1].index(6)+1:]"
   ]
  },
  {
   "cell_type": "code",
   "execution_count": 110,
   "metadata": {},
   "outputs": [],
   "source": [
    "number = [3,6,3,9,5,7,8]\n",
    "k = 5\n",
    "numbers = [i for i in number]\n",
    "answer = []\n",
    "\n",
    "while l > 0  :\n",
    "    n = len(numbers)\n",
    "    l = n - k\n",
    "\n",
    "    _max = max(numbers[:l+1])\n",
    "    answer.append(_max)\n",
    "    numbers = numbers[numbers.index(_max)+1:]\n",
    "    k -=1\n",
    "    print('n = ', n, ',','k = ', k, ',','l = ', l, ',', 'numbers =',numbers, ',','answer=',answer)"
   ]
  },
  {
   "cell_type": "code",
   "execution_count": 86,
   "metadata": {},
   "outputs": [
    {
     "data": {
      "text/plain": [
       "[3, 6, 3, 9, 5, 7, 8]"
      ]
     },
     "execution_count": 86,
     "metadata": {},
     "output_type": "execute_result"
    }
   ],
   "source": [
    "number = [3,6,3,9,5,7,8]\n",
    "k = 5\n",
    "numbers = [i for i in number]\n",
    "numbers"
   ]
  },
  {
   "cell_type": "code",
   "execution_count": 99,
   "metadata": {},
   "outputs": [
    {
     "name": "stdout",
     "output_type": "stream",
     "text": [
      "n =  4 , k =  1 , numbers = [2, 4] , answer= ['9']\n",
      "n =  2 , k =  0 , numbers = [] , answer= ['9', '4']\n"
     ]
    },
    {
     "data": {
      "text/plain": [
       "'94'"
      ]
     },
     "execution_count": 99,
     "metadata": {},
     "output_type": "execute_result"
    }
   ],
   "source": [
    "number = '1924'\n",
    "numbers = list(map(int, [i for i in number]))\n",
    "answer = []\n",
    "k = 2\n",
    "\n",
    "while k > 0  :\n",
    "    n = len(numbers)\n",
    "    l = n - k\n",
    "\n",
    "    _max = max(numbers[:l+1])\n",
    "    answer.append(str(_max))\n",
    "    numbers = numbers[numbers.index(_max)+1:]\n",
    "    k -= 1\n",
    "    print('n = ', n, ',','k = ', k, ',', 'numbers =',numbers, ',','answer=',answer)\n",
    "\n",
    "''.join(answer) \n",
    "    "
   ]
  },
  {
   "cell_type": "code",
   "execution_count": 280,
   "metadata": {},
   "outputs": [],
   "source": [
    "def solution(number, k):\n",
    "    numbers = list(map(int, [i for i in number]))\n",
    "    answer = []\n",
    "    l = len(numbers) - k\n",
    "\n",
    "    while l > 0  :\n",
    "        n = len(numbers)\n",
    "        k = n - l\n",
    "\n",
    "        _max = max(numbers[:k+1])\n",
    "        answer.append(str(_max))\n",
    "        numbers = numbers[numbers.index(_max)+1:]\n",
    "        l -= 1\n",
    "        print('n = ', n, ',','k = ', k, ',', 'numbers =',numbers, ',','answer=',answer)\n",
    "    \n",
    "    answer = ''.join(answer) \n",
    "    return answer"
   ]
  },
  {
   "cell_type": "code",
   "execution_count": 285,
   "metadata": {},
   "outputs": [],
   "source": [
    "# time error 3\n",
    "def solution(number, k):\n",
    "    numbers = list(map(int, [i for i in number]))\n",
    "    answer = []\n",
    "    k = len(numbers) -k\n",
    "\n",
    "    while k > 0  :\n",
    "        n = len(numbers)\n",
    "        l = n - k\n",
    "\n",
    "        _max = max(numbers[:l+1])\n",
    "        answer.append(str(_max))\n",
    "        numbers = numbers[numbers.index(_max)+1:]\n",
    "        k -= 1\n",
    "        print('n = ', n, ',','k = ', k, ',', 'numbers =',numbers, ',','answer=',answer)\n",
    "    \n",
    "    answer = ''.join(answer) \n",
    "    return answer"
   ]
  },
  {
   "cell_type": "code",
   "execution_count": 287,
   "metadata": {
    "scrolled": true
   },
   "outputs": [
    {
     "name": "stdout",
     "output_type": "stream",
     "text": [
      "n =  10 , k =  5 , numbers = [7, 2, 5, 2, 8, 4, 1] , answer= ['7']\n",
      "n =  7 , k =  4 , numbers = [2, 5, 2, 8, 4, 1] , answer= ['7', '7']\n",
      "n =  6 , k =  3 , numbers = [2, 8, 4, 1] , answer= ['7', '7', '5']\n",
      "n =  4 , k =  2 , numbers = [4, 1] , answer= ['7', '7', '5', '8']\n",
      "n =  2 , k =  1 , numbers = [1] , answer= ['7', '7', '5', '8', '4']\n",
      "n =  1 , k =  0 , numbers = [] , answer= ['7', '7', '5', '8', '4', '1']\n"
     ]
    },
    {
     "data": {
      "text/plain": [
       "'775841'"
      ]
     },
     "execution_count": 287,
     "metadata": {},
     "output_type": "execute_result"
    }
   ],
   "source": [
    "solution('4177252841', 4)"
   ]
  },
  {
   "cell_type": "code",
   "execution_count": 288,
   "metadata": {},
   "outputs": [
    {
     "ename": "TypeError",
     "evalue": "remove() takes exactly one argument (0 given)",
     "output_type": "error",
     "traceback": [
      "\u001b[0;31m---------------------------------------------------------------------------\u001b[0m",
      "\u001b[0;31mTypeError\u001b[0m                                 Traceback (most recent call last)",
      "\u001b[0;32m<ipython-input-288-799baf8ab810>\u001b[0m in \u001b[0;36m<module>\u001b[0;34m\u001b[0m\n\u001b[0;32m----> 1\u001b[0;31m \u001b[0mnumbers\u001b[0m\u001b[0;34m.\u001b[0m\u001b[0mremove\u001b[0m\u001b[0;34m(\u001b[0m\u001b[0;34m)\u001b[0m\u001b[0;34m\u001b[0m\u001b[0;34m\u001b[0m\u001b[0m\n\u001b[0m",
      "\u001b[0;31mTypeError\u001b[0m: remove() takes exactly one argument (0 given)"
     ]
    }
   ],
   "source": [
    "numbers.remove()"
   ]
  },
  {
   "cell_type": "code",
   "execution_count": 124,
   "metadata": {},
   "outputs": [],
   "source": [
    "number = '1924'\n",
    "k = 2\n",
    "# return = '94'"
   ]
  },
  {
   "cell_type": "code",
   "execution_count": 125,
   "metadata": {},
   "outputs": [
    {
     "data": {
      "text/plain": [
       "[1, 9, 2, 4]"
      ]
     },
     "execution_count": 125,
     "metadata": {},
     "output_type": "execute_result"
    }
   ],
   "source": [
    "numbers = list(map(int, [i for i in number]))\n",
    "numbers"
   ]
  },
  {
   "cell_type": "code",
   "execution_count": 153,
   "metadata": {},
   "outputs": [
    {
     "name": "stdout",
     "output_type": "stream",
     "text": [
      "n =  7 , k =  4 , numbers = [7, 7, 9, 3, 9] , answer= ['8']\n",
      "n =  5 , k =  3 , numbers = [7, 9, 3, 9] , answer= ['8', '7']\n",
      "n =  4 , k =  2 , numbers = [3, 9] , answer= ['8', '7', '9']\n",
      "n =  2 , k =  1 , numbers = [9] , answer= ['8', '7', '9', '3']\n",
      "n =  1 , k =  0 , numbers = [] , answer= ['8', '7', '9', '3', '9']\n"
     ]
    },
    {
     "data": {
      "text/plain": [
       "'87939'"
      ]
     },
     "execution_count": 153,
     "metadata": {},
     "output_type": "execute_result"
    }
   ],
   "source": [
    "number = '3877939'\n",
    "k = 2\n",
    "solution(number, k)"
   ]
  },
  {
   "cell_type": "code",
   "execution_count": 161,
   "metadata": {},
   "outputs": [
    {
     "data": {
      "text/plain": [
       "['1', '2', '7', '7', '7', '7', '8']"
      ]
     },
     "execution_count": 161,
     "metadata": {},
     "output_type": "execute_result"
    }
   ],
   "source": [
    "# 좌측부터 다음 수가 현재 수보다 크면 현재 수를 지운다\n",
    "# (같다면 보류, k 가 더 줄어들지 않을때 같은 수를 삭제)\n",
    "numbers = [i for i in number]\n",
    "numbers\n"
   ]
  },
  {
   "cell_type": "code",
   "execution_count": 147,
   "metadata": {},
   "outputs": [
    {
     "name": "stdout",
     "output_type": "stream",
     "text": [
      "1 ['8', '7', '7', '9', '3', '9']\n"
     ]
    }
   ],
   "source": [
    "numbers[0] < numbers[1] # if -> true\n",
    "\n",
    "numbers.remove(numbers[0])\n",
    "k -= 1\n",
    "\n",
    "print(k, numbers)"
   ]
  },
  {
   "cell_type": "code",
   "execution_count": 235,
   "metadata": {},
   "outputs": [
    {
     "name": "stdout",
     "output_type": "stream",
     "text": [
      "n =  10 , k =  5 , numbers = [7, 2, 5, 2, 8, 4, 1] , answer= ['7']\n",
      "n =  7 , k =  4 , numbers = [2, 5, 2, 8, 4, 1] , answer= ['7', '7']\n",
      "n =  6 , k =  3 , numbers = [2, 8, 4, 1] , answer= ['7', '7', '5']\n",
      "n =  4 , k =  2 , numbers = [4, 1] , answer= ['7', '7', '5', '8']\n",
      "n =  2 , k =  1 , numbers = [1] , answer= ['7', '7', '5', '8', '4']\n",
      "n =  1 , k =  0 , numbers = [] , answer= ['7', '7', '5', '8', '4', '1']\n"
     ]
    },
    {
     "data": {
      "text/plain": [
       "['4', '1', '7', '7', '2', '5', '2', '8', '4', '1']"
      ]
     },
     "execution_count": 235,
     "metadata": {},
     "output_type": "execute_result"
    }
   ],
   "source": [
    "number = '4177252841'\n",
    "k = 4\n",
    "solution(number, k)\n",
    "\n",
    "numbers = [i for i in number]\n",
    "numbers"
   ]
  },
  {
   "cell_type": "code",
   "execution_count": 236,
   "metadata": {},
   "outputs": [
    {
     "name": "stdout",
     "output_type": "stream",
     "text": [
      "k= 3 , i= 2 ,    ['0', '4', '7', '7', '2', '5', '2', '8', '4', '1']\n",
      "k= 2 , i= 2 ,    ['0', '0', '7', '7', '2', '5', '2', '8', '4', '1']\n",
      "k= 2 , i= 4 ,    ['0', '0', '7', '7', '2', '5', '2', '8', '4', '1']\n",
      "k= 2 , i= 5 ,    ['0', '0', '7', '7', '2', '5', '2', '8', '4', '1']\n",
      "k= 1 , i= 5 ,    ['0', '0', '0', '7', '7', '5', '2', '8', '4', '1']\n",
      "k= 1 , i= 6 ,    ['0', '0', '0', '7', '7', '5', '2', '8', '4', '1']\n",
      "k= 1 , i= 7 ,    ['0', '0', '0', '7', '7', '5', '2', '8', '4', '1']\n",
      "k= 0 , i= 7 ,    ['0', '0', '0', '0', '7', '7', '5', '8', '4', '1']\n"
     ]
    }
   ],
   "source": [
    "while k > 0 :\n",
    "    if numbers[i] == '0' : i+=1\n",
    "    if numbers[i] < numbers[i+1] :\n",
    "        numbers.remove(numbers[i])\n",
    "        numbers.insert(0,'0')\n",
    "        i = i\n",
    "        k -= 1\n",
    "    else : i+=1\n",
    "    print('k=',k,',', 'i=',i+1,',','  ',numbers)\n",
    "\n",
    "if k != 0 :\n",
    "    for i in range(len(numbers)-1):\n",
    "        if numbers[i] == numbers[i+1] :\n",
    "            numbers.remove(numbers[i])\n",
    "            numbers.insert(0,'0')\n",
    "            k -= 1\n",
    "        print('k=',k,',', 'i=',i+1,',','  ',numbers)\n",
    "        if k == 0 : break"
   ]
  },
  {
   "cell_type": "code",
   "execution_count": 223,
   "metadata": {},
   "outputs": [
    {
     "name": "stdout",
     "output_type": "stream",
     "text": [
      "k= 4 , i= 1 ,    ['4', '1', '7', '7', '2', '5', '2', '8', '4', '1']\n",
      "k= 3 , i= 2 ,    ['0', '4', '7', '7', '2', '5', '2', '8', '4', '1']\n",
      "k= 3 , i= 3 ,    ['0', '4', '7', '7', '2', '5', '2', '8', '4', '1']\n",
      "k= 3 , i= 4 ,    ['0', '4', '7', '7', '2', '5', '2', '8', '4', '1']\n",
      "k= 2 , i= 5 ,    ['0', '0', '4', '7', '7', '5', '2', '8', '4', '1']\n",
      "k= 2 , i= 6 ,    ['0', '0', '4', '7', '7', '5', '2', '8', '4', '1']\n",
      "k= 1 , i= 7 ,    ['0', '0', '0', '4', '7', '7', '5', '8', '4', '1']\n",
      "k= 1 , i= 8 ,    ['0', '0', '0', '4', '7', '7', '5', '8', '4', '1']\n",
      "k= 1 , i= 9 ,    ['0', '0', '0', '4', '7', '7', '5', '8', '4', '1']\n",
      "k= 0 , i= 1 ,    ['0', '0', '0', '4', '7', '7', '5', '8', '4', '1']\n"
     ]
    }
   ],
   "source": [
    "for i in range(len(numbers)-1):\n",
    "    if numbers[i] < numbers[i+1] :\n",
    "        numbers.remove(numbers[i])\n",
    "        numbers.insert(0,'0')\n",
    "        k -= 1\n",
    "    print('k=',k,',', 'i=',i+1,',','  ',numbers)\n",
    "    if k == 0 : break\n",
    "        \n",
    "    \n",
    "if k != 0 :\n",
    "    for i in range(len(numbers)-1):\n",
    "        if numbers[i] == numbers[i+1] :\n",
    "            numbers.remove(numbers[i])\n",
    "            numbers.insert(0,'0')\n",
    "            k -= 1\n",
    "        print('k=',k,',', 'i=',i+1,',','  ',numbers)\n",
    "        if k == 0 : break\n",
    "        \n",
    "        "
   ]
  },
  {
   "cell_type": "code",
   "execution_count": 215,
   "metadata": {},
   "outputs": [
    {
     "data": {
      "text/plain": [
       "'978'"
      ]
     },
     "execution_count": 215,
     "metadata": {},
     "output_type": "execute_result"
    }
   ],
   "source": [
    "answer = str(int(''.join(numbers)))"
   ]
  },
  {
   "cell_type": "code",
   "execution_count": 216,
   "metadata": {},
   "outputs": [],
   "source": [
    "def solution(number, k):\n",
    "    numbers = [i for i in number]\n",
    "    \n",
    "    while k > 0 :\n",
    "        if numbers[i] == '0' : i+=1\n",
    "        if numbers[i] < numbers[i+1] :\n",
    "            numbers.remove(numbers[i])\n",
    "            numbers.insert(0,'0')\n",
    "            i = i\n",
    "            k -= 1\n",
    "        else : i+=1\n",
    "        print('k=',k,',', 'i=',i+1,',','  ',numbers)\n",
    "\n",
    "    if k != 0 :\n",
    "        for i in range(len(numbers)-1):\n",
    "            if numbers[i] == numbers[i+1] :\n",
    "                numbers.remove(numbers[i])\n",
    "                numbers.insert(0,'0')\n",
    "                k -= 1\n",
    "            print('k=',k,',', 'i=',i+1,',','  ',numbers)\n",
    "            if k == 0 : break\n",
    "\n",
    "    answer = str(int(''.join(numbers)))\n",
    "    return answer"
   ]
  },
  {
   "cell_type": "code",
   "execution_count": 405,
   "metadata": {},
   "outputs": [
    {
     "name": "stdout",
     "output_type": "stream",
     "text": [
      "n =  7 , k =  3 , numbers = [1, 2, 3, 4] , answer= ['3']\n",
      "n =  4 , k =  2 , numbers = [3, 4] , answer= ['3', '2']\n",
      "n =  2 , k =  1 , numbers = [4] , answer= ['3', '2', '3']\n",
      "n =  1 , k =  0 , numbers = [] , answer= ['3', '2', '3', '4']\n",
      "['1', '2', '3', '1', '2', '3', '4']\n"
     ]
    }
   ],
   "source": [
    "number = '1231234'\n",
    "k = 3\n",
    "answer = solution(number, k)\n",
    "\n",
    "numbers = [i for i in number]\n",
    "print(numbers)"
   ]
  },
  {
   "cell_type": "code",
   "execution_count": 395,
   "metadata": {},
   "outputs": [
    {
     "data": {
      "text/plain": [
       "[(6, '4'), (5, '3'), (4, '2'), (3, '1'), (2, '3'), (1, '2'), (0, '1')]"
      ]
     },
     "execution_count": 395,
     "metadata": {},
     "output_type": "execute_result"
    }
   ],
   "source": [
    "sorted(enumerate(numbers), key = lambda x: x[0], reverse = True)"
   ]
  },
  {
   "cell_type": "code",
   "execution_count": 396,
   "metadata": {},
   "outputs": [],
   "source": [
    "pop_num = []\n",
    "my_numbers = list(enumerate(numbers))\n",
    "span = []"
   ]
  },
  {
   "cell_type": "code",
   "execution_count": 402,
   "metadata": {},
   "outputs": [
    {
     "name": "stdout",
     "output_type": "stream",
     "text": [
      "1\n",
      "[(0, '1')] [(6, '4'), (2, '3'), (5, '3'), (1, '2'), (4, '2'), (3, '1')]\n",
      "[]\n"
     ]
    }
   ],
   "source": [
    "if span == [] : span = my_numbers\n",
    "\n",
    "# 주어진 범위 내에서 가장 큰 수의 index\n",
    "_max_index = my_numbers.index(max(span, key = lambda x: x[1]))\n",
    "print(_max_index)\n",
    "\n",
    "# 주어진 범위 내에서 가장 큰수 뽑고 저장\n",
    "pop_num.append(my_numbers.pop(_max_index))\n",
    "print(my_numbers, pop_num)\n",
    "\n",
    "# 다음 주어진 범위 결정\n",
    "span = list(filter(lambda x: x[0] > _max_index, my_numbers))\n",
    "print(span)\n",
    "\n",
    "\n",
    "\n"
   ]
  },
  {
   "cell_type": "code",
   "execution_count": null,
   "metadata": {},
   "outputs": [],
   "source": []
  },
  {
   "cell_type": "code",
   "execution_count": 408,
   "metadata": {},
   "outputs": [
    {
     "name": "stdout",
     "output_type": "stream",
     "text": [
      "############\n",
      "[START]my_numbers:  [(0, '1'), (1, '2'), (2, '3'), (3, '1'), (4, '2'), (5, '3'), (6, '4')]\n",
      "############\n",
      "6\n",
      "my_numbers:  [(0, '1'), (1, '2'), (2, '3'), (3, '1'), (4, '2'), (5, '3')]\n",
      "span:  [(0, '1'), (1, '2'), (2, '3'), (3, '1'), (4, '2'), (5, '3')]\n",
      "pop:  [(6, '4')]\n"
     ]
    }
   ],
   "source": [
    "pop_num = []\n",
    "my_numbers = list(enumerate(numbers))\n",
    "span = []\n",
    "print('############')\n",
    "print('[START]my_numbers: ',my_numbers)\n",
    "print('############')\n",
    "\n",
    "\n",
    "span = my_numbers\n",
    "# 주어진 범위 내에서 가장 큰 수의 index\n",
    "_max_index = my_numbers.index(max(span, key = lambda x: x[1]))\n",
    "print(_max_index)\n",
    "\n",
    "\n",
    "# 주어진 범위 내에서 가장 큰수 뽑고 저장\n",
    "pop_num.append( span.pop(_max_index))\n",
    "print('my_numbers: ',my_numbers)\n",
    "print('span: ', span)\n",
    "print('pop: ', pop_num)\n",
    "\n",
    "# 다음 범위 결정\n",
    "### 주어진 범위 내에서 마지막 번호였다면 이전 범위 호출\n",
    "### 이전 범위가 empty이면 초기화"
   ]
  },
  {
   "cell_type": "code",
   "execution_count": null,
   "metadata": {},
   "outputs": [],
   "source": []
  },
  {
   "cell_type": "code",
   "execution_count": 371,
   "metadata": {},
   "outputs": [
    {
     "name": "stdout",
     "output_type": "stream",
     "text": [
      "7\n",
      "[(0, '4'), (1, '1'), (2, '7'), (3, '7'), (4, '2'), (5, '5'), (6, '2'), (8, '4'), (9, '1')] [(7, '8')]\n",
      "[(8, '4'), (9, '1')]\n",
      "7\n",
      "[(0, '4'), (1, '1'), (2, '7'), (3, '7'), (4, '2'), (5, '5'), (6, '2'), (9, '1')] [(7, '8'), (8, '4')]\n",
      "[(8, '4'), (9, '1')]\n"
     ]
    },
    {
     "ename": "ValueError",
     "evalue": "(8, '4') is not in list",
     "output_type": "error",
     "traceback": [
      "\u001b[0;31m---------------------------------------------------------------------------\u001b[0m",
      "\u001b[0;31mValueError\u001b[0m                                Traceback (most recent call last)",
      "\u001b[0;32m<ipython-input-371-6dbb56d1fb74>\u001b[0m in \u001b[0;36m<module>\u001b[0;34m\u001b[0m\n\u001b[1;32m     10\u001b[0m \u001b[0;34m\u001b[0m\u001b[0m\n\u001b[1;32m     11\u001b[0m     \u001b[0;31m# 주어진 범위 내에서 가장 큰 수의 index\u001b[0m\u001b[0;34m\u001b[0m\u001b[0;34m\u001b[0m\u001b[0;34m\u001b[0m\u001b[0m\n\u001b[0;32m---> 12\u001b[0;31m     \u001b[0m_max_index\u001b[0m \u001b[0;34m=\u001b[0m \u001b[0mmy_numbers\u001b[0m\u001b[0;34m.\u001b[0m\u001b[0mindex\u001b[0m\u001b[0;34m(\u001b[0m\u001b[0mmax\u001b[0m\u001b[0;34m(\u001b[0m\u001b[0mspan\u001b[0m\u001b[0;34m,\u001b[0m \u001b[0mkey\u001b[0m \u001b[0;34m=\u001b[0m \u001b[0;32mlambda\u001b[0m \u001b[0mx\u001b[0m\u001b[0;34m:\u001b[0m \u001b[0mx\u001b[0m\u001b[0;34m[\u001b[0m\u001b[0;36m1\u001b[0m\u001b[0;34m]\u001b[0m\u001b[0;34m)\u001b[0m\u001b[0;34m)\u001b[0m\u001b[0;34m\u001b[0m\u001b[0;34m\u001b[0m\u001b[0m\n\u001b[0m\u001b[1;32m     13\u001b[0m     \u001b[0mprint\u001b[0m\u001b[0;34m(\u001b[0m\u001b[0m_max_index\u001b[0m\u001b[0;34m)\u001b[0m\u001b[0;34m\u001b[0m\u001b[0;34m\u001b[0m\u001b[0m\n\u001b[1;32m     14\u001b[0m \u001b[0;34m\u001b[0m\u001b[0m\n",
      "\u001b[0;31mValueError\u001b[0m: (8, '4') is not in list"
     ]
    }
   ],
   "source": [
    "pop_num = []\n",
    "span = []\n",
    "numbers = [i for i in number]\n",
    "\n",
    "my_numbers = list(enumerate(numbers))\n",
    "l = len(numbers) - k\n",
    "\n",
    "for i in range(l):\n",
    "    if span == [] : list(filter(lambda x: x[0] < _max_index, span))\n",
    "    if span == [] : span = my_numbers\n",
    "\n",
    "    # 주어진 범위 내에서 가장 큰 수의 index\n",
    "    _max_index = my_numbers.index(max(span, key = lambda x: x[1]))\n",
    "    print(_max_index)\n",
    "\n",
    "    # 주어진 범위 내에서 가장 큰수 뽑고 저장\n",
    "    pop_num.append(my_numbers.pop(_max_index))\n",
    "    print(my_numbers, pop_num)\n",
    "\n",
    "    # 다음 주어진 범위 결정\n",
    "    span = list(filter(lambda x: x[0] > _max_index, my_numbers))\n",
    "    print(span)\n",
    "\n",
    "\n",
    "pop_num\n",
    "\n",
    "    "
   ]
  },
  {
   "cell_type": "code",
   "execution_count": 359,
   "metadata": {},
   "outputs": [
    {
     "data": {
      "text/plain": [
       "[(7, '8')]"
      ]
     },
     "execution_count": 359,
     "metadata": {},
     "output_type": "execute_result"
    }
   ],
   "source": [
    "sorted(pop_num, key = lambda x: x[0], reverse=True)"
   ]
  },
  {
   "cell_type": "code",
   "execution_count": 351,
   "metadata": {},
   "outputs": [
    {
     "data": {
      "text/plain": [
       "'775841'"
      ]
     },
     "execution_count": 351,
     "metadata": {},
     "output_type": "execute_result"
    }
   ],
   "source": [
    "answer = ''.join(map(lambda x: x[1], sorted(pop_num, key = lambda x: x[0])))"
   ]
  },
  {
   "cell_type": "code",
   "execution_count": null,
   "metadata": {},
   "outputs": [],
   "source": [
    "def solution(number, k):\n",
    "    pop_num = []\n",
    "    span = []\n",
    "    numbers = [i for i in number]\n",
    "\n",
    "    my_numbers = list(enumerate(numbers))\n",
    "    l = len(numbers) - k # 뽑아야 할 수\n",
    "\n",
    "    for i in range(l): # 뽑아야 할 수 만큼 반복\n",
    "        if span == [] : span = my_numbers # 주어진 범위가 없을 때 다시 \n",
    "\n",
    "        # 주어진 범위 내에서 가장 큰 수의 index\n",
    "        _max_index = my_numbers.index(max(span, key = lambda x: x[1]))\n",
    "\n",
    "        # 주어진 범위 내에서 가장 큰수 뽑고 저장\n",
    "        pop_num.append(my_numbers.pop(_max_index))\n",
    "\n",
    "        # 다음 주어진 범위 결정\n",
    "        span = list(filter(lambda x: x[0] > _max_index, my_numbers))\n",
    "        \n",
    "    answer = ''.join(map(lambda x: x[1], sorted(pop_num, key = lambda x: x[0])))\n",
    "\n",
    "    return answer"
   ]
  },
  {
   "cell_type": "code",
   "execution_count": null,
   "metadata": {},
   "outputs": [],
   "source": []
  },
  {
   "cell_type": "markdown",
   "metadata": {},
   "source": [
    "## 탐욕법\n",
    "매 순간 최적의 해를 찾아내는것"
   ]
  },
  {
   "cell_type": "code",
   "execution_count": 426,
   "metadata": {},
   "outputs": [
    {
     "data": {
      "text/plain": [
       "'\\n처음 3번째 줄까지 \\n'"
      ]
     },
     "execution_count": 426,
     "metadata": {},
     "output_type": "execute_result"
    }
   ],
   "source": [
    "'''\n",
    "k = 지워야하는 수\n",
    "앞에서 부터 뒤에수 보다 작은 수는 지운다\n",
    "\n",
    "* 다 지우고 난 뒤에도 더 지워야하면\n",
    "뒤에서부터 지운다\n",
    "'''"
   ]
  },
  {
   "cell_type": "code",
   "execution_count": 159,
   "metadata": {},
   "outputs": [
    {
     "name": "stdout",
     "output_type": "stream",
     "text": [
      "n =  7 , k =  3 , numbers = [1, 2, 3, 4] , answer= ['3']\n",
      "n =  4 , k =  2 , numbers = [3, 4] , answer= ['3', '2']\n",
      "n =  2 , k =  1 , numbers = [4] , answer= ['3', '2', '3']\n",
      "n =  1 , k =  0 , numbers = [] , answer= ['3', '2', '3', '4']\n"
     ]
    }
   ],
   "source": [
    "number = '1231234'\n",
    "k = 3\n",
    "answer = solution(number, k)"
   ]
  },
  {
   "cell_type": "code",
   "execution_count": 237,
   "metadata": {},
   "outputs": [],
   "source": [
    "number = '12394321'\n",
    "k = 5"
   ]
  },
  {
   "cell_type": "code",
   "execution_count": 206,
   "metadata": {},
   "outputs": [
    {
     "data": {
      "text/plain": [
       "['', '', '', '9', '4', '3', '2', '1']"
      ]
     },
     "execution_count": 206,
     "metadata": {},
     "output_type": "execute_result"
    }
   ],
   "source": [
    "numbers = [i for i in number]\n",
    "\n",
    "\n",
    "if k > numbers.index(max(numbers))+1 :\n",
    "    k -= numbers.index(max(numbers)) \n",
    "    numbers = ['']*numbers.index(max(numbers)) + numbers[numbers.index(max(numbers)):]\n",
    "numbers"
   ]
  },
  {
   "cell_type": "code",
   "execution_count": 238,
   "metadata": {},
   "outputs": [],
   "source": [
    "# 앞에서부터 지우므로 카운팅에 에러가 발생한다\n",
    "# 카운팅은 뒤에서 실시한다\n",
    "numbers = [i for i in number]\n"
   ]
  },
  {
   "cell_type": "code",
   "execution_count": 278,
   "metadata": {},
   "outputs": [
    {
     "name": "stdout",
     "output_type": "stream",
     "text": [
      "##### k =3  i =0 \n",
      "BEFORE:  k = 3, i = 0, numbers = ['1', '2', '3', '1', '2', '3', '4']\n",
      "AFTER:   k = 2, i = 0, numbers = ['', '2', '3', '1', '2', '3', '4']\n",
      "\n",
      "['4', '3', '3', '2', '2', '1', ''] ['', '2', '3', '1', '2', '3', '4']\n",
      "BEFORE:  k = 2, i = 0, numbers = ['', '2', '3', '1', '2', '3', '4']\n",
      "AFTER:   k = 1, i = 1, numbers = ['', '', '3', '1', '2', '3', '4']\n",
      "\n",
      "['4', '3', '3', '2', '1', ''] ['', '3', '1', '2', '3', '4']\n",
      "BEFORE:  k = 1, i = 1, numbers = ['', '', '3', '1', '2', '3', '4']\n",
      "AFTER:   k = 1, i = 3, numbers = ['', '', '3', '1', '2', '3', '4']\n",
      "\n",
      "['4', '3', '2', '1'] ['1', '2', '3', '4']\n",
      "BEFORE:  k = 1, i = 3, numbers = ['', '', '3', '1', '2', '3', '4']\n",
      "AFTER:   k = 0, i = 3, numbers = ['', '', '', '3', '2', '3', '4']\n",
      "\n",
      "3234\n"
     ]
    }
   ],
   "source": [
    "number = '1231234'\n",
    "k = 3\n",
    "numbers = [i for i in number]\n",
    "\n",
    "i = 0\n",
    "print('##### k ={}  i ={} '.format(k, i))\n",
    "\n",
    "while i < len(numbers):\n",
    "    \n",
    "    # 반복문에 들어가기 전 지워야 할 수 k가 객체의 최대값의 인덱스+1 보다 크면 앞을 다 날려준다.\n",
    "    if k >= numbers.index(max(numbers))+1 :\n",
    "        k -= numbers.index(max(numbers))\n",
    "        i += numbers.index(max(numbers))\n",
    "        numbers = numbers[numbers.index(max(numbers)):]\n",
    "        '''print('#############')\n",
    "        print('k = {}, i = {}, numbers = {}'.format(k, i, numbers))\n",
    "        print('#############')'''\n",
    "\n",
    "    print('BEFORE:  k = {}, i = {}, numbers = {}'.format(k, i, numbers))\n",
    "    # 앞의 수가 뒤의 수보다 작으면 없앤다\n",
    "    if numbers[i] == '' : i+=1\n",
    "    if numbers[i] < numbers[i+1] : \n",
    "        numbers.remove(numbers[i])\n",
    "        numbers.insert(0,'')\n",
    "        k -= 1\n",
    "    else : i+=1\n",
    "    #i+=1\n",
    "    print('AFTER:   k = {}, i = {}, numbers = {}'.format(k, i, numbers))\n",
    "    print('')\n",
    "    if k == 0 : break\n",
    "    \n",
    "    \n",
    "    # 뒤로 쭉 내림차순일시 더이상 반복할 필요가 없어서  break\n",
    "    if sorted(numbers[i:], reverse = True) == numbers[i:] : break   \n",
    "    \n",
    "    \n",
    "answer = ''.join(numbers[:len(numbers)-k])\n",
    "print(answer)"
   ]
  },
  {
   "cell_type": "code",
   "execution_count": 273,
   "metadata": {},
   "outputs": [
    {
     "name": "stdout",
     "output_type": "stream",
     "text": [
      "##### k =4  i =10 \n",
      "BEFORE:  k = 4, i = 10, numbers = ['4', '1', '7', '7', '2', '5', '2', '8', '4', '1']\n",
      "AFTER:   k = 4, i = 9, numbers = ['4', '1', '7', '7', '2', '5', '2', '8', '4', '1']\n",
      "\n",
      "BEFORE:  k = 4, i = 9, numbers = ['4', '1', '7', '7', '2', '5', '2', '8', '4', '1']\n",
      "AFTER:   k = 3, i = 9, numbers = ['4', '7', '7', '2', '5', '2', '8', '4', '1', '']\n",
      "\n",
      "BEFORE:  k = 3, i = 9, numbers = ['4', '7', '7', '2', '5', '2', '8', '4', '1', '']\n",
      "AFTER:   k = 3, i = 8, numbers = ['4', '7', '7', '2', '5', '2', '8', '4', '1', '']\n",
      "\n",
      "BEFORE:  k = 3, i = 8, numbers = ['4', '7', '7', '2', '5', '2', '8', '4', '1', '']\n",
      "AFTER:   k = 3, i = 7, numbers = ['4', '7', '7', '2', '5', '2', '8', '4', '1', '']\n",
      "\n",
      "BEFORE:  k = 3, i = 7, numbers = ['4', '7', '7', '2', '5', '2', '8', '4', '1', '']\n",
      "AFTER:   k = 2, i = 7, numbers = ['4', '7', '7', '5', '2', '8', '4', '1', '', '']\n",
      "\n",
      "BEFORE:  k = 2, i = 7, numbers = ['4', '7', '7', '5', '2', '8', '4', '1', '', '']\n",
      "AFTER:   k = 2, i = 6, numbers = ['4', '7', '7', '5', '2', '8', '4', '1', '', '']\n",
      "\n",
      "BEFORE:  k = 2, i = 6, numbers = ['4', '7', '7', '5', '2', '8', '4', '1', '', '']\n",
      "AFTER:   k = 1, i = 6, numbers = ['4', '7', '7', '5', '8', '4', '1', '', '', '']\n",
      "\n",
      "BEFORE:  k = 1, i = 6, numbers = ['4', '7', '7', '5', '8', '4', '1', '', '', '']\n",
      "AFTER:   k = 1, i = 5, numbers = ['4', '7', '7', '5', '8', '4', '1', '', '', '']\n",
      "\n",
      "BEFORE:  k = 1, i = 5, numbers = ['4', '7', '7', '5', '8', '4', '1', '', '', '']\n",
      "AFTER:   k = 1, i = 4, numbers = ['4', '7', '7', '5', '8', '4', '1', '', '', '']\n",
      "\n",
      "BEFORE:  k = 1, i = 4, numbers = ['4', '7', '7', '5', '8', '4', '1', '', '', '']\n",
      "AFTER:   k = 1, i = 3, numbers = ['4', '7', '7', '5', '8', '4', '1', '', '', '']\n",
      "\n",
      "BEFORE:  k = 1, i = 3, numbers = ['4', '7', '7', '5', '8', '4', '1', '', '', '']\n",
      "AFTER:   k = 1, i = 2, numbers = ['4', '7', '7', '5', '8', '4', '1', '', '', '']\n",
      "\n",
      "BEFORE:  k = 1, i = 2, numbers = ['4', '7', '7', '5', '8', '4', '1', '', '', '']\n",
      "AFTER:   k = 1, i = 1, numbers = ['4', '7', '7', '5', '8', '4', '1', '', '', '']\n",
      "\n",
      "4775841\n"
     ]
    }
   ],
   "source": [
    "number = '4177252841'\n",
    "k = 4\n",
    "numbers = [i for i in number]\n",
    "i = len(numbers)\n",
    "print('##### k ={}  i ={} '.format(k, i))\n",
    "\n",
    "while i > 1:\n",
    "    \n",
    "    # 반복문에 들어가기 전 지워야 할 수 k가 객체의 최대값의 인덱스+1 보다 크면 앞을 다 날려준다.\n",
    "    if k >= numbers.index(max(numbers))+1 :\n",
    "        k -= numbers.index(max(numbers))\n",
    "        i -= numbers.index(max(numbers))\n",
    "        numbers = numbers[numbers.index(max(numbers)):]\n",
    "        '''print('#############')\n",
    "        print('k = {}, i = {}, numbers = {}'.format(k, i, numbers))\n",
    "        print('#############')'''\n",
    "\n",
    "    print('BEFORE:  k = {}, i = {}, numbers = {}'.format(k, i, numbers))\n",
    "    # 앞의 수가 뒤의 수보다 작으면 없앤다\n",
    "    if numbers[-i] < numbers[-i+1] : \n",
    "        numbers.remove(numbers[-i])\n",
    "        numbers+=['']\n",
    "        k -= 1\n",
    "\n",
    "    else: i-=1\n",
    "    print('AFTER:   k = {}, i = {}, numbers = {}'.format(k, i, numbers))\n",
    "    print('')\n",
    "    if k == 0 : break\n",
    "    \n",
    "    \n",
    "    # 뒤로 쭉 내림차순일시 더이상 반복할 필요가 없어서  break\n",
    "    if sorted(numbers, reverse = True) == numbers : break   \n",
    "    \n",
    "    \n",
    "    \n",
    "answer = ''.join(numbers[:len(numbers)-k])\n",
    "print(answer)"
   ]
  },
  {
   "cell_type": "code",
   "execution_count": 246,
   "metadata": {},
   "outputs": [
    {
     "data": {
      "text/plain": [
       "False"
      ]
     },
     "execution_count": 246,
     "metadata": {},
     "output_type": "execute_result"
    }
   ],
   "source": [
    "asd = [1,2,3,4,5,3,2,1]\n",
    "sorted(asd) == asd"
   ]
  },
  {
   "cell_type": "code",
   "execution_count": 279,
   "metadata": {},
   "outputs": [],
   "source": [
    "# 실패\n",
    "def solution(number, k):\n",
    "    numbers = [i for i in number]\n",
    "\n",
    "    i = 0\n",
    "\n",
    "    while i < len(numbers):\n",
    "\n",
    "        # 반복문에 들어가기 전 지워야 할 수 k가 객체의 최대값의 인덱스+1 보다 크면 앞을 다 날려준다.\n",
    "        if k >= numbers.index(max(numbers))+1 :\n",
    "            k -= numbers.index(max(numbers))\n",
    "            i += numbers.index(max(numbers))\n",
    "            numbers = numbers[numbers.index(max(numbers)):]\n",
    "\n",
    "        print('BEFORE:  k = {}, i = {}, numbers = {}'.format(k, i, numbers))\n",
    "        # 앞의 수가 뒤의 수보다 작으면 없앤다\n",
    "        if numbers[i] == '' : i+=1\n",
    "        if numbers[i] < numbers[i+1] : \n",
    "            numbers.remove(numbers[i])\n",
    "            numbers.insert(0,'')\n",
    "            k -= 1\n",
    "        else : i+=1\n",
    "        #i+=1\n",
    "        print('AFTER:   k = {}, i = {}, numbers = {}'.format(k, i, numbers))\n",
    "        print('')\n",
    "        if k == 0 : break\n",
    "\n",
    "\n",
    "        # 뒤로 쭉 내림차순일시 더이상 반복할 필요가 없어서  break\n",
    "        if sorted(numbers[i:], reverse = True) == numbers[i:] : break   \n",
    "\n",
    "\n",
    "    answer = ''.join(numbers[:len(numbers)-k])\n",
    "    return answer"
   ]
  },
  {
   "cell_type": "code",
   "execution_count": null,
   "metadata": {},
   "outputs": [],
   "source": []
  },
  {
   "cell_type": "code",
   "execution_count": null,
   "metadata": {},
   "outputs": [],
   "source": []
  }
 ],
 "metadata": {
  "kernelspec": {
   "display_name": "Python 3",
   "language": "python",
   "name": "python3"
  },
  "language_info": {
   "codemirror_mode": {
    "name": "ipython",
    "version": 3
   },
   "file_extension": ".py",
   "mimetype": "text/x-python",
   "name": "python",
   "nbconvert_exporter": "python",
   "pygments_lexer": "ipython3",
   "version": "3.8.3"
  }
 },
 "nbformat": 4,
 "nbformat_minor": 4
}
